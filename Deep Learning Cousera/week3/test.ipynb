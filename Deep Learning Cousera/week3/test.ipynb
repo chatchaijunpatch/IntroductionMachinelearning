{
 "cells": [
  {
   "cell_type": "code",
   "execution_count": 196,
   "metadata": {},
   "outputs": [
    {
     "name": "stdout",
     "output_type": "stream",
     "text": [
      "The autoreload extension is already loaded. To reload it, use:\n",
      "  %reload_ext autoreload\n"
     ]
    }
   ],
   "source": [
    "# Package imports\n",
    "import numpy as np\n",
    "import copy\n",
    "import matplotlib.pyplot as plt\n",
    "from testCases_v2 import *\n",
    "from public_tests import *\n",
    "import sklearn\n",
    "import sklearn.datasets\n",
    "import sklearn.linear_model\n",
    "from planar_utils import plot_decision_boundary, sigmoid, load_planar_dataset, load_extra_datasets\n",
    "\n",
    "%matplotlib inline\n",
    "\n",
    "%load_ext autoreload\n",
    "%autoreload 2"
   ]
  },
  {
   "cell_type": "code",
   "execution_count": 197,
   "metadata": {},
   "outputs": [],
   "source": [
    "def initialize_parameters(n_x, n_h, n_y):\n",
    "    W1 = np.random.randn(n_h,n_x)*0.01\n",
    "    W2 = np.random.randn(n_y,n_h)*0.01\n",
    "    b2 = np.zeros((n_y,1),dtype=\"float\")\n",
    "    b1 = np.zeros((n_h,1),dtype=\"float\")\n",
    "    \n",
    "    # YOUR CODE ENDS HERE\n",
    "\n",
    "    parameters = {\"W1\": W1,\n",
    "                  \"b1\": b1,\n",
    "                  \"W2\": W2,\n",
    "                  \"b2\": b2}\n",
    "    \n",
    "    return parameters"
   ]
  },
  {
   "cell_type": "code",
   "execution_count": 198,
   "metadata": {},
   "outputs": [],
   "source": [
    "def forward_propagation(X, parameters):\n",
    "\n",
    "    # YOUR CODE STARTS HERE\n",
    "    W1 = parameters[\"W1\"]\n",
    "    b1 = parameters[\"b1\"]\n",
    "    W2 = parameters[\"W2\"]\n",
    "    b2 = parameters[\"b2\"]\n",
    "    \n",
    "    Z1 = np.dot(W1,X)+b1\n",
    "    A1 = np.tanh(Z1)\n",
    "    Z2 = np.dot(W2,A1)+b2\n",
    "    A2 = sigmoid(Z2)\n",
    "    \n",
    "    \n",
    "    assert(A2.shape == (1, X.shape[1]))\n",
    "    \n",
    "    cache = {\"Z1\": Z1,\n",
    "             \"A1\": A1,\n",
    "             \"Z2\": Z2,\n",
    "             \"A2\": A2}\n",
    "    \n",
    "    return A2, cache"
   ]
  },
  {
   "cell_type": "code",
   "execution_count": 199,
   "metadata": {},
   "outputs": [],
   "source": [
    "def backward_propagation(parameters, cache, X, Y):\n",
    "    m = X.shape[1]\n",
    "    W1 = parameters[\"W1\"]\n",
    "    W2 = parameters[\"W2\"]\n",
    "    A1 = cache[\"A1\"]\n",
    "    A2 = cache[\"A2\"]\n",
    "    dz2 = A2-Y\n",
    "    dW2 = 1/m*np.dot(dz2,A1.T)\n",
    "    db2 = 1/m*np.sum(dz2,axis=1,keepdims=True)\n",
    "    dz1 = W2.T*dz2*(1-np.power(A1,2))\n",
    "    dW1 = 1/m*np.dot(dz1,X.T)\n",
    "    db1 = 1/m *np.sum(dz1,axis=1,keepdims=True)\n",
    "        \n",
    "    grads = {\"dW1\": dW1,\n",
    "             \"db1\": db1,\n",
    "             \"dW2\": dW2,\n",
    "             \"db2\": db2}\n",
    "    \n",
    "    return grads"
   ]
  },
  {
   "cell_type": "code",
   "execution_count": 200,
   "metadata": {},
   "outputs": [],
   "source": [
    "def update_parameters(parameters, grads, learning_rate = 1.2):\n",
    "    W1 = copy.deepcopy(parameters[\"W1\"])\n",
    "    W2 = copy.deepcopy(parameters[\"W2\"])\n",
    "    b1 = parameters[\"b1\"]\n",
    "    b2 = parameters[\"b2\"]\n",
    "    dW1 = grads[\"dW1\"]\n",
    "    db1 = grads[\"db1\"]\n",
    "    dW2 = grads[\"dW2\"]\n",
    "    db2 = grads[\"db2\"]\n",
    "    W1 = W1 - learning_rate*dW1\n",
    "    W2 = W2 - learning_rate*dW2\n",
    "    b1 = b1 - learning_rate*db1\n",
    "    b2 = b2 - learning_rate*db2\n",
    "        \n",
    "    parameters = {\"W1\": W1,\n",
    "                  \"b1\": b1,\n",
    "                  \"W2\": W2,\n",
    "                  \"b2\": b2}\n",
    "    \n",
    "    return parameters"
   ]
  },
  {
   "cell_type": "code",
   "execution_count": 201,
   "metadata": {},
   "outputs": [],
   "source": [
    "# GRADED FUNCTION: nn_model\n",
    "\n",
    "class nn_model:\n",
    "    def __init__(self,X, Y, n_h, num_iterations = 10000, print_cost=False):\n",
    "        self.n_h = n_h\n",
    "        self.X =X\n",
    "        self.Y = Y\n",
    "        np.random.seed(3)\n",
    "        self.num_iterations = num_iterations\n",
    "        self.print_cost = print_cost\n",
    "        self.n_x = X.shape[0]\n",
    "        self.n_y = Y.shape[0]\n",
    "    \n",
    "    # np.random.seed(3)\n",
    "    # n_x = layer_sizes(X, Y)[0]\n",
    "    # n_y = layer_sizes(X, Y)[2]\n",
    "    def train(self):\n",
    "        parameters = initialize_parameters(self.n_x, self.n_h, self.n_y)\n",
    "        for i in range(0, self.num_iterations):\n",
    "                \n",
    "            A2, cache = forward_propagation(self.X, parameters)\n",
    "            grads = backward_propagation(parameters, cache, self.X, self.Y)\n",
    "            parameters = update_parameters(parameters, grads)\n",
    "  \n",
    "        # Print the cost every 1000 iterations\n",
    "        # if print_cost and i % 1000 == 0:\n",
    "        #     print (\"Cost after iteration %i: %f\" %(i, cost))\n",
    "        self.parameters = parameters\n",
    "    def prediction(self,Xtest):\n",
    "        A2, cache = forward_propagation(Xtest, self.parameters)\n",
    "        predictions = np.round(A2)\n",
    "    \n",
    "        \n",
    "        return predictions    "
   ]
  },
  {
   "cell_type": "code",
   "execution_count": 202,
   "metadata": {},
   "outputs": [],
   "source": [
    "X, Y = load_planar_dataset()"
   ]
  },
  {
   "cell_type": "code",
   "execution_count": 203,
   "metadata": {},
   "outputs": [],
   "source": [
    "parameters = nn_model(X, Y, n_h = 4, num_iterations = 10000, print_cost=True)"
   ]
  },
  {
   "cell_type": "code",
   "execution_count": 204,
   "metadata": {},
   "outputs": [],
   "source": [
    "t_X = predict_test_case()[1]"
   ]
  },
  {
   "cell_type": "code",
   "execution_count": 205,
   "metadata": {},
   "outputs": [],
   "source": [
    "parameters.train()"
   ]
  },
  {
   "cell_type": "code",
   "execution_count": 206,
   "metadata": {},
   "outputs": [
    {
     "data": {
      "text/plain": [
       "array([[0., 0., 1.]])"
      ]
     },
     "execution_count": 206,
     "metadata": {},
     "output_type": "execute_result"
    }
   ],
   "source": [
    "parameters.prediction(t_X)"
   ]
  },
  {
   "cell_type": "code",
   "execution_count": 207,
   "metadata": {},
   "outputs": [
    {
     "data": {
      "text/plain": [
       "Text(0.5, 1.0, 'Decision Boundary for hidden layer size 4')"
      ]
     },
     "execution_count": 207,
     "metadata": {},
     "output_type": "execute_result"
    },
    {
     "data": {
      "image/png": "[encoded data removed]",
      "text/plain": [
       "<Figure size 432x288 with 1 Axes>"
      ]
     },
     "metadata": {
      "needs_background": "light"
     },
     "output_type": "display_data"
    }
   ],
   "source": [
    "# Build a model with a n_h-dimensional hidden layer\n",
    "\n",
    "# Plot the decision boundary\n",
    "plot_decision_boundary(lambda x: parameters.prediction(x.T), X, Y)\n",
    "plt.title(\"Decision Boundary for hidden layer size \" + str(4))"
   ]
  },
  {
   "cell_type": "code",
   "execution_count": 208,
   "metadata": {},
   "outputs": [
    {
     "name": "stdout",
     "output_type": "stream",
     "text": [
      "Accuracy: 90%\n"
     ]
    }
   ],
   "source": [
    "predictions = parameters.prediction(X)\n",
    "print ('Accuracy: %d' % float((np.dot(Y, predictions.T) + np.dot(1 - Y, 1 - predictions.T)) / float(Y.size) * 100) + '%')"
   ]
  },
  {
   "cell_type": "code",
   "execution_count": 209,
   "metadata": {},
   "outputs": [],
   "source": [
    "class nn:\n",
    "    def __init__(self,X,Y,n_h,num_iterations = 100000, print_cost = False):\n",
    "        self.n_h = n_h\n",
    "        self.X = X\n",
    "        self.Y = Y\n",
    "        np.random.seed(3)\n",
    "        self.num_iterations = num_iterations\n",
    "        self.print_cost = print_cost\n",
    "        self.n_x = X.shape[0]\n",
    "        self.n_y = Y.shape[0]\n",
    "    def train(self,learning_rate):\n",
    "        self.w1 = np.random.randn(self.n_h,self.n_x)*0.01\n",
    "        self.w2 = np.random.randn(self.n_y,self.n_h)*0.01\n",
    "        self.b2 = np.zeros((self.n_y,1),dtype=\"float\")\n",
    "        self.b1 = np.zeros((self.n_h,1),dtype=\"float\")\n",
    "        m = self.X.shape[1]\n",
    "        for i in range(0,self.num_iterations):\n",
    "            z1 = np.dot(self.w1,self.X)+self.b1\n",
    "            A1 = np.tanh(z1)\n",
    "            z2 = np.dot(self.w2,A1)+self.b2\n",
    "            A2 = sigmoid(z2)\n",
    "            dz2 = A2-self.Y\n",
    "            dw2 = 1/m*np.dot(dz2,A1.T)\n",
    "            db2 = 1/m*np.sum(dz2,axis=1,keepdims=True)\n",
    "            dz1 = self.w2.T*dz2*(1-np.power(A1,2))\n",
    "            dw1 = 1/m*np.dot(dz1,self.X.T)\n",
    "            db1 = 1/m *np.sum(dz1,axis=1,keepdims=True)\n",
    "            self.w1 = self.w1 - learning_rate*dw1\n",
    "            self.w2 = self.w2 - learning_rate*dw2\n",
    "            self.b1 = self.b1 - learning_rate*db1\n",
    "            self.b2 = self.b2 - learning_rate*db2\n",
    "    def prediction(self,X_test):\n",
    "        z1 = np.dot(self.w1,X_test)+self.b1\n",
    "        A1 = np.tanh(z1)\n",
    "        z2 = np.dot(self.w2,A1)+self.b2\n",
    "        A2 = sigmoid(z2)\n",
    "        return np.round(A2)\n",
    "\n"
   ]
  },
  {
   "cell_type": "code",
   "execution_count": 210,
   "metadata": {},
   "outputs": [],
   "source": [
    "parameters = nn(X, Y, n_h = 4, num_iterations = 10000, print_cost=True)"
   ]
  },
  {
   "cell_type": "code",
   "execution_count": 211,
   "metadata": {},
   "outputs": [],
   "source": [
    "parameters.train(1.2)"
   ]
  },
  {
   "cell_type": "code",
   "execution_count": 212,
   "metadata": {},
   "outputs": [
    {
     "data": {
      "text/plain": [
       "array([[0., 0., 1.]])"
      ]
     },
     "execution_count": 212,
     "metadata": {},
     "output_type": "execute_result"
    }
   ],
   "source": [
    "parameters.prediction(t_X)"
   ]
  },
  {
   "cell_type": "code",
   "execution_count": 213,
   "metadata": {},
   "outputs": [
    {
     "name": "stdout",
     "output_type": "stream",
     "text": [
      "Accuracy: 90%\n"
     ]
    }
   ],
   "source": [
    "predictions = parameters.prediction(X)\n",
    "print ('Accuracy: %d' % float((np.dot(Y, predictions.T) + np.dot(1 - Y, 1 - predictions.T)) / float(Y.size) * 100) + '%')"
   ]
  },
  {
   "cell_type": "code",
   "execution_count": null,
   "metadata": {},
   "outputs": [],
   "source": []
  }
 ],
 "metadata": {
  "interpreter": {
   "hash": "7dc9b60826d74eb5607c37aaee63a43972728f09b483ccd1914805061130993f"
  },
  "kernelspec": {
   "display_name": "Python 3.8.5 64-bit ('base': conda)",
   "language": "python",
   "name": "python3"
  },
  "language_info": {
   "codemirror_mode": {
    "name": "ipython",
    "version": 3
   },
   "file_extension": ".py",
   "mimetype": "text/x-python",
   "name": "python",
   "nbconvert_exporter": "python",
   "pygments_lexer": "ipython3",
   "version": "3.8.5"
  },
  "orig_nbformat": 4
 },
 "nbformat": 4,
 "nbformat_minor": 2
}

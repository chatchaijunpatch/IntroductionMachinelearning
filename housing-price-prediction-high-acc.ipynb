{
 "cells": [
  {
   "cell_type": "code",
   "execution_count": 1,
   "id": "f680420c",
   "metadata": {
    "execution": {
     "iopub.execute_input": "2022-02-07T09:04:12.367749Z",
     "iopub.status.busy": "2022-02-07T09:04:12.366942Z",
     "iopub.status.idle": "2022-02-07T09:04:13.925083Z",
     "shell.execute_reply": "2022-02-07T09:04:13.925968Z",
     "shell.execute_reply.started": "2022-02-07T09:02:53.323631Z"
    },
    "papermill": {
     "duration": 1.593256,
     "end_time": "2022-02-07T09:04:13.926437",
     "exception": false,
     "start_time": "2022-02-07T09:04:12.333181",
     "status": "completed"
    },
    "tags": []
   },
   "outputs": [
    {
     "name": "stdout",
     "output_type": "stream",
     "text": [
      "/kaggle/input/sample_submission.csv\n",
      "/kaggle/input/sample_submission.csv.gz\n",
      "/kaggle/input/train.csv.gz\n",
      "/kaggle/input/data_description.txt\n",
      "/kaggle/input/test.csv.gz\n",
      "/kaggle/input/train.csv\n",
      "/kaggle/input/test.csv\n"
     ]
    }
   ],
   "source": [
    "# This Python 3 environment comes with many helpful analytics libraries installed\n",
    "# It is defined by the kaggle/python Docker image: https://github.com/kaggle/docker-python\n",
    "# For example, here's several helpful packages to load\n",
    "\n",
    "import numpy as np # linear algebra\n",
    "import matplotlib.pyplot as plt \n",
    "from sklearn.impute import SimpleImputer\n",
    "\n",
    "\n",
    "import seaborn as sns\n",
    "import pandas as pd # data processing, CSV file I/O (e.g. pd.read_csv)\n",
    "\n",
    "# Input data files are available in the read-only \"../input/\" directory\n",
    "# For example, running this (by clicking run or pressing Shift+Enter) will list all files under the input directory\n",
    "\n",
    "import os\n",
    "for dirname, _, filenames in os.walk('/kaggle/input'):\n",
    "    for filename in filenames:\n",
    "        print(os.path.join(dirname, filename))\n",
    "\n",
    "# You can write up to 20GB to the current directory (/kaggle/working/) that gets preserved as output when you create a version using \"Save & Run All\" \n",
    "# You can also write temporary files to /kaggle/temp/, but they won't be saved outside of the current session"
   ]
  },
  {
   "cell_type": "code",
   "execution_count": 2,
   "id": "f1adcb3f",
   "metadata": {
    "execution": {
     "iopub.execute_input": "2022-02-07T09:04:13.974928Z",
     "iopub.status.busy": "2022-02-07T09:04:13.974131Z",
     "iopub.status.idle": "2022-02-07T09:04:14.068731Z",
     "shell.execute_reply": "2022-02-07T09:04:14.067958Z",
     "shell.execute_reply.started": "2022-02-07T09:02:54.024048Z"
    },
    "papermill": {
     "duration": 0.119932,
     "end_time": "2022-02-07T09:04:14.068904",
     "exception": false,
     "start_time": "2022-02-07T09:04:13.948972",
     "status": "completed"
    },
    "tags": []
   },
   "outputs": [],
   "source": [
    "train_df = pd.read_csv('/kaggle/input/train.csv')\n",
    "test_y_df = pd.read_csv('/kaggle/input/sample_submission.csv')\n",
    "test_df = pd.read_csv('/kaggle/input/test.csv')"
   ]
  },
  {
   "cell_type": "code",
   "execution_count": 3,
   "id": "fd3a6c63",
   "metadata": {
    "execution": {
     "iopub.execute_input": "2022-02-07T09:04:14.113007Z",
     "iopub.status.busy": "2022-02-07T09:04:14.112276Z",
     "iopub.status.idle": "2022-02-07T09:04:14.118016Z",
     "shell.execute_reply": "2022-02-07T09:04:14.118591Z",
     "shell.execute_reply.started": "2022-02-07T09:02:54.092366Z"
    },
    "papermill": {
     "duration": 0.029901,
     "end_time": "2022-02-07T09:04:14.118791",
     "exception": false,
     "start_time": "2022-02-07T09:04:14.088890",
     "status": "completed"
    },
    "tags": []
   },
   "outputs": [],
   "source": [
    "def PrintMissingforEachColumns(data):\n",
    "    total = data.isnull().sum().sort_values(ascending = False)\n",
    "    percent_1 = data.isnull().sum()/data.isnull().count()*100\n",
    "    missing_data = pd.concat([total,percent_1],axis=1,keys=['Total','%'])\n",
    "    print(missing_data.head())"
   ]
  },
  {
   "cell_type": "code",
   "execution_count": 4,
   "id": "1916b1b5",
   "metadata": {
    "execution": {
     "iopub.execute_input": "2022-02-07T09:04:14.164601Z",
     "iopub.status.busy": "2022-02-07T09:04:14.163544Z",
     "iopub.status.idle": "2022-02-07T09:04:14.206919Z",
     "shell.execute_reply": "2022-02-07T09:04:14.207502Z",
     "shell.execute_reply.started": "2022-02-07T09:02:54.102777Z"
    },
    "papermill": {
     "duration": 0.067942,
     "end_time": "2022-02-07T09:04:14.207700",
     "exception": false,
     "start_time": "2022-02-07T09:04:14.139758",
     "status": "completed"
    },
    "tags": []
   },
   "outputs": [
    {
     "name": "stdout",
     "output_type": "stream",
     "text": [
      "             Total          %\n",
      "PoolQC        1453  99.520548\n",
      "MiscFeature   1406  96.301370\n",
      "Alley         1369  93.767123\n",
      "Fence         1179  80.753425\n",
      "FireplaceQu    690  47.260274\n"
     ]
    }
   ],
   "source": [
    "PrintMissingforEachColumns(train_df)"
   ]
  },
  {
   "cell_type": "code",
   "execution_count": 5,
   "id": "497bcddb",
   "metadata": {
    "execution": {
     "iopub.execute_input": "2022-02-07T09:04:14.251960Z",
     "iopub.status.busy": "2022-02-07T09:04:14.250986Z",
     "iopub.status.idle": "2022-02-07T09:04:14.280864Z",
     "shell.execute_reply": "2022-02-07T09:04:14.281674Z",
     "shell.execute_reply.started": "2022-02-07T09:02:54.156440Z"
    },
    "papermill": {
     "duration": 0.053716,
     "end_time": "2022-02-07T09:04:14.281908",
     "exception": false,
     "start_time": "2022-02-07T09:04:14.228192",
     "status": "completed"
    },
    "tags": []
   },
   "outputs": [
    {
     "name": "stdout",
     "output_type": "stream",
     "text": [
      "<class 'pandas.core.frame.DataFrame'>\n",
      "RangeIndex: 1460 entries, 0 to 1459\n",
      "Data columns (total 81 columns):\n",
      " #   Column         Non-Null Count  Dtype  \n",
      "---  ------         --------------  -----  \n",
      " 0   Id             1460 non-null   int64  \n",
      " 1   MSSubClass     1460 non-null   int64  \n",
      " 2   MSZoning       1460 non-null   object \n",
      " 3   LotFrontage    1201 non-null   float64\n",
      " 4   LotArea        1460 non-null   int64  \n",
      " 5   Street         1460 non-null   object \n",
      " 6   Alley          91 non-null     object \n",
      " 7   LotShape       1460 non-null   object \n",
      " 8   LandContour    1460 non-null   object \n",
      " 9   Utilities      1460 non-null   object \n",
      " 10  LotConfig      1460 non-null   object \n",
      " 11  LandSlope      1460 non-null   object \n",
      " 12  Neighborhood   1460 non-null   object \n",
      " 13  Condition1     1460 non-null   object \n",
      " 14  Condition2     1460 non-null   object \n",
      " 15  BldgType       1460 non-null   object \n",
      " 16  HouseStyle     1460 non-null   object \n",
      " 17  OverallQual    1460 non-null   int64  \n",
      " 18  OverallCond    1460 non-null   int64  \n",
      " 19  YearBuilt      1460 non-null   int64  \n",
      " 20  YearRemodAdd   1460 non-null   int64  \n",
      " 21  RoofStyle      1460 non-null   object \n",
      " 22  RoofMatl       1460 non-null   object \n",
      " 23  Exterior1st    1460 non-null   object \n",
      " 24  Exterior2nd    1460 non-null   object \n",
      " 25  MasVnrType     1452 non-null   object \n",
      " 26  MasVnrArea     1452 non-null   float64\n",
      " 27  ExterQual      1460 non-null   object \n",
      " 28  ExterCond      1460 non-null   object \n",
      " 29  Foundation     1460 non-null   object \n",
      " 30  BsmtQual       1423 non-null   object \n",
      " 31  BsmtCond       1423 non-null   object \n",
      " 32  BsmtExposure   1422 non-null   object \n",
      " 33  BsmtFinType1   1423 non-null   object \n",
      " 34  BsmtFinSF1     1460 non-null   int64  \n",
      " 35  BsmtFinType2   1422 non-null   object \n",
      " 36  BsmtFinSF2     1460 non-null   int64  \n",
      " 37  BsmtUnfSF      1460 non-null   int64  \n",
      " 38  TotalBsmtSF    1460 non-null   int64  \n",
      " 39  Heating        1460 non-null   object \n",
      " 40  HeatingQC      1460 non-null   object \n",
      " 41  CentralAir     1460 non-null   object \n",
      " 42  Electrical     1459 non-null   object \n",
      " 43  1stFlrSF       1460 non-null   int64  \n",
      " 44  2ndFlrSF       1460 non-null   int64  \n",
      " 45  LowQualFinSF   1460 non-null   int64  \n",
      " 46  GrLivArea      1460 non-null   int64  \n",
      " 47  BsmtFullBath   1460 non-null   int64  \n",
      " 48  BsmtHalfBath   1460 non-null   int64  \n",
      " 49  FullBath       1460 non-null   int64  \n",
      " 50  HalfBath       1460 non-null   int64  \n",
      " 51  BedroomAbvGr   1460 non-null   int64  \n",
      " 52  KitchenAbvGr   1460 non-null   int64  \n",
      " 53  KitchenQual    1460 non-null   object \n",
      " 54  TotRmsAbvGrd   1460 non-null   int64  \n",
      " 55  Functional     1460 non-null   object \n",
      " 56  Fireplaces     1460 non-null   int64  \n",
      " 57  FireplaceQu    770 non-null    object \n",
      " 58  GarageType     1379 non-null   object \n",
      " 59  GarageYrBlt    1379 non-null   float64\n",
      " 60  GarageFinish   1379 non-null   object \n",
      " 61  GarageCars     1460 non-null   int64  \n",
      " 62  GarageArea     1460 non-null   int64  \n",
      " 63  GarageQual     1379 non-null   object \n",
      " 64  GarageCond     1379 non-null   object \n",
      " 65  PavedDrive     1460 non-null   object \n",
      " 66  WoodDeckSF     1460 non-null   int64  \n",
      " 67  OpenPorchSF    1460 non-null   int64  \n",
      " 68  EnclosedPorch  1460 non-null   int64  \n",
      " 69  3SsnPorch      1460 non-null   int64  \n",
      " 70  ScreenPorch    1460 non-null   int64  \n",
      " 71  PoolArea       1460 non-null   int64  \n",
      " 72  PoolQC         7 non-null      object \n",
      " 73  Fence          281 non-null    object \n",
      " 74  MiscFeature    54 non-null     object \n",
      " 75  MiscVal        1460 non-null   int64  \n",
      " 76  MoSold         1460 non-null   int64  \n",
      " 77  YrSold         1460 non-null   int64  \n",
      " 78  SaleType       1460 non-null   object \n",
      " 79  SaleCondition  1460 non-null   object \n",
      " 80  SalePrice      1460 non-null   int64  \n",
      "dtypes: float64(3), int64(35), object(43)\n",
      "memory usage: 924.0+ KB\n"
     ]
    }
   ],
   "source": [
    "train_df.info()"
   ]
  },
  {
   "cell_type": "markdown",
   "id": "5617fb67",
   "metadata": {
    "papermill": {
     "duration": 0.019745,
     "end_time": "2022-02-07T09:04:14.323407",
     "exception": false,
     "start_time": "2022-02-07T09:04:14.303662",
     "status": "completed"
    },
    "tags": []
   },
   "source": [
    "## Train Test Split"
   ]
  },
  {
   "cell_type": "code",
   "execution_count": 6,
   "id": "1d46c709",
   "metadata": {
    "execution": {
     "iopub.execute_input": "2022-02-07T09:04:14.367983Z",
     "iopub.status.busy": "2022-02-07T09:04:14.367014Z",
     "iopub.status.idle": "2022-02-07T09:04:14.383430Z",
     "shell.execute_reply": "2022-02-07T09:04:14.383900Z",
     "shell.execute_reply.started": "2022-02-07T09:02:54.188830Z"
    },
    "papermill": {
     "duration": 0.040552,
     "end_time": "2022-02-07T09:04:14.384089",
     "exception": false,
     "start_time": "2022-02-07T09:04:14.343537",
     "status": "completed"
    },
    "tags": []
   },
   "outputs": [],
   "source": [
    "train_df = train_df.drop(train_df[(train_df['OverallQual']>9) & (train_df['SalePrice']<220000)].index)\n",
    "train_df = train_df.drop(train_df[(train_df['GrLivArea']>4000) & (train_df['SalePrice']<300000)].index)\n",
    "Y_train = train_df.SalePrice\n",
    "train_df = train_df.drop([\"SalePrice\",\"Id\"],axis=1)\n",
    "test_df = test_df.drop(\"Id\",axis=1)\n"
   ]
  },
  {
   "cell_type": "code",
   "execution_count": 7,
   "id": "e3caec7b",
   "metadata": {
    "execution": {
     "iopub.execute_input": "2022-02-07T09:04:14.433145Z",
     "iopub.status.busy": "2022-02-07T09:04:14.432476Z",
     "iopub.status.idle": "2022-02-07T09:04:14.436489Z",
     "shell.execute_reply": "2022-02-07T09:04:14.437036Z",
     "shell.execute_reply.started": "2022-02-07T09:02:54.208169Z"
    },
    "papermill": {
     "duration": 0.03267,
     "end_time": "2022-02-07T09:04:14.437198",
     "exception": false,
     "start_time": "2022-02-07T09:04:14.404528",
     "status": "completed"
    },
    "tags": []
   },
   "outputs": [],
   "source": [
    "from sklearn.model_selection import train_test_split\n",
    "train_X, val_X, train_y, val_y = train_test_split(train_df, Y_train, random_state=1)"
   ]
  },
  {
   "cell_type": "code",
   "execution_count": 8,
   "id": "9f883a65",
   "metadata": {
    "execution": {
     "iopub.execute_input": "2022-02-07T09:04:14.481384Z",
     "iopub.status.busy": "2022-02-07T09:04:14.480615Z",
     "iopub.status.idle": "2022-02-07T09:04:14.488726Z",
     "shell.execute_reply": "2022-02-07T09:04:14.489293Z",
     "shell.execute_reply.started": "2022-02-07T09:02:54.221738Z"
    },
    "papermill": {
     "duration": 0.032132,
     "end_time": "2022-02-07T09:04:14.489494",
     "exception": false,
     "start_time": "2022-02-07T09:04:14.457362",
     "status": "completed"
    },
    "tags": []
   },
   "outputs": [],
   "source": [
    "from sklearn.impute import SimpleImputer\n",
    "def Impute(Train,Test,objectCols,dtype = \"obj\"):\n",
    "    Train = Train.copy()\n",
    "    Test = Test.copy()\n",
    "    if dtype == \"object\":\n",
    "        string = \"most_frequent\"\n",
    "    elif dtype == \"number\":\n",
    "        string = \"mean\"\n",
    "    my_imputer = SimpleImputer(missing_values=np.nan, strategy=string)\n",
    "    imputed_X_train = pd.DataFrame(my_imputer.fit_transform(Train[objectCols]))\n",
    "    imputed_X_valid = pd.DataFrame(my_imputer.transform(Test[objectCols]))\n",
    "    imputed_X_train.columns = Train[objectCols].columns\n",
    "    imputed_X_valid.columns = Test[objectCols].columns\n",
    "    Train[objectCols] = imputed_X_train[objectCols].values\n",
    "    Test[objectCols] = imputed_X_valid[objectCols].values\n",
    "    return Train, Test"
   ]
  },
  {
   "cell_type": "code",
   "execution_count": 9,
   "id": "7cf628a0",
   "metadata": {
    "execution": {
     "iopub.execute_input": "2022-02-07T09:04:14.535360Z",
     "iopub.status.busy": "2022-02-07T09:04:14.534668Z",
     "iopub.status.idle": "2022-02-07T09:04:14.542765Z",
     "shell.execute_reply": "2022-02-07T09:04:14.542098Z",
     "shell.execute_reply.started": "2022-02-07T09:02:54.234339Z"
    },
    "papermill": {
     "duration": 0.032917,
     "end_time": "2022-02-07T09:04:14.542913",
     "exception": false,
     "start_time": "2022-02-07T09:04:14.509996",
     "status": "completed"
    },
    "tags": []
   },
   "outputs": [
    {
     "name": "stdout",
     "output_type": "stream",
     "text": [
      "Categorical variables:\n",
      "['MSZoning', 'Street', 'Alley', 'LotShape', 'LandContour', 'Utilities', 'LotConfig', 'LandSlope', 'Neighborhood', 'Condition1', 'Condition2', 'BldgType', 'HouseStyle', 'RoofStyle', 'RoofMatl', 'Exterior1st', 'Exterior2nd', 'MasVnrType', 'ExterQual', 'ExterCond', 'Foundation', 'BsmtQual', 'BsmtCond', 'BsmtExposure', 'BsmtFinType1', 'BsmtFinType2', 'Heating', 'HeatingQC', 'CentralAir', 'Electrical', 'KitchenQual', 'Functional', 'FireplaceQu', 'GarageType', 'GarageFinish', 'GarageQual', 'GarageCond', 'PavedDrive', 'PoolQC', 'Fence', 'MiscFeature', 'SaleType', 'SaleCondition']\n"
     ]
    }
   ],
   "source": [
    "s = (train_X.dtypes == 'object')\n",
    "n = (train_X.dtypes != 'object')\n",
    "object_cols = list(s[s].index)\n",
    "num_cols = list(n[n].index)\n",
    "print(\"Categorical variables:\")\n",
    "print(object_cols)"
   ]
  },
  {
   "cell_type": "code",
   "execution_count": 10,
   "id": "e601aaa2",
   "metadata": {
    "execution": {
     "iopub.execute_input": "2022-02-07T09:04:14.588080Z",
     "iopub.status.busy": "2022-02-07T09:04:14.587412Z",
     "iopub.status.idle": "2022-02-07T09:04:14.721805Z",
     "shell.execute_reply": "2022-02-07T09:04:14.722352Z",
     "shell.execute_reply.started": "2022-02-07T09:02:54.250504Z"
    },
    "papermill": {
     "duration": 0.159071,
     "end_time": "2022-02-07T09:04:14.722547",
     "exception": false,
     "start_time": "2022-02-07T09:04:14.563476",
     "status": "completed"
    },
    "tags": []
   },
   "outputs": [
    {
     "data": {
      "text/plain": [
       "(      MSSubClass MSZoning  LotFrontage  LotArea Street Alley LotShape  \\\n",
       " 350        120.0       RL    68.000000   7820.0   Pave  Grvl      IR1   \n",
       " 1350        90.0       RL    91.000000  11643.0   Pave  Grvl      Reg   \n",
       " 791         80.0       RL    70.037946  11333.0   Pave  Grvl      IR1   \n",
       " 202         50.0       RL    50.000000   7000.0   Pave  Grvl      Reg   \n",
       " 1453        20.0       RL    90.000000  17217.0   Pave  Grvl      Reg   \n",
       " \n",
       "      LandContour Utilities LotConfig  ... ScreenPorch PoolArea PoolQC  Fence  \\\n",
       " 350          Lvl    AllPub    Inside  ...         0.0      0.0     Ex  MnPrv   \n",
       " 1350         Lvl    AllPub    Inside  ...         0.0      0.0     Ex  MnPrv   \n",
       " 791          Lvl    AllPub    Corner  ...         0.0      0.0     Ex  MnPrv   \n",
       " 202          Lvl    AllPub    Corner  ...         0.0      0.0     Ex  MnPrv   \n",
       " 1453         Lvl    AllPub    Inside  ...         0.0      0.0     Ex  MnPrv   \n",
       " \n",
       "      MiscFeature MiscVal  MoSold  YrSold  SaleType  SaleCondition  \n",
       " 350         Shed     0.0    12.0  2007.0       New        Partial  \n",
       " 1350        Shed     0.0     8.0  2009.0        WD         Normal  \n",
       " 791         Shed     0.0     5.0  2007.0        WD         Normal  \n",
       " 202         Shed     0.0     5.0  2006.0       COD         Normal  \n",
       " 1453        Shed     0.0     7.0  2006.0        WD        Abnorml  \n",
       " \n",
       " [5 rows x 79 columns],\n",
       "       MSSubClass MSZoning  LotFrontage  LotArea Street Alley LotShape  \\\n",
       " 1163        90.0       RL    60.000000  12900.0   Pave  Grvl      Reg   \n",
       " 111         80.0       RL    70.037946   7750.0   Pave  Grvl      IR1   \n",
       " 1273        80.0       RL   124.000000  11512.0   Pave  Grvl      IR1   \n",
       " 1147        70.0       RL    75.000000  12000.0   Pave  Grvl      Reg   \n",
       " 368         20.0       RL    78.000000   7800.0   Pave  Grvl      Reg   \n",
       " \n",
       "      LandContour Utilities LotConfig  ... ScreenPorch PoolArea PoolQC  Fence  \\\n",
       " 1163         Lvl    AllPub    Inside  ...         0.0      0.0     Ex  MnPrv   \n",
       " 111          Lvl    AllPub    Inside  ...         0.0      0.0     Ex  MnPrv   \n",
       " 1273         Lvl    AllPub    Corner  ...       163.0      0.0     Ex  GdPrv   \n",
       " 1147         Bnk    AllPub    Inside  ...         0.0      0.0     Ex  MnPrv   \n",
       " 368          Lvl    AllPub    Inside  ...         0.0      0.0     Ex  MnPrv   \n",
       " \n",
       "      MiscFeature MiscVal  MoSold  YrSold  SaleType  SaleCondition  \n",
       " 1163        Shed     0.0     1.0  2008.0        WD         Alloca  \n",
       " 111         Shed     0.0     4.0  2010.0        WD         Normal  \n",
       " 1273        Shed     0.0     5.0  2008.0        WD         Normal  \n",
       " 1147        Shed     0.0     7.0  2009.0        WD         Normal  \n",
       " 368         Shed     0.0     3.0  2010.0        WD         Normal  \n",
       " \n",
       " [5 rows x 79 columns])"
      ]
     },
     "execution_count": 10,
     "metadata": {},
     "output_type": "execute_result"
    }
   ],
   "source": [
    "imputed_X_train,imputed_X_valid = Impute(train_X,val_X,object_cols,dtype='object')\n",
    "imputed_X_train,imputed_X_valid = Impute(imputed_X_train,imputed_X_valid,num_cols,dtype='number')\n",
    "imputed_X_train.head(),imputed_X_valid.head()"
   ]
  },
  {
   "cell_type": "code",
   "execution_count": 11,
   "id": "7a6aadb6",
   "metadata": {
    "execution": {
     "iopub.execute_input": "2022-02-07T09:04:14.782015Z",
     "iopub.status.busy": "2022-02-07T09:04:14.781270Z",
     "iopub.status.idle": "2022-02-07T09:04:14.820786Z",
     "shell.execute_reply": "2022-02-07T09:04:14.821438Z",
     "shell.execute_reply.started": "2022-02-07T09:02:54.396718Z"
    },
    "papermill": {
     "duration": 0.077447,
     "end_time": "2022-02-07T09:04:14.821645",
     "exception": false,
     "start_time": "2022-02-07T09:04:14.744198",
     "status": "completed"
    },
    "tags": []
   },
   "outputs": [
    {
     "name": "stdout",
     "output_type": "stream",
     "text": [
      "              Total    %\n",
      "MSSubClass        0  0.0\n",
      "BedroomAbvGr      0  0.0\n",
      "GarageType        0  0.0\n",
      "FireplaceQu       0  0.0\n",
      "Fireplaces        0  0.0\n"
     ]
    }
   ],
   "source": [
    "PrintMissingforEachColumns(imputed_X_train)"
   ]
  },
  {
   "cell_type": "code",
   "execution_count": 12,
   "id": "0b04b615",
   "metadata": {
    "execution": {
     "iopub.execute_input": "2022-02-07T09:04:14.871075Z",
     "iopub.status.busy": "2022-02-07T09:04:14.870059Z",
     "iopub.status.idle": "2022-02-07T09:04:14.876449Z",
     "shell.execute_reply": "2022-02-07T09:04:14.877096Z",
     "shell.execute_reply.started": "2022-02-07T09:02:54.449466Z"
    },
    "papermill": {
     "duration": 0.033062,
     "end_time": "2022-02-07T09:04:14.877308",
     "exception": false,
     "start_time": "2022-02-07T09:04:14.844246",
     "status": "completed"
    },
    "tags": []
   },
   "outputs": [],
   "source": [
    "from sklearn.preprocessing import OneHotEncoder\n",
    "from sklearn.preprocessing import OrdinalEncoder\n",
    "\n",
    "def NominalConvert(Train,Test,object_cols):\n",
    "    Train = Train.copy()\n",
    "    Test = Test.copy()\n",
    "\n",
    "    # Apply ordinal encoder to each column with categorical data\n",
    "    ordinal_encoder = OrdinalEncoder()\n",
    "    Train[object_cols] = ordinal_encoder.fit_transform(Train[object_cols])\n",
    "    Test[object_cols] = ordinal_encoder.fit_transform(Test[object_cols])\n",
    "    return Train, Test"
   ]
  },
  {
   "cell_type": "code",
   "execution_count": 13,
   "id": "df368880",
   "metadata": {
    "execution": {
     "iopub.execute_input": "2022-02-07T09:04:14.928845Z",
     "iopub.status.busy": "2022-02-07T09:04:14.928111Z",
     "iopub.status.idle": "2022-02-07T09:04:15.051032Z",
     "shell.execute_reply": "2022-02-07T09:04:15.050342Z",
     "shell.execute_reply.started": "2022-02-07T09:02:54.457293Z"
    },
    "papermill": {
     "duration": 0.150937,
     "end_time": "2022-02-07T09:04:15.051206",
     "exception": false,
     "start_time": "2022-02-07T09:04:14.900269",
     "status": "completed"
    },
    "tags": []
   },
   "outputs": [
    {
     "data": {
      "text/plain": [
       "(      MSSubClass  MSZoning  LotFrontage  LotArea  Street  Alley  LotShape  \\\n",
       " 350        120.0       3.0    68.000000   7820.0     1.0    0.0       0.0   \n",
       " 1350        90.0       3.0    91.000000  11643.0     1.0    0.0       3.0   \n",
       " 791         80.0       3.0    70.037946  11333.0     1.0    0.0       0.0   \n",
       " 202         50.0       3.0    50.000000   7000.0     1.0    0.0       3.0   \n",
       " 1453        20.0       3.0    90.000000  17217.0     1.0    0.0       3.0   \n",
       " ...          ...       ...          ...      ...     ...    ...       ...   \n",
       " 716         70.0       4.0    60.000000  10800.0     1.0    0.0       3.0   \n",
       " 906         20.0       3.0   116.000000  13501.0     1.0    0.0       0.0   \n",
       " 1097       120.0       3.0    70.037946   3696.0     1.0    0.0       3.0   \n",
       " 235        160.0       4.0    21.000000   1680.0     1.0    0.0       3.0   \n",
       " 1062       190.0       4.0    85.000000  13600.0     1.0    0.0       3.0   \n",
       " \n",
       "       LandContour  Utilities  LotConfig  ...  ScreenPorch  PoolArea  PoolQC  \\\n",
       " 350           3.0        0.0        4.0  ...          0.0       0.0     0.0   \n",
       " 1350          3.0        0.0        4.0  ...          0.0       0.0     0.0   \n",
       " 791           3.0        0.0        0.0  ...          0.0       0.0     0.0   \n",
       " 202           3.0        0.0        0.0  ...          0.0       0.0     0.0   \n",
       " 1453          3.0        0.0        4.0  ...          0.0       0.0     0.0   \n",
       " ...           ...        ...        ...  ...          ...       ...     ...   \n",
       " 716           0.0        0.0        4.0  ...          0.0       0.0     0.0   \n",
       " 906           3.0        0.0        0.0  ...          0.0       0.0     0.0   \n",
       " 1097          3.0        0.0        4.0  ...          0.0       0.0     0.0   \n",
       " 235           3.0        0.0        4.0  ...          0.0       0.0     0.0   \n",
       " 1062          3.0        0.0        4.0  ...          0.0       0.0     0.0   \n",
       " \n",
       "       Fence  MiscFeature  MiscVal  MoSold  YrSold  SaleType  SaleCondition  \n",
       " 350     2.0          2.0      0.0    12.0  2007.0       6.0            5.0  \n",
       " 1350    2.0          2.0      0.0     8.0  2009.0       8.0            4.0  \n",
       " 791     2.0          2.0      0.0     5.0  2007.0       8.0            4.0  \n",
       " 202     2.0          2.0      0.0     5.0  2006.0       0.0            4.0  \n",
       " 1453    2.0          2.0      0.0     7.0  2006.0       8.0            0.0  \n",
       " ...     ...          ...      ...     ...     ...       ...            ...  \n",
       " 716     2.0          2.0      0.0     7.0  2007.0       8.0            4.0  \n",
       " 906     2.0          2.0      0.0     6.0  2007.0       8.0            4.0  \n",
       " 1097    2.0          2.0      0.0    10.0  2007.0       8.0            4.0  \n",
       " 235     2.0          2.0      0.0     8.0  2008.0       8.0            4.0  \n",
       " 1062    2.0          2.0      0.0     9.0  2007.0       8.0            4.0  \n",
       " \n",
       " [1093 rows x 79 columns],\n",
       "       MSSubClass  MSZoning  LotFrontage  LotArea  Street  Alley  LotShape  \\\n",
       " 1163        90.0       3.0    60.000000  12900.0     1.0    0.0       3.0   \n",
       " 111         80.0       3.0    70.037946   7750.0     1.0    0.0       0.0   \n",
       " 1273        80.0       3.0   124.000000  11512.0     1.0    0.0       0.0   \n",
       " 1147        70.0       3.0    75.000000  12000.0     1.0    0.0       3.0   \n",
       " 368         20.0       3.0    78.000000   7800.0     1.0    0.0       3.0   \n",
       " ...          ...       ...          ...      ...     ...    ...       ...   \n",
       " 462         20.0       3.0    60.000000   8281.0     1.0    0.0       0.0   \n",
       " 303         20.0       3.0    70.000000   9800.0     1.0    0.0       3.0   \n",
       " 1263        70.0       3.0    60.000000  13515.0     1.0    1.0       3.0   \n",
       " 216         20.0       3.0    65.000000   8450.0     1.0    0.0       3.0   \n",
       " 856         80.0       3.0    70.037946  10970.0     1.0    0.0       0.0   \n",
       " \n",
       "       LandContour  Utilities  LotConfig  ...  ScreenPorch  PoolArea  PoolQC  \\\n",
       " 1163          3.0        0.0        3.0  ...          0.0       0.0     0.0   \n",
       " 111           3.0        0.0        3.0  ...          0.0       0.0     0.0   \n",
       " 1273          3.0        0.0        0.0  ...        163.0       0.0     0.0   \n",
       " 1147          0.0        0.0        3.0  ...          0.0       0.0     0.0   \n",
       " 368           3.0        0.0        3.0  ...          0.0       0.0     0.0   \n",
       " ...           ...        ...        ...  ...          ...       ...     ...   \n",
       " 462           3.0        0.0        3.0  ...          0.0       0.0     0.0   \n",
       " 303           3.0        0.0        0.0  ...          0.0       0.0     0.0   \n",
       " 1263          3.0        0.0        3.0  ...          0.0       0.0     0.0   \n",
       " 216           3.0        0.0        3.0  ...          0.0       0.0     0.0   \n",
       " 856           2.0        0.0        3.0  ...          0.0       0.0     0.0   \n",
       " \n",
       "       Fence  MiscFeature  MiscVal  MoSold  YrSold  SaleType  SaleCondition  \n",
       " 1163    2.0          2.0      0.0     1.0  2008.0       8.0            2.0  \n",
       " 111     2.0          2.0      0.0     4.0  2010.0       8.0            4.0  \n",
       " 1273    0.0          2.0      0.0     5.0  2008.0       8.0            4.0  \n",
       " 1147    2.0          2.0      0.0     7.0  2009.0       8.0            4.0  \n",
       " 368     2.0          2.0      0.0     3.0  2010.0       8.0            4.0  \n",
       " ...     ...          ...      ...     ...     ...       ...            ...  \n",
       " 462     1.0          2.0      0.0    12.0  2009.0       8.0            4.0  \n",
       " 303     1.0          2.0      0.0     7.0  2006.0       8.0            0.0  \n",
       " 1263    0.0          2.0      0.0     7.0  2007.0       8.0            4.0  \n",
       " 216     2.0          2.0      0.0     4.0  2008.0       8.0            4.0  \n",
       " 856     2.0          2.0      0.0    10.0  2008.0       8.0            4.0  \n",
       " \n",
       " [365 rows x 79 columns])"
      ]
     },
     "execution_count": 13,
     "metadata": {},
     "output_type": "execute_result"
    }
   ],
   "source": [
    "imputed_X_train, imputed_X_valid = NominalConvert(imputed_X_train,imputed_X_valid,object_cols)\n",
    "imputed_X_train,imputed_X_valid"
   ]
  },
  {
   "cell_type": "code",
   "execution_count": 14,
   "id": "98b6dfe5",
   "metadata": {
    "execution": {
     "iopub.execute_input": "2022-02-07T09:04:15.104952Z",
     "iopub.status.busy": "2022-02-07T09:04:15.104053Z",
     "iopub.status.idle": "2022-02-07T09:04:15.105689Z",
     "shell.execute_reply": "2022-02-07T09:04:15.106191Z",
     "shell.execute_reply.started": "2022-02-07T09:02:54.613540Z"
    },
    "papermill": {
     "duration": 0.032683,
     "end_time": "2022-02-07T09:04:15.106407",
     "exception": false,
     "start_time": "2022-02-07T09:04:15.073724",
     "status": "completed"
    },
    "tags": []
   },
   "outputs": [],
   "source": [
    "from sklearn import preprocessing\n",
    "def normal(Train,Test):\n",
    "    Train = Train.copy()\n",
    "    Test = Test.copy()\n",
    "    min_max_scaler = preprocessing.MaxAbsScaler()\n",
    "    x_scaled = min_max_scaler.fit_transform(Train)\n",
    "    Normal_imputed_X_train = pd.DataFrame(x_scaled)\n",
    "    Normal_imputed_X_train.columns = Train.columns\n",
    "    x_scaled = min_max_scaler.transform(Test)\n",
    "    Normal_imputed_X_valid = pd.DataFrame(x_scaled)\n",
    "    Normal_imputed_X_valid.columns = Test.columns\n",
    "    return Normal_imputed_X_train, Normal_imputed_X_valid"
   ]
  },
  {
   "cell_type": "code",
   "execution_count": 15,
   "id": "733a3e27",
   "metadata": {
    "execution": {
     "iopub.execute_input": "2022-02-07T09:04:15.160120Z",
     "iopub.status.busy": "2022-02-07T09:04:15.159417Z",
     "iopub.status.idle": "2022-02-07T09:04:15.201070Z",
     "shell.execute_reply": "2022-02-07T09:04:15.201740Z",
     "shell.execute_reply.started": "2022-02-07T09:02:54.623393Z"
    },
    "papermill": {
     "duration": 0.072129,
     "end_time": "2022-02-07T09:04:15.201941",
     "exception": false,
     "start_time": "2022-02-07T09:04:15.129812",
     "status": "completed"
    },
    "tags": []
   },
   "outputs": [
    {
     "data": {
      "text/html": [
       "<div>\n",
       "<style scoped>\n",
       "    .dataframe tbody tr th:only-of-type {\n",
       "        vertical-align: middle;\n",
       "    }\n",
       "\n",
       "    .dataframe tbody tr th {\n",
       "        vertical-align: top;\n",
       "    }\n",
       "\n",
       "    .dataframe thead th {\n",
       "        text-align: right;\n",
       "    }\n",
       "</style>\n",
       "<table border=\"1\" class=\"dataframe\">\n",
       "  <thead>\n",
       "    <tr style=\"text-align: right;\">\n",
       "      <th></th>\n",
       "      <th>MSSubClass</th>\n",
       "      <th>MSZoning</th>\n",
       "      <th>LotFrontage</th>\n",
       "      <th>LotArea</th>\n",
       "      <th>Street</th>\n",
       "      <th>Alley</th>\n",
       "      <th>LotShape</th>\n",
       "      <th>LandContour</th>\n",
       "      <th>Utilities</th>\n",
       "      <th>LotConfig</th>\n",
       "      <th>...</th>\n",
       "      <th>ScreenPorch</th>\n",
       "      <th>PoolArea</th>\n",
       "      <th>PoolQC</th>\n",
       "      <th>Fence</th>\n",
       "      <th>MiscFeature</th>\n",
       "      <th>MiscVal</th>\n",
       "      <th>MoSold</th>\n",
       "      <th>YrSold</th>\n",
       "      <th>SaleType</th>\n",
       "      <th>SaleCondition</th>\n",
       "    </tr>\n",
       "  </thead>\n",
       "  <tbody>\n",
       "    <tr>\n",
       "      <th>0</th>\n",
       "      <td>0.631579</td>\n",
       "      <td>0.75</td>\n",
       "      <td>0.217252</td>\n",
       "      <td>0.036331</td>\n",
       "      <td>1.0</td>\n",
       "      <td>0.0</td>\n",
       "      <td>0.0</td>\n",
       "      <td>1.0</td>\n",
       "      <td>0.0</td>\n",
       "      <td>1.0</td>\n",
       "      <td>...</td>\n",
       "      <td>0.0</td>\n",
       "      <td>0.0</td>\n",
       "      <td>0.0</td>\n",
       "      <td>0.666667</td>\n",
       "      <td>1.0</td>\n",
       "      <td>0.0</td>\n",
       "      <td>1.000000</td>\n",
       "      <td>0.998507</td>\n",
       "      <td>0.75</td>\n",
       "      <td>1.0</td>\n",
       "    </tr>\n",
       "    <tr>\n",
       "      <th>1</th>\n",
       "      <td>0.473684</td>\n",
       "      <td>0.75</td>\n",
       "      <td>0.290735</td>\n",
       "      <td>0.054092</td>\n",
       "      <td>1.0</td>\n",
       "      <td>0.0</td>\n",
       "      <td>1.0</td>\n",
       "      <td>1.0</td>\n",
       "      <td>0.0</td>\n",
       "      <td>1.0</td>\n",
       "      <td>...</td>\n",
       "      <td>0.0</td>\n",
       "      <td>0.0</td>\n",
       "      <td>0.0</td>\n",
       "      <td>0.666667</td>\n",
       "      <td>1.0</td>\n",
       "      <td>0.0</td>\n",
       "      <td>0.666667</td>\n",
       "      <td>0.999502</td>\n",
       "      <td>1.00</td>\n",
       "      <td>0.8</td>\n",
       "    </tr>\n",
       "    <tr>\n",
       "      <th>2</th>\n",
       "      <td>0.421053</td>\n",
       "      <td>0.75</td>\n",
       "      <td>0.223763</td>\n",
       "      <td>0.052652</td>\n",
       "      <td>1.0</td>\n",
       "      <td>0.0</td>\n",
       "      <td>0.0</td>\n",
       "      <td>1.0</td>\n",
       "      <td>0.0</td>\n",
       "      <td>0.0</td>\n",
       "      <td>...</td>\n",
       "      <td>0.0</td>\n",
       "      <td>0.0</td>\n",
       "      <td>0.0</td>\n",
       "      <td>0.666667</td>\n",
       "      <td>1.0</td>\n",
       "      <td>0.0</td>\n",
       "      <td>0.416667</td>\n",
       "      <td>0.998507</td>\n",
       "      <td>1.00</td>\n",
       "      <td>0.8</td>\n",
       "    </tr>\n",
       "    <tr>\n",
       "      <th>3</th>\n",
       "      <td>0.263158</td>\n",
       "      <td>0.75</td>\n",
       "      <td>0.159744</td>\n",
       "      <td>0.032521</td>\n",
       "      <td>1.0</td>\n",
       "      <td>0.0</td>\n",
       "      <td>1.0</td>\n",
       "      <td>1.0</td>\n",
       "      <td>0.0</td>\n",
       "      <td>0.0</td>\n",
       "      <td>...</td>\n",
       "      <td>0.0</td>\n",
       "      <td>0.0</td>\n",
       "      <td>0.0</td>\n",
       "      <td>0.666667</td>\n",
       "      <td>1.0</td>\n",
       "      <td>0.0</td>\n",
       "      <td>0.416667</td>\n",
       "      <td>0.998010</td>\n",
       "      <td>0.00</td>\n",
       "      <td>0.8</td>\n",
       "    </tr>\n",
       "    <tr>\n",
       "      <th>4</th>\n",
       "      <td>0.105263</td>\n",
       "      <td>0.75</td>\n",
       "      <td>0.287540</td>\n",
       "      <td>0.079988</td>\n",
       "      <td>1.0</td>\n",
       "      <td>0.0</td>\n",
       "      <td>1.0</td>\n",
       "      <td>1.0</td>\n",
       "      <td>0.0</td>\n",
       "      <td>1.0</td>\n",
       "      <td>...</td>\n",
       "      <td>0.0</td>\n",
       "      <td>0.0</td>\n",
       "      <td>0.0</td>\n",
       "      <td>0.666667</td>\n",
       "      <td>1.0</td>\n",
       "      <td>0.0</td>\n",
       "      <td>0.583333</td>\n",
       "      <td>0.998010</td>\n",
       "      <td>1.00</td>\n",
       "      <td>0.0</td>\n",
       "    </tr>\n",
       "  </tbody>\n",
       "</table>\n",
       "<p>5 rows × 79 columns</p>\n",
       "</div>"
      ],
      "text/plain": [
       "   MSSubClass  MSZoning  LotFrontage   LotArea  Street  Alley  LotShape  \\\n",
       "0    0.631579      0.75     0.217252  0.036331     1.0    0.0       0.0   \n",
       "1    0.473684      0.75     0.290735  0.054092     1.0    0.0       1.0   \n",
       "2    0.421053      0.75     0.223763  0.052652     1.0    0.0       0.0   \n",
       "3    0.263158      0.75     0.159744  0.032521     1.0    0.0       1.0   \n",
       "4    0.105263      0.75     0.287540  0.079988     1.0    0.0       1.0   \n",
       "\n",
       "   LandContour  Utilities  LotConfig  ...  ScreenPorch  PoolArea  PoolQC  \\\n",
       "0          1.0        0.0        1.0  ...          0.0       0.0     0.0   \n",
       "1          1.0        0.0        1.0  ...          0.0       0.0     0.0   \n",
       "2          1.0        0.0        0.0  ...          0.0       0.0     0.0   \n",
       "3          1.0        0.0        0.0  ...          0.0       0.0     0.0   \n",
       "4          1.0        0.0        1.0  ...          0.0       0.0     0.0   \n",
       "\n",
       "      Fence  MiscFeature  MiscVal    MoSold    YrSold  SaleType  SaleCondition  \n",
       "0  0.666667          1.0      0.0  1.000000  0.998507      0.75            1.0  \n",
       "1  0.666667          1.0      0.0  0.666667  0.999502      1.00            0.8  \n",
       "2  0.666667          1.0      0.0  0.416667  0.998507      1.00            0.8  \n",
       "3  0.666667          1.0      0.0  0.416667  0.998010      0.00            0.8  \n",
       "4  0.666667          1.0      0.0  0.583333  0.998010      1.00            0.0  \n",
       "\n",
       "[5 rows x 79 columns]"
      ]
     },
     "execution_count": 15,
     "metadata": {},
     "output_type": "execute_result"
    }
   ],
   "source": [
    "Normal_imputed_X_train, Normal_imputed_X_valid = normal(imputed_X_train,imputed_X_valid)\n",
    "Normal_imputed_X_train.head()"
   ]
  },
  {
   "cell_type": "markdown",
   "id": "3262dd4b",
   "metadata": {
    "papermill": {
     "duration": 0.026143,
     "end_time": "2022-02-07T09:04:15.251697",
     "exception": false,
     "start_time": "2022-02-07T09:04:15.225554",
     "status": "completed"
    },
    "tags": []
   },
   "source": [
    "## Random Forest"
   ]
  },
  {
   "cell_type": "code",
   "execution_count": 16,
   "id": "160a8ac8",
   "metadata": {
    "execution": {
     "iopub.execute_input": "2022-02-07T09:04:15.307642Z",
     "iopub.status.busy": "2022-02-07T09:04:15.306874Z",
     "iopub.status.idle": "2022-02-07T09:04:17.174418Z",
     "shell.execute_reply": "2022-02-07T09:04:17.174936Z",
     "shell.execute_reply.started": "2022-02-07T09:02:54.679790Z"
    },
    "papermill": {
     "duration": 1.899352,
     "end_time": "2022-02-07T09:04:17.175140",
     "exception": false,
     "start_time": "2022-02-07T09:04:15.275788",
     "status": "completed"
    },
    "tags": []
   },
   "outputs": [
    {
     "name": "stdout",
     "output_type": "stream",
     "text": [
      "Validation MAE for Random Forest Model: 16,642\n"
     ]
    }
   ],
   "source": [
    "from sklearn.ensemble import RandomForestRegressor\n",
    "from sklearn.metrics import mean_absolute_error\n",
    "rf_model = RandomForestRegressor(random_state=1)\n",
    "rf_model.fit(Normal_imputed_X_train, train_y)\n",
    "rf_val_predictions = rf_model.predict(Normal_imputed_X_valid)\n",
    "rf_val_mae = mean_absolute_error(rf_val_predictions, val_y)\n",
    "\n",
    "print(\"Validation MAE for Random Forest Model: {:,.0f}\".format(rf_val_mae))"
   ]
  },
  {
   "cell_type": "code",
   "execution_count": 17,
   "id": "b39e4e1f",
   "metadata": {
    "execution": {
     "iopub.execute_input": "2022-02-07T09:04:17.224960Z",
     "iopub.status.busy": "2022-02-07T09:04:17.224104Z",
     "iopub.status.idle": "2022-02-07T09:04:17.472931Z",
     "shell.execute_reply": "2022-02-07T09:04:17.473439Z",
     "shell.execute_reply.started": "2022-02-07T09:02:56.336044Z"
    },
    "papermill": {
     "duration": 0.275559,
     "end_time": "2022-02-07T09:04:17.473617",
     "exception": false,
     "start_time": "2022-02-07T09:04:17.198058",
     "status": "completed"
    },
    "tags": []
   },
   "outputs": [],
   "source": [
    "imputed_X_train,imputed_X_valid = Impute(train_df,test_df,object_cols,dtype='object')\n",
    "imputed_X_train,imputed_X_valid = Impute(imputed_X_train,imputed_X_valid,num_cols,dtype='number')\n",
    "imputed_X_train, imputed_X_valid = NominalConvert(imputed_X_train,imputed_X_valid,object_cols)\n",
    "Normal_imputed_X_train, Normal_imputed_X_valid = normal(imputed_X_train,imputed_X_valid)"
   ]
  },
  {
   "cell_type": "code",
   "execution_count": 18,
   "id": "b46e2479",
   "metadata": {
    "execution": {
     "iopub.execute_input": "2022-02-07T09:04:17.524072Z",
     "iopub.status.busy": "2022-02-07T09:04:17.523448Z",
     "iopub.status.idle": "2022-02-07T09:04:19.916042Z",
     "shell.execute_reply": "2022-02-07T09:04:19.916610Z",
     "shell.execute_reply.started": "2022-02-07T09:02:56.598562Z"
    },
    "papermill": {
     "duration": 2.420431,
     "end_time": "2022-02-07T09:04:19.916796",
     "exception": false,
     "start_time": "2022-02-07T09:04:17.496365",
     "status": "completed"
    },
    "tags": []
   },
   "outputs": [
    {
     "name": "stdout",
     "output_type": "stream",
     "text": [
      "Validation MAE for Random Forest Model: 53,816\n"
     ]
    }
   ],
   "source": [
    "# Define a random forest model\n",
    "rf_model = RandomForestRegressor(random_state=1)\n",
    "rf_model.fit(Normal_imputed_X_train, Y_train)\n",
    "rf_val_predictions = rf_model.predict(Normal_imputed_X_valid)\n",
    "rf_val_mae = mean_absolute_error(rf_val_predictions, test_y_df.SalePrice)\n",
    "\n",
    "print(\"Validation MAE for Random Forest Model: {:,.0f}\".format(rf_val_mae))"
   ]
  },
  {
   "cell_type": "code",
   "execution_count": 19,
   "id": "ce17d683",
   "metadata": {
    "execution": {
     "iopub.execute_input": "2022-02-07T09:04:19.969750Z",
     "iopub.status.busy": "2022-02-07T09:04:19.966801Z",
     "iopub.status.idle": "2022-02-07T09:04:20.815083Z",
     "shell.execute_reply": "2022-02-07T09:04:20.815647Z",
     "shell.execute_reply.started": "2022-02-07T09:02:58.860643Z"
    },
    "papermill": {
     "duration": 0.875731,
     "end_time": "2022-02-07T09:04:20.815838",
     "exception": false,
     "start_time": "2022-02-07T09:04:19.940107",
     "status": "completed"
    },
    "tags": []
   },
   "outputs": [
    {
     "name": "stdout",
     "output_type": "stream",
     "text": [
      "Validation MAE for Random Forest Model: 55,205\n"
     ]
    }
   ],
   "source": [
    "from xgboost import XGBRegressor\n",
    "model_1 = XGBRegressor(random_state=0)\n",
    "model_1.fit(Normal_imputed_X_train, Y_train)\n",
    "model_val_predictions = model_1.predict(Normal_imputed_X_valid)\n",
    "model_val_mae = mean_absolute_error(model_val_predictions, test_y_df.SalePrice)\n",
    "print(\"Validation MAE for Random Forest Model: {:,.0f}\".format(model_val_mae))"
   ]
  },
  {
   "cell_type": "markdown",
   "id": "fef9b493",
   "metadata": {
    "papermill": {
     "duration": 0.024076,
     "end_time": "2022-02-07T09:04:20.865652",
     "exception": false,
     "start_time": "2022-02-07T09:04:20.841576",
     "status": "completed"
    },
    "tags": []
   },
   "source": [
    "# Generate a submission\n",
    "\n",
    "Run the code cell below to generate a CSV file with your predictions that you can use to submit to the competition."
   ]
  },
  {
   "cell_type": "code",
   "execution_count": 20,
   "id": "50a77390",
   "metadata": {
    "execution": {
     "iopub.execute_input": "2022-02-07T09:04:20.922512Z",
     "iopub.status.busy": "2022-02-07T09:04:20.921766Z",
     "iopub.status.idle": "2022-02-07T09:04:20.936086Z",
     "shell.execute_reply": "2022-02-07T09:04:20.936597Z",
     "shell.execute_reply.started": "2022-02-07T09:02:59.675347Z"
    },
    "papermill": {
     "duration": 0.045529,
     "end_time": "2022-02-07T09:04:20.936820",
     "exception": false,
     "start_time": "2022-02-07T09:04:20.891291",
     "status": "completed"
    },
    "tags": []
   },
   "outputs": [
    {
     "name": "stdout",
     "output_type": "stream",
     "text": [
      "        Id  SalePrice\n",
      "0     1461  126290.76\n",
      "1     1462  156079.00\n",
      "2     1463  181621.90\n",
      "3     1464  185203.37\n",
      "4     1465  194192.56\n",
      "...    ...        ...\n",
      "1454  2915   85606.00\n",
      "1455  2916   85942.11\n",
      "1456  2917  153364.50\n",
      "1457  2918  112366.35\n",
      "1458  2919  234123.05\n",
      "\n",
      "[1459 rows x 2 columns]\n"
     ]
    }
   ],
   "source": [
    "# Run the code to save predictions in the format used for competition scoring\n",
    "\n",
    "output = pd.DataFrame({'Id': test_y_df.Id,\n",
    "                       'SalePrice': rf_val_predictions})\n",
    "output.to_csv('submission.csv', index=False)\n",
    "print(output)"
   ]
  },
  {
   "cell_type": "code",
   "execution_count": null,
   "id": "382467c3",
   "metadata": {
    "papermill": {
     "duration": 0.02392,
     "end_time": "2022-02-07T09:04:20.987937",
     "exception": false,
     "start_time": "2022-02-07T09:04:20.964017",
     "status": "completed"
    },
    "tags": []
   },
   "outputs": [],
   "source": []
  }
 ],
 "metadata": {
  "kernelspec": {
   "display_name": "Python 3",
   "language": "python",
   "name": "python3"
  },
  "language_info": {
   "codemirror_mode": {
    "name": "ipython",
    "version": 3
   },
   "file_extension": ".py",
   "mimetype": "text/x-python",
   "name": "python",
   "nbconvert_exporter": "python",
   "pygments_lexer": "ipython3",
   "version": "3.7.12"
  },
  "papermill": {
   "default_parameters": {},
   "duration": 19.812575,
   "end_time": "2022-02-07T09:04:21.725982",
   "environment_variables": {},
   "exception": null,
   "input_path": "__notebook__.ipynb",
   "output_path": "__notebook__.ipynb",
   "parameters": {},
   "start_time": "2022-02-07T09:04:01.913407",
   "version": "2.3.3"
  }
 },
 "nbformat": 4,
 "nbformat_minor": 5
}

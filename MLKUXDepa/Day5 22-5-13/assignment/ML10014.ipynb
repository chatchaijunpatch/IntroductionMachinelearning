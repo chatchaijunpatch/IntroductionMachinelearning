{
 "cells": [
  {
   "cell_type": "code",
   "execution_count": 321,
   "metadata": {},
   "outputs": [],
   "source": [
    "import pandas as pd\n",
    "import numpy as np"
   ]
  },
  {
   "cell_type": "markdown",
   "metadata": {},
   "source": [
    "<h1> ML 10014 ชัชชาย จันทร์เพ็ชร์ </h1>"
   ]
  },
  {
   "cell_type": "code",
   "execution_count": 322,
   "metadata": {},
   "outputs": [
    {
     "data": {
      "text/html": [
       "<div>\n",
       "<style scoped>\n",
       "    .dataframe tbody tr th:only-of-type {\n",
       "        vertical-align: middle;\n",
       "    }\n",
       "\n",
       "    .dataframe tbody tr th {\n",
       "        vertical-align: top;\n",
       "    }\n",
       "\n",
       "    .dataframe thead th {\n",
       "        text-align: right;\n",
       "    }\n",
       "</style>\n",
       "<table border=\"1\" class=\"dataframe\">\n",
       "  <thead>\n",
       "    <tr style=\"text-align: right;\">\n",
       "      <th></th>\n",
       "      <th>customerID</th>\n",
       "      <th>gender</th>\n",
       "      <th>SeniorCitizen</th>\n",
       "      <th>Partner</th>\n",
       "      <th>Dependents</th>\n",
       "      <th>tenure</th>\n",
       "      <th>PhoneService</th>\n",
       "      <th>MultipleLines</th>\n",
       "      <th>InternetService</th>\n",
       "      <th>OnlineSecurity</th>\n",
       "      <th>...</th>\n",
       "      <th>DeviceProtection</th>\n",
       "      <th>TechSupport</th>\n",
       "      <th>StreamingTV</th>\n",
       "      <th>StreamingMovies</th>\n",
       "      <th>Contract</th>\n",
       "      <th>PaperlessBilling</th>\n",
       "      <th>PaymentMethod</th>\n",
       "      <th>MonthlyCharges</th>\n",
       "      <th>TotalCharges</th>\n",
       "      <th>Churn</th>\n",
       "    </tr>\n",
       "  </thead>\n",
       "  <tbody>\n",
       "    <tr>\n",
       "      <th>0</th>\n",
       "      <td>7590-VHVEG</td>\n",
       "      <td>Female</td>\n",
       "      <td>0</td>\n",
       "      <td>Yes</td>\n",
       "      <td>No</td>\n",
       "      <td>1</td>\n",
       "      <td>No</td>\n",
       "      <td>No phone service</td>\n",
       "      <td>DSL</td>\n",
       "      <td>No</td>\n",
       "      <td>...</td>\n",
       "      <td>No</td>\n",
       "      <td>No</td>\n",
       "      <td>No</td>\n",
       "      <td>No</td>\n",
       "      <td>Month-to-month</td>\n",
       "      <td>Yes</td>\n",
       "      <td>Electronic check</td>\n",
       "      <td>29.85</td>\n",
       "      <td>29.85</td>\n",
       "      <td>No</td>\n",
       "    </tr>\n",
       "    <tr>\n",
       "      <th>1</th>\n",
       "      <td>5575-GNVDE</td>\n",
       "      <td>Male</td>\n",
       "      <td>0</td>\n",
       "      <td>No</td>\n",
       "      <td>No</td>\n",
       "      <td>34</td>\n",
       "      <td>Yes</td>\n",
       "      <td>No</td>\n",
       "      <td>DSL</td>\n",
       "      <td>Yes</td>\n",
       "      <td>...</td>\n",
       "      <td>Yes</td>\n",
       "      <td>No</td>\n",
       "      <td>No</td>\n",
       "      <td>No</td>\n",
       "      <td>One year</td>\n",
       "      <td>No</td>\n",
       "      <td>Mailed check</td>\n",
       "      <td>56.95</td>\n",
       "      <td>1889.5</td>\n",
       "      <td>No</td>\n",
       "    </tr>\n",
       "    <tr>\n",
       "      <th>2</th>\n",
       "      <td>3668-QPYBK</td>\n",
       "      <td>Male</td>\n",
       "      <td>0</td>\n",
       "      <td>No</td>\n",
       "      <td>No</td>\n",
       "      <td>2</td>\n",
       "      <td>Yes</td>\n",
       "      <td>No</td>\n",
       "      <td>DSL</td>\n",
       "      <td>Yes</td>\n",
       "      <td>...</td>\n",
       "      <td>No</td>\n",
       "      <td>No</td>\n",
       "      <td>No</td>\n",
       "      <td>No</td>\n",
       "      <td>Month-to-month</td>\n",
       "      <td>Yes</td>\n",
       "      <td>Mailed check</td>\n",
       "      <td>53.85</td>\n",
       "      <td>108.15</td>\n",
       "      <td>Yes</td>\n",
       "    </tr>\n",
       "    <tr>\n",
       "      <th>3</th>\n",
       "      <td>7795-CFOCW</td>\n",
       "      <td>Male</td>\n",
       "      <td>0</td>\n",
       "      <td>No</td>\n",
       "      <td>No</td>\n",
       "      <td>45</td>\n",
       "      <td>No</td>\n",
       "      <td>No phone service</td>\n",
       "      <td>DSL</td>\n",
       "      <td>Yes</td>\n",
       "      <td>...</td>\n",
       "      <td>Yes</td>\n",
       "      <td>Yes</td>\n",
       "      <td>No</td>\n",
       "      <td>No</td>\n",
       "      <td>One year</td>\n",
       "      <td>No</td>\n",
       "      <td>Bank transfer (automatic)</td>\n",
       "      <td>42.30</td>\n",
       "      <td>1840.75</td>\n",
       "      <td>No</td>\n",
       "    </tr>\n",
       "    <tr>\n",
       "      <th>4</th>\n",
       "      <td>9237-HQITU</td>\n",
       "      <td>Female</td>\n",
       "      <td>0</td>\n",
       "      <td>No</td>\n",
       "      <td>No</td>\n",
       "      <td>2</td>\n",
       "      <td>Yes</td>\n",
       "      <td>No</td>\n",
       "      <td>Fiber optic</td>\n",
       "      <td>No</td>\n",
       "      <td>...</td>\n",
       "      <td>No</td>\n",
       "      <td>No</td>\n",
       "      <td>No</td>\n",
       "      <td>No</td>\n",
       "      <td>Month-to-month</td>\n",
       "      <td>Yes</td>\n",
       "      <td>Electronic check</td>\n",
       "      <td>70.70</td>\n",
       "      <td>151.65</td>\n",
       "      <td>Yes</td>\n",
       "    </tr>\n",
       "  </tbody>\n",
       "</table>\n",
       "<p>5 rows × 21 columns</p>\n",
       "</div>"
      ],
      "text/plain": [
       "   customerID  gender  SeniorCitizen Partner Dependents  tenure PhoneService  \\\n",
       "0  7590-VHVEG  Female              0     Yes         No       1           No   \n",
       "1  5575-GNVDE    Male              0      No         No      34          Yes   \n",
       "2  3668-QPYBK    Male              0      No         No       2          Yes   \n",
       "3  7795-CFOCW    Male              0      No         No      45           No   \n",
       "4  9237-HQITU  Female              0      No         No       2          Yes   \n",
       "\n",
       "      MultipleLines InternetService OnlineSecurity  ... DeviceProtection  \\\n",
       "0  No phone service             DSL             No  ...               No   \n",
       "1                No             DSL            Yes  ...              Yes   \n",
       "2                No             DSL            Yes  ...               No   \n",
       "3  No phone service             DSL            Yes  ...              Yes   \n",
       "4                No     Fiber optic             No  ...               No   \n",
       "\n",
       "  TechSupport StreamingTV StreamingMovies        Contract PaperlessBilling  \\\n",
       "0          No          No              No  Month-to-month              Yes   \n",
       "1          No          No              No        One year               No   \n",
       "2          No          No              No  Month-to-month              Yes   \n",
       "3         Yes          No              No        One year               No   \n",
       "4          No          No              No  Month-to-month              Yes   \n",
       "\n",
       "               PaymentMethod MonthlyCharges  TotalCharges Churn  \n",
       "0           Electronic check          29.85         29.85    No  \n",
       "1               Mailed check          56.95        1889.5    No  \n",
       "2               Mailed check          53.85        108.15   Yes  \n",
       "3  Bank transfer (automatic)          42.30       1840.75    No  \n",
       "4           Electronic check          70.70        151.65   Yes  \n",
       "\n",
       "[5 rows x 21 columns]"
      ]
     },
     "execution_count": 322,
     "metadata": {},
     "output_type": "execute_result"
    }
   ],
   "source": [
    "df = pd.read_csv(\"../../Datasets/Telco-Customer-Churn.csv\")\n",
    "df.head()"
   ]
  },
  {
   "cell_type": "code",
   "execution_count": 323,
   "metadata": {},
   "outputs": [
    {
     "data": {
      "text/plain": [
       "((7043, 21), (7043, 21))"
      ]
     },
     "execution_count": 323,
     "metadata": {},
     "output_type": "execute_result"
    }
   ],
   "source": [
    "df.drop_duplicates().shape, df.shape"
   ]
  },
  {
   "cell_type": "markdown",
   "metadata": {},
   "source": [
    "# Change dataset Info "
   ]
  },
  {
   "cell_type": "code",
   "execution_count": 324,
   "metadata": {},
   "outputs": [],
   "source": [
    "df.SeniorCitizen = df.SeniorCitizen.astype(\"object\")"
   ]
  },
  {
   "cell_type": "code",
   "execution_count": 325,
   "metadata": {},
   "outputs": [],
   "source": [
    "df.TotalCharges.replace(\" \",np.nan,inplace=True)\n",
    "df.TotalCharges = df.TotalCharges.astype(\"float\")"
   ]
  },
  {
   "cell_type": "code",
   "execution_count": 326,
   "metadata": {},
   "outputs": [
    {
     "data": {
      "text/plain": [
       "((7043, 21), (7043, 21))"
      ]
     },
     "execution_count": 326,
     "metadata": {},
     "output_type": "execute_result"
    }
   ],
   "source": [
    "df.drop_duplicates().shape, df.shape"
   ]
  },
  {
   "cell_type": "code",
   "execution_count": 327,
   "metadata": {},
   "outputs": [],
   "source": [
    "X = df.drop(['customerID','Churn'],axis=1)\n",
    "y = df.Churn"
   ]
  },
  {
   "cell_type": "markdown",
   "metadata": {},
   "source": [
    "# Train Test split"
   ]
  },
  {
   "cell_type": "code",
   "execution_count": 328,
   "metadata": {},
   "outputs": [],
   "source": [
    "from sklearn.model_selection import train_test_split"
   ]
  },
  {
   "cell_type": "code",
   "execution_count": 329,
   "metadata": {},
   "outputs": [],
   "source": [
    "X_train, X_test, y_train, y_test = train_test_split(X,y,test_size=0.2,random_state=42)"
   ]
  },
  {
   "cell_type": "markdown",
   "metadata": {},
   "source": [
    "# Create Col for make Columns"
   ]
  },
  {
   "cell_type": "code",
   "execution_count": 330,
   "metadata": {},
   "outputs": [],
   "source": [
    "numericCol = X_train.select_dtypes(include=[\"float\",\"int\"]).columns\n",
    "nominalCol = X_train.select_dtypes(include=[\"object\"]).columns"
   ]
  },
  {
   "cell_type": "markdown",
   "metadata": {},
   "source": [
    "# Make Columns For Model"
   ]
  },
  {
   "cell_type": "code",
   "execution_count": 331,
   "metadata": {},
   "outputs": [],
   "source": [
    "from sklearn.compose import make_column_transformer\n",
    "from sklearn.preprocessing import OneHotEncoder, StandardScaler\n",
    "from sklearn.impute import SimpleImputer\n",
    "from sklearn.pipeline import Pipeline"
   ]
  },
  {
   "cell_type": "code",
   "execution_count": 332,
   "metadata": {},
   "outputs": [],
   "source": [
    "numericPipeline = Pipeline(steps=[\n",
    "    ('imputer', SimpleImputer(missing_values=np.nan, strategy='most_frequent')),\n",
    "    ('std', StandardScaler())\n",
    "    ]\n",
    ")"
   ]
  },
  {
   "cell_type": "code",
   "execution_count": 333,
   "metadata": {},
   "outputs": [],
   "source": [
    "transformer = make_column_transformer(\n",
    "    (numericPipeline , numericCol),\n",
    "    (OneHotEncoder(), nominalCol),\n",
    "    remainder = \"passthrough\"\n",
    ")"
   ]
  },
  {
   "cell_type": "code",
   "execution_count": 334,
   "metadata": {},
   "outputs": [],
   "source": [
    "X_train_scaler_transform = transformer.fit_transform(X_train)\n",
    "X_test_scaler_transform = transformer.transform(X_test)"
   ]
  },
  {
   "cell_type": "markdown",
   "metadata": {},
   "source": [
    "# Set Model"
   ]
  },
  {
   "cell_type": "code",
   "execution_count": 335,
   "metadata": {},
   "outputs": [],
   "source": [
    "from sklearn.metrics import accuracy_score, recall_score, precision_score, f1_score"
   ]
  },
  {
   "cell_type": "code",
   "execution_count": 336,
   "metadata": {},
   "outputs": [],
   "source": [
    "def Result(grid_list,X_train,Y_train,X_test,Y_test):\n",
    "    model_name = []\n",
    "    model_grid_bestpara = []\n",
    "    model_grid_score_train = []\n",
    "    model_recall_train =[]\n",
    "    model_precision_train = []\n",
    "    model_grid_score_test = []\n",
    "    model_recall_test =[]\n",
    "    model_precision_test = []\n",
    "    model_grid = []\n",
    "    for name, model in grid_list:\n",
    "        model_name.append(name)\n",
    "        model_grid.append(model)\n",
    "        model_grid_bestpara.append(model.best_params_)\n",
    "        model_grid_score_train.append(accuracy_score(y_train,model.predict(X_train)))\n",
    "        model_recall_train.append(recall_score(y_train,model.predict(X_train),pos_label=\"Yes\"))\n",
    "        model_precision_train.append(precision_score(y_train,model.predict(X_train),pos_label=\"Yes\"))\n",
    "        model_grid_score_test.append(accuracy_score(y_test,model.predict(X_test)))\n",
    "        model_recall_test.append(recall_score(y_test,model.predict(X_test),pos_label=\"Yes\"))\n",
    "        model_precision_test.append(precision_score(y_test,model.predict(X_test),pos_label=\"Yes\"))\n",
    "    d = {\n",
    "        'model_name':model_name,\n",
    "        \"model_grid\":model_grid,\n",
    "        \"model_best_parameter\":model_grid_bestpara,\n",
    "        \"accuracy_train\":model_grid_score_train,\n",
    "        \"recall_train\":model_recall_train,\n",
    "        \"precision_train\":model_precision_train,\n",
    "        \"accuracy_test\":model_grid_score_test,\n",
    "        \"recall_test\":model_recall_test,\n",
    "        \"precision_test\":model_precision_test\n",
    "    }\n",
    "    df = pd.DataFrame(data=d)\n",
    "  \n",
    "    return df\n",
    "\n"
   ]
  },
  {
   "cell_type": "code",
   "execution_count": 337,
   "metadata": {},
   "outputs": [],
   "source": [
    "from sklearn.model_selection import RandomizedSearchCV"
   ]
  },
  {
   "cell_type": "code",
   "execution_count": 338,
   "metadata": {},
   "outputs": [],
   "source": [
    "def TrainModelCV(modelcv,cv,X_train,Y_train):\n",
    "    modellocal = []\n",
    "    for name,param, model in modelcv:\n",
    "        gsv = RandomizedSearchCV(\n",
    "        model,\n",
    "        param,\n",
    "        verbose = 1,\n",
    "        cv=cv,\n",
    "        n_jobs=-1\n",
    "        )\n",
    "        gsv.fit(X_train,Y_train)\n",
    "        modellocal.append((name,gsv))\n",
    "    return modellocal\n"
   ]
  },
  {
   "cell_type": "code",
   "execution_count": 339,
   "metadata": {},
   "outputs": [],
   "source": [
    "# Number of trees in random forest\n",
    "n_estimators = [int(x) for x in np.linspace(start = 200, stop = 2000, num = 10)]\n",
    "# Number of features to consider at every split\n",
    "max_features = ['auto','sqrt','log']\n",
    "criterion = ['gini','entropy']\n",
    "# Maximum number of levels in tree\n",
    "max_depth = [int(x) for x in np.linspace(10, 110, num = 11)]\n",
    "max_depth.append(None)\n",
    "# Minimum number of samples required to split a node\n",
    "min_samples_split = [2, 5, 10]\n",
    "# Minimum number of samples required at each leaf node\n",
    "min_samples_leaf = [1, 2, 4]\n",
    "# Method of selecting samples for training each tree\n",
    "bootstrap = [True, False]"
   ]
  },
  {
   "cell_type": "code",
   "execution_count": 340,
   "metadata": {},
   "outputs": [],
   "source": [
    "leaf_size = list(range(1,50))\n",
    "n_neighbors = list(range(1,30))\n",
    "p=[1,2]\n",
    "weights = ['uniform','distance']\n",
    "algorithm = ['auto','ball_tree','kd_tree','brute']"
   ]
  },
  {
   "cell_type": "code",
   "execution_count": 341,
   "metadata": {},
   "outputs": [],
   "source": [
    "RC_grid = {'n_estimators': n_estimators,\n",
    "               'max_features': max_features,\n",
    "               'max_depth': max_depth,\n",
    "               'min_samples_split': min_samples_split,\n",
    "               'min_samples_leaf': min_samples_leaf,\n",
    "               'bootstrap': bootstrap,\n",
    "               'criterion' : criterion,\n",
    "               'random_state':[42]\n",
    "               \n",
    "            }\n",
    "KNN_grid = {'leaf_size': leaf_size,\n",
    "              'n_neighbors': n_neighbors,\n",
    "              'p': p,\n",
    "              'weights':weights,\n",
    "              'algorithm':algorithm,\n",
    "              }\n",
    "DC_grid = { 'max_features': max_features,\n",
    "               'max_depth': max_depth,\n",
    "               'min_samples_split': min_samples_split,\n",
    "               'min_samples_leaf': min_samples_leaf,\n",
    "               'criterion' : criterion,\n",
    "               'random_state':[42]\n",
    "               }\n",
    "svc = {'C':[0.05,0.1,0.2,0.3,0.25,0.4,0.5,0.6,0.7,0.8,0.9,1],\n",
    "         'gamma':[0.1,0.2,0.3,0.4,0.5,0.6,0.7,0.8,0.9,1.0],\n",
    "         'kernel':['rbf','linear'],\n",
    "         'random_state':[42]\n",
    "        }\n",
    "logistic_grid = {\n",
    "    'penalty' : ['l1', 'l2'],\n",
    "    'C' : np.logspace(-4, 4, 20),\n",
    "    'solver' : ['liblinear'],\n",
    "    'random_state':[42]\n",
    "}\n",
    "BNB = {'alpha': [0.01, 0.1, 0.5, 1.0, 10.0],\n",
    "         }"
   ]
  },
  {
   "cell_type": "code",
   "execution_count": 342,
   "metadata": {},
   "outputs": [],
   "source": [
    "from sklearn.neighbors import KNeighborsClassifier\n",
    "from sklearn.tree import DecisionTreeClassifier\n",
    "from sklearn.linear_model import LinearRegression, LogisticRegression\n",
    "from sklearn.ensemble import RandomForestClassifier\n",
    "from sklearn.svm import SVC\n",
    "from sklearn.naive_bayes import BernoulliNB\n",
    "from sklearn.preprocessing import PolynomialFeatures\n",
    "from sklearn.linear_model import SGDClassifier"
   ]
  },
  {
   "cell_type": "markdown",
   "metadata": {},
   "source": [
    "# Train model and Result scale data"
   ]
  },
  {
   "cell_type": "code",
   "execution_count": 343,
   "metadata": {},
   "outputs": [],
   "source": [
    "models = []\n",
    "models.append(('RandomForest',RC_grid, RandomForestClassifier()))\n",
    "models.append(('KNN',KNN_grid,KNeighborsClassifier()))\n",
    "models.append(('DecisionTree',DC_grid,DecisionTreeClassifier()))\n",
    "models.append(('SVC_scale', svc,SVC() ))\n",
    "models.append(('BernoulliNB',BNB,BernoulliNB()))\n",
    "models.append(('LogisticRegression',logistic_grid,LogisticRegression()))"
   ]
  },
  {
   "cell_type": "code",
   "execution_count": 344,
   "metadata": {},
   "outputs": [
    {
     "name": "stdout",
     "output_type": "stream",
     "text": [
      "Fitting 10 folds for each of 10 candidates, totalling 100 fits\n"
     ]
    },
    {
     "name": "stderr",
     "output_type": "stream",
     "text": [
      "c:\\Users\\EMMIE\\anaconda3\\lib\\site-packages\\sklearn\\model_selection\\_search.py:922: UserWarning: One or more of the test scores are non-finite: [0.77315704 0.79871541        nan 0.79694141        nan 0.79303566\n",
      "        nan        nan 0.79924763 0.77262355]\n",
      "  warnings.warn(\n"
     ]
    },
    {
     "name": "stdout",
     "output_type": "stream",
     "text": [
      "Fitting 10 folds for each of 10 candidates, totalling 100 fits\n",
      "Fitting 10 folds for each of 10 candidates, totalling 100 fits\n"
     ]
    },
    {
     "name": "stderr",
     "output_type": "stream",
     "text": [
      "c:\\Users\\EMMIE\\anaconda3\\lib\\site-packages\\sklearn\\model_selection\\_search.py:922: UserWarning: One or more of the test scores are non-finite: [       nan 0.75167857 0.75062041 0.74547069        nan 0.75257171\n",
      "        nan        nan 0.75167857 0.76535278]\n",
      "  warnings.warn(\n"
     ]
    },
    {
     "name": "stdout",
     "output_type": "stream",
     "text": [
      "Fitting 10 folds for each of 10 candidates, totalling 100 fits\n"
     ]
    },
    {
     "name": "stderr",
     "output_type": "stream",
     "text": [
      "c:\\Users\\EMMIE\\anaconda3\\lib\\site-packages\\sklearn\\model_selection\\_search.py:285: UserWarning: The total space of parameters 5 is smaller than n_iter=10. Running 5 iterations. For exhaustive searches, use GridSearchCV.\n",
      "  warnings.warn(\n"
     ]
    },
    {
     "name": "stdout",
     "output_type": "stream",
     "text": [
      "Fitting 10 folds for each of 5 candidates, totalling 50 fits\n",
      "Fitting 10 folds for each of 10 candidates, totalling 100 fits\n"
     ]
    }
   ],
   "source": [
    "grid_list =TrainModelCV(models,10,X_train_scaler_transform,y_train)"
   ]
  },
  {
   "cell_type": "code",
   "execution_count": 345,
   "metadata": {},
   "outputs": [
    {
     "data": {
      "text/html": [
       "<div>\n",
       "<style scoped>\n",
       "    .dataframe tbody tr th:only-of-type {\n",
       "        vertical-align: middle;\n",
       "    }\n",
       "\n",
       "    .dataframe tbody tr th {\n",
       "        vertical-align: top;\n",
       "    }\n",
       "\n",
       "    .dataframe thead th {\n",
       "        text-align: right;\n",
       "    }\n",
       "</style>\n",
       "<table border=\"1\" class=\"dataframe\">\n",
       "  <thead>\n",
       "    <tr style=\"text-align: right;\">\n",
       "      <th></th>\n",
       "      <th>model_name</th>\n",
       "      <th>model_grid</th>\n",
       "      <th>model_best_parameter</th>\n",
       "      <th>accuracy_train</th>\n",
       "      <th>recall_train</th>\n",
       "      <th>precision_train</th>\n",
       "      <th>accuracy_test</th>\n",
       "      <th>recall_test</th>\n",
       "      <th>precision_test</th>\n",
       "    </tr>\n",
       "  </thead>\n",
       "  <tbody>\n",
       "    <tr>\n",
       "      <th>0</th>\n",
       "      <td>RandomForest</td>\n",
       "      <td>RandomizedSearchCV(cv=10, estimator=RandomFore...</td>\n",
       "      <td>{'random_state': 42, 'n_estimators': 1400, 'mi...</td>\n",
       "      <td>0.865282</td>\n",
       "      <td>0.628342</td>\n",
       "      <td>0.822397</td>\n",
       "      <td>0.812633</td>\n",
       "      <td>0.530831</td>\n",
       "      <td>0.689895</td>\n",
       "    </tr>\n",
       "    <tr>\n",
       "      <th>1</th>\n",
       "      <td>KNN</td>\n",
       "      <td>RandomizedSearchCV(cv=10, estimator=KNeighbors...</td>\n",
       "      <td>{'weights': 'uniform', 'p': 2, 'n_neighbors': ...</td>\n",
       "      <td>0.806709</td>\n",
       "      <td>0.562834</td>\n",
       "      <td>0.659358</td>\n",
       "      <td>0.812633</td>\n",
       "      <td>0.581769</td>\n",
       "      <td>0.667692</td>\n",
       "    </tr>\n",
       "    <tr>\n",
       "      <th>2</th>\n",
       "      <td>DecisionTree</td>\n",
       "      <td>RandomizedSearchCV(cv=10, estimator=DecisionTr...</td>\n",
       "      <td>{'random_state': 42, 'min_samples_split': 10, ...</td>\n",
       "      <td>0.846113</td>\n",
       "      <td>0.604947</td>\n",
       "      <td>0.766300</td>\n",
       "      <td>0.782825</td>\n",
       "      <td>0.455764</td>\n",
       "      <td>0.622711</td>\n",
       "    </tr>\n",
       "    <tr>\n",
       "      <th>3</th>\n",
       "      <td>SVC_scale</td>\n",
       "      <td>RandomizedSearchCV(cv=10, estimator=SVC(), n_j...</td>\n",
       "      <td>{'random_state': 42, 'kernel': 'linear', 'gamm...</td>\n",
       "      <td>0.797835</td>\n",
       "      <td>0.530080</td>\n",
       "      <td>0.645240</td>\n",
       "      <td>0.821859</td>\n",
       "      <td>0.595174</td>\n",
       "      <td>0.689441</td>\n",
       "    </tr>\n",
       "    <tr>\n",
       "      <th>4</th>\n",
       "      <td>BernoulliNB</td>\n",
       "      <td>RandomizedSearchCV(cv=10, estimator=BernoulliN...</td>\n",
       "      <td>{'alpha': 0.01}</td>\n",
       "      <td>0.722755</td>\n",
       "      <td>0.801471</td>\n",
       "      <td>0.486607</td>\n",
       "      <td>0.729595</td>\n",
       "      <td>0.831099</td>\n",
       "      <td>0.493631</td>\n",
       "    </tr>\n",
       "    <tr>\n",
       "      <th>5</th>\n",
       "      <td>LogisticRegression</td>\n",
       "      <td>RandomizedSearchCV(cv=10, estimator=LogisticRe...</td>\n",
       "      <td>{'solver': 'liblinear', 'random_state': 42, 'p...</td>\n",
       "      <td>0.803337</td>\n",
       "      <td>0.540107</td>\n",
       "      <td>0.657980</td>\n",
       "      <td>0.821150</td>\n",
       "      <td>0.600536</td>\n",
       "      <td>0.685015</td>\n",
       "    </tr>\n",
       "  </tbody>\n",
       "</table>\n",
       "</div>"
      ],
      "text/plain": [
       "           model_name                                         model_grid  \\\n",
       "0        RandomForest  RandomizedSearchCV(cv=10, estimator=RandomFore...   \n",
       "1                 KNN  RandomizedSearchCV(cv=10, estimator=KNeighbors...   \n",
       "2        DecisionTree  RandomizedSearchCV(cv=10, estimator=DecisionTr...   \n",
       "3           SVC_scale  RandomizedSearchCV(cv=10, estimator=SVC(), n_j...   \n",
       "4         BernoulliNB  RandomizedSearchCV(cv=10, estimator=BernoulliN...   \n",
       "5  LogisticRegression  RandomizedSearchCV(cv=10, estimator=LogisticRe...   \n",
       "\n",
       "                                model_best_parameter  accuracy_train  \\\n",
       "0  {'random_state': 42, 'n_estimators': 1400, 'mi...        0.865282   \n",
       "1  {'weights': 'uniform', 'p': 2, 'n_neighbors': ...        0.806709   \n",
       "2  {'random_state': 42, 'min_samples_split': 10, ...        0.846113   \n",
       "3  {'random_state': 42, 'kernel': 'linear', 'gamm...        0.797835   \n",
       "4                                    {'alpha': 0.01}        0.722755   \n",
       "5  {'solver': 'liblinear', 'random_state': 42, 'p...        0.803337   \n",
       "\n",
       "   recall_train  precision_train  accuracy_test  recall_test  precision_test  \n",
       "0      0.628342         0.822397       0.812633     0.530831        0.689895  \n",
       "1      0.562834         0.659358       0.812633     0.581769        0.667692  \n",
       "2      0.604947         0.766300       0.782825     0.455764        0.622711  \n",
       "3      0.530080         0.645240       0.821859     0.595174        0.689441  \n",
       "4      0.801471         0.486607       0.729595     0.831099        0.493631  \n",
       "5      0.540107         0.657980       0.821150     0.600536        0.685015  "
      ]
     },
     "execution_count": 345,
     "metadata": {},
     "output_type": "execute_result"
    }
   ],
   "source": [
    "result = Result(grid_list,X_train_scaler_transform,y_train,X_test_scaler_transform,y_test)\n",
    "result"
   ]
  },
  {
   "cell_type": "markdown",
   "metadata": {},
   "source": [
    "# Ensammble"
   ]
  },
  {
   "cell_type": "markdown",
   "metadata": {},
   "source": [
    "## Voting"
   ]
  },
  {
   "cell_type": "code",
   "execution_count": 346,
   "metadata": {},
   "outputs": [],
   "source": [
    "from sklearn.ensemble import VotingClassifier"
   ]
  },
  {
   "cell_type": "code",
   "execution_count": 347,
   "metadata": {},
   "outputs": [],
   "source": [
    "voting = VotingClassifier(estimators=[\n",
    "   ('RandomForest', RandomForestClassifier(n_estimators=1200,min_samples_split=2,min_samples_leaf=4,max_features='auto',max_depth=30,criterion='gini',bootstrap=False,random_state=42)),\n",
    "   ('KNN',KNeighborsClassifier(weights='uniform',p=2,n_neighbors=25,leaf_size=10,algorithm='brute')),\n",
    "   ('DecisionTree',DecisionTreeClassifier(min_samples_leaf=2,min_impurity_split=2,max_features='auto',max_depth=10,criterion='gini',random_state=42)),\n",
    "   ('SVC_scale',SVC(kernel='linear',gamma=0.6,C=0.5,random_state=42) ),\n",
    "   ('BernoulliNB',BernoulliNB(alpha=0.01)),\n",
    "   ('LogisticRegression',LogisticRegression(solver='liblinear',penalty='l1',C=0.615848211066026,random_state=42))])"
   ]
  },
  {
   "cell_type": "code",
   "execution_count": 348,
   "metadata": {},
   "outputs": [],
   "source": [
    "vote_param ={\n",
    "    'voting':['hard','soft'],\n",
    "    'n_jobs':[-1]\n",
    "\n",
    "}"
   ]
  },
  {
   "cell_type": "code",
   "execution_count": 349,
   "metadata": {},
   "outputs": [
    {
     "name": "stderr",
     "output_type": "stream",
     "text": [
      "c:\\Users\\EMMIE\\anaconda3\\lib\\site-packages\\sklearn\\model_selection\\_search.py:285: UserWarning: The total space of parameters 2 is smaller than n_iter=10. Running 2 iterations. For exhaustive searches, use GridSearchCV.\n",
      "  warnings.warn(\n"
     ]
    },
    {
     "name": "stdout",
     "output_type": "stream",
     "text": [
      "Fitting 10 folds for each of 2 candidates, totalling 20 fits\n"
     ]
    },
    {
     "name": "stderr",
     "output_type": "stream",
     "text": [
      "c:\\Users\\EMMIE\\anaconda3\\lib\\site-packages\\sklearn\\model_selection\\_search.py:922: UserWarning: One or more of the test scores are non-finite: [0.79924889        nan]\n",
      "  warnings.warn(\n"
     ]
    }
   ],
   "source": [
    "grid_vote =TrainModelCV([('Voting',vote_param,voting)],10,X_train_scaler_transform,y_train)"
   ]
  },
  {
   "cell_type": "code",
   "execution_count": 350,
   "metadata": {},
   "outputs": [],
   "source": [
    "vote_result= Result(grid_vote,X_train_scaler_transform,y_train,X_test_scaler_transform,y_test)"
   ]
  },
  {
   "cell_type": "code",
   "execution_count": 351,
   "metadata": {},
   "outputs": [
    {
     "data": {
      "text/html": [
       "<div>\n",
       "<style scoped>\n",
       "    .dataframe tbody tr th:only-of-type {\n",
       "        vertical-align: middle;\n",
       "    }\n",
       "\n",
       "    .dataframe tbody tr th {\n",
       "        vertical-align: top;\n",
       "    }\n",
       "\n",
       "    .dataframe thead th {\n",
       "        text-align: right;\n",
       "    }\n",
       "</style>\n",
       "<table border=\"1\" class=\"dataframe\">\n",
       "  <thead>\n",
       "    <tr style=\"text-align: right;\">\n",
       "      <th></th>\n",
       "      <th>model_name</th>\n",
       "      <th>model_grid</th>\n",
       "      <th>model_best_parameter</th>\n",
       "      <th>accuracy_train</th>\n",
       "      <th>recall_train</th>\n",
       "      <th>precision_train</th>\n",
       "      <th>accuracy_test</th>\n",
       "      <th>recall_test</th>\n",
       "      <th>precision_test</th>\n",
       "    </tr>\n",
       "  </thead>\n",
       "  <tbody>\n",
       "    <tr>\n",
       "      <th>0</th>\n",
       "      <td>RandomForest</td>\n",
       "      <td>RandomizedSearchCV(cv=10, estimator=RandomFore...</td>\n",
       "      <td>{'random_state': 42, 'n_estimators': 1400, 'mi...</td>\n",
       "      <td>0.865282</td>\n",
       "      <td>0.628342</td>\n",
       "      <td>0.822397</td>\n",
       "      <td>0.812633</td>\n",
       "      <td>0.530831</td>\n",
       "      <td>0.689895</td>\n",
       "    </tr>\n",
       "    <tr>\n",
       "      <th>1</th>\n",
       "      <td>KNN</td>\n",
       "      <td>RandomizedSearchCV(cv=10, estimator=KNeighbors...</td>\n",
       "      <td>{'weights': 'uniform', 'p': 2, 'n_neighbors': ...</td>\n",
       "      <td>0.806709</td>\n",
       "      <td>0.562834</td>\n",
       "      <td>0.659358</td>\n",
       "      <td>0.812633</td>\n",
       "      <td>0.581769</td>\n",
       "      <td>0.667692</td>\n",
       "    </tr>\n",
       "    <tr>\n",
       "      <th>2</th>\n",
       "      <td>DecisionTree</td>\n",
       "      <td>RandomizedSearchCV(cv=10, estimator=DecisionTr...</td>\n",
       "      <td>{'random_state': 42, 'min_samples_split': 10, ...</td>\n",
       "      <td>0.846113</td>\n",
       "      <td>0.604947</td>\n",
       "      <td>0.766300</td>\n",
       "      <td>0.782825</td>\n",
       "      <td>0.455764</td>\n",
       "      <td>0.622711</td>\n",
       "    </tr>\n",
       "    <tr>\n",
       "      <th>3</th>\n",
       "      <td>SVC_scale</td>\n",
       "      <td>RandomizedSearchCV(cv=10, estimator=SVC(), n_j...</td>\n",
       "      <td>{'random_state': 42, 'kernel': 'linear', 'gamm...</td>\n",
       "      <td>0.797835</td>\n",
       "      <td>0.530080</td>\n",
       "      <td>0.645240</td>\n",
       "      <td>0.821859</td>\n",
       "      <td>0.595174</td>\n",
       "      <td>0.689441</td>\n",
       "    </tr>\n",
       "    <tr>\n",
       "      <th>4</th>\n",
       "      <td>BernoulliNB</td>\n",
       "      <td>RandomizedSearchCV(cv=10, estimator=BernoulliN...</td>\n",
       "      <td>{'alpha': 0.01}</td>\n",
       "      <td>0.722755</td>\n",
       "      <td>0.801471</td>\n",
       "      <td>0.486607</td>\n",
       "      <td>0.729595</td>\n",
       "      <td>0.831099</td>\n",
       "      <td>0.493631</td>\n",
       "    </tr>\n",
       "    <tr>\n",
       "      <th>5</th>\n",
       "      <td>LogisticRegression</td>\n",
       "      <td>RandomizedSearchCV(cv=10, estimator=LogisticRe...</td>\n",
       "      <td>{'solver': 'liblinear', 'random_state': 42, 'p...</td>\n",
       "      <td>0.803337</td>\n",
       "      <td>0.540107</td>\n",
       "      <td>0.657980</td>\n",
       "      <td>0.821150</td>\n",
       "      <td>0.600536</td>\n",
       "      <td>0.685015</td>\n",
       "    </tr>\n",
       "    <tr>\n",
       "      <th>6</th>\n",
       "      <td>Voting</td>\n",
       "      <td>RandomizedSearchCV(cv=10,\\n                   ...</td>\n",
       "      <td>{'voting': 'hard', 'n_jobs': -1}</td>\n",
       "      <td>0.820909</td>\n",
       "      <td>0.540107</td>\n",
       "      <td>0.715678</td>\n",
       "      <td>0.819730</td>\n",
       "      <td>0.538874</td>\n",
       "      <td>0.710247</td>\n",
       "    </tr>\n",
       "  </tbody>\n",
       "</table>\n",
       "</div>"
      ],
      "text/plain": [
       "           model_name                                         model_grid  \\\n",
       "0        RandomForest  RandomizedSearchCV(cv=10, estimator=RandomFore...   \n",
       "1                 KNN  RandomizedSearchCV(cv=10, estimator=KNeighbors...   \n",
       "2        DecisionTree  RandomizedSearchCV(cv=10, estimator=DecisionTr...   \n",
       "3           SVC_scale  RandomizedSearchCV(cv=10, estimator=SVC(), n_j...   \n",
       "4         BernoulliNB  RandomizedSearchCV(cv=10, estimator=BernoulliN...   \n",
       "5  LogisticRegression  RandomizedSearchCV(cv=10, estimator=LogisticRe...   \n",
       "6              Voting  RandomizedSearchCV(cv=10,\\n                   ...   \n",
       "\n",
       "                                model_best_parameter  accuracy_train  \\\n",
       "0  {'random_state': 42, 'n_estimators': 1400, 'mi...        0.865282   \n",
       "1  {'weights': 'uniform', 'p': 2, 'n_neighbors': ...        0.806709   \n",
       "2  {'random_state': 42, 'min_samples_split': 10, ...        0.846113   \n",
       "3  {'random_state': 42, 'kernel': 'linear', 'gamm...        0.797835   \n",
       "4                                    {'alpha': 0.01}        0.722755   \n",
       "5  {'solver': 'liblinear', 'random_state': 42, 'p...        0.803337   \n",
       "6                   {'voting': 'hard', 'n_jobs': -1}        0.820909   \n",
       "\n",
       "   recall_train  precision_train  accuracy_test  recall_test  precision_test  \n",
       "0      0.628342         0.822397       0.812633     0.530831        0.689895  \n",
       "1      0.562834         0.659358       0.812633     0.581769        0.667692  \n",
       "2      0.604947         0.766300       0.782825     0.455764        0.622711  \n",
       "3      0.530080         0.645240       0.821859     0.595174        0.689441  \n",
       "4      0.801471         0.486607       0.729595     0.831099        0.493631  \n",
       "5      0.540107         0.657980       0.821150     0.600536        0.685015  \n",
       "6      0.540107         0.715678       0.819730     0.538874        0.710247  "
      ]
     },
     "execution_count": 351,
     "metadata": {},
     "output_type": "execute_result"
    }
   ],
   "source": [
    "result = result.append(vote_result,ignore_index=True)\n",
    "result"
   ]
  },
  {
   "cell_type": "markdown",
   "metadata": {},
   "source": [
    "# Bagging"
   ]
  },
  {
   "cell_type": "code",
   "execution_count": 352,
   "metadata": {},
   "outputs": [],
   "source": [
    "from sklearn.ensemble import BaggingClassifier"
   ]
  },
  {
   "cell_type": "code",
   "execution_count": 353,
   "metadata": {},
   "outputs": [],
   "source": [
    "bagKNN = BaggingClassifier(base_estimator=KNeighborsClassifier(weights='uniform',p=2,n_neighbors=25,leaf_size=10,algorithm='brute'))\n",
    "bagDc = BaggingClassifier(base_estimator=DecisionTreeClassifier(min_samples_leaf=2,min_impurity_split=2,max_features='auto',max_depth=10,criterion='gini',random_state=42))\n",
    "bagNB = BaggingClassifier(base_estimator=BernoulliNB(alpha=0.01))\n",
    "\n"
   ]
  },
  {
   "cell_type": "code",
   "execution_count": 354,
   "metadata": {},
   "outputs": [],
   "source": [
    "bag_para ={\n",
    "    'n_estimators':[100],\n",
    "    'bootstrap':[True,False],\n",
    "    'bootstrap_features':[True,False],\n",
    "    'oob_score':[True,False],\n",
    "    'warm_start':[True,False],\n",
    "    'n_jobs':[-1],\n",
    "    'random_state':[42]\n",
    "\n",
    "}"
   ]
  },
  {
   "cell_type": "code",
   "execution_count": 355,
   "metadata": {},
   "outputs": [],
   "source": [
    "bagging_model = []\n",
    "bagging_model.append(('BaggingKNN',bag_para,bagKNN))\n",
    "bagging_model.append(('BaggingDecision',bag_para,bagDc))\n",
    "bagging_model.append(('BaggingBernoulliNB',bag_para,bagNB))"
   ]
  },
  {
   "cell_type": "code",
   "execution_count": 356,
   "metadata": {},
   "outputs": [
    {
     "name": "stdout",
     "output_type": "stream",
     "text": [
      "Fitting 10 folds for each of 10 candidates, totalling 100 fits\n"
     ]
    },
    {
     "name": "stderr",
     "output_type": "stream",
     "text": [
      "c:\\Users\\EMMIE\\anaconda3\\lib\\site-packages\\sklearn\\model_selection\\_search.py:922: UserWarning: One or more of the test scores are non-finite: [       nan        nan 0.79285962 0.78717704        nan        nan\n",
      " 0.78664639 0.79339374        nan 0.78664639]\n",
      "  warnings.warn(\n"
     ]
    },
    {
     "name": "stdout",
     "output_type": "stream",
     "text": [
      "Fitting 10 folds for each of 10 candidates, totalling 100 fits\n"
     ]
    },
    {
     "name": "stderr",
     "output_type": "stream",
     "text": [
      "c:\\Users\\EMMIE\\anaconda3\\lib\\site-packages\\sklearn\\model_selection\\_search.py:922: UserWarning: One or more of the test scores are non-finite: [      nan       nan 0.7344696 0.7344696       nan 0.7344696       nan\n",
      "       nan 0.7344696 0.7344696]\n",
      "  warnings.warn(\n"
     ]
    },
    {
     "name": "stdout",
     "output_type": "stream",
     "text": [
      "Fitting 10 folds for each of 10 candidates, totalling 100 fits\n"
     ]
    },
    {
     "name": "stderr",
     "output_type": "stream",
     "text": [
      "c:\\Users\\EMMIE\\anaconda3\\lib\\site-packages\\sklearn\\model_selection\\_search.py:922: UserWarning: One or more of the test scores are non-finite: [0.72275613 0.72382091        nan        nan 0.7199161  0.72275613\n",
      "        nan        nan 0.72098088 0.72098088]\n",
      "  warnings.warn(\n"
     ]
    }
   ],
   "source": [
    "grid_bagging =TrainModelCV(bagging_model,10,X_train_scaler_transform,y_train)"
   ]
  },
  {
   "cell_type": "code",
   "execution_count": 357,
   "metadata": {},
   "outputs": [
    {
     "name": "stderr",
     "output_type": "stream",
     "text": [
      "c:\\Users\\EMMIE\\anaconda3\\lib\\site-packages\\sklearn\\metrics\\_classification.py:1248: UndefinedMetricWarning: Precision is ill-defined and being set to 0.0 due to no predicted samples. Use `zero_division` parameter to control this behavior.\n",
      "  _warn_prf(average, modifier, msg_start, len(result))\n",
      "c:\\Users\\EMMIE\\anaconda3\\lib\\site-packages\\sklearn\\metrics\\_classification.py:1248: UndefinedMetricWarning: Precision is ill-defined and being set to 0.0 due to no predicted samples. Use `zero_division` parameter to control this behavior.\n",
      "  _warn_prf(average, modifier, msg_start, len(result))\n"
     ]
    }
   ],
   "source": [
    "bag_result = Result(grid_bagging,X_train_scaler_transform,y_train,X_test_scaler_transform,y_test)"
   ]
  },
  {
   "cell_type": "code",
   "execution_count": 358,
   "metadata": {},
   "outputs": [
    {
     "data": {
      "text/html": [
       "<div>\n",
       "<style scoped>\n",
       "    .dataframe tbody tr th:only-of-type {\n",
       "        vertical-align: middle;\n",
       "    }\n",
       "\n",
       "    .dataframe tbody tr th {\n",
       "        vertical-align: top;\n",
       "    }\n",
       "\n",
       "    .dataframe thead th {\n",
       "        text-align: right;\n",
       "    }\n",
       "</style>\n",
       "<table border=\"1\" class=\"dataframe\">\n",
       "  <thead>\n",
       "    <tr style=\"text-align: right;\">\n",
       "      <th></th>\n",
       "      <th>model_name</th>\n",
       "      <th>model_grid</th>\n",
       "      <th>model_best_parameter</th>\n",
       "      <th>accuracy_train</th>\n",
       "      <th>recall_train</th>\n",
       "      <th>precision_train</th>\n",
       "      <th>accuracy_test</th>\n",
       "      <th>recall_test</th>\n",
       "      <th>precision_test</th>\n",
       "    </tr>\n",
       "  </thead>\n",
       "  <tbody>\n",
       "    <tr>\n",
       "      <th>0</th>\n",
       "      <td>RandomForest</td>\n",
       "      <td>RandomizedSearchCV(cv=10, estimator=RandomFore...</td>\n",
       "      <td>{'random_state': 42, 'n_estimators': 1400, 'mi...</td>\n",
       "      <td>0.865282</td>\n",
       "      <td>0.628342</td>\n",
       "      <td>0.822397</td>\n",
       "      <td>0.812633</td>\n",
       "      <td>0.530831</td>\n",
       "      <td>0.689895</td>\n",
       "    </tr>\n",
       "    <tr>\n",
       "      <th>1</th>\n",
       "      <td>KNN</td>\n",
       "      <td>RandomizedSearchCV(cv=10, estimator=KNeighbors...</td>\n",
       "      <td>{'weights': 'uniform', 'p': 2, 'n_neighbors': ...</td>\n",
       "      <td>0.806709</td>\n",
       "      <td>0.562834</td>\n",
       "      <td>0.659358</td>\n",
       "      <td>0.812633</td>\n",
       "      <td>0.581769</td>\n",
       "      <td>0.667692</td>\n",
       "    </tr>\n",
       "    <tr>\n",
       "      <th>2</th>\n",
       "      <td>DecisionTree</td>\n",
       "      <td>RandomizedSearchCV(cv=10, estimator=DecisionTr...</td>\n",
       "      <td>{'random_state': 42, 'min_samples_split': 10, ...</td>\n",
       "      <td>0.846113</td>\n",
       "      <td>0.604947</td>\n",
       "      <td>0.766300</td>\n",
       "      <td>0.782825</td>\n",
       "      <td>0.455764</td>\n",
       "      <td>0.622711</td>\n",
       "    </tr>\n",
       "    <tr>\n",
       "      <th>3</th>\n",
       "      <td>SVC_scale</td>\n",
       "      <td>RandomizedSearchCV(cv=10, estimator=SVC(), n_j...</td>\n",
       "      <td>{'random_state': 42, 'kernel': 'linear', 'gamm...</td>\n",
       "      <td>0.797835</td>\n",
       "      <td>0.530080</td>\n",
       "      <td>0.645240</td>\n",
       "      <td>0.821859</td>\n",
       "      <td>0.595174</td>\n",
       "      <td>0.689441</td>\n",
       "    </tr>\n",
       "    <tr>\n",
       "      <th>4</th>\n",
       "      <td>BernoulliNB</td>\n",
       "      <td>RandomizedSearchCV(cv=10, estimator=BernoulliN...</td>\n",
       "      <td>{'alpha': 0.01}</td>\n",
       "      <td>0.722755</td>\n",
       "      <td>0.801471</td>\n",
       "      <td>0.486607</td>\n",
       "      <td>0.729595</td>\n",
       "      <td>0.831099</td>\n",
       "      <td>0.493631</td>\n",
       "    </tr>\n",
       "    <tr>\n",
       "      <th>5</th>\n",
       "      <td>LogisticRegression</td>\n",
       "      <td>RandomizedSearchCV(cv=10, estimator=LogisticRe...</td>\n",
       "      <td>{'solver': 'liblinear', 'random_state': 42, 'p...</td>\n",
       "      <td>0.803337</td>\n",
       "      <td>0.540107</td>\n",
       "      <td>0.657980</td>\n",
       "      <td>0.821150</td>\n",
       "      <td>0.600536</td>\n",
       "      <td>0.685015</td>\n",
       "    </tr>\n",
       "    <tr>\n",
       "      <th>6</th>\n",
       "      <td>Voting</td>\n",
       "      <td>RandomizedSearchCV(cv=10,\\n                   ...</td>\n",
       "      <td>{'voting': 'hard', 'n_jobs': -1}</td>\n",
       "      <td>0.820909</td>\n",
       "      <td>0.540107</td>\n",
       "      <td>0.715678</td>\n",
       "      <td>0.819730</td>\n",
       "      <td>0.538874</td>\n",
       "      <td>0.710247</td>\n",
       "    </tr>\n",
       "    <tr>\n",
       "      <th>7</th>\n",
       "      <td>BaggingKNN</td>\n",
       "      <td>RandomizedSearchCV(cv=10,\\n                   ...</td>\n",
       "      <td>{'warm_start': True, 'random_state': 42, 'oob_...</td>\n",
       "      <td>0.813099</td>\n",
       "      <td>0.559492</td>\n",
       "      <td>0.679935</td>\n",
       "      <td>0.814762</td>\n",
       "      <td>0.571046</td>\n",
       "      <td>0.678344</td>\n",
       "    </tr>\n",
       "    <tr>\n",
       "      <th>8</th>\n",
       "      <td>BaggingDecision</td>\n",
       "      <td>RandomizedSearchCV(cv=10,\\n                   ...</td>\n",
       "      <td>{'warm_start': True, 'random_state': 42, 'oob_...</td>\n",
       "      <td>0.734469</td>\n",
       "      <td>0.000000</td>\n",
       "      <td>0.000000</td>\n",
       "      <td>0.735273</td>\n",
       "      <td>0.000000</td>\n",
       "      <td>0.000000</td>\n",
       "    </tr>\n",
       "    <tr>\n",
       "      <th>9</th>\n",
       "      <td>BaggingBernoulliNB</td>\n",
       "      <td>RandomizedSearchCV(cv=10,\\n                   ...</td>\n",
       "      <td>{'warm_start': False, 'random_state': 42, 'oob...</td>\n",
       "      <td>0.723287</td>\n",
       "      <td>0.801471</td>\n",
       "      <td>0.487200</td>\n",
       "      <td>0.730305</td>\n",
       "      <td>0.831099</td>\n",
       "      <td>0.494418</td>\n",
       "    </tr>\n",
       "  </tbody>\n",
       "</table>\n",
       "</div>"
      ],
      "text/plain": [
       "           model_name                                         model_grid  \\\n",
       "0        RandomForest  RandomizedSearchCV(cv=10, estimator=RandomFore...   \n",
       "1                 KNN  RandomizedSearchCV(cv=10, estimator=KNeighbors...   \n",
       "2        DecisionTree  RandomizedSearchCV(cv=10, estimator=DecisionTr...   \n",
       "3           SVC_scale  RandomizedSearchCV(cv=10, estimator=SVC(), n_j...   \n",
       "4         BernoulliNB  RandomizedSearchCV(cv=10, estimator=BernoulliN...   \n",
       "5  LogisticRegression  RandomizedSearchCV(cv=10, estimator=LogisticRe...   \n",
       "6              Voting  RandomizedSearchCV(cv=10,\\n                   ...   \n",
       "7          BaggingKNN  RandomizedSearchCV(cv=10,\\n                   ...   \n",
       "8     BaggingDecision  RandomizedSearchCV(cv=10,\\n                   ...   \n",
       "9  BaggingBernoulliNB  RandomizedSearchCV(cv=10,\\n                   ...   \n",
       "\n",
       "                                model_best_parameter  accuracy_train  \\\n",
       "0  {'random_state': 42, 'n_estimators': 1400, 'mi...        0.865282   \n",
       "1  {'weights': 'uniform', 'p': 2, 'n_neighbors': ...        0.806709   \n",
       "2  {'random_state': 42, 'min_samples_split': 10, ...        0.846113   \n",
       "3  {'random_state': 42, 'kernel': 'linear', 'gamm...        0.797835   \n",
       "4                                    {'alpha': 0.01}        0.722755   \n",
       "5  {'solver': 'liblinear', 'random_state': 42, 'p...        0.803337   \n",
       "6                   {'voting': 'hard', 'n_jobs': -1}        0.820909   \n",
       "7  {'warm_start': True, 'random_state': 42, 'oob_...        0.813099   \n",
       "8  {'warm_start': True, 'random_state': 42, 'oob_...        0.734469   \n",
       "9  {'warm_start': False, 'random_state': 42, 'oob...        0.723287   \n",
       "\n",
       "   recall_train  precision_train  accuracy_test  recall_test  precision_test  \n",
       "0      0.628342         0.822397       0.812633     0.530831        0.689895  \n",
       "1      0.562834         0.659358       0.812633     0.581769        0.667692  \n",
       "2      0.604947         0.766300       0.782825     0.455764        0.622711  \n",
       "3      0.530080         0.645240       0.821859     0.595174        0.689441  \n",
       "4      0.801471         0.486607       0.729595     0.831099        0.493631  \n",
       "5      0.540107         0.657980       0.821150     0.600536        0.685015  \n",
       "6      0.540107         0.715678       0.819730     0.538874        0.710247  \n",
       "7      0.559492         0.679935       0.814762     0.571046        0.678344  \n",
       "8      0.000000         0.000000       0.735273     0.000000        0.000000  \n",
       "9      0.801471         0.487200       0.730305     0.831099        0.494418  "
      ]
     },
     "execution_count": 358,
     "metadata": {},
     "output_type": "execute_result"
    }
   ],
   "source": [
    "result = result.append(bag_result,ignore_index=True)\n",
    "result"
   ]
  },
  {
   "cell_type": "markdown",
   "metadata": {},
   "source": [
    "## Ada"
   ]
  },
  {
   "cell_type": "code",
   "execution_count": 359,
   "metadata": {},
   "outputs": [],
   "source": [
    "from sklearn.ensemble import AdaBoostClassifier"
   ]
  },
  {
   "cell_type": "code",
   "execution_count": 360,
   "metadata": {},
   "outputs": [],
   "source": [
    "ADADc = AdaBoostClassifier(base_estimator=DecisionTreeClassifier(min_samples_leaf=2,min_impurity_split=2,max_features='auto',max_depth=10,criterion='gini',random_state=42))\n",
    "ADANB = AdaBoostClassifier(base_estimator=BernoulliNB(alpha=0.01))\n",
    "\n"
   ]
  },
  {
   "cell_type": "code",
   "execution_count": 361,
   "metadata": {},
   "outputs": [],
   "source": [
    "ADA_para ={\n",
    "    'n_estimators':[100],\n",
    "    'learning_rate':[0.1,0.001,1,0.0001,0.00001],\n",
    "    'algorithm':['SAMME','SAMME.R'],\n",
    "    'random_state':[42]\n",
    "\n",
    "}"
   ]
  },
  {
   "cell_type": "code",
   "execution_count": 362,
   "metadata": {},
   "outputs": [],
   "source": [
    "ADA_model = []\n",
    "ADA_model.append(('ADADecision',ADA_para,ADADc))\n",
    "ADA_model.append(('ADABernoulliNB',ADA_para,ADANB))"
   ]
  },
  {
   "cell_type": "code",
   "execution_count": 363,
   "metadata": {},
   "outputs": [
    {
     "name": "stdout",
     "output_type": "stream",
     "text": [
      "Fitting 10 folds for each of 10 candidates, totalling 100 fits\n"
     ]
    },
    {
     "name": "stderr",
     "output_type": "stream",
     "text": [
      "c:\\Users\\EMMIE\\anaconda3\\lib\\site-packages\\sklearn\\tree\\_classes.py:316: FutureWarning: The min_impurity_split parameter is deprecated. Its default value has changed from 1e-7 to 0 in version 0.23, and it will be removed in 1.0 (renaming of 0.25). Use the min_impurity_decrease parameter instead.\n",
      "  warnings.warn(\n",
      "c:\\Users\\EMMIE\\anaconda3\\lib\\site-packages\\sklearn\\tree\\_classes.py:316: FutureWarning: The min_impurity_split parameter is deprecated. Its default value has changed from 1e-7 to 0 in version 0.23, and it will be removed in 1.0 (renaming of 0.25). Use the min_impurity_decrease parameter instead.\n",
      "  warnings.warn(\n",
      "c:\\Users\\EMMIE\\anaconda3\\lib\\site-packages\\sklearn\\tree\\_classes.py:316: FutureWarning: The min_impurity_split parameter is deprecated. Its default value has changed from 1e-7 to 0 in version 0.23, and it will be removed in 1.0 (renaming of 0.25). Use the min_impurity_decrease parameter instead.\n",
      "  warnings.warn(\n",
      "c:\\Users\\EMMIE\\anaconda3\\lib\\site-packages\\sklearn\\tree\\_classes.py:316: FutureWarning: The min_impurity_split parameter is deprecated. Its default value has changed from 1e-7 to 0 in version 0.23, and it will be removed in 1.0 (renaming of 0.25). Use the min_impurity_decrease parameter instead.\n",
      "  warnings.warn(\n",
      "c:\\Users\\EMMIE\\anaconda3\\lib\\site-packages\\sklearn\\tree\\_classes.py:316: FutureWarning: The min_impurity_split parameter is deprecated. Its default value has changed from 1e-7 to 0 in version 0.23, and it will be removed in 1.0 (renaming of 0.25). Use the min_impurity_decrease parameter instead.\n",
      "  warnings.warn(\n",
      "c:\\Users\\EMMIE\\anaconda3\\lib\\site-packages\\sklearn\\tree\\_classes.py:316: FutureWarning: The min_impurity_split parameter is deprecated. Its default value has changed from 1e-7 to 0 in version 0.23, and it will be removed in 1.0 (renaming of 0.25). Use the min_impurity_decrease parameter instead.\n",
      "  warnings.warn(\n",
      "c:\\Users\\EMMIE\\anaconda3\\lib\\site-packages\\sklearn\\tree\\_classes.py:316: FutureWarning: The min_impurity_split parameter is deprecated. Its default value has changed from 1e-7 to 0 in version 0.23, and it will be removed in 1.0 (renaming of 0.25). Use the min_impurity_decrease parameter instead.\n",
      "  warnings.warn(\n",
      "c:\\Users\\EMMIE\\anaconda3\\lib\\site-packages\\sklearn\\tree\\_classes.py:316: FutureWarning: The min_impurity_split parameter is deprecated. Its default value has changed from 1e-7 to 0 in version 0.23, and it will be removed in 1.0 (renaming of 0.25). Use the min_impurity_decrease parameter instead.\n",
      "  warnings.warn(\n",
      "c:\\Users\\EMMIE\\anaconda3\\lib\\site-packages\\sklearn\\tree\\_classes.py:316: FutureWarning: The min_impurity_split parameter is deprecated. Its default value has changed from 1e-7 to 0 in version 0.23, and it will be removed in 1.0 (renaming of 0.25). Use the min_impurity_decrease parameter instead.\n",
      "  warnings.warn(\n",
      "c:\\Users\\EMMIE\\anaconda3\\lib\\site-packages\\sklearn\\tree\\_classes.py:316: FutureWarning: The min_impurity_split parameter is deprecated. Its default value has changed from 1e-7 to 0 in version 0.23, and it will be removed in 1.0 (renaming of 0.25). Use the min_impurity_decrease parameter instead.\n",
      "  warnings.warn(\n",
      "c:\\Users\\EMMIE\\anaconda3\\lib\\site-packages\\sklearn\\tree\\_classes.py:316: FutureWarning: The min_impurity_split parameter is deprecated. Its default value has changed from 1e-7 to 0 in version 0.23, and it will be removed in 1.0 (renaming of 0.25). Use the min_impurity_decrease parameter instead.\n",
      "  warnings.warn(\n",
      "c:\\Users\\EMMIE\\anaconda3\\lib\\site-packages\\sklearn\\tree\\_classes.py:316: FutureWarning: The min_impurity_split parameter is deprecated. Its default value has changed from 1e-7 to 0 in version 0.23, and it will be removed in 1.0 (renaming of 0.25). Use the min_impurity_decrease parameter instead.\n",
      "  warnings.warn(\n",
      "c:\\Users\\EMMIE\\anaconda3\\lib\\site-packages\\sklearn\\tree\\_classes.py:316: FutureWarning: The min_impurity_split parameter is deprecated. Its default value has changed from 1e-7 to 0 in version 0.23, and it will be removed in 1.0 (renaming of 0.25). Use the min_impurity_decrease parameter instead.\n",
      "  warnings.warn(\n",
      "c:\\Users\\EMMIE\\anaconda3\\lib\\site-packages\\sklearn\\tree\\_classes.py:316: FutureWarning: The min_impurity_split parameter is deprecated. Its default value has changed from 1e-7 to 0 in version 0.23, and it will be removed in 1.0 (renaming of 0.25). Use the min_impurity_decrease parameter instead.\n",
      "  warnings.warn(\n",
      "c:\\Users\\EMMIE\\anaconda3\\lib\\site-packages\\sklearn\\tree\\_classes.py:316: FutureWarning: The min_impurity_split parameter is deprecated. Its default value has changed from 1e-7 to 0 in version 0.23, and it will be removed in 1.0 (renaming of 0.25). Use the min_impurity_decrease parameter instead.\n",
      "  warnings.warn(\n",
      "c:\\Users\\EMMIE\\anaconda3\\lib\\site-packages\\sklearn\\tree\\_classes.py:316: FutureWarning: The min_impurity_split parameter is deprecated. Its default value has changed from 1e-7 to 0 in version 0.23, and it will be removed in 1.0 (renaming of 0.25). Use the min_impurity_decrease parameter instead.\n",
      "  warnings.warn(\n",
      "c:\\Users\\EMMIE\\anaconda3\\lib\\site-packages\\sklearn\\tree\\_classes.py:316: FutureWarning: The min_impurity_split parameter is deprecated. Its default value has changed from 1e-7 to 0 in version 0.23, and it will be removed in 1.0 (renaming of 0.25). Use the min_impurity_decrease parameter instead.\n",
      "  warnings.warn(\n",
      "c:\\Users\\EMMIE\\anaconda3\\lib\\site-packages\\sklearn\\tree\\_classes.py:316: FutureWarning: The min_impurity_split parameter is deprecated. Its default value has changed from 1e-7 to 0 in version 0.23, and it will be removed in 1.0 (renaming of 0.25). Use the min_impurity_decrease parameter instead.\n",
      "  warnings.warn(\n",
      "c:\\Users\\EMMIE\\anaconda3\\lib\\site-packages\\sklearn\\tree\\_classes.py:316: FutureWarning: The min_impurity_split parameter is deprecated. Its default value has changed from 1e-7 to 0 in version 0.23, and it will be removed in 1.0 (renaming of 0.25). Use the min_impurity_decrease parameter instead.\n",
      "  warnings.warn(\n",
      "c:\\Users\\EMMIE\\anaconda3\\lib\\site-packages\\sklearn\\tree\\_classes.py:316: FutureWarning: The min_impurity_split parameter is deprecated. Its default value has changed from 1e-7 to 0 in version 0.23, and it will be removed in 1.0 (renaming of 0.25). Use the min_impurity_decrease parameter instead.\n",
      "  warnings.warn(\n",
      "c:\\Users\\EMMIE\\anaconda3\\lib\\site-packages\\sklearn\\tree\\_classes.py:316: FutureWarning: The min_impurity_split parameter is deprecated. Its default value has changed from 1e-7 to 0 in version 0.23, and it will be removed in 1.0 (renaming of 0.25). Use the min_impurity_decrease parameter instead.\n",
      "  warnings.warn(\n",
      "c:\\Users\\EMMIE\\anaconda3\\lib\\site-packages\\sklearn\\tree\\_classes.py:316: FutureWarning: The min_impurity_split parameter is deprecated. Its default value has changed from 1e-7 to 0 in version 0.23, and it will be removed in 1.0 (renaming of 0.25). Use the min_impurity_decrease parameter instead.\n",
      "  warnings.warn(\n",
      "c:\\Users\\EMMIE\\anaconda3\\lib\\site-packages\\sklearn\\tree\\_classes.py:316: FutureWarning: The min_impurity_split parameter is deprecated. Its default value has changed from 1e-7 to 0 in version 0.23, and it will be removed in 1.0 (renaming of 0.25). Use the min_impurity_decrease parameter instead.\n",
      "  warnings.warn(\n",
      "c:\\Users\\EMMIE\\anaconda3\\lib\\site-packages\\sklearn\\tree\\_classes.py:316: FutureWarning: The min_impurity_split parameter is deprecated. Its default value has changed from 1e-7 to 0 in version 0.23, and it will be removed in 1.0 (renaming of 0.25). Use the min_impurity_decrease parameter instead.\n",
      "  warnings.warn(\n",
      "c:\\Users\\EMMIE\\anaconda3\\lib\\site-packages\\sklearn\\tree\\_classes.py:316: FutureWarning: The min_impurity_split parameter is deprecated. Its default value has changed from 1e-7 to 0 in version 0.23, and it will be removed in 1.0 (renaming of 0.25). Use the min_impurity_decrease parameter instead.\n",
      "  warnings.warn(\n",
      "c:\\Users\\EMMIE\\anaconda3\\lib\\site-packages\\sklearn\\tree\\_classes.py:316: FutureWarning: The min_impurity_split parameter is deprecated. Its default value has changed from 1e-7 to 0 in version 0.23, and it will be removed in 1.0 (renaming of 0.25). Use the min_impurity_decrease parameter instead.\n",
      "  warnings.warn(\n",
      "c:\\Users\\EMMIE\\anaconda3\\lib\\site-packages\\sklearn\\tree\\_classes.py:316: FutureWarning: The min_impurity_split parameter is deprecated. Its default value has changed from 1e-7 to 0 in version 0.23, and it will be removed in 1.0 (renaming of 0.25). Use the min_impurity_decrease parameter instead.\n",
      "  warnings.warn(\n",
      "c:\\Users\\EMMIE\\anaconda3\\lib\\site-packages\\sklearn\\tree\\_classes.py:316: FutureWarning: The min_impurity_split parameter is deprecated. Its default value has changed from 1e-7 to 0 in version 0.23, and it will be removed in 1.0 (renaming of 0.25). Use the min_impurity_decrease parameter instead.\n",
      "  warnings.warn(\n",
      "c:\\Users\\EMMIE\\anaconda3\\lib\\site-packages\\sklearn\\tree\\_classes.py:316: FutureWarning: The min_impurity_split parameter is deprecated. Its default value has changed from 1e-7 to 0 in version 0.23, and it will be removed in 1.0 (renaming of 0.25). Use the min_impurity_decrease parameter instead.\n",
      "  warnings.warn(\n",
      "c:\\Users\\EMMIE\\anaconda3\\lib\\site-packages\\sklearn\\tree\\_classes.py:316: FutureWarning: The min_impurity_split parameter is deprecated. Its default value has changed from 1e-7 to 0 in version 0.23, and it will be removed in 1.0 (renaming of 0.25). Use the min_impurity_decrease parameter instead.\n",
      "  warnings.warn(\n",
      "c:\\Users\\EMMIE\\anaconda3\\lib\\site-packages\\sklearn\\tree\\_classes.py:316: FutureWarning: The min_impurity_split parameter is deprecated. Its default value has changed from 1e-7 to 0 in version 0.23, and it will be removed in 1.0 (renaming of 0.25). Use the min_impurity_decrease parameter instead.\n",
      "  warnings.warn(\n",
      "c:\\Users\\EMMIE\\anaconda3\\lib\\site-packages\\sklearn\\tree\\_classes.py:316: FutureWarning: The min_impurity_split parameter is deprecated. Its default value has changed from 1e-7 to 0 in version 0.23, and it will be removed in 1.0 (renaming of 0.25). Use the min_impurity_decrease parameter instead.\n",
      "  warnings.warn(\n",
      "c:\\Users\\EMMIE\\anaconda3\\lib\\site-packages\\sklearn\\tree\\_classes.py:316: FutureWarning: The min_impurity_split parameter is deprecated. Its default value has changed from 1e-7 to 0 in version 0.23, and it will be removed in 1.0 (renaming of 0.25). Use the min_impurity_decrease parameter instead.\n",
      "  warnings.warn(\n",
      "c:\\Users\\EMMIE\\anaconda3\\lib\\site-packages\\sklearn\\tree\\_classes.py:316: FutureWarning: The min_impurity_split parameter is deprecated. Its default value has changed from 1e-7 to 0 in version 0.23, and it will be removed in 1.0 (renaming of 0.25). Use the min_impurity_decrease parameter instead.\n",
      "  warnings.warn(\n",
      "c:\\Users\\EMMIE\\anaconda3\\lib\\site-packages\\sklearn\\tree\\_classes.py:316: FutureWarning: The min_impurity_split parameter is deprecated. Its default value has changed from 1e-7 to 0 in version 0.23, and it will be removed in 1.0 (renaming of 0.25). Use the min_impurity_decrease parameter instead.\n",
      "  warnings.warn(\n",
      "c:\\Users\\EMMIE\\anaconda3\\lib\\site-packages\\sklearn\\tree\\_classes.py:316: FutureWarning: The min_impurity_split parameter is deprecated. Its default value has changed from 1e-7 to 0 in version 0.23, and it will be removed in 1.0 (renaming of 0.25). Use the min_impurity_decrease parameter instead.\n",
      "  warnings.warn(\n",
      "c:\\Users\\EMMIE\\anaconda3\\lib\\site-packages\\sklearn\\tree\\_classes.py:316: FutureWarning: The min_impurity_split parameter is deprecated. Its default value has changed from 1e-7 to 0 in version 0.23, and it will be removed in 1.0 (renaming of 0.25). Use the min_impurity_decrease parameter instead.\n",
      "  warnings.warn(\n",
      "c:\\Users\\EMMIE\\anaconda3\\lib\\site-packages\\sklearn\\tree\\_classes.py:316: FutureWarning: The min_impurity_split parameter is deprecated. Its default value has changed from 1e-7 to 0 in version 0.23, and it will be removed in 1.0 (renaming of 0.25). Use the min_impurity_decrease parameter instead.\n",
      "  warnings.warn(\n",
      "c:\\Users\\EMMIE\\anaconda3\\lib\\site-packages\\sklearn\\tree\\_classes.py:316: FutureWarning: The min_impurity_split parameter is deprecated. Its default value has changed from 1e-7 to 0 in version 0.23, and it will be removed in 1.0 (renaming of 0.25). Use the min_impurity_decrease parameter instead.\n",
      "  warnings.warn(\n",
      "c:\\Users\\EMMIE\\anaconda3\\lib\\site-packages\\sklearn\\tree\\_classes.py:316: FutureWarning: The min_impurity_split parameter is deprecated. Its default value has changed from 1e-7 to 0 in version 0.23, and it will be removed in 1.0 (renaming of 0.25). Use the min_impurity_decrease parameter instead.\n",
      "  warnings.warn(\n",
      "c:\\Users\\EMMIE\\anaconda3\\lib\\site-packages\\sklearn\\tree\\_classes.py:316: FutureWarning: The min_impurity_split parameter is deprecated. Its default value has changed from 1e-7 to 0 in version 0.23, and it will be removed in 1.0 (renaming of 0.25). Use the min_impurity_decrease parameter instead.\n",
      "  warnings.warn(\n",
      "c:\\Users\\EMMIE\\anaconda3\\lib\\site-packages\\sklearn\\tree\\_classes.py:316: FutureWarning: The min_impurity_split parameter is deprecated. Its default value has changed from 1e-7 to 0 in version 0.23, and it will be removed in 1.0 (renaming of 0.25). Use the min_impurity_decrease parameter instead.\n",
      "  warnings.warn(\n",
      "c:\\Users\\EMMIE\\anaconda3\\lib\\site-packages\\sklearn\\tree\\_classes.py:316: FutureWarning: The min_impurity_split parameter is deprecated. Its default value has changed from 1e-7 to 0 in version 0.23, and it will be removed in 1.0 (renaming of 0.25). Use the min_impurity_decrease parameter instead.\n",
      "  warnings.warn(\n",
      "c:\\Users\\EMMIE\\anaconda3\\lib\\site-packages\\sklearn\\tree\\_classes.py:316: FutureWarning: The min_impurity_split parameter is deprecated. Its default value has changed from 1e-7 to 0 in version 0.23, and it will be removed in 1.0 (renaming of 0.25). Use the min_impurity_decrease parameter instead.\n",
      "  warnings.warn(\n",
      "c:\\Users\\EMMIE\\anaconda3\\lib\\site-packages\\sklearn\\tree\\_classes.py:316: FutureWarning: The min_impurity_split parameter is deprecated. Its default value has changed from 1e-7 to 0 in version 0.23, and it will be removed in 1.0 (renaming of 0.25). Use the min_impurity_decrease parameter instead.\n",
      "  warnings.warn(\n",
      "c:\\Users\\EMMIE\\anaconda3\\lib\\site-packages\\sklearn\\tree\\_classes.py:316: FutureWarning: The min_impurity_split parameter is deprecated. Its default value has changed from 1e-7 to 0 in version 0.23, and it will be removed in 1.0 (renaming of 0.25). Use the min_impurity_decrease parameter instead.\n",
      "  warnings.warn(\n",
      "c:\\Users\\EMMIE\\anaconda3\\lib\\site-packages\\sklearn\\tree\\_classes.py:316: FutureWarning: The min_impurity_split parameter is deprecated. Its default value has changed from 1e-7 to 0 in version 0.23, and it will be removed in 1.0 (renaming of 0.25). Use the min_impurity_decrease parameter instead.\n",
      "  warnings.warn(\n",
      "c:\\Users\\EMMIE\\anaconda3\\lib\\site-packages\\sklearn\\tree\\_classes.py:316: FutureWarning: The min_impurity_split parameter is deprecated. Its default value has changed from 1e-7 to 0 in version 0.23, and it will be removed in 1.0 (renaming of 0.25). Use the min_impurity_decrease parameter instead.\n",
      "  warnings.warn(\n",
      "c:\\Users\\EMMIE\\anaconda3\\lib\\site-packages\\sklearn\\tree\\_classes.py:316: FutureWarning: The min_impurity_split parameter is deprecated. Its default value has changed from 1e-7 to 0 in version 0.23, and it will be removed in 1.0 (renaming of 0.25). Use the min_impurity_decrease parameter instead.\n",
      "  warnings.warn(\n",
      "c:\\Users\\EMMIE\\anaconda3\\lib\\site-packages\\sklearn\\tree\\_classes.py:316: FutureWarning: The min_impurity_split parameter is deprecated. Its default value has changed from 1e-7 to 0 in version 0.23, and it will be removed in 1.0 (renaming of 0.25). Use the min_impurity_decrease parameter instead.\n",
      "  warnings.warn(\n",
      "c:\\Users\\EMMIE\\anaconda3\\lib\\site-packages\\sklearn\\tree\\_classes.py:316: FutureWarning: The min_impurity_split parameter is deprecated. Its default value has changed from 1e-7 to 0 in version 0.23, and it will be removed in 1.0 (renaming of 0.25). Use the min_impurity_decrease parameter instead.\n",
      "  warnings.warn(\n",
      "c:\\Users\\EMMIE\\anaconda3\\lib\\site-packages\\sklearn\\tree\\_classes.py:316: FutureWarning: The min_impurity_split parameter is deprecated. Its default value has changed from 1e-7 to 0 in version 0.23, and it will be removed in 1.0 (renaming of 0.25). Use the min_impurity_decrease parameter instead.\n",
      "  warnings.warn(\n",
      "c:\\Users\\EMMIE\\anaconda3\\lib\\site-packages\\sklearn\\tree\\_classes.py:316: FutureWarning: The min_impurity_split parameter is deprecated. Its default value has changed from 1e-7 to 0 in version 0.23, and it will be removed in 1.0 (renaming of 0.25). Use the min_impurity_decrease parameter instead.\n",
      "  warnings.warn(\n",
      "c:\\Users\\EMMIE\\anaconda3\\lib\\site-packages\\sklearn\\tree\\_classes.py:316: FutureWarning: The min_impurity_split parameter is deprecated. Its default value has changed from 1e-7 to 0 in version 0.23, and it will be removed in 1.0 (renaming of 0.25). Use the min_impurity_decrease parameter instead.\n",
      "  warnings.warn(\n",
      "c:\\Users\\EMMIE\\anaconda3\\lib\\site-packages\\sklearn\\tree\\_classes.py:316: FutureWarning: The min_impurity_split parameter is deprecated. Its default value has changed from 1e-7 to 0 in version 0.23, and it will be removed in 1.0 (renaming of 0.25). Use the min_impurity_decrease parameter instead.\n",
      "  warnings.warn(\n",
      "c:\\Users\\EMMIE\\anaconda3\\lib\\site-packages\\sklearn\\tree\\_classes.py:316: FutureWarning: The min_impurity_split parameter is deprecated. Its default value has changed from 1e-7 to 0 in version 0.23, and it will be removed in 1.0 (renaming of 0.25). Use the min_impurity_decrease parameter instead.\n",
      "  warnings.warn(\n",
      "c:\\Users\\EMMIE\\anaconda3\\lib\\site-packages\\sklearn\\tree\\_classes.py:316: FutureWarning: The min_impurity_split parameter is deprecated. Its default value has changed from 1e-7 to 0 in version 0.23, and it will be removed in 1.0 (renaming of 0.25). Use the min_impurity_decrease parameter instead.\n",
      "  warnings.warn(\n",
      "c:\\Users\\EMMIE\\anaconda3\\lib\\site-packages\\sklearn\\tree\\_classes.py:316: FutureWarning: The min_impurity_split parameter is deprecated. Its default value has changed from 1e-7 to 0 in version 0.23, and it will be removed in 1.0 (renaming of 0.25). Use the min_impurity_decrease parameter instead.\n",
      "  warnings.warn(\n",
      "c:\\Users\\EMMIE\\anaconda3\\lib\\site-packages\\sklearn\\tree\\_classes.py:316: FutureWarning: The min_impurity_split parameter is deprecated. Its default value has changed from 1e-7 to 0 in version 0.23, and it will be removed in 1.0 (renaming of 0.25). Use the min_impurity_decrease parameter instead.\n",
      "  warnings.warn(\n",
      "c:\\Users\\EMMIE\\anaconda3\\lib\\site-packages\\sklearn\\tree\\_classes.py:316: FutureWarning: The min_impurity_split parameter is deprecated. Its default value has changed from 1e-7 to 0 in version 0.23, and it will be removed in 1.0 (renaming of 0.25). Use the min_impurity_decrease parameter instead.\n",
      "  warnings.warn(\n",
      "c:\\Users\\EMMIE\\anaconda3\\lib\\site-packages\\sklearn\\tree\\_classes.py:316: FutureWarning: The min_impurity_split parameter is deprecated. Its default value has changed from 1e-7 to 0 in version 0.23, and it will be removed in 1.0 (renaming of 0.25). Use the min_impurity_decrease parameter instead.\n",
      "  warnings.warn(\n",
      "c:\\Users\\EMMIE\\anaconda3\\lib\\site-packages\\sklearn\\tree\\_classes.py:316: FutureWarning: The min_impurity_split parameter is deprecated. Its default value has changed from 1e-7 to 0 in version 0.23, and it will be removed in 1.0 (renaming of 0.25). Use the min_impurity_decrease parameter instead.\n",
      "  warnings.warn(\n",
      "c:\\Users\\EMMIE\\anaconda3\\lib\\site-packages\\sklearn\\tree\\_classes.py:316: FutureWarning: The min_impurity_split parameter is deprecated. Its default value has changed from 1e-7 to 0 in version 0.23, and it will be removed in 1.0 (renaming of 0.25). Use the min_impurity_decrease parameter instead.\n",
      "  warnings.warn(\n",
      "c:\\Users\\EMMIE\\anaconda3\\lib\\site-packages\\sklearn\\tree\\_classes.py:316: FutureWarning: The min_impurity_split parameter is deprecated. Its default value has changed from 1e-7 to 0 in version 0.23, and it will be removed in 1.0 (renaming of 0.25). Use the min_impurity_decrease parameter instead.\n",
      "  warnings.warn(\n",
      "c:\\Users\\EMMIE\\anaconda3\\lib\\site-packages\\sklearn\\tree\\_classes.py:316: FutureWarning: The min_impurity_split parameter is deprecated. Its default value has changed from 1e-7 to 0 in version 0.23, and it will be removed in 1.0 (renaming of 0.25). Use the min_impurity_decrease parameter instead.\n",
      "  warnings.warn(\n",
      "c:\\Users\\EMMIE\\anaconda3\\lib\\site-packages\\sklearn\\tree\\_classes.py:316: FutureWarning: The min_impurity_split parameter is deprecated. Its default value has changed from 1e-7 to 0 in version 0.23, and it will be removed in 1.0 (renaming of 0.25). Use the min_impurity_decrease parameter instead.\n",
      "  warnings.warn(\n",
      "c:\\Users\\EMMIE\\anaconda3\\lib\\site-packages\\sklearn\\tree\\_classes.py:316: FutureWarning: The min_impurity_split parameter is deprecated. Its default value has changed from 1e-7 to 0 in version 0.23, and it will be removed in 1.0 (renaming of 0.25). Use the min_impurity_decrease parameter instead.\n",
      "  warnings.warn(\n",
      "c:\\Users\\EMMIE\\anaconda3\\lib\\site-packages\\sklearn\\tree\\_classes.py:316: FutureWarning: The min_impurity_split parameter is deprecated. Its default value has changed from 1e-7 to 0 in version 0.23, and it will be removed in 1.0 (renaming of 0.25). Use the min_impurity_decrease parameter instead.\n",
      "  warnings.warn(\n",
      "c:\\Users\\EMMIE\\anaconda3\\lib\\site-packages\\sklearn\\tree\\_classes.py:316: FutureWarning: The min_impurity_split parameter is deprecated. Its default value has changed from 1e-7 to 0 in version 0.23, and it will be removed in 1.0 (renaming of 0.25). Use the min_impurity_decrease parameter instead.\n",
      "  warnings.warn(\n",
      "c:\\Users\\EMMIE\\anaconda3\\lib\\site-packages\\sklearn\\tree\\_classes.py:316: FutureWarning: The min_impurity_split parameter is deprecated. Its default value has changed from 1e-7 to 0 in version 0.23, and it will be removed in 1.0 (renaming of 0.25). Use the min_impurity_decrease parameter instead.\n",
      "  warnings.warn(\n",
      "c:\\Users\\EMMIE\\anaconda3\\lib\\site-packages\\sklearn\\tree\\_classes.py:316: FutureWarning: The min_impurity_split parameter is deprecated. Its default value has changed from 1e-7 to 0 in version 0.23, and it will be removed in 1.0 (renaming of 0.25). Use the min_impurity_decrease parameter instead.\n",
      "  warnings.warn(\n",
      "c:\\Users\\EMMIE\\anaconda3\\lib\\site-packages\\sklearn\\tree\\_classes.py:316: FutureWarning: The min_impurity_split parameter is deprecated. Its default value has changed from 1e-7 to 0 in version 0.23, and it will be removed in 1.0 (renaming of 0.25). Use the min_impurity_decrease parameter instead.\n",
      "  warnings.warn(\n",
      "c:\\Users\\EMMIE\\anaconda3\\lib\\site-packages\\sklearn\\tree\\_classes.py:316: FutureWarning: The min_impurity_split parameter is deprecated. Its default value has changed from 1e-7 to 0 in version 0.23, and it will be removed in 1.0 (renaming of 0.25). Use the min_impurity_decrease parameter instead.\n",
      "  warnings.warn(\n",
      "c:\\Users\\EMMIE\\anaconda3\\lib\\site-packages\\sklearn\\tree\\_classes.py:316: FutureWarning: The min_impurity_split parameter is deprecated. Its default value has changed from 1e-7 to 0 in version 0.23, and it will be removed in 1.0 (renaming of 0.25). Use the min_impurity_decrease parameter instead.\n",
      "  warnings.warn(\n",
      "c:\\Users\\EMMIE\\anaconda3\\lib\\site-packages\\sklearn\\tree\\_classes.py:316: FutureWarning: The min_impurity_split parameter is deprecated. Its default value has changed from 1e-7 to 0 in version 0.23, and it will be removed in 1.0 (renaming of 0.25). Use the min_impurity_decrease parameter instead.\n",
      "  warnings.warn(\n",
      "c:\\Users\\EMMIE\\anaconda3\\lib\\site-packages\\sklearn\\tree\\_classes.py:316: FutureWarning: The min_impurity_split parameter is deprecated. Its default value has changed from 1e-7 to 0 in version 0.23, and it will be removed in 1.0 (renaming of 0.25). Use the min_impurity_decrease parameter instead.\n",
      "  warnings.warn(\n",
      "c:\\Users\\EMMIE\\anaconda3\\lib\\site-packages\\sklearn\\tree\\_classes.py:316: FutureWarning: The min_impurity_split parameter is deprecated. Its default value has changed from 1e-7 to 0 in version 0.23, and it will be removed in 1.0 (renaming of 0.25). Use the min_impurity_decrease parameter instead.\n",
      "  warnings.warn(\n",
      "c:\\Users\\EMMIE\\anaconda3\\lib\\site-packages\\sklearn\\tree\\_classes.py:316: FutureWarning: The min_impurity_split parameter is deprecated. Its default value has changed from 1e-7 to 0 in version 0.23, and it will be removed in 1.0 (renaming of 0.25). Use the min_impurity_decrease parameter instead.\n",
      "  warnings.warn(\n",
      "c:\\Users\\EMMIE\\anaconda3\\lib\\site-packages\\sklearn\\tree\\_classes.py:316: FutureWarning: The min_impurity_split parameter is deprecated. Its default value has changed from 1e-7 to 0 in version 0.23, and it will be removed in 1.0 (renaming of 0.25). Use the min_impurity_decrease parameter instead.\n",
      "  warnings.warn(\n",
      "c:\\Users\\EMMIE\\anaconda3\\lib\\site-packages\\sklearn\\tree\\_classes.py:316: FutureWarning: The min_impurity_split parameter is deprecated. Its default value has changed from 1e-7 to 0 in version 0.23, and it will be removed in 1.0 (renaming of 0.25). Use the min_impurity_decrease parameter instead.\n",
      "  warnings.warn(\n",
      "c:\\Users\\EMMIE\\anaconda3\\lib\\site-packages\\sklearn\\tree\\_classes.py:316: FutureWarning: The min_impurity_split parameter is deprecated. Its default value has changed from 1e-7 to 0 in version 0.23, and it will be removed in 1.0 (renaming of 0.25). Use the min_impurity_decrease parameter instead.\n",
      "  warnings.warn(\n",
      "c:\\Users\\EMMIE\\anaconda3\\lib\\site-packages\\sklearn\\tree\\_classes.py:316: FutureWarning: The min_impurity_split parameter is deprecated. Its default value has changed from 1e-7 to 0 in version 0.23, and it will be removed in 1.0 (renaming of 0.25). Use the min_impurity_decrease parameter instead.\n",
      "  warnings.warn(\n",
      "c:\\Users\\EMMIE\\anaconda3\\lib\\site-packages\\sklearn\\tree\\_classes.py:316: FutureWarning: The min_impurity_split parameter is deprecated. Its default value has changed from 1e-7 to 0 in version 0.23, and it will be removed in 1.0 (renaming of 0.25). Use the min_impurity_decrease parameter instead.\n",
      "  warnings.warn(\n",
      "c:\\Users\\EMMIE\\anaconda3\\lib\\site-packages\\sklearn\\tree\\_classes.py:316: FutureWarning: The min_impurity_split parameter is deprecated. Its default value has changed from 1e-7 to 0 in version 0.23, and it will be removed in 1.0 (renaming of 0.25). Use the min_impurity_decrease parameter instead.\n",
      "  warnings.warn(\n",
      "c:\\Users\\EMMIE\\anaconda3\\lib\\site-packages\\sklearn\\tree\\_classes.py:316: FutureWarning: The min_impurity_split parameter is deprecated. Its default value has changed from 1e-7 to 0 in version 0.23, and it will be removed in 1.0 (renaming of 0.25). Use the min_impurity_decrease parameter instead.\n",
      "  warnings.warn(\n",
      "c:\\Users\\EMMIE\\anaconda3\\lib\\site-packages\\sklearn\\tree\\_classes.py:316: FutureWarning: The min_impurity_split parameter is deprecated. Its default value has changed from 1e-7 to 0 in version 0.23, and it will be removed in 1.0 (renaming of 0.25). Use the min_impurity_decrease parameter instead.\n",
      "  warnings.warn(\n",
      "c:\\Users\\EMMIE\\anaconda3\\lib\\site-packages\\sklearn\\tree\\_classes.py:316: FutureWarning: The min_impurity_split parameter is deprecated. Its default value has changed from 1e-7 to 0 in version 0.23, and it will be removed in 1.0 (renaming of 0.25). Use the min_impurity_decrease parameter instead.\n",
      "  warnings.warn(\n",
      "c:\\Users\\EMMIE\\anaconda3\\lib\\site-packages\\sklearn\\tree\\_classes.py:316: FutureWarning: The min_impurity_split parameter is deprecated. Its default value has changed from 1e-7 to 0 in version 0.23, and it will be removed in 1.0 (renaming of 0.25). Use the min_impurity_decrease parameter instead.\n",
      "  warnings.warn(\n",
      "c:\\Users\\EMMIE\\anaconda3\\lib\\site-packages\\sklearn\\tree\\_classes.py:316: FutureWarning: The min_impurity_split parameter is deprecated. Its default value has changed from 1e-7 to 0 in version 0.23, and it will be removed in 1.0 (renaming of 0.25). Use the min_impurity_decrease parameter instead.\n",
      "  warnings.warn(\n",
      "c:\\Users\\EMMIE\\anaconda3\\lib\\site-packages\\sklearn\\tree\\_classes.py:316: FutureWarning: The min_impurity_split parameter is deprecated. Its default value has changed from 1e-7 to 0 in version 0.23, and it will be removed in 1.0 (renaming of 0.25). Use the min_impurity_decrease parameter instead.\n",
      "  warnings.warn(\n",
      "c:\\Users\\EMMIE\\anaconda3\\lib\\site-packages\\sklearn\\tree\\_classes.py:316: FutureWarning: The min_impurity_split parameter is deprecated. Its default value has changed from 1e-7 to 0 in version 0.23, and it will be removed in 1.0 (renaming of 0.25). Use the min_impurity_decrease parameter instead.\n",
      "  warnings.warn(\n",
      "c:\\Users\\EMMIE\\anaconda3\\lib\\site-packages\\sklearn\\tree\\_classes.py:316: FutureWarning: The min_impurity_split parameter is deprecated. Its default value has changed from 1e-7 to 0 in version 0.23, and it will be removed in 1.0 (renaming of 0.25). Use the min_impurity_decrease parameter instead.\n",
      "  warnings.warn(\n",
      "c:\\Users\\EMMIE\\anaconda3\\lib\\site-packages\\sklearn\\tree\\_classes.py:316: FutureWarning: The min_impurity_split parameter is deprecated. Its default value has changed from 1e-7 to 0 in version 0.23, and it will be removed in 1.0 (renaming of 0.25). Use the min_impurity_decrease parameter instead.\n",
      "  warnings.warn(\n",
      "c:\\Users\\EMMIE\\anaconda3\\lib\\site-packages\\sklearn\\tree\\_classes.py:316: FutureWarning: The min_impurity_split parameter is deprecated. Its default value has changed from 1e-7 to 0 in version 0.23, and it will be removed in 1.0 (renaming of 0.25). Use the min_impurity_decrease parameter instead.\n",
      "  warnings.warn(\n",
      "c:\\Users\\EMMIE\\anaconda3\\lib\\site-packages\\sklearn\\tree\\_classes.py:316: FutureWarning: The min_impurity_split parameter is deprecated. Its default value has changed from 1e-7 to 0 in version 0.23, and it will be removed in 1.0 (renaming of 0.25). Use the min_impurity_decrease parameter instead.\n",
      "  warnings.warn(\n",
      "c:\\Users\\EMMIE\\anaconda3\\lib\\site-packages\\sklearn\\tree\\_classes.py:316: FutureWarning: The min_impurity_split parameter is deprecated. Its default value has changed from 1e-7 to 0 in version 0.23, and it will be removed in 1.0 (renaming of 0.25). Use the min_impurity_decrease parameter instead.\n",
      "  warnings.warn(\n",
      "c:\\Users\\EMMIE\\anaconda3\\lib\\site-packages\\sklearn\\tree\\_classes.py:316: FutureWarning: The min_impurity_split parameter is deprecated. Its default value has changed from 1e-7 to 0 in version 0.23, and it will be removed in 1.0 (renaming of 0.25). Use the min_impurity_decrease parameter instead.\n",
      "  warnings.warn(\n",
      "c:\\Users\\EMMIE\\anaconda3\\lib\\site-packages\\sklearn\\tree\\_classes.py:316: FutureWarning: The min_impurity_split parameter is deprecated. Its default value has changed from 1e-7 to 0 in version 0.23, and it will be removed in 1.0 (renaming of 0.25). Use the min_impurity_decrease parameter instead.\n",
      "  warnings.warn(\n",
      "c:\\Users\\EMMIE\\anaconda3\\lib\\site-packages\\sklearn\\tree\\_classes.py:316: FutureWarning: The min_impurity_split parameter is deprecated. Its default value has changed from 1e-7 to 0 in version 0.23, and it will be removed in 1.0 (renaming of 0.25). Use the min_impurity_decrease parameter instead.\n",
      "  warnings.warn(\n",
      "c:\\Users\\EMMIE\\anaconda3\\lib\\site-packages\\sklearn\\tree\\_classes.py:316: FutureWarning: The min_impurity_split parameter is deprecated. Its default value has changed from 1e-7 to 0 in version 0.23, and it will be removed in 1.0 (renaming of 0.25). Use the min_impurity_decrease parameter instead.\n",
      "  warnings.warn(\n"
     ]
    },
    {
     "name": "stdout",
     "output_type": "stream",
     "text": [
      "Fitting 10 folds for each of 10 candidates, totalling 100 fits\n"
     ]
    }
   ],
   "source": [
    "grid_ADA =TrainModelCV(ADA_model,10,X_train_scaler_transform,y_train)"
   ]
  },
  {
   "cell_type": "code",
   "execution_count": 364,
   "metadata": {},
   "outputs": [
    {
     "name": "stderr",
     "output_type": "stream",
     "text": [
      "c:\\Users\\EMMIE\\anaconda3\\lib\\site-packages\\sklearn\\metrics\\_classification.py:1248: UndefinedMetricWarning: Precision is ill-defined and being set to 0.0 due to no predicted samples. Use `zero_division` parameter to control this behavior.\n",
      "  _warn_prf(average, modifier, msg_start, len(result))\n",
      "c:\\Users\\EMMIE\\anaconda3\\lib\\site-packages\\sklearn\\metrics\\_classification.py:1248: UndefinedMetricWarning: Precision is ill-defined and being set to 0.0 due to no predicted samples. Use `zero_division` parameter to control this behavior.\n",
      "  _warn_prf(average, modifier, msg_start, len(result))\n"
     ]
    }
   ],
   "source": [
    "ADA_result = Result(grid_ADA,X_train_scaler_transform,y_train,X_test_scaler_transform,y_test)"
   ]
  },
  {
   "cell_type": "code",
   "execution_count": 365,
   "metadata": {},
   "outputs": [
    {
     "data": {
      "text/html": [
       "<div>\n",
       "<style scoped>\n",
       "    .dataframe tbody tr th:only-of-type {\n",
       "        vertical-align: middle;\n",
       "    }\n",
       "\n",
       "    .dataframe tbody tr th {\n",
       "        vertical-align: top;\n",
       "    }\n",
       "\n",
       "    .dataframe thead th {\n",
       "        text-align: right;\n",
       "    }\n",
       "</style>\n",
       "<table border=\"1\" class=\"dataframe\">\n",
       "  <thead>\n",
       "    <tr style=\"text-align: right;\">\n",
       "      <th></th>\n",
       "      <th>model_name</th>\n",
       "      <th>model_grid</th>\n",
       "      <th>model_best_parameter</th>\n",
       "      <th>accuracy_train</th>\n",
       "      <th>recall_train</th>\n",
       "      <th>precision_train</th>\n",
       "      <th>accuracy_test</th>\n",
       "      <th>recall_test</th>\n",
       "      <th>precision_test</th>\n",
       "    </tr>\n",
       "  </thead>\n",
       "  <tbody>\n",
       "    <tr>\n",
       "      <th>0</th>\n",
       "      <td>RandomForest</td>\n",
       "      <td>RandomizedSearchCV(cv=10, estimator=RandomFore...</td>\n",
       "      <td>{'random_state': 42, 'n_estimators': 1400, 'mi...</td>\n",
       "      <td>0.865282</td>\n",
       "      <td>0.628342</td>\n",
       "      <td>0.822397</td>\n",
       "      <td>0.812633</td>\n",
       "      <td>0.530831</td>\n",
       "      <td>0.689895</td>\n",
       "    </tr>\n",
       "    <tr>\n",
       "      <th>1</th>\n",
       "      <td>KNN</td>\n",
       "      <td>RandomizedSearchCV(cv=10, estimator=KNeighbors...</td>\n",
       "      <td>{'weights': 'uniform', 'p': 2, 'n_neighbors': ...</td>\n",
       "      <td>0.806709</td>\n",
       "      <td>0.562834</td>\n",
       "      <td>0.659358</td>\n",
       "      <td>0.812633</td>\n",
       "      <td>0.581769</td>\n",
       "      <td>0.667692</td>\n",
       "    </tr>\n",
       "    <tr>\n",
       "      <th>2</th>\n",
       "      <td>DecisionTree</td>\n",
       "      <td>RandomizedSearchCV(cv=10, estimator=DecisionTr...</td>\n",
       "      <td>{'random_state': 42, 'min_samples_split': 10, ...</td>\n",
       "      <td>0.846113</td>\n",
       "      <td>0.604947</td>\n",
       "      <td>0.766300</td>\n",
       "      <td>0.782825</td>\n",
       "      <td>0.455764</td>\n",
       "      <td>0.622711</td>\n",
       "    </tr>\n",
       "    <tr>\n",
       "      <th>3</th>\n",
       "      <td>SVC_scale</td>\n",
       "      <td>RandomizedSearchCV(cv=10, estimator=SVC(), n_j...</td>\n",
       "      <td>{'random_state': 42, 'kernel': 'linear', 'gamm...</td>\n",
       "      <td>0.797835</td>\n",
       "      <td>0.530080</td>\n",
       "      <td>0.645240</td>\n",
       "      <td>0.821859</td>\n",
       "      <td>0.595174</td>\n",
       "      <td>0.689441</td>\n",
       "    </tr>\n",
       "    <tr>\n",
       "      <th>4</th>\n",
       "      <td>BernoulliNB</td>\n",
       "      <td>RandomizedSearchCV(cv=10, estimator=BernoulliN...</td>\n",
       "      <td>{'alpha': 0.01}</td>\n",
       "      <td>0.722755</td>\n",
       "      <td>0.801471</td>\n",
       "      <td>0.486607</td>\n",
       "      <td>0.729595</td>\n",
       "      <td>0.831099</td>\n",
       "      <td>0.493631</td>\n",
       "    </tr>\n",
       "    <tr>\n",
       "      <th>5</th>\n",
       "      <td>LogisticRegression</td>\n",
       "      <td>RandomizedSearchCV(cv=10, estimator=LogisticRe...</td>\n",
       "      <td>{'solver': 'liblinear', 'random_state': 42, 'p...</td>\n",
       "      <td>0.803337</td>\n",
       "      <td>0.540107</td>\n",
       "      <td>0.657980</td>\n",
       "      <td>0.821150</td>\n",
       "      <td>0.600536</td>\n",
       "      <td>0.685015</td>\n",
       "    </tr>\n",
       "    <tr>\n",
       "      <th>6</th>\n",
       "      <td>Voting</td>\n",
       "      <td>RandomizedSearchCV(cv=10,\\n                   ...</td>\n",
       "      <td>{'voting': 'hard', 'n_jobs': -1}</td>\n",
       "      <td>0.820909</td>\n",
       "      <td>0.540107</td>\n",
       "      <td>0.715678</td>\n",
       "      <td>0.819730</td>\n",
       "      <td>0.538874</td>\n",
       "      <td>0.710247</td>\n",
       "    </tr>\n",
       "    <tr>\n",
       "      <th>7</th>\n",
       "      <td>BaggingKNN</td>\n",
       "      <td>RandomizedSearchCV(cv=10,\\n                   ...</td>\n",
       "      <td>{'warm_start': True, 'random_state': 42, 'oob_...</td>\n",
       "      <td>0.813099</td>\n",
       "      <td>0.559492</td>\n",
       "      <td>0.679935</td>\n",
       "      <td>0.814762</td>\n",
       "      <td>0.571046</td>\n",
       "      <td>0.678344</td>\n",
       "    </tr>\n",
       "    <tr>\n",
       "      <th>8</th>\n",
       "      <td>BaggingDecision</td>\n",
       "      <td>RandomizedSearchCV(cv=10,\\n                   ...</td>\n",
       "      <td>{'warm_start': True, 'random_state': 42, 'oob_...</td>\n",
       "      <td>0.734469</td>\n",
       "      <td>0.000000</td>\n",
       "      <td>0.000000</td>\n",
       "      <td>0.735273</td>\n",
       "      <td>0.000000</td>\n",
       "      <td>0.000000</td>\n",
       "    </tr>\n",
       "    <tr>\n",
       "      <th>9</th>\n",
       "      <td>BaggingBernoulliNB</td>\n",
       "      <td>RandomizedSearchCV(cv=10,\\n                   ...</td>\n",
       "      <td>{'warm_start': False, 'random_state': 42, 'oob...</td>\n",
       "      <td>0.723287</td>\n",
       "      <td>0.801471</td>\n",
       "      <td>0.487200</td>\n",
       "      <td>0.730305</td>\n",
       "      <td>0.831099</td>\n",
       "      <td>0.494418</td>\n",
       "    </tr>\n",
       "    <tr>\n",
       "      <th>10</th>\n",
       "      <td>ADADecision</td>\n",
       "      <td>RandomizedSearchCV(cv=10,\\n                   ...</td>\n",
       "      <td>{'random_state': 42, 'n_estimators': 100, 'lea...</td>\n",
       "      <td>0.734469</td>\n",
       "      <td>0.000000</td>\n",
       "      <td>0.000000</td>\n",
       "      <td>0.735273</td>\n",
       "      <td>0.000000</td>\n",
       "      <td>0.000000</td>\n",
       "    </tr>\n",
       "    <tr>\n",
       "      <th>11</th>\n",
       "      <td>ADABernoulliNB</td>\n",
       "      <td>RandomizedSearchCV(cv=10,\\n                   ...</td>\n",
       "      <td>{'random_state': 42, 'n_estimators': 100, 'lea...</td>\n",
       "      <td>0.789315</td>\n",
       "      <td>0.512701</td>\n",
       "      <td>0.626122</td>\n",
       "      <td>0.818311</td>\n",
       "      <td>0.584450</td>\n",
       "      <td>0.683386</td>\n",
       "    </tr>\n",
       "  </tbody>\n",
       "</table>\n",
       "</div>"
      ],
      "text/plain": [
       "            model_name                                         model_grid  \\\n",
       "0         RandomForest  RandomizedSearchCV(cv=10, estimator=RandomFore...   \n",
       "1                  KNN  RandomizedSearchCV(cv=10, estimator=KNeighbors...   \n",
       "2         DecisionTree  RandomizedSearchCV(cv=10, estimator=DecisionTr...   \n",
       "3            SVC_scale  RandomizedSearchCV(cv=10, estimator=SVC(), n_j...   \n",
       "4          BernoulliNB  RandomizedSearchCV(cv=10, estimator=BernoulliN...   \n",
       "5   LogisticRegression  RandomizedSearchCV(cv=10, estimator=LogisticRe...   \n",
       "6               Voting  RandomizedSearchCV(cv=10,\\n                   ...   \n",
       "7           BaggingKNN  RandomizedSearchCV(cv=10,\\n                   ...   \n",
       "8      BaggingDecision  RandomizedSearchCV(cv=10,\\n                   ...   \n",
       "9   BaggingBernoulliNB  RandomizedSearchCV(cv=10,\\n                   ...   \n",
       "10         ADADecision  RandomizedSearchCV(cv=10,\\n                   ...   \n",
       "11      ADABernoulliNB  RandomizedSearchCV(cv=10,\\n                   ...   \n",
       "\n",
       "                                 model_best_parameter  accuracy_train  \\\n",
       "0   {'random_state': 42, 'n_estimators': 1400, 'mi...        0.865282   \n",
       "1   {'weights': 'uniform', 'p': 2, 'n_neighbors': ...        0.806709   \n",
       "2   {'random_state': 42, 'min_samples_split': 10, ...        0.846113   \n",
       "3   {'random_state': 42, 'kernel': 'linear', 'gamm...        0.797835   \n",
       "4                                     {'alpha': 0.01}        0.722755   \n",
       "5   {'solver': 'liblinear', 'random_state': 42, 'p...        0.803337   \n",
       "6                    {'voting': 'hard', 'n_jobs': -1}        0.820909   \n",
       "7   {'warm_start': True, 'random_state': 42, 'oob_...        0.813099   \n",
       "8   {'warm_start': True, 'random_state': 42, 'oob_...        0.734469   \n",
       "9   {'warm_start': False, 'random_state': 42, 'oob...        0.723287   \n",
       "10  {'random_state': 42, 'n_estimators': 100, 'lea...        0.734469   \n",
       "11  {'random_state': 42, 'n_estimators': 100, 'lea...        0.789315   \n",
       "\n",
       "    recall_train  precision_train  accuracy_test  recall_test  precision_test  \n",
       "0       0.628342         0.822397       0.812633     0.530831        0.689895  \n",
       "1       0.562834         0.659358       0.812633     0.581769        0.667692  \n",
       "2       0.604947         0.766300       0.782825     0.455764        0.622711  \n",
       "3       0.530080         0.645240       0.821859     0.595174        0.689441  \n",
       "4       0.801471         0.486607       0.729595     0.831099        0.493631  \n",
       "5       0.540107         0.657980       0.821150     0.600536        0.685015  \n",
       "6       0.540107         0.715678       0.819730     0.538874        0.710247  \n",
       "7       0.559492         0.679935       0.814762     0.571046        0.678344  \n",
       "8       0.000000         0.000000       0.735273     0.000000        0.000000  \n",
       "9       0.801471         0.487200       0.730305     0.831099        0.494418  \n",
       "10      0.000000         0.000000       0.735273     0.000000        0.000000  \n",
       "11      0.512701         0.626122       0.818311     0.584450        0.683386  "
      ]
     },
     "execution_count": 365,
     "metadata": {},
     "output_type": "execute_result"
    }
   ],
   "source": [
    "result = result.append(ADA_result,ignore_index=True)\n",
    "result"
   ]
  },
  {
   "cell_type": "markdown",
   "metadata": {},
   "source": [
    "##  Gradient Boosting"
   ]
  },
  {
   "cell_type": "code",
   "execution_count": 366,
   "metadata": {},
   "outputs": [],
   "source": [
    "from sklearn.ensemble import GradientBoostingClassifier"
   ]
  },
  {
   "cell_type": "code",
   "execution_count": 367,
   "metadata": {},
   "outputs": [],
   "source": [
    "GBNB = GradientBoostingClassifier()\n",
    "\n"
   ]
  },
  {
   "cell_type": "code",
   "execution_count": 368,
   "metadata": {},
   "outputs": [],
   "source": [
    "GB_para ={\n",
    "    'learning_rate' : [1, 0.5, 0.25, 0.1, 0.05, 0.01],\n",
    "    'n_estimators' : [1, 2, 4, 8, 16, 32, 64, 100, 200],\n",
    "    'max_depth' : np.linspace(1, 32, 32, endpoint=True),\n",
    "    'min_samples_split' : np.linspace(0.1, 1.0, 10, endpoint=True),\n",
    "    'min_samples_leaf' : np.linspace(0.1, 0.5, 5, endpoint=True),\n",
    "    'max_features':['auto','sqrt','none','log2'],\n",
    "    'criterion':['friedman_mse','squared_error','mse'],\n",
    "    'random_state':[42]\n",
    "}"
   ]
  },
  {
   "cell_type": "code",
   "execution_count": 369,
   "metadata": {},
   "outputs": [],
   "source": [
    "GB_model = []\n",
    "GB_model.append(('GradientBoosting',GB_para,GBNB))"
   ]
  },
  {
   "cell_type": "code",
   "execution_count": 370,
   "metadata": {},
   "outputs": [
    {
     "name": "stdout",
     "output_type": "stream",
     "text": [
      "Fitting 10 folds for each of 10 candidates, totalling 100 fits\n"
     ]
    },
    {
     "name": "stderr",
     "output_type": "stream",
     "text": [
      "c:\\Users\\EMMIE\\anaconda3\\lib\\site-packages\\sklearn\\model_selection\\_search.py:922: UserWarning: One or more of the test scores are non-finite: [0.80262115        nan 0.7344696         nan        nan 0.7344696\n",
      "        nan 0.7344696         nan        nan]\n",
      "  warnings.warn(\n"
     ]
    }
   ],
   "source": [
    "grid_GB =TrainModelCV(GB_model,10,X_train_scaler_transform,y_train)"
   ]
  },
  {
   "cell_type": "code",
   "execution_count": 371,
   "metadata": {},
   "outputs": [],
   "source": [
    "GB_result = Result(grid_GB,X_train_scaler_transform,y_train,X_test_scaler_transform,y_test)"
   ]
  },
  {
   "cell_type": "code",
   "execution_count": 372,
   "metadata": {},
   "outputs": [
    {
     "data": {
      "text/html": [
       "<div>\n",
       "<style scoped>\n",
       "    .dataframe tbody tr th:only-of-type {\n",
       "        vertical-align: middle;\n",
       "    }\n",
       "\n",
       "    .dataframe tbody tr th {\n",
       "        vertical-align: top;\n",
       "    }\n",
       "\n",
       "    .dataframe thead th {\n",
       "        text-align: right;\n",
       "    }\n",
       "</style>\n",
       "<table border=\"1\" class=\"dataframe\">\n",
       "  <thead>\n",
       "    <tr style=\"text-align: right;\">\n",
       "      <th></th>\n",
       "      <th>model_name</th>\n",
       "      <th>model_grid</th>\n",
       "      <th>model_best_parameter</th>\n",
       "      <th>accuracy_train</th>\n",
       "      <th>recall_train</th>\n",
       "      <th>precision_train</th>\n",
       "      <th>accuracy_test</th>\n",
       "      <th>recall_test</th>\n",
       "      <th>precision_test</th>\n",
       "    </tr>\n",
       "  </thead>\n",
       "  <tbody>\n",
       "    <tr>\n",
       "      <th>0</th>\n",
       "      <td>RandomForest</td>\n",
       "      <td>RandomizedSearchCV(cv=10, estimator=RandomFore...</td>\n",
       "      <td>{'random_state': 42, 'n_estimators': 1400, 'mi...</td>\n",
       "      <td>0.865282</td>\n",
       "      <td>0.628342</td>\n",
       "      <td>0.822397</td>\n",
       "      <td>0.812633</td>\n",
       "      <td>0.530831</td>\n",
       "      <td>0.689895</td>\n",
       "    </tr>\n",
       "    <tr>\n",
       "      <th>1</th>\n",
       "      <td>KNN</td>\n",
       "      <td>RandomizedSearchCV(cv=10, estimator=KNeighbors...</td>\n",
       "      <td>{'weights': 'uniform', 'p': 2, 'n_neighbors': ...</td>\n",
       "      <td>0.806709</td>\n",
       "      <td>0.562834</td>\n",
       "      <td>0.659358</td>\n",
       "      <td>0.812633</td>\n",
       "      <td>0.581769</td>\n",
       "      <td>0.667692</td>\n",
       "    </tr>\n",
       "    <tr>\n",
       "      <th>2</th>\n",
       "      <td>DecisionTree</td>\n",
       "      <td>RandomizedSearchCV(cv=10, estimator=DecisionTr...</td>\n",
       "      <td>{'random_state': 42, 'min_samples_split': 10, ...</td>\n",
       "      <td>0.846113</td>\n",
       "      <td>0.604947</td>\n",
       "      <td>0.766300</td>\n",
       "      <td>0.782825</td>\n",
       "      <td>0.455764</td>\n",
       "      <td>0.622711</td>\n",
       "    </tr>\n",
       "    <tr>\n",
       "      <th>3</th>\n",
       "      <td>SVC_scale</td>\n",
       "      <td>RandomizedSearchCV(cv=10, estimator=SVC(), n_j...</td>\n",
       "      <td>{'random_state': 42, 'kernel': 'linear', 'gamm...</td>\n",
       "      <td>0.797835</td>\n",
       "      <td>0.530080</td>\n",
       "      <td>0.645240</td>\n",
       "      <td>0.821859</td>\n",
       "      <td>0.595174</td>\n",
       "      <td>0.689441</td>\n",
       "    </tr>\n",
       "    <tr>\n",
       "      <th>4</th>\n",
       "      <td>BernoulliNB</td>\n",
       "      <td>RandomizedSearchCV(cv=10, estimator=BernoulliN...</td>\n",
       "      <td>{'alpha': 0.01}</td>\n",
       "      <td>0.722755</td>\n",
       "      <td>0.801471</td>\n",
       "      <td>0.486607</td>\n",
       "      <td>0.729595</td>\n",
       "      <td>0.831099</td>\n",
       "      <td>0.493631</td>\n",
       "    </tr>\n",
       "    <tr>\n",
       "      <th>5</th>\n",
       "      <td>LogisticRegression</td>\n",
       "      <td>RandomizedSearchCV(cv=10, estimator=LogisticRe...</td>\n",
       "      <td>{'solver': 'liblinear', 'random_state': 42, 'p...</td>\n",
       "      <td>0.803337</td>\n",
       "      <td>0.540107</td>\n",
       "      <td>0.657980</td>\n",
       "      <td>0.821150</td>\n",
       "      <td>0.600536</td>\n",
       "      <td>0.685015</td>\n",
       "    </tr>\n",
       "    <tr>\n",
       "      <th>6</th>\n",
       "      <td>Voting</td>\n",
       "      <td>RandomizedSearchCV(cv=10,\\n                   ...</td>\n",
       "      <td>{'voting': 'hard', 'n_jobs': -1}</td>\n",
       "      <td>0.820909</td>\n",
       "      <td>0.540107</td>\n",
       "      <td>0.715678</td>\n",
       "      <td>0.819730</td>\n",
       "      <td>0.538874</td>\n",
       "      <td>0.710247</td>\n",
       "    </tr>\n",
       "    <tr>\n",
       "      <th>7</th>\n",
       "      <td>BaggingKNN</td>\n",
       "      <td>RandomizedSearchCV(cv=10,\\n                   ...</td>\n",
       "      <td>{'warm_start': True, 'random_state': 42, 'oob_...</td>\n",
       "      <td>0.813099</td>\n",
       "      <td>0.559492</td>\n",
       "      <td>0.679935</td>\n",
       "      <td>0.814762</td>\n",
       "      <td>0.571046</td>\n",
       "      <td>0.678344</td>\n",
       "    </tr>\n",
       "    <tr>\n",
       "      <th>8</th>\n",
       "      <td>BaggingDecision</td>\n",
       "      <td>RandomizedSearchCV(cv=10,\\n                   ...</td>\n",
       "      <td>{'warm_start': True, 'random_state': 42, 'oob_...</td>\n",
       "      <td>0.734469</td>\n",
       "      <td>0.000000</td>\n",
       "      <td>0.000000</td>\n",
       "      <td>0.735273</td>\n",
       "      <td>0.000000</td>\n",
       "      <td>0.000000</td>\n",
       "    </tr>\n",
       "    <tr>\n",
       "      <th>9</th>\n",
       "      <td>BaggingBernoulliNB</td>\n",
       "      <td>RandomizedSearchCV(cv=10,\\n                   ...</td>\n",
       "      <td>{'warm_start': False, 'random_state': 42, 'oob...</td>\n",
       "      <td>0.723287</td>\n",
       "      <td>0.801471</td>\n",
       "      <td>0.487200</td>\n",
       "      <td>0.730305</td>\n",
       "      <td>0.831099</td>\n",
       "      <td>0.494418</td>\n",
       "    </tr>\n",
       "    <tr>\n",
       "      <th>10</th>\n",
       "      <td>ADADecision</td>\n",
       "      <td>RandomizedSearchCV(cv=10,\\n                   ...</td>\n",
       "      <td>{'random_state': 42, 'n_estimators': 100, 'lea...</td>\n",
       "      <td>0.734469</td>\n",
       "      <td>0.000000</td>\n",
       "      <td>0.000000</td>\n",
       "      <td>0.735273</td>\n",
       "      <td>0.000000</td>\n",
       "      <td>0.000000</td>\n",
       "    </tr>\n",
       "    <tr>\n",
       "      <th>11</th>\n",
       "      <td>ADABernoulliNB</td>\n",
       "      <td>RandomizedSearchCV(cv=10,\\n                   ...</td>\n",
       "      <td>{'random_state': 42, 'n_estimators': 100, 'lea...</td>\n",
       "      <td>0.789315</td>\n",
       "      <td>0.512701</td>\n",
       "      <td>0.626122</td>\n",
       "      <td>0.818311</td>\n",
       "      <td>0.584450</td>\n",
       "      <td>0.683386</td>\n",
       "    </tr>\n",
       "    <tr>\n",
       "      <th>12</th>\n",
       "      <td>GradientBoosting</td>\n",
       "      <td>RandomizedSearchCV(cv=10, estimator=GradientBo...</td>\n",
       "      <td>{'random_state': 42, 'n_estimators': 200, 'min...</td>\n",
       "      <td>0.808129</td>\n",
       "      <td>0.536096</td>\n",
       "      <td>0.674516</td>\n",
       "      <td>0.810504</td>\n",
       "      <td>0.554960</td>\n",
       "      <td>0.672078</td>\n",
       "    </tr>\n",
       "  </tbody>\n",
       "</table>\n",
       "</div>"
      ],
      "text/plain": [
       "            model_name                                         model_grid  \\\n",
       "0         RandomForest  RandomizedSearchCV(cv=10, estimator=RandomFore...   \n",
       "1                  KNN  RandomizedSearchCV(cv=10, estimator=KNeighbors...   \n",
       "2         DecisionTree  RandomizedSearchCV(cv=10, estimator=DecisionTr...   \n",
       "3            SVC_scale  RandomizedSearchCV(cv=10, estimator=SVC(), n_j...   \n",
       "4          BernoulliNB  RandomizedSearchCV(cv=10, estimator=BernoulliN...   \n",
       "5   LogisticRegression  RandomizedSearchCV(cv=10, estimator=LogisticRe...   \n",
       "6               Voting  RandomizedSearchCV(cv=10,\\n                   ...   \n",
       "7           BaggingKNN  RandomizedSearchCV(cv=10,\\n                   ...   \n",
       "8      BaggingDecision  RandomizedSearchCV(cv=10,\\n                   ...   \n",
       "9   BaggingBernoulliNB  RandomizedSearchCV(cv=10,\\n                   ...   \n",
       "10         ADADecision  RandomizedSearchCV(cv=10,\\n                   ...   \n",
       "11      ADABernoulliNB  RandomizedSearchCV(cv=10,\\n                   ...   \n",
       "12    GradientBoosting  RandomizedSearchCV(cv=10, estimator=GradientBo...   \n",
       "\n",
       "                                 model_best_parameter  accuracy_train  \\\n",
       "0   {'random_state': 42, 'n_estimators': 1400, 'mi...        0.865282   \n",
       "1   {'weights': 'uniform', 'p': 2, 'n_neighbors': ...        0.806709   \n",
       "2   {'random_state': 42, 'min_samples_split': 10, ...        0.846113   \n",
       "3   {'random_state': 42, 'kernel': 'linear', 'gamm...        0.797835   \n",
       "4                                     {'alpha': 0.01}        0.722755   \n",
       "5   {'solver': 'liblinear', 'random_state': 42, 'p...        0.803337   \n",
       "6                    {'voting': 'hard', 'n_jobs': -1}        0.820909   \n",
       "7   {'warm_start': True, 'random_state': 42, 'oob_...        0.813099   \n",
       "8   {'warm_start': True, 'random_state': 42, 'oob_...        0.734469   \n",
       "9   {'warm_start': False, 'random_state': 42, 'oob...        0.723287   \n",
       "10  {'random_state': 42, 'n_estimators': 100, 'lea...        0.734469   \n",
       "11  {'random_state': 42, 'n_estimators': 100, 'lea...        0.789315   \n",
       "12  {'random_state': 42, 'n_estimators': 200, 'min...        0.808129   \n",
       "\n",
       "    recall_train  precision_train  accuracy_test  recall_test  precision_test  \n",
       "0       0.628342         0.822397       0.812633     0.530831        0.689895  \n",
       "1       0.562834         0.659358       0.812633     0.581769        0.667692  \n",
       "2       0.604947         0.766300       0.782825     0.455764        0.622711  \n",
       "3       0.530080         0.645240       0.821859     0.595174        0.689441  \n",
       "4       0.801471         0.486607       0.729595     0.831099        0.493631  \n",
       "5       0.540107         0.657980       0.821150     0.600536        0.685015  \n",
       "6       0.540107         0.715678       0.819730     0.538874        0.710247  \n",
       "7       0.559492         0.679935       0.814762     0.571046        0.678344  \n",
       "8       0.000000         0.000000       0.735273     0.000000        0.000000  \n",
       "9       0.801471         0.487200       0.730305     0.831099        0.494418  \n",
       "10      0.000000         0.000000       0.735273     0.000000        0.000000  \n",
       "11      0.512701         0.626122       0.818311     0.584450        0.683386  \n",
       "12      0.536096         0.674516       0.810504     0.554960        0.672078  "
      ]
     },
     "execution_count": 372,
     "metadata": {},
     "output_type": "execute_result"
    }
   ],
   "source": [
    "result = result.append(GB_result,ignore_index=True)\n",
    "result"
   ]
  },
  {
   "cell_type": "markdown",
   "metadata": {},
   "source": [
    "# Summary"
   ]
  },
  {
   "cell_type": "code",
   "execution_count": 373,
   "metadata": {},
   "outputs": [],
   "source": [
    "import seaborn as sns\n",
    "import matplotlib.pyplot as plt"
   ]
  },
  {
   "cell_type": "code",
   "execution_count": 374,
   "metadata": {},
   "outputs": [],
   "source": [
    "sum_col = result.columns[3::]"
   ]
  },
  {
   "cell_type": "code",
   "execution_count": 375,
   "metadata": {},
   "outputs": [
    {
     "data": {
      "image/png": "[encoded data removed]",
      "text/plain": [
       "<Figure size 640x480 with 1 Axes>"
      ]
     },
     "metadata": {},
     "output_type": "display_data"
    },
    {
     "data": {
      "image/png": "[encoded data removed]",
      "text/plain": [
       "<Figure size 640x480 with 1 Axes>"
      ]
     },
     "metadata": {},
     "output_type": "display_data"
    },
    {
     "data": {
      "image/png": "[encoded data removed]",
      "text/plain": [
       "<Figure size 640x480 with 1 Axes>"
      ]
     },
     "metadata": {},
     "output_type": "display_data"
    },
    {
     "data": {
      "image/png": "[encoded data removed]",
      "text/plain": [
       "<Figure size 640x480 with 1 Axes>"
      ]
     },
     "metadata": {},
     "output_type": "display_data"
    },
    {
     "data": {
      "image/png": "[encoded data removed]",
      "text/plain": [
       "<Figure size 640x480 with 1 Axes>"
      ]
     },
     "metadata": {},
     "output_type": "display_data"
    },
    {
     "data": {
      "image/png": "[encoded data removed]",
      "text/plain": [
       "<Figure size 640x480 with 1 Axes>"
      ]
     },
     "metadata": {},
     "output_type": "display_data"
    }
   ],
   "source": [
    "for col in sum_col:\n",
    "    plt.title(col)\n",
    "    sns.histplot(data=result.sort_values(by=col,ascending=False),y='model_name',x= col)\n",
    "    plt.show()"
   ]
  }
 ],
 "metadata": {
  "interpreter": {
   "hash": "4f7cf8a7d42fb54cf0c1bd71cf615db380e085e5bb100c7662268a5e829bce26"
  },
  "kernelspec": {
   "display_name": "Python 3.8.5 ('base')",
   "language": "python",
   "name": "python3"
  },
  "language_info": {
   "codemirror_mode": {
    "name": "ipython",
    "version": 3
   },
   "file_extension": ".py",
   "mimetype": "text/x-python",
   "name": "python",
   "nbconvert_exporter": "python",
   "pygments_lexer": "ipython3",
   "version": "3.8.5"
  },
  "orig_nbformat": 4
 },
 "nbformat": 4,
 "nbformat_minor": 2
}

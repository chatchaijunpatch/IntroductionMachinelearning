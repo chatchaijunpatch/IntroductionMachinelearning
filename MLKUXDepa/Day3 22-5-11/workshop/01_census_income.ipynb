{
  "cells": [
    {
      "cell_type": "markdown",
      "metadata": {
        "id": "iaPpn3NHyg-3"
      },
      "source": [
        "# import and open training"
      ]
    },
    {
      "cell_type": "code",
      "execution_count": 1,
      "metadata": {
        "id": "TJxHx6PeQMEk"
      },
      "outputs": [],
      "source": [
        "import pandas as pd"
      ]
    },
    {
      "cell_type": "code",
      "execution_count": 3,
      "metadata": {
        "id": "Z42GyyX9RXTP"
      },
      "outputs": [],
      "source": [
        "df=pd.read_csv('01-census-income.csv')"
      ]
    },
    {
      "cell_type": "code",
      "execution_count": 4,
      "metadata": {
        "colab": {
          "base_uri": "https://localhost:8080/",
          "height": 817
        },
        "id": "UEovQx0FSFQl",
        "outputId": "5b929c09-65a0-43f5-d663-5c8e61d7df76"
      },
      "outputs": [
        {
          "data": {
            "text/html": [
              "<div>\n",
              "<style scoped>\n",
              "    .dataframe tbody tr th:only-of-type {\n",
              "        vertical-align: middle;\n",
              "    }\n",
              "\n",
              "    .dataframe tbody tr th {\n",
              "        vertical-align: top;\n",
              "    }\n",
              "\n",
              "    .dataframe thead th {\n",
              "        text-align: right;\n",
              "    }\n",
              "</style>\n",
              "<table border=\"1\" class=\"dataframe\">\n",
              "  <thead>\n",
              "    <tr style=\"text-align: right;\">\n",
              "      <th></th>\n",
              "      <th>age</th>\n",
              "      <th>workclass</th>\n",
              "      <th>weight</th>\n",
              "      <th>education</th>\n",
              "      <th>edu num</th>\n",
              "      <th>marital status</th>\n",
              "      <th>occupation</th>\n",
              "      <th>relationship</th>\n",
              "      <th>race</th>\n",
              "      <th>sex</th>\n",
              "      <th>captial-gain</th>\n",
              "      <th>capital-loss</th>\n",
              "      <th>hours-per-week</th>\n",
              "      <th>native country</th>\n",
              "      <th>label</th>\n",
              "    </tr>\n",
              "  </thead>\n",
              "  <tbody>\n",
              "    <tr>\n",
              "      <th>0</th>\n",
              "      <td>39</td>\n",
              "      <td>State-gov</td>\n",
              "      <td>77516</td>\n",
              "      <td>Bachelors</td>\n",
              "      <td>13</td>\n",
              "      <td>Never-married</td>\n",
              "      <td>Adm-clerical</td>\n",
              "      <td>Not-in-family</td>\n",
              "      <td>White</td>\n",
              "      <td>Male</td>\n",
              "      <td>2174</td>\n",
              "      <td>0</td>\n",
              "      <td>40</td>\n",
              "      <td>United-States</td>\n",
              "      <td>No</td>\n",
              "    </tr>\n",
              "    <tr>\n",
              "      <th>1</th>\n",
              "      <td>37</td>\n",
              "      <td>Private</td>\n",
              "      <td>284582</td>\n",
              "      <td>Masters</td>\n",
              "      <td>14</td>\n",
              "      <td>Married-civ-spouse</td>\n",
              "      <td>Exec-managerial</td>\n",
              "      <td>Wife</td>\n",
              "      <td>White</td>\n",
              "      <td>Female</td>\n",
              "      <td>0</td>\n",
              "      <td>0</td>\n",
              "      <td>40</td>\n",
              "      <td>United-States</td>\n",
              "      <td>No</td>\n",
              "    </tr>\n",
              "    <tr>\n",
              "      <th>2</th>\n",
              "      <td>42</td>\n",
              "      <td>Private</td>\n",
              "      <td>159449</td>\n",
              "      <td>Bachelors</td>\n",
              "      <td>13</td>\n",
              "      <td>Married-civ-spouse</td>\n",
              "      <td>Exec-managerial</td>\n",
              "      <td>Husband</td>\n",
              "      <td>White</td>\n",
              "      <td>Male</td>\n",
              "      <td>5178</td>\n",
              "      <td>0</td>\n",
              "      <td>40</td>\n",
              "      <td>United-States</td>\n",
              "      <td>Yes</td>\n",
              "    </tr>\n",
              "    <tr>\n",
              "      <th>3</th>\n",
              "      <td>30</td>\n",
              "      <td>State-gov</td>\n",
              "      <td>141297</td>\n",
              "      <td>Bachelors</td>\n",
              "      <td>13</td>\n",
              "      <td>Married-civ-spouse</td>\n",
              "      <td>Prof-specialty</td>\n",
              "      <td>Husband</td>\n",
              "      <td>Asian-Pac-Islander</td>\n",
              "      <td>Male</td>\n",
              "      <td>0</td>\n",
              "      <td>0</td>\n",
              "      <td>40</td>\n",
              "      <td>India</td>\n",
              "      <td>Yes</td>\n",
              "    </tr>\n",
              "    <tr>\n",
              "      <th>4</th>\n",
              "      <td>40</td>\n",
              "      <td>Private</td>\n",
              "      <td>121772</td>\n",
              "      <td>Assoc-voc</td>\n",
              "      <td>11</td>\n",
              "      <td>Married-civ-spouse</td>\n",
              "      <td>Craft-repair</td>\n",
              "      <td>Husband</td>\n",
              "      <td>Asian-Pac-Islander</td>\n",
              "      <td>Male</td>\n",
              "      <td>0</td>\n",
              "      <td>0</td>\n",
              "      <td>40</td>\n",
              "      <td>?</td>\n",
              "      <td>Yes</td>\n",
              "    </tr>\n",
              "  </tbody>\n",
              "</table>\n",
              "</div>"
            ],
            "text/plain": [
              "   age   workclass  weight   education  edu num       marital status  \\\n",
              "0   39   State-gov   77516   Bachelors       13        Never-married   \n",
              "1   37     Private  284582     Masters       14   Married-civ-spouse   \n",
              "2   42     Private  159449   Bachelors       13   Married-civ-spouse   \n",
              "3   30   State-gov  141297   Bachelors       13   Married-civ-spouse   \n",
              "4   40     Private  121772   Assoc-voc       11   Married-civ-spouse   \n",
              "\n",
              "         occupation    relationship                 race      sex  \\\n",
              "0      Adm-clerical   Not-in-family                White     Male   \n",
              "1   Exec-managerial            Wife                White   Female   \n",
              "2   Exec-managerial         Husband                White     Male   \n",
              "3    Prof-specialty         Husband   Asian-Pac-Islander     Male   \n",
              "4      Craft-repair         Husband   Asian-Pac-Islander     Male   \n",
              "\n",
              "   captial-gain  capital-loss  hours-per-week  native country label  \n",
              "0          2174             0              40   United-States    No  \n",
              "1             0             0              40   United-States    No  \n",
              "2          5178             0              40   United-States   Yes  \n",
              "3             0             0              40           India   Yes  \n",
              "4             0             0              40               ?   Yes  "
            ]
          },
          "execution_count": 4,
          "metadata": {},
          "output_type": "execute_result"
        }
      ],
      "source": [
        "df.head()"
      ]
    },
    {
      "cell_type": "code",
      "execution_count": 5,
      "metadata": {
        "colab": {
          "base_uri": "https://localhost:8080/"
        },
        "id": "5J-ovGLYSH2u",
        "outputId": "28e30c33-d845-4d3f-cfd6-168d32066816"
      },
      "outputs": [
        {
          "data": {
            "text/plain": [
              "Index(['age', 'workclass', 'weight', 'education', 'edu num', 'marital status',\n",
              "       'occupation', 'relationship', 'race', 'sex', 'captial-gain',\n",
              "       'capital-loss', 'hours-per-week', 'native country', 'label'],\n",
              "      dtype='object')"
            ]
          },
          "execution_count": 5,
          "metadata": {},
          "output_type": "execute_result"
        }
      ],
      "source": [
        "df.columns"
      ]
    },
    {
      "cell_type": "markdown",
      "metadata": {},
      "source": [
        "<h2> แบ่ง columns กับ Feature </h2>"
      ]
    },
    {
      "cell_type": "code",
      "execution_count": 19,
      "metadata": {
        "colab": {
          "base_uri": "https://localhost:8080/"
        },
        "id": "1wxZ3PPYSfPN",
        "outputId": "4dcbf4b9-86d0-45f3-ee6c-8a0f6355acc7"
      },
      "outputs": [
        {
          "data": {
            "text/plain": [
              "0         No\n",
              "1         No\n",
              "2        Yes\n",
              "3        Yes\n",
              "4        Yes\n",
              "        ... \n",
              "33869     No\n",
              "33870     No\n",
              "33871     No\n",
              "33872     No\n",
              "33873    Yes\n",
              "Name: label, Length: 33874, dtype: object"
            ]
          },
          "execution_count": 19,
          "metadata": {},
          "output_type": "execute_result"
        }
      ],
      "source": [
        "y_train=df['label']\n",
        "y_train"
      ]
    },
    {
      "cell_type": "code",
      "execution_count": 20,
      "metadata": {
        "colab": {
          "base_uri": "https://localhost:8080/",
          "height": 424
        },
        "id": "gOZ_xEH4TiCb",
        "outputId": "088959f7-2585-4227-f01c-22aeb4c6a47e"
      },
      "outputs": [
        {
          "data": {
            "text/html": [
              "<div>\n",
              "<style scoped>\n",
              "    .dataframe tbody tr th:only-of-type {\n",
              "        vertical-align: middle;\n",
              "    }\n",
              "\n",
              "    .dataframe tbody tr th {\n",
              "        vertical-align: top;\n",
              "    }\n",
              "\n",
              "    .dataframe thead th {\n",
              "        text-align: right;\n",
              "    }\n",
              "</style>\n",
              "<table border=\"1\" class=\"dataframe\">\n",
              "  <thead>\n",
              "    <tr style=\"text-align: right;\">\n",
              "      <th></th>\n",
              "      <th>age</th>\n",
              "      <th>edu num</th>\n",
              "      <th>captial-gain</th>\n",
              "      <th>capital-loss</th>\n",
              "      <th>hours-per-week</th>\n",
              "    </tr>\n",
              "  </thead>\n",
              "  <tbody>\n",
              "    <tr>\n",
              "      <th>0</th>\n",
              "      <td>39</td>\n",
              "      <td>13</td>\n",
              "      <td>2174</td>\n",
              "      <td>0</td>\n",
              "      <td>40</td>\n",
              "    </tr>\n",
              "    <tr>\n",
              "      <th>1</th>\n",
              "      <td>37</td>\n",
              "      <td>14</td>\n",
              "      <td>0</td>\n",
              "      <td>0</td>\n",
              "      <td>40</td>\n",
              "    </tr>\n",
              "    <tr>\n",
              "      <th>2</th>\n",
              "      <td>42</td>\n",
              "      <td>13</td>\n",
              "      <td>5178</td>\n",
              "      <td>0</td>\n",
              "      <td>40</td>\n",
              "    </tr>\n",
              "    <tr>\n",
              "      <th>3</th>\n",
              "      <td>30</td>\n",
              "      <td>13</td>\n",
              "      <td>0</td>\n",
              "      <td>0</td>\n",
              "      <td>40</td>\n",
              "    </tr>\n",
              "    <tr>\n",
              "      <th>4</th>\n",
              "      <td>40</td>\n",
              "      <td>11</td>\n",
              "      <td>0</td>\n",
              "      <td>0</td>\n",
              "      <td>40</td>\n",
              "    </tr>\n",
              "    <tr>\n",
              "      <th>...</th>\n",
              "      <td>...</td>\n",
              "      <td>...</td>\n",
              "      <td>...</td>\n",
              "      <td>...</td>\n",
              "      <td>...</td>\n",
              "    </tr>\n",
              "    <tr>\n",
              "      <th>33869</th>\n",
              "      <td>33</td>\n",
              "      <td>13</td>\n",
              "      <td>0</td>\n",
              "      <td>0</td>\n",
              "      <td>40</td>\n",
              "    </tr>\n",
              "    <tr>\n",
              "      <th>33870</th>\n",
              "      <td>64</td>\n",
              "      <td>9</td>\n",
              "      <td>0</td>\n",
              "      <td>0</td>\n",
              "      <td>40</td>\n",
              "    </tr>\n",
              "    <tr>\n",
              "      <th>33871</th>\n",
              "      <td>38</td>\n",
              "      <td>13</td>\n",
              "      <td>0</td>\n",
              "      <td>0</td>\n",
              "      <td>50</td>\n",
              "    </tr>\n",
              "    <tr>\n",
              "      <th>33872</th>\n",
              "      <td>44</td>\n",
              "      <td>13</td>\n",
              "      <td>5455</td>\n",
              "      <td>0</td>\n",
              "      <td>40</td>\n",
              "    </tr>\n",
              "    <tr>\n",
              "      <th>33873</th>\n",
              "      <td>35</td>\n",
              "      <td>13</td>\n",
              "      <td>0</td>\n",
              "      <td>0</td>\n",
              "      <td>60</td>\n",
              "    </tr>\n",
              "  </tbody>\n",
              "</table>\n",
              "<p>33874 rows × 5 columns</p>\n",
              "</div>"
            ],
            "text/plain": [
              "       age  edu num  captial-gain  capital-loss  hours-per-week\n",
              "0       39       13          2174             0              40\n",
              "1       37       14             0             0              40\n",
              "2       42       13          5178             0              40\n",
              "3       30       13             0             0              40\n",
              "4       40       11             0             0              40\n",
              "...    ...      ...           ...           ...             ...\n",
              "33869   33       13             0             0              40\n",
              "33870   64        9             0             0              40\n",
              "33871   38       13             0             0              50\n",
              "33872   44       13          5455             0              40\n",
              "33873   35       13             0             0              60\n",
              "\n",
              "[33874 rows x 5 columns]"
            ]
          },
          "execution_count": 20,
          "metadata": {},
          "output_type": "execute_result"
        }
      ],
      "source": [
        "X_train=df[['age','edu num','captial-gain','capital-loss','hours-per-week']]\n",
        "X_train"
      ]
    },
    {
      "cell_type": "markdown",
      "metadata": {},
      "source": [
        "<p> select บาง columns เพื่อมา Train </p>"
      ]
    },
    {
      "cell_type": "markdown",
      "metadata": {
        "id": "ANB-dniSzRWK"
      },
      "source": [
        "# Knn model"
      ]
    },
    {
      "cell_type": "code",
      "execution_count": 27,
      "metadata": {
        "id": "bNXYI_FoUVVA"
      },
      "outputs": [],
      "source": [
        "from sklearn.neighbors import KNeighborsClassifier"
      ]
    },
    {
      "cell_type": "code",
      "execution_count": 28,
      "metadata": {
        "colab": {
          "base_uri": "https://localhost:8080/"
        },
        "id": "nHtN04EKtQPo",
        "outputId": "9e0fe3b1-96ae-4535-ce4c-e550f8c8393f"
      },
      "outputs": [
        {
          "data": {
            "text/plain": [
              "KNeighborsClassifier(n_neighbors=7)"
            ]
          },
          "execution_count": 28,
          "metadata": {},
          "output_type": "execute_result"
        }
      ],
      "source": [
        "knn=KNeighborsClassifier(n_neighbors=7)# สร้าง object\n",
        "knn.fit(X_train,y_train) #ให้เรียนรู้"
      ]
    },
    {
      "cell_type": "markdown",
      "metadata": {
        "id": "VnrEv2OPAC12"
      },
      "source": [
        "**predict โดยไม่สร้างตาราง**"
      ]
    },
    {
      "cell_type": "code",
      "execution_count": 29,
      "metadata": {
        "colab": {
          "base_uri": "https://localhost:8080/"
        },
        "id": "9nkM3lGauGVT",
        "outputId": "56f50f87-413b-4fa2-c2f2-70896cf06f32"
      },
      "outputs": [
        {
          "data": {
            "text/plain": [
              "array(['Yes', 'No'], dtype=object)"
            ]
          },
          "execution_count": 29,
          "metadata": {},
          "output_type": "execute_result"
        }
      ],
      "source": [
        "knn.predict([[45,16,0,0,60],\n",
        "             [24,16,0,0,40]])# ทำนาย 2 คน"
      ]
    },
    {
      "cell_type": "markdown",
      "metadata": {
        "id": "gF1Kwo1cAKsa"
      },
      "source": [
        "**predict โดยสร้างตาราง**"
      ]
    },
    {
      "cell_type": "code",
      "execution_count": 30,
      "metadata": {
        "colab": {
          "base_uri": "https://localhost:8080/",
          "height": 112
        },
        "id": "61vSIlmEwB4r",
        "outputId": "009ddfba-8730-411b-d17b-a565ceaa465b"
      },
      "outputs": [
        {
          "data": {
            "text/html": [
              "<div>\n",
              "<style scoped>\n",
              "    .dataframe tbody tr th:only-of-type {\n",
              "        vertical-align: middle;\n",
              "    }\n",
              "\n",
              "    .dataframe tbody tr th {\n",
              "        vertical-align: top;\n",
              "    }\n",
              "\n",
              "    .dataframe thead th {\n",
              "        text-align: right;\n",
              "    }\n",
              "</style>\n",
              "<table border=\"1\" class=\"dataframe\">\n",
              "  <thead>\n",
              "    <tr style=\"text-align: right;\">\n",
              "      <th></th>\n",
              "      <th>age</th>\n",
              "      <th>edu num</th>\n",
              "      <th>captial-gain</th>\n",
              "      <th>capital-loss</th>\n",
              "      <th>hours-per-week</th>\n",
              "    </tr>\n",
              "  </thead>\n",
              "  <tbody>\n",
              "    <tr>\n",
              "      <th>0</th>\n",
              "      <td>45</td>\n",
              "      <td>16</td>\n",
              "      <td>0</td>\n",
              "      <td>0</td>\n",
              "      <td>60</td>\n",
              "    </tr>\n",
              "    <tr>\n",
              "      <th>1</th>\n",
              "      <td>24</td>\n",
              "      <td>16</td>\n",
              "      <td>0</td>\n",
              "      <td>0</td>\n",
              "      <td>40</td>\n",
              "    </tr>\n",
              "  </tbody>\n",
              "</table>\n",
              "</div>"
            ],
            "text/plain": [
              "   age  edu num  captial-gain  capital-loss  hours-per-week\n",
              "0   45       16             0             0              60\n",
              "1   24       16             0             0              40"
            ]
          },
          "execution_count": 30,
          "metadata": {},
          "output_type": "execute_result"
        }
      ],
      "source": [
        "#แบบสร้างตาราง\n",
        "new_data=pd.DataFrame([[45,16,0,0,60],[24,16,0,0,40]],columns=X_train.columns)\n",
        "new_data"
      ]
    },
    {
      "cell_type": "code",
      "execution_count": 31,
      "metadata": {
        "colab": {
          "base_uri": "https://localhost:8080/"
        },
        "id": "WXgfwpJnwb9q",
        "outputId": "ccb9d78d-414e-4118-a3fa-977eb207a601"
      },
      "outputs": [
        {
          "data": {
            "text/plain": [
              "array(['Yes', 'No'], dtype=object)"
            ]
          },
          "execution_count": 31,
          "metadata": {},
          "output_type": "execute_result"
        }
      ],
      "source": [
        "knn.predict(new_data)"
      ]
    },
    {
      "cell_type": "markdown",
      "metadata": {},
      "source": [
        "**predict ของTest**"
      ]
    },
    {
      "cell_type": "code",
      "execution_count": 32,
      "metadata": {
        "colab": {
          "base_uri": "https://localhost:8080/"
        },
        "id": "_ThqQItwwXjf",
        "outputId": "cde24510-331c-4933-cd1c-c52532dc80e2"
      },
      "outputs": [
        {
          "data": {
            "text/plain": [
              "array(['No', 'No', 'Yes', ..., 'Yes', 'No', 'Yes'], dtype=object)"
            ]
          },
          "execution_count": 32,
          "metadata": {},
          "output_type": "execute_result"
        }
      ],
      "source": [
        "knn.predict(X_train) "
      ]
    },
    {
      "cell_type": "markdown",
      "metadata": {},
      "source": [
        "**predict ของTrain**"
      ]
    },
    {
      "cell_type": "markdown",
      "metadata": {
        "id": "zapcCLfz7KJ5"
      },
      "source": [
        "# score with train set"
      ]
    },
    {
      "cell_type": "code",
      "execution_count": 33,
      "metadata": {
        "colab": {
          "base_uri": "https://localhost:8080/"
        },
        "id": "gYxf9XUnw7Gf",
        "outputId": "bd5f6b48-f801-463b-b05d-c524961543bd"
      },
      "outputs": [
        {
          "data": {
            "text/plain": [
              "0.8510657141170219"
            ]
          },
          "execution_count": 33,
          "metadata": {},
          "output_type": "execute_result"
        }
      ],
      "source": [
        "knn.score(X_train,y_train) #คะแนนข้อมูลที่ train เอง"
      ]
    },
    {
      "cell_type": "markdown",
      "metadata": {
        "id": "hay9KS8Ty5Jj"
      },
      "source": [
        "# score with test set"
      ]
    },
    {
      "cell_type": "code",
      "execution_count": 34,
      "metadata": {
        "colab": {
          "base_uri": "https://localhost:8080/",
          "height": 800
        },
        "id": "yzseHoeDw9ym",
        "outputId": "aa10901b-1e3a-49be-be4c-6544ad327679"
      },
      "outputs": [
        {
          "data": {
            "text/html": [
              "<div>\n",
              "<style scoped>\n",
              "    .dataframe tbody tr th:only-of-type {\n",
              "        vertical-align: middle;\n",
              "    }\n",
              "\n",
              "    .dataframe tbody tr th {\n",
              "        vertical-align: top;\n",
              "    }\n",
              "\n",
              "    .dataframe thead th {\n",
              "        text-align: right;\n",
              "    }\n",
              "</style>\n",
              "<table border=\"1\" class=\"dataframe\">\n",
              "  <thead>\n",
              "    <tr style=\"text-align: right;\">\n",
              "      <th></th>\n",
              "      <th>age</th>\n",
              "      <th>workclass</th>\n",
              "      <th>weight</th>\n",
              "      <th>education</th>\n",
              "      <th>edu num</th>\n",
              "      <th>marital status</th>\n",
              "      <th>occupation</th>\n",
              "      <th>relationship</th>\n",
              "      <th>race</th>\n",
              "      <th>sex</th>\n",
              "      <th>captial-gain</th>\n",
              "      <th>capital-loss</th>\n",
              "      <th>hours-per-week</th>\n",
              "      <th>native country</th>\n",
              "      <th>label</th>\n",
              "    </tr>\n",
              "  </thead>\n",
              "  <tbody>\n",
              "    <tr>\n",
              "      <th>0</th>\n",
              "      <td>32</td>\n",
              "      <td>Private</td>\n",
              "      <td>241802</td>\n",
              "      <td>HS-grad</td>\n",
              "      <td>9</td>\n",
              "      <td>Married-civ-spouse</td>\n",
              "      <td>Other-service</td>\n",
              "      <td>Wife</td>\n",
              "      <td>Other</td>\n",
              "      <td>Female</td>\n",
              "      <td>0</td>\n",
              "      <td>0</td>\n",
              "      <td>40</td>\n",
              "      <td>United-States</td>\n",
              "      <td>No</td>\n",
              "    </tr>\n",
              "    <tr>\n",
              "      <th>1</th>\n",
              "      <td>81</td>\n",
              "      <td>Private</td>\n",
              "      <td>164416</td>\n",
              "      <td>Prof-school</td>\n",
              "      <td>15</td>\n",
              "      <td>Married-civ-spouse</td>\n",
              "      <td>Sales</td>\n",
              "      <td>Husband</td>\n",
              "      <td>White</td>\n",
              "      <td>Male</td>\n",
              "      <td>0</td>\n",
              "      <td>0</td>\n",
              "      <td>45</td>\n",
              "      <td>United-States</td>\n",
              "      <td>Yes</td>\n",
              "    </tr>\n",
              "    <tr>\n",
              "      <th>2</th>\n",
              "      <td>17</td>\n",
              "      <td>Self-emp-inc</td>\n",
              "      <td>181608</td>\n",
              "      <td>10th</td>\n",
              "      <td>6</td>\n",
              "      <td>Never-married</td>\n",
              "      <td>Sales</td>\n",
              "      <td>Own-child</td>\n",
              "      <td>White</td>\n",
              "      <td>Male</td>\n",
              "      <td>0</td>\n",
              "      <td>0</td>\n",
              "      <td>12</td>\n",
              "      <td>United-States</td>\n",
              "      <td>No</td>\n",
              "    </tr>\n",
              "    <tr>\n",
              "      <th>3</th>\n",
              "      <td>36</td>\n",
              "      <td>Private</td>\n",
              "      <td>289223</td>\n",
              "      <td>Some-college</td>\n",
              "      <td>10</td>\n",
              "      <td>Married-civ-spouse</td>\n",
              "      <td>Adm-clerical</td>\n",
              "      <td>Wife</td>\n",
              "      <td>White</td>\n",
              "      <td>Female</td>\n",
              "      <td>0</td>\n",
              "      <td>1848</td>\n",
              "      <td>40</td>\n",
              "      <td>United-States</td>\n",
              "      <td>Yes</td>\n",
              "    </tr>\n",
              "    <tr>\n",
              "      <th>4</th>\n",
              "      <td>54</td>\n",
              "      <td>Private</td>\n",
              "      <td>351760</td>\n",
              "      <td>Some-college</td>\n",
              "      <td>10</td>\n",
              "      <td>Divorced</td>\n",
              "      <td>Adm-clerical</td>\n",
              "      <td>Not-in-family</td>\n",
              "      <td>White</td>\n",
              "      <td>Female</td>\n",
              "      <td>0</td>\n",
              "      <td>0</td>\n",
              "      <td>35</td>\n",
              "      <td>United-States</td>\n",
              "      <td>No</td>\n",
              "    </tr>\n",
              "  </tbody>\n",
              "</table>\n",
              "</div>"
            ],
            "text/plain": [
              "   age      workclass  weight      education  edu num       marital status  \\\n",
              "0   32        Private  241802        HS-grad        9   Married-civ-spouse   \n",
              "1   81        Private  164416    Prof-school       15   Married-civ-spouse   \n",
              "2   17   Self-emp-inc  181608           10th        6        Never-married   \n",
              "3   36        Private  289223   Some-college       10   Married-civ-spouse   \n",
              "4   54        Private  351760   Some-college       10             Divorced   \n",
              "\n",
              "       occupation    relationship    race      sex  captial-gain  \\\n",
              "0   Other-service            Wife   Other   Female             0   \n",
              "1           Sales         Husband   White     Male             0   \n",
              "2           Sales       Own-child   White     Male             0   \n",
              "3    Adm-clerical            Wife   White   Female             0   \n",
              "4    Adm-clerical   Not-in-family   White   Female             0   \n",
              "\n",
              "   capital-loss  hours-per-week  native country label  \n",
              "0             0              40   United-States    No  \n",
              "1             0              45   United-States   Yes  \n",
              "2             0              12   United-States    No  \n",
              "3          1848              40   United-States   Yes  \n",
              "4             0              35   United-States    No  "
            ]
          },
          "execution_count": 34,
          "metadata": {},
          "output_type": "execute_result"
        }
      ],
      "source": [
        "# unseen เอาไว้ใช้ครั้งสุดท้ายครั้งเดียว\n",
        "df2=pd.read_csv('02-future-census.csv')\n",
        "df2.head()"
      ]
    },
    {
      "cell_type": "code",
      "execution_count": 35,
      "metadata": {
        "colab": {
          "base_uri": "https://localhost:8080/",
          "height": 424
        },
        "id": "SWVKk35dxr5D",
        "outputId": "da0449a4-3af6-40ac-a99a-57353804623a"
      },
      "outputs": [
        {
          "data": {
            "text/html": [
              "<div>\n",
              "<style scoped>\n",
              "    .dataframe tbody tr th:only-of-type {\n",
              "        vertical-align: middle;\n",
              "    }\n",
              "\n",
              "    .dataframe tbody tr th {\n",
              "        vertical-align: top;\n",
              "    }\n",
              "\n",
              "    .dataframe thead th {\n",
              "        text-align: right;\n",
              "    }\n",
              "</style>\n",
              "<table border=\"1\" class=\"dataframe\">\n",
              "  <thead>\n",
              "    <tr style=\"text-align: right;\">\n",
              "      <th></th>\n",
              "      <th>age</th>\n",
              "      <th>edu num</th>\n",
              "      <th>captial-gain</th>\n",
              "      <th>capital-loss</th>\n",
              "      <th>hours-per-week</th>\n",
              "    </tr>\n",
              "  </thead>\n",
              "  <tbody>\n",
              "    <tr>\n",
              "      <th>0</th>\n",
              "      <td>32</td>\n",
              "      <td>9</td>\n",
              "      <td>0</td>\n",
              "      <td>0</td>\n",
              "      <td>40</td>\n",
              "    </tr>\n",
              "    <tr>\n",
              "      <th>1</th>\n",
              "      <td>81</td>\n",
              "      <td>15</td>\n",
              "      <td>0</td>\n",
              "      <td>0</td>\n",
              "      <td>45</td>\n",
              "    </tr>\n",
              "    <tr>\n",
              "      <th>2</th>\n",
              "      <td>17</td>\n",
              "      <td>6</td>\n",
              "      <td>0</td>\n",
              "      <td>0</td>\n",
              "      <td>12</td>\n",
              "    </tr>\n",
              "    <tr>\n",
              "      <th>3</th>\n",
              "      <td>36</td>\n",
              "      <td>10</td>\n",
              "      <td>0</td>\n",
              "      <td>1848</td>\n",
              "      <td>40</td>\n",
              "    </tr>\n",
              "    <tr>\n",
              "      <th>4</th>\n",
              "      <td>54</td>\n",
              "      <td>10</td>\n",
              "      <td>0</td>\n",
              "      <td>0</td>\n",
              "      <td>35</td>\n",
              "    </tr>\n",
              "    <tr>\n",
              "      <th>...</th>\n",
              "      <td>...</td>\n",
              "      <td>...</td>\n",
              "      <td>...</td>\n",
              "      <td>...</td>\n",
              "      <td>...</td>\n",
              "    </tr>\n",
              "    <tr>\n",
              "      <th>9763</th>\n",
              "      <td>48</td>\n",
              "      <td>9</td>\n",
              "      <td>0</td>\n",
              "      <td>0</td>\n",
              "      <td>40</td>\n",
              "    </tr>\n",
              "    <tr>\n",
              "      <th>9764</th>\n",
              "      <td>21</td>\n",
              "      <td>10</td>\n",
              "      <td>2174</td>\n",
              "      <td>0</td>\n",
              "      <td>40</td>\n",
              "    </tr>\n",
              "    <tr>\n",
              "      <th>9765</th>\n",
              "      <td>57</td>\n",
              "      <td>9</td>\n",
              "      <td>0</td>\n",
              "      <td>0</td>\n",
              "      <td>60</td>\n",
              "    </tr>\n",
              "    <tr>\n",
              "      <th>9766</th>\n",
              "      <td>52</td>\n",
              "      <td>2</td>\n",
              "      <td>0</td>\n",
              "      <td>0</td>\n",
              "      <td>50</td>\n",
              "    </tr>\n",
              "    <tr>\n",
              "      <th>9767</th>\n",
              "      <td>40</td>\n",
              "      <td>12</td>\n",
              "      <td>0</td>\n",
              "      <td>0</td>\n",
              "      <td>40</td>\n",
              "    </tr>\n",
              "  </tbody>\n",
              "</table>\n",
              "<p>9768 rows × 5 columns</p>\n",
              "</div>"
            ],
            "text/plain": [
              "      age  edu num  captial-gain  capital-loss  hours-per-week\n",
              "0      32        9             0             0              40\n",
              "1      81       15             0             0              45\n",
              "2      17        6             0             0              12\n",
              "3      36       10             0          1848              40\n",
              "4      54       10             0             0              35\n",
              "...   ...      ...           ...           ...             ...\n",
              "9763   48        9             0             0              40\n",
              "9764   21       10          2174             0              40\n",
              "9765   57        9             0             0              60\n",
              "9766   52        2             0             0              50\n",
              "9767   40       12             0             0              40\n",
              "\n",
              "[9768 rows x 5 columns]"
            ]
          },
          "execution_count": 35,
          "metadata": {},
          "output_type": "execute_result"
        }
      ],
      "source": [
        "X_test=df2[['age','edu num','captial-gain','capital-loss','hours-per-week']]\n",
        "X_test"
      ]
    },
    {
      "cell_type": "markdown",
      "metadata": {},
      "source": [
        "**Select บาง columns**"
      ]
    },
    {
      "cell_type": "code",
      "execution_count": 36,
      "metadata": {
        "colab": {
          "base_uri": "https://localhost:8080/"
        },
        "id": "diLpuMw0yBAk",
        "outputId": "9106f463-c8d9-478d-d287-ebbbd8420d55"
      },
      "outputs": [
        {
          "data": {
            "text/plain": [
              "0        No\n",
              "1       Yes\n",
              "2        No\n",
              "3       Yes\n",
              "4        No\n",
              "       ... \n",
              "9763     No\n",
              "9764     No\n",
              "9765    Yes\n",
              "9766    Yes\n",
              "9767     No\n",
              "Name: label, Length: 9768, dtype: object"
            ]
          },
          "execution_count": 36,
          "metadata": {},
          "output_type": "execute_result"
        }
      ],
      "source": [
        "y_test=df2['label']\n",
        "y_test"
      ]
    },
    {
      "cell_type": "code",
      "execution_count": 37,
      "metadata": {
        "colab": {
          "base_uri": "https://localhost:8080/"
        },
        "id": "07VQKA1tyHjj",
        "outputId": "84eaf6b7-097e-4eaa-f870-07423b64b7b0"
      },
      "outputs": [
        {
          "data": {
            "text/plain": [
              "0.8279074529074529"
            ]
          },
          "execution_count": 37,
          "metadata": {},
          "output_type": "execute_result"
        }
      ],
      "source": [
        "knn.score(X_test,y_test)# test"
      ]
    },
    {
      "cell_type": "markdown",
      "metadata": {
        "id": "37BqfBfUzZOW"
      },
      "source": [
        "# train test split - กรณีที่มี File เดียว"
      ]
    },
    {
      "cell_type": "code",
      "execution_count": 39,
      "metadata": {
        "id": "6f47l80cyQFe"
      },
      "outputs": [],
      "source": [
        "from sklearn.model_selection import train_test_split"
      ]
    },
    {
      "cell_type": "code",
      "execution_count": 40,
      "metadata": {
        "id": "y7KXU6uszl7U"
      },
      "outputs": [],
      "source": [
        "X_train, X_test, y_train, y_test = train_test_split(X_train,y_train,test_size=0.2)"
      ]
    },
    {
      "cell_type": "code",
      "execution_count": 41,
      "metadata": {
        "id": "29dHBXik0bx5"
      },
      "outputs": [],
      "source": [
        "knn2=KNeighborsClassifier(n_neighbors=29)"
      ]
    },
    {
      "cell_type": "markdown",
      "metadata": {},
      "source": [
        "<h2> Train </h2>"
      ]
    },
    {
      "cell_type": "code",
      "execution_count": 42,
      "metadata": {
        "colab": {
          "base_uri": "https://localhost:8080/"
        },
        "id": "zyzYeXTf0mTT",
        "outputId": "9fae5abf-fefc-4ac1-d37a-63c99248265e"
      },
      "outputs": [
        {
          "data": {
            "text/plain": [
              "KNeighborsClassifier(n_neighbors=29)"
            ]
          },
          "execution_count": 42,
          "metadata": {},
          "output_type": "execute_result"
        }
      ],
      "source": [
        "knn2.fit(X_train, y_train)"
      ]
    },
    {
      "cell_type": "code",
      "execution_count": 43,
      "metadata": {
        "colab": {
          "base_uri": "https://localhost:8080/"
        },
        "id": "ktowUY3601Xt",
        "outputId": "9284e5cd-7b5b-45de-a6ff-7e92da601467"
      },
      "outputs": [
        {
          "data": {
            "text/plain": [
              "0.8456769622495295"
            ]
          },
          "execution_count": 43,
          "metadata": {},
          "output_type": "execute_result"
        }
      ],
      "source": [
        "knn2.score(X_train,y_train)"
      ]
    },
    {
      "cell_type": "markdown",
      "metadata": {},
      "source": [
        "<h2> Test"
      ]
    },
    {
      "cell_type": "code",
      "execution_count": 44,
      "metadata": {
        "colab": {
          "base_uri": "https://localhost:8080/"
        },
        "id": "0Ou1NNVi0sJA",
        "outputId": "f24681fc-2ba6-462b-aeae-8797ce9b5a6d"
      },
      "outputs": [
        {
          "data": {
            "text/plain": [
              "0.8348339483394834"
            ]
          },
          "execution_count": 44,
          "metadata": {},
          "output_type": "execute_result"
        }
      ],
      "source": [
        "knn2.score(X_test,y_test)#ปรับให้เปอร์เซ็นของชุด train test ใกล้เคียงกัน"
      ]
    },
    {
      "cell_type": "markdown",
      "metadata": {
        "id": "dg0__8_j1qsc"
      },
      "source": [
        "<h2> retrain with all data </h2>"
      ]
    },
    {
      "cell_type": "code",
      "execution_count": 45,
      "metadata": {
        "colab": {
          "base_uri": "https://localhost:8080/"
        },
        "id": "YvVtRzKJ0x95",
        "outputId": "c42e8ac4-bc50-4063-86b9-b58c60a41c11"
      },
      "outputs": [
        {
          "data": {
            "text/plain": [
              "KNeighborsClassifier(n_neighbors=29)"
            ]
          },
          "execution_count": 45,
          "metadata": {},
          "output_type": "execute_result"
        }
      ],
      "source": [
        "knn2.fit(X_train,y_train)"
      ]
    },
    {
      "cell_type": "code",
      "execution_count": 46,
      "metadata": {
        "colab": {
          "base_uri": "https://localhost:8080/"
        },
        "id": "tVGrQvfI1x6S",
        "outputId": "9a669229-612c-47b2-e05e-874607234dfb"
      },
      "outputs": [
        {
          "data": {
            "text/plain": [
              "0.8456769622495295"
            ]
          },
          "execution_count": 46,
          "metadata": {},
          "output_type": "execute_result"
        }
      ],
      "source": [
        "knn2.score(X_train,y_train)"
      ]
    },
    {
      "cell_type": "code",
      "execution_count": 47,
      "metadata": {
        "colab": {
          "base_uri": "https://localhost:8080/"
        },
        "id": "45AjRPLQ11fk",
        "outputId": "30c836f0-05fb-4936-a607-981db2c11c68"
      },
      "outputs": [
        {
          "data": {
            "text/plain": [
              "0.8348339483394834"
            ]
          },
          "execution_count": 47,
          "metadata": {},
          "output_type": "execute_result"
        }
      ],
      "source": [
        "knn2.score(X_test,y_test)"
      ]
    },
    {
      "cell_type": "markdown",
      "metadata": {},
      "source": [
        "**ไม่ดีเพราะการทำแบบนี้การเรียนรู้จะไม่ได้พัฒนามาก**"
      ]
    },
    {
      "cell_type": "markdown",
      "metadata": {
        "id": "gi4-BILg4lfy"
      },
      "source": [
        "# cross-validation "
      ]
    },
    {
      "cell_type": "markdown",
      "metadata": {},
      "source": [
        "**เอาข้อมูลชุด Train แบ่งเป็น K ส่วน เพื่อ สร้าง model มา K ตัว และ Train**"
      ]
    },
    {
      "cell_type": "markdown",
      "metadata": {},
      "source": [
        "## แบบปกติ ไม่มีการ Cross "
      ]
    },
    {
      "cell_type": "code",
      "execution_count": 48,
      "metadata": {
        "colab": {
          "base_uri": "https://localhost:8080/"
        },
        "id": "gMvEc3L-18yl",
        "outputId": "b43dbc32-2807-40aa-e291-ff54a0082c4f"
      },
      "outputs": [
        {
          "data": {
            "text/plain": [
              "0.8441348770699756"
            ]
          },
          "execution_count": 48,
          "metadata": {},
          "output_type": "execute_result"
        }
      ],
      "source": [
        "#เพื่อสร้างโมเดลที่กำหนดค่า hyperparameter\n",
        "X_train, X_test, y_train, y_test = train_test_split(X_train,y_train,test_size=0.2)\n",
        "knn3=KNeighborsClassifier(n_neighbors=29)\n",
        "knn3.fit(X_train,y_train)\n",
        "knn3.score(X_train, y_train)"
      ]
    },
    {
      "cell_type": "markdown",
      "metadata": {},
      "source": [
        "**Score Train**"
      ]
    },
    {
      "cell_type": "code",
      "execution_count": 49,
      "metadata": {
        "colab": {
          "base_uri": "https://localhost:8080/"
        },
        "id": "vBk1tzIf5DPI",
        "outputId": "78eee12d-4f9b-4532-d115-22397ab485a5"
      },
      "outputs": [
        {
          "data": {
            "text/plain": [
              "0.8352398523985239"
            ]
          },
          "execution_count": 49,
          "metadata": {},
          "output_type": "execute_result"
        }
      ],
      "source": [
        "knn3.score(X_test,y_test)"
      ]
    },
    {
      "cell_type": "markdown",
      "metadata": {},
      "source": [
        "**Score Test**"
      ]
    },
    {
      "cell_type": "markdown",
      "metadata": {},
      "source": [
        "## แบบ Cross validation"
      ]
    },
    {
      "cell_type": "code",
      "execution_count": 58,
      "metadata": {
        "id": "xkG3R6ha5JlH"
      },
      "outputs": [],
      "source": [
        "from sklearn.model_selection import cross_val_score"
      ]
    },
    {
      "cell_type": "code",
      "execution_count": 59,
      "metadata": {
        "id": "dNCsH_Bg51gt"
      },
      "outputs": [],
      "source": [
        "knn_cv = KNeighborsClassifier(n_neighbors=29)"
      ]
    },
    {
      "cell_type": "code",
      "execution_count": 60,
      "metadata": {
        "id": "-nGtMXO86Kj-"
      },
      "outputs": [],
      "source": [
        "knn_29_cv_result=cross_val_score( knn_cv, X_train, y_train, cv=10)# ทำ 10 รอบ"
      ]
    },
    {
      "cell_type": "code",
      "execution_count": 61,
      "metadata": {
        "colab": {
          "base_uri": "https://localhost:8080/"
        },
        "id": "CZvgIWPQ6m98",
        "outputId": "f60aac4e-c2a7-4de1-e92d-8c55bbfe2490"
      },
      "outputs": [
        {
          "data": {
            "text/plain": [
              "array([0.84132841, 0.84086716, 0.84132841, 0.8404059 , 0.82333948,\n",
              "       0.83210332, 0.82979705, 0.83902214, 0.83394834, 0.83710198])"
            ]
          },
          "execution_count": 61,
          "metadata": {},
          "output_type": "execute_result"
        }
      ],
      "source": [
        "knn_29_cv_result"
      ]
    },
    {
      "cell_type": "code",
      "execution_count": 62,
      "metadata": {
        "colab": {
          "base_uri": "https://localhost:8080/"
        },
        "id": "NHf92DBc6235",
        "outputId": "7d643938-d722-4556-fa81-d7679e64ce1a"
      },
      "outputs": [
        {
          "data": {
            "text/plain": [
              "0.8359242205712321"
            ]
          },
          "execution_count": 62,
          "metadata": {},
          "output_type": "execute_result"
        }
      ],
      "source": [
        "knn_29_cv_result.mean()# หาค่าเฉลี่ย"
      ]
    },
    {
      "cell_type": "markdown",
      "metadata": {},
      "source": [
        "**เปลี่ยนค่า พารามิเตอร์**"
      ]
    },
    {
      "cell_type": "code",
      "execution_count": 63,
      "metadata": {
        "colab": {
          "base_uri": "https://localhost:8080/"
        },
        "id": "dxl8Yjrx6_X-",
        "outputId": "6d54ccf1-464c-4edb-c6e0-ef2ae89a249a"
      },
      "outputs": [
        {
          "data": {
            "text/plain": [
              "array([0.83763838, 0.83717712, 0.84271218, 0.83994465, 0.82564576,\n",
              "       0.82979705, 0.83071956, 0.83809963, 0.82564576, 0.83617905])"
            ]
          },
          "execution_count": 63,
          "metadata": {},
          "output_type": "execute_result"
        }
      ],
      "source": [
        "knn_cv = KNeighborsClassifier(n_neighbors=35) # ทำเพื่อเช็ค\n",
        "knn_35_cv_result=cross_val_score( knn_cv, X_train, y_train, cv=10)\n",
        "knn_35_cv_result"
      ]
    },
    {
      "cell_type": "code",
      "execution_count": 64,
      "metadata": {
        "colab": {
          "base_uri": "https://localhost:8080/"
        },
        "id": "zxrVu94j7e1R",
        "outputId": "4fd6b194-98d1-448d-911d-6e5064c33fd3"
      },
      "outputs": [
        {
          "data": {
            "text/plain": [
              "0.8343559123177757"
            ]
          },
          "execution_count": 64,
          "metadata": {},
          "output_type": "execute_result"
        }
      ],
      "source": [
        "knn_35_cv_result.mean()"
      ]
    },
    {
      "cell_type": "markdown",
      "metadata": {},
      "source": [
        "**ไม่สามารถ run ค่า K-nn หลายๆค่าได้ (ต้องเปลี่ยนหลายรอบทำให้เปลืองพื้นที่)**"
      ]
    },
    {
      "cell_type": "markdown",
      "metadata": {
        "id": "8PYd8RLY86en"
      },
      "source": [
        "# GridSearchCV"
      ]
    },
    {
      "cell_type": "code",
      "execution_count": 65,
      "metadata": {
        "id": "JDw9Oc597n0P"
      },
      "outputs": [],
      "source": [
        "#ทำเพื่อไม่ต้องเปลี่ยนค่า k เอง\n",
        "from sklearn.model_selection import GridSearchCV"
      ]
    },
    {
      "cell_type": "code",
      "execution_count": 67,
      "metadata": {
        "id": "UtE2jgbK9k_-"
      },
      "outputs": [],
      "source": [
        "knn_grid_search = KNeighborsClassifier()"
      ]
    },
    {
      "cell_type": "code",
      "execution_count": 68,
      "metadata": {
        "id": "ylv-JPZa-ApI"
      },
      "outputs": [],
      "source": [
        "parameter_grid={'n_neighbors':[15,17,19,21,23,25,27,29,31,35]} #dic ที่เก็บค่าที่จะปรับเรื่อยๆ"
      ]
    },
    {
      "cell_type": "code",
      "execution_count": 69,
      "metadata": {
        "id": "uaTPOTed9tMj"
      },
      "outputs": [],
      "source": [
        "grid_search= GridSearchCV(knn_grid_search, parameter_grid,cv=10)"
      ]
    },
    {
      "cell_type": "code",
      "execution_count": 70,
      "metadata": {
        "colab": {
          "base_uri": "https://localhost:8080/"
        },
        "id": "PEZ30juO-0VM",
        "outputId": "6f1b3d5e-46af-45ea-c753-1b338475d047"
      },
      "outputs": [
        {
          "data": {
            "text/plain": [
              "GridSearchCV(cv=10, estimator=KNeighborsClassifier(),\n",
              "             param_grid={'n_neighbors': [15, 17, 19, 21, 23, 25, 27, 29, 31,\n",
              "                                         35]})"
            ]
          },
          "execution_count": 70,
          "metadata": {},
          "output_type": "execute_result"
        }
      ],
      "source": [
        "grid_search.fit(X_train,y_train)"
      ]
    },
    {
      "cell_type": "code",
      "execution_count": 71,
      "metadata": {
        "colab": {
          "base_uri": "https://localhost:8080/"
        },
        "id": "d4rRHBf9-9JN",
        "outputId": "6523d495-cf7b-41cf-c5a8-334bc082e7e3"
      },
      "outputs": [
        {
          "data": {
            "text/plain": [
              "{'n_neighbors': 29}"
            ]
          },
          "execution_count": 71,
          "metadata": {},
          "output_type": "execute_result"
        }
      ],
      "source": [
        "grid_search.best_params_ #parameter ที่ได้คะแนนดีสุด"
      ]
    },
    {
      "cell_type": "code",
      "execution_count": 72,
      "metadata": {
        "colab": {
          "base_uri": "https://localhost:8080/"
        },
        "id": "tRlBI5gz_UNL",
        "outputId": "fe6dfa5d-4584-48c6-d37b-0681b3f55cb0"
      },
      "outputs": [
        {
          "data": {
            "text/plain": [
              "0.8359242205712321"
            ]
          },
          "execution_count": 72,
          "metadata": {},
          "output_type": "execute_result"
        }
      ],
      "source": [
        "grid_search.best_score_ #คะแนนดีสุด"
      ]
    },
    {
      "cell_type": "code",
      "execution_count": null,
      "metadata": {
        "colab": {
          "base_uri": "https://localhost:8080/"
        },
        "id": "enkOemd7_Zxt",
        "outputId": "76b90929-c1ba-4e2f-907a-c4dd8745623e"
      },
      "outputs": [
        {
          "data": {
            "text/plain": [
              "{'mean_fit_time': array([0.11415088, 0.05767572, 0.05767939, 0.06742735, 0.07154691,\n",
              "        0.06079679, 0.06044424, 0.05906901, 0.05758069, 0.05862844]),\n",
              " 'mean_score_time': array([0.56999304, 0.27593231, 0.27593598, 0.3486306 , 0.35076513,\n",
              "        0.27855542, 0.28700085, 0.29111748, 0.29354804, 0.29072685]),\n",
              " 'mean_test_score': array([0.83397257, 0.83618674, 0.83651149, 0.83592131, 0.83683641,\n",
              "        0.83677738, 0.83733832, 0.83701371, 0.83627574, 0.83580327]),\n",
              " 'param_n_neighbors': masked_array(data=[15, 17, 19, 21, 23, 25, 27, 29, 31, 35],\n",
              "              mask=[False, False, False, False, False, False, False, False,\n",
              "                    False, False],\n",
              "        fill_value='?',\n",
              "             dtype=object),\n",
              " 'params': [{'n_neighbors': 15},\n",
              "  {'n_neighbors': 17},\n",
              "  {'n_neighbors': 19},\n",
              "  {'n_neighbors': 21},\n",
              "  {'n_neighbors': 23},\n",
              "  {'n_neighbors': 25},\n",
              "  {'n_neighbors': 27},\n",
              "  {'n_neighbors': 29},\n",
              "  {'n_neighbors': 31},\n",
              "  {'n_neighbors': 35}],\n",
              " 'rank_test_score': array([10,  7,  5,  8,  3,  4,  1,  2,  6,  9], dtype=int32),\n",
              " 'split0_test_score': array([0.83707202, 0.83854782, 0.83589138, 0.83559622, 0.8379575 ,\n",
              "        0.83913813, 0.83677686, 0.83441558, 0.83677686, 0.8364817 ]),\n",
              " 'split1_test_score': array([0.83323495, 0.83293979, 0.83264463, 0.83087367, 0.83116883,\n",
              "        0.83146399, 0.83175915, 0.83087367, 0.82733176, 0.8270366 ]),\n",
              " 'split2_test_score': array([0.83943329, 0.84061393, 0.84268005, 0.8379575 , 0.84031877,\n",
              "        0.84031877, 0.84179457, 0.84031877, 0.83943329, 0.84031877]),\n",
              " 'split3_test_score': array([0.83943329, 0.84297521, 0.844451  , 0.84090909, 0.84120425,\n",
              "        0.83913813, 0.84090909, 0.84002361, 0.83707202, 0.83943329]),\n",
              " 'split4_test_score': array([0.83023324, 0.82964275, 0.82875701, 0.82846177, 0.82875701,\n",
              "        0.82905226, 0.83111898, 0.82905226, 0.83023324, 0.82787127]),\n",
              " 'split5_test_score': array([0.83672867, 0.83938589, 0.8382049 , 0.84056687, 0.84292885,\n",
              "        0.84204311, 0.84145261, 0.84174786, 0.84056687, 0.84204311]),\n",
              " 'split6_test_score': array([0.82669029, 0.83525244, 0.83495719, 0.83170948, 0.83318571,\n",
              "        0.83643342, 0.83613818, 0.83584293, 0.83672867, 0.83613818]),\n",
              " 'split7_test_score': array([0.84027163, 0.84115737, 0.84470032, 0.84617656, 0.84529082,\n",
              "        0.84588131, 0.8470623 , 0.84794804, 0.84824328, 0.84410983]),\n",
              " 'split8_test_score': array([0.83052849, 0.83141423, 0.83289046, 0.83466194, 0.83407145,\n",
              "        0.83170948, 0.83229997, 0.83466194, 0.83348096, 0.83023324]),\n",
              " 'split9_test_score': array([0.82609979, 0.829938  , 0.829938  , 0.83229997, 0.83348096,\n",
              "        0.83259522, 0.83407145, 0.83525244, 0.83289046, 0.8343667 ]),\n",
              " 'std_fit_time': array([0.01929233, 0.00127689, 0.00103215, 0.01822706, 0.01617109,\n",
              "        0.00402188, 0.00666893, 0.00281626, 0.00146582, 0.00303572]),\n",
              " 'std_score_time': array([0.05305753, 0.01647886, 0.01049188, 0.12547382, 0.14258058,\n",
              "        0.00587882, 0.00897215, 0.00745513, 0.01246797, 0.00851372]),\n",
              " 'std_test_score': array([0.00507859, 0.00471447, 0.00552466, 0.0051908 , 0.00520275,\n",
              "        0.00515266, 0.00501709, 0.00528955, 0.00555404, 0.0056119 ])}"
            ]
          },
          "execution_count": 70,
          "metadata": {},
          "output_type": "execute_result"
        }
      ],
      "source": [
        "grid_search.cv_results_"
      ]
    },
    {
      "cell_type": "code",
      "execution_count": 73,
      "metadata": {
        "colab": {
          "base_uri": "https://localhost:8080/"
        },
        "id": "3HohiBBI_kmq",
        "outputId": "017bd567-51d1-4c70-d021-ef4ae66b0767"
      },
      "outputs": [
        {
          "data": {
            "text/plain": [
              "array(['Yes', 'No', 'No', ..., 'No', 'No', 'No'], dtype=object)"
            ]
          },
          "execution_count": 73,
          "metadata": {},
          "output_type": "execute_result"
        }
      ],
      "source": [
        "grid_search.predict(X_train)"
      ]
    },
    {
      "cell_type": "code",
      "execution_count": 76,
      "metadata": {
        "colab": {
          "base_uri": "https://localhost:8080/"
        },
        "id": "m_HfyXk4AWFU",
        "outputId": "497b42db-d394-4b61-f417-f7ad924cd7c6"
      },
      "outputs": [
        {
          "data": {
            "text/plain": [
              "0.8441348770699756"
            ]
          },
          "execution_count": 76,
          "metadata": {},
          "output_type": "execute_result"
        }
      ],
      "source": [
        "grid_search.score(X_train,y_train)"
      ]
    },
    {
      "cell_type": "code",
      "execution_count": 77,
      "metadata": {
        "colab": {
          "base_uri": "https://localhost:8080/"
        },
        "id": "ATln7fHQAaCq",
        "outputId": "948b2f7e-6244-417d-d284-82d5c63db7ed"
      },
      "outputs": [
        {
          "data": {
            "text/plain": [
              "0.8352398523985239"
            ]
          },
          "execution_count": 77,
          "metadata": {},
          "output_type": "execute_result"
        }
      ],
      "source": [
        "grid_search.score(X_test,y_test)"
      ]
    },
    {
      "cell_type": "markdown",
      "metadata": {},
      "source": [
        "# การปรับ columns ด้วย Std ใน Grid"
      ]
    },
    {
      "cell_type": "markdown",
      "metadata": {},
      "source": [
        "**data preprocessing** </br>\n",
        "**Standard Scaler**"
      ]
    },
    {
      "cell_type": "code",
      "execution_count": 92,
      "metadata": {},
      "outputs": [],
      "source": [
        "from sklearn.preprocessing import StandardScaler"
      ]
    },
    {
      "cell_type": "code",
      "execution_count": 93,
      "metadata": {},
      "outputs": [
        {
          "data": {
            "text/plain": [
              "StandardScaler()"
            ]
          },
          "execution_count": 93,
          "metadata": {},
          "output_type": "execute_result"
        }
      ],
      "source": [
        "std_scaler = StandardScaler()\n",
        "std_scaler.fit(X_train)"
      ]
    },
    {
      "cell_type": "code",
      "execution_count": 94,
      "metadata": {},
      "outputs": [],
      "source": [
        "X_train_transformed = std_scaler.transform(X_train)\n",
        "X_test_transformed = std_scaler.transform(X_test)"
      ]
    },
    {
      "cell_type": "markdown",
      "metadata": {},
      "source": [
        "**Transform X_Train, X_test**"
      ]
    },
    {
      "cell_type": "code",
      "execution_count": 95,
      "metadata": {},
      "outputs": [],
      "source": [
        "grid_search_transformed = GridSearchCV(knn_grid_search,parameter_grid,cv=10)"
      ]
    },
    {
      "cell_type": "code",
      "execution_count": 96,
      "metadata": {},
      "outputs": [
        {
          "data": {
            "text/plain": [
              "GridSearchCV(cv=10, estimator=KNeighborsClassifier(),\n",
              "             param_grid={'n_neighbors': [15, 17, 19, 21, 23, 25, 27, 29, 31,\n",
              "                                         35]})"
            ]
          },
          "execution_count": 96,
          "metadata": {},
          "output_type": "execute_result"
        }
      ],
      "source": [
        "grid_search_transformed.fit(X_train_transformed,y_train)"
      ]
    },
    {
      "cell_type": "code",
      "execution_count": 85,
      "metadata": {},
      "outputs": [
        {
          "data": {
            "text/plain": [
              "({'n_neighbors': 27}, 0.8266985536145162)"
            ]
          },
          "execution_count": 85,
          "metadata": {},
          "output_type": "execute_result"
        }
      ],
      "source": [
        "grid_search_transformed.best_params_, grid_search_transformed.best_score_"
      ]
    },
    {
      "cell_type": "code",
      "execution_count": 89,
      "metadata": {},
      "outputs": [
        {
          "data": {
            "text/plain": [
              "(0.8359242205712321, 0.8266985536145162)"
            ]
          },
          "execution_count": 89,
          "metadata": {},
          "output_type": "execute_result"
        }
      ],
      "source": [
        "grid_search.best_score_,grid_search_transformed.best_score_"
      ]
    },
    {
      "cell_type": "markdown",
      "metadata": {},
      "source": [
        "**น้อยลงจากกว่าการไม่ทำ preprocessing แต่ไม่ได้แปลว่าดีกว่า ต้องวัด score จาก Test**\n",
        "grid_search.best_score_"
      ]
    },
    {
      "cell_type": "code",
      "execution_count": 87,
      "metadata": {},
      "outputs": [
        {
          "data": {
            "text/plain": [
              "(0.8441348770699756, 0.8344942109875917)"
            ]
          },
          "execution_count": 87,
          "metadata": {},
          "output_type": "execute_result"
        }
      ],
      "source": [
        "grid_search.score(X_train,y_train), grid_search_transformed.score(X_train_transformed,y_train)"
      ]
    },
    {
      "cell_type": "code",
      "execution_count": 91,
      "metadata": {},
      "outputs": [
        {
          "data": {
            "text/plain": [
              "(0.8352398523985239, 0.8208487084870849)"
            ]
          },
          "execution_count": 91,
          "metadata": {},
          "output_type": "execute_result"
        }
      ],
      "source": [
        "grid_search.score(X_test,y_test), grid_search_transformed.score(X_test_transformed,y_test)"
      ]
    },
    {
      "cell_type": "markdown",
      "metadata": {},
      "source": [
        "**การ preprocess ทำให้ score drop ลงมา (ยอมรับได้)**"
      ]
    },
    {
      "cell_type": "markdown",
      "metadata": {},
      "source": [
        "**กรณีเจอ best k ที่เป็นค่าขอบแปลว่าอาจจะมี k ที่ดีกว่านี้**"
      ]
    },
    {
      "cell_type": "markdown",
      "metadata": {},
      "source": [
        "**grid_search bestscore คือ คะแนนที่ดีที่สุดเฉลี่ยการ cross 10 ครั้ง** </br>\n",
        "**grid_search score คือ คะแนนของทุก dataset ที่ train**"
      ]
    },
    {
      "cell_type": "markdown",
      "metadata": {},
      "source": [
        "# Column Transformer"
      ]
    },
    {
      "cell_type": "markdown",
      "metadata": {},
      "source": [
        "**use pipeline**"
      ]
    },
    {
      "cell_type": "code",
      "execution_count": 101,
      "metadata": {},
      "outputs": [],
      "source": [
        "from sklearn.compose import make_column_transformer\n",
        "from sklearn.preprocessing import OneHotEncoder"
      ]
    },
    {
      "cell_type": "code",
      "execution_count": 99,
      "metadata": {},
      "outputs": [
        {
          "data": {
            "text/plain": [
              "Index(['age', 'workclass', 'weight', 'education', 'edu num', 'marital status',\n",
              "       'occupation', 'relationship', 'race', 'sex', 'captial-gain',\n",
              "       'capital-loss', 'hours-per-week', 'native country', 'label'],\n",
              "      dtype='object')"
            ]
          },
          "execution_count": 99,
          "metadata": {},
          "output_type": "execute_result"
        }
      ],
      "source": [
        "df.columns"
      ]
    },
    {
      "cell_type": "code",
      "execution_count": 109,
      "metadata": {},
      "outputs": [],
      "source": [
        "transfomer = make_column_transformer(\n",
        "    (StandardScaler(),['age','edu num','captial-gain','capital-loss','hours-per-week']),\n",
        "    (OneHotEncoder(), ['marital status','occupation','sex'])\n",
        "\n",
        ")"
      ]
    },
    {
      "cell_type": "code",
      "execution_count": 110,
      "metadata": {},
      "outputs": [],
      "source": [
        "X_train = df[['age','edu num','captial-gain','capital-loss','hours-per-week',\n",
        "'marital status','occupation','sex']]\n",
        "X_test =  df2[['age','edu num','captial-gain','capital-loss','hours-per-week',\n",
        "'marital status','occupation','sex']]"
      ]
    },
    {
      "cell_type": "code",
      "execution_count": 111,
      "metadata": {},
      "outputs": [
        {
          "data": {
            "text/plain": [
              "ColumnTransformer(transformers=[('standardscaler', StandardScaler(),\n",
              "                                 ['age', 'edu num', 'captial-gain',\n",
              "                                  'capital-loss', 'hours-per-week']),\n",
              "                                ('onehotencoder', OneHotEncoder(),\n",
              "                                 ['marital status', 'occupation', 'sex'])])"
            ]
          },
          "execution_count": 111,
          "metadata": {},
          "output_type": "execute_result"
        }
      ],
      "source": [
        "transfomer.fit(X_train)"
      ]
    },
    {
      "cell_type": "code",
      "execution_count": 116,
      "metadata": {},
      "outputs": [],
      "source": [
        "X_train_transformed = transfomer.transform(X_train)\n",
        "X_test_transformed = transfomer.transform(X_test)"
      ]
    },
    {
      "cell_type": "code",
      "execution_count": 117,
      "metadata": {},
      "outputs": [
        {
          "data": {
            "text/plain": [
              "array([[ 0.02800396,  1.14101626,  0.15581484, ...,  0.        ,\n",
              "         0.        ,  1.        ],\n",
              "       [-0.1180703 ,  1.53000586, -0.14593817, ...,  0.        ,\n",
              "         1.        ,  0.        ],\n",
              "       [ 0.24711536,  1.14101626,  0.57277254, ...,  0.        ,\n",
              "         0.        ,  1.        ],\n",
              "       ...,\n",
              "       [-0.04503317,  1.14101626, -0.14593817, ...,  0.        ,\n",
              "         0.        ,  1.        ],\n",
              "       [ 0.39318962,  1.14101626,  0.61122037, ...,  0.        ,\n",
              "         0.        ,  1.        ],\n",
              "       [-0.26414456,  1.14101626, -0.14593817, ...,  0.        ,\n",
              "         0.        ,  1.        ]])"
            ]
          },
          "execution_count": 117,
          "metadata": {},
          "output_type": "execute_result"
        }
      ],
      "source": [
        "X_train_transformed.toarray()"
      ]
    },
    {
      "cell_type": "markdown",
      "metadata": {},
      "source": [
        "<h2> ทำ GridSearch </h2>"
      ]
    },
    {
      "cell_type": "code",
      "execution_count": 120,
      "metadata": {},
      "outputs": [
        {
          "data": {
            "text/plain": [
              "GridSearchCV(cv=10, estimator=KNeighborsClassifier(),\n",
              "             param_grid={'n_neighbors': [15, 17, 19, 21, 23, 25, 27, 29, 31,\n",
              "                                         35]})"
            ]
          },
          "execution_count": 120,
          "metadata": {},
          "output_type": "execute_result"
        }
      ],
      "source": [
        "grid_search_transformed.fit(X_train_transformed,df.label)"
      ]
    },
    {
      "cell_type": "code",
      "execution_count": 122,
      "metadata": {},
      "outputs": [
        {
          "data": {
            "text/plain": [
              "{'n_neighbors': 35}"
            ]
          },
          "execution_count": 122,
          "metadata": {},
          "output_type": "execute_result"
        }
      ],
      "source": [
        "grid_search_transformed.best_params_"
      ]
    },
    {
      "cell_type": "code",
      "execution_count": 123,
      "metadata": {},
      "outputs": [
        {
          "data": {
            "text/plain": [
              "0.8477595685845142"
            ]
          },
          "execution_count": 123,
          "metadata": {},
          "output_type": "execute_result"
        }
      ],
      "source": [
        "grid_search_transformed.best_score_"
      ]
    },
    {
      "cell_type": "code",
      "execution_count": 125,
      "metadata": {},
      "outputs": [],
      "source": [
        "y_predicted = grid_search_transformed.predict(X_test_transformed)"
      ]
    },
    {
      "cell_type": "markdown",
      "metadata": {},
      "source": [
        "# Other Metric"
      ]
    },
    {
      "cell_type": "code",
      "execution_count": 121,
      "metadata": {},
      "outputs": [],
      "source": [
        "from sklearn.metrics import accuracy_score, recall_score, precision_score, f1_score"
      ]
    },
    {
      "cell_type": "code",
      "execution_count": 127,
      "metadata": {},
      "outputs": [
        {
          "data": {
            "text/plain": [
              "0.8422399672399672"
            ]
          },
          "execution_count": 127,
          "metadata": {},
          "output_type": "execute_result"
        }
      ],
      "source": [
        "accuracy_score(df2.label,y_predicted) ## สนใจ class ทั้งสอง class เท่ากัน"
      ]
    },
    {
      "cell_type": "code",
      "execution_count": 130,
      "metadata": {},
      "outputs": [
        {
          "data": {
            "text/plain": [
              "0.8422399672399672"
            ]
          },
          "execution_count": 130,
          "metadata": {},
          "output_type": "execute_result"
        }
      ],
      "source": [
        "grid_search_transformed.score(X_test_transformed,df2.label) ## สนใจ class ทั้งสอง class เท่ากัน"
      ]
    },
    {
      "cell_type": "code",
      "execution_count": 132,
      "metadata": {},
      "outputs": [
        {
          "data": {
            "text/plain": [
              "0.6030341340075853"
            ]
          },
          "execution_count": 132,
          "metadata": {},
          "output_type": "execute_result"
        }
      ],
      "source": [
        "recall_score(df2.label,y_predicted,pos_label=\"Yes\") ##สนใจด้านที่เป็นลบมากกว่า (เรียกคืนคนที่เป็นด้านลบ) สมมุติ detect คนเงินเกิน 5 หมื่นเป็นผู้สงสัย detect คนเป็นผู้ต้องสงสัยได้ 60%"
      ]
    },
    {
      "cell_type": "code",
      "execution_count": 134,
      "metadata": {},
      "outputs": [
        {
          "data": {
            "text/plain": [
              "0.7049261083743842"
            ]
          },
          "execution_count": 134,
          "metadata": {},
          "output_type": "execute_result"
        }
      ],
      "source": [
        "precision_score(df2.label,y_predicted,pos_label=\"Yes\") #เป็นการdetect ผู้ต้องสงสัย แต่ยอมให้มีการ detect พลาดด้วย 70%"
      ]
    },
    {
      "cell_type": "code",
      "execution_count": 153,
      "metadata": {},
      "outputs": [],
      "source": [
        "from sklearn.metrics import confusion_matrix, ConfusionMatrixDisplay\n",
        "import matplotlib.pyplot as plt\n"
      ]
    },
    {
      "cell_type": "code",
      "execution_count": 144,
      "metadata": {},
      "outputs": [
        {
          "data": {
            "text/plain": [
              "array([[6796,  599],\n",
              "       [ 942, 1431]], dtype=int64)"
            ]
          },
          "execution_count": 144,
          "metadata": {},
          "output_type": "execute_result"
        }
      ],
      "source": [
        "confusion_matrix(df2.label,y_predicted)"
      ]
    },
    {
      "cell_type": "code",
      "execution_count": 157,
      "metadata": {},
      "outputs": [
        {
          "data": {
            "image/png": "[encoded data removed]",
            "text/plain": [
              "<Figure size 640x480 with 2 Axes>"
            ]
          },
          "metadata": {},
          "output_type": "display_data"
        }
      ],
      "source": [
        "ConfusionMatrixDisplay(confusion_matrix(df2.label,y_predicted)).plot()\n",
        "plt.show()"
      ]
    },
    {
      "cell_type": "markdown",
      "metadata": {},
      "source": [
        "## Fuzzy Classification"
      ]
    },
    {
      "cell_type": "code",
      "execution_count": 160,
      "metadata": {},
      "outputs": [
        {
          "data": {
            "text/plain": [
              "array(['No', 'Yes'], dtype=object)"
            ]
          },
          "execution_count": 160,
          "metadata": {},
          "output_type": "execute_result"
        }
      ],
      "source": [
        "grid_search_transformed.classes_"
      ]
    },
    {
      "cell_type": "code",
      "execution_count": 159,
      "metadata": {},
      "outputs": [
        {
          "data": {
            "text/plain": [
              "array([[0.94285714, 0.05714286],\n",
              "       [0.42857143, 0.57142857],\n",
              "       [1.        , 0.        ],\n",
              "       ...,\n",
              "       [0.4       , 0.6       ],\n",
              "       [0.71428571, 0.28571429],\n",
              "       [0.71428571, 0.28571429]])"
            ]
          },
          "execution_count": 159,
          "metadata": {},
          "output_type": "execute_result"
        }
      ],
      "source": [
        "grid_search_transformed.predict_proba(X_test_transformed)"
      ]
    },
    {
      "cell_type": "code",
      "execution_count": null,
      "metadata": {},
      "outputs": [],
      "source": []
    }
  ],
  "metadata": {
    "colab": {
      "collapsed_sections": [],
      "name": "01-census-income.ipynb",
      "provenance": []
    },
    "interpreter": {
      "hash": "4f7cf8a7d42fb54cf0c1bd71cf615db380e085e5bb100c7662268a5e829bce26"
    },
    "kernelspec": {
      "display_name": "Python 3.8.5 ('base')",
      "language": "python",
      "name": "python3"
    },
    "language_info": {
      "codemirror_mode": {
        "name": "ipython",
        "version": 3
      },
      "file_extension": ".py",
      "mimetype": "text/x-python",
      "name": "python",
      "nbconvert_exporter": "python",
      "pygments_lexer": "ipython3",
      "version": "3.8.5"
    }
  },
  "nbformat": 4,
  "nbformat_minor": 0
}

{
  "cells": [
    {
      "cell_type": "markdown",
      "metadata": {
        "id": "iaPpn3NHyg-3"
      },
      "source": [
        "# import and open training"
      ]
    },
    {
      "cell_type": "code",
      "execution_count": 3,
      "metadata": {
        "id": "TJxHx6PeQMEk"
      },
      "outputs": [],
      "source": [
        "import pandas as pd"
      ]
    },
    {
      "cell_type": "code",
      "execution_count": 4,
      "metadata": {
        "id": "Z42GyyX9RXTP"
      },
      "outputs": [],
      "source": [
        "df=pd.read_csv('01-census-income.csv')"
      ]
    },
    {
      "cell_type": "markdown",
      "metadata": {
        "id": "1uFblsnHywN-"
      },
      "source": []
    },
    {
      "cell_type": "code",
      "execution_count": 5,
      "metadata": {
        "colab": {
          "base_uri": "https://localhost:8080/",
          "height": 817
        },
        "id": "UEovQx0FSFQl",
        "outputId": "5b929c09-65a0-43f5-d663-5c8e61d7df76"
      },
      "outputs": [
        {
          "data": {
            "text/html": [
              "<div>\n",
              "<style scoped>\n",
              "    .dataframe tbody tr th:only-of-type {\n",
              "        vertical-align: middle;\n",
              "    }\n",
              "\n",
              "    .dataframe tbody tr th {\n",
              "        vertical-align: top;\n",
              "    }\n",
              "\n",
              "    .dataframe thead th {\n",
              "        text-align: right;\n",
              "    }\n",
              "</style>\n",
              "<table border=\"1\" class=\"dataframe\">\n",
              "  <thead>\n",
              "    <tr style=\"text-align: right;\">\n",
              "      <th></th>\n",
              "      <th>age</th>\n",
              "      <th>workclass</th>\n",
              "      <th>weight</th>\n",
              "      <th>education</th>\n",
              "      <th>edu num</th>\n",
              "      <th>marital status</th>\n",
              "      <th>occupation</th>\n",
              "      <th>relationship</th>\n",
              "      <th>race</th>\n",
              "      <th>sex</th>\n",
              "      <th>captial-gain</th>\n",
              "      <th>capital-loss</th>\n",
              "      <th>hours-per-week</th>\n",
              "      <th>native country</th>\n",
              "      <th>label</th>\n",
              "    </tr>\n",
              "  </thead>\n",
              "  <tbody>\n",
              "    <tr>\n",
              "      <th>0</th>\n",
              "      <td>39</td>\n",
              "      <td>State-gov</td>\n",
              "      <td>77516</td>\n",
              "      <td>Bachelors</td>\n",
              "      <td>13</td>\n",
              "      <td>Never-married</td>\n",
              "      <td>Adm-clerical</td>\n",
              "      <td>Not-in-family</td>\n",
              "      <td>White</td>\n",
              "      <td>Male</td>\n",
              "      <td>2174</td>\n",
              "      <td>0</td>\n",
              "      <td>40</td>\n",
              "      <td>United-States</td>\n",
              "      <td>No</td>\n",
              "    </tr>\n",
              "    <tr>\n",
              "      <th>1</th>\n",
              "      <td>37</td>\n",
              "      <td>Private</td>\n",
              "      <td>284582</td>\n",
              "      <td>Masters</td>\n",
              "      <td>14</td>\n",
              "      <td>Married-civ-spouse</td>\n",
              "      <td>Exec-managerial</td>\n",
              "      <td>Wife</td>\n",
              "      <td>White</td>\n",
              "      <td>Female</td>\n",
              "      <td>0</td>\n",
              "      <td>0</td>\n",
              "      <td>40</td>\n",
              "      <td>United-States</td>\n",
              "      <td>No</td>\n",
              "    </tr>\n",
              "    <tr>\n",
              "      <th>2</th>\n",
              "      <td>42</td>\n",
              "      <td>Private</td>\n",
              "      <td>159449</td>\n",
              "      <td>Bachelors</td>\n",
              "      <td>13</td>\n",
              "      <td>Married-civ-spouse</td>\n",
              "      <td>Exec-managerial</td>\n",
              "      <td>Husband</td>\n",
              "      <td>White</td>\n",
              "      <td>Male</td>\n",
              "      <td>5178</td>\n",
              "      <td>0</td>\n",
              "      <td>40</td>\n",
              "      <td>United-States</td>\n",
              "      <td>Yes</td>\n",
              "    </tr>\n",
              "    <tr>\n",
              "      <th>3</th>\n",
              "      <td>30</td>\n",
              "      <td>State-gov</td>\n",
              "      <td>141297</td>\n",
              "      <td>Bachelors</td>\n",
              "      <td>13</td>\n",
              "      <td>Married-civ-spouse</td>\n",
              "      <td>Prof-specialty</td>\n",
              "      <td>Husband</td>\n",
              "      <td>Asian-Pac-Islander</td>\n",
              "      <td>Male</td>\n",
              "      <td>0</td>\n",
              "      <td>0</td>\n",
              "      <td>40</td>\n",
              "      <td>India</td>\n",
              "      <td>Yes</td>\n",
              "    </tr>\n",
              "    <tr>\n",
              "      <th>4</th>\n",
              "      <td>40</td>\n",
              "      <td>Private</td>\n",
              "      <td>121772</td>\n",
              "      <td>Assoc-voc</td>\n",
              "      <td>11</td>\n",
              "      <td>Married-civ-spouse</td>\n",
              "      <td>Craft-repair</td>\n",
              "      <td>Husband</td>\n",
              "      <td>Asian-Pac-Islander</td>\n",
              "      <td>Male</td>\n",
              "      <td>0</td>\n",
              "      <td>0</td>\n",
              "      <td>40</td>\n",
              "      <td>?</td>\n",
              "      <td>Yes</td>\n",
              "    </tr>\n",
              "    <tr>\n",
              "      <th>...</th>\n",
              "      <td>...</td>\n",
              "      <td>...</td>\n",
              "      <td>...</td>\n",
              "      <td>...</td>\n",
              "      <td>...</td>\n",
              "      <td>...</td>\n",
              "      <td>...</td>\n",
              "      <td>...</td>\n",
              "      <td>...</td>\n",
              "      <td>...</td>\n",
              "      <td>...</td>\n",
              "      <td>...</td>\n",
              "      <td>...</td>\n",
              "      <td>...</td>\n",
              "      <td>...</td>\n",
              "    </tr>\n",
              "    <tr>\n",
              "      <th>33869</th>\n",
              "      <td>33</td>\n",
              "      <td>Private</td>\n",
              "      <td>245211</td>\n",
              "      <td>Bachelors</td>\n",
              "      <td>13</td>\n",
              "      <td>Never-married</td>\n",
              "      <td>Prof-specialty</td>\n",
              "      <td>Own-child</td>\n",
              "      <td>White</td>\n",
              "      <td>Male</td>\n",
              "      <td>0</td>\n",
              "      <td>0</td>\n",
              "      <td>40</td>\n",
              "      <td>United-States</td>\n",
              "      <td>No</td>\n",
              "    </tr>\n",
              "    <tr>\n",
              "      <th>33870</th>\n",
              "      <td>64</td>\n",
              "      <td>?</td>\n",
              "      <td>321403</td>\n",
              "      <td>HS-grad</td>\n",
              "      <td>9</td>\n",
              "      <td>Widowed</td>\n",
              "      <td>?</td>\n",
              "      <td>Other-relative</td>\n",
              "      <td>Black</td>\n",
              "      <td>Male</td>\n",
              "      <td>0</td>\n",
              "      <td>0</td>\n",
              "      <td>40</td>\n",
              "      <td>United-States</td>\n",
              "      <td>No</td>\n",
              "    </tr>\n",
              "    <tr>\n",
              "      <th>33871</th>\n",
              "      <td>38</td>\n",
              "      <td>Private</td>\n",
              "      <td>374983</td>\n",
              "      <td>Bachelors</td>\n",
              "      <td>13</td>\n",
              "      <td>Married-civ-spouse</td>\n",
              "      <td>Prof-specialty</td>\n",
              "      <td>Husband</td>\n",
              "      <td>White</td>\n",
              "      <td>Male</td>\n",
              "      <td>0</td>\n",
              "      <td>0</td>\n",
              "      <td>50</td>\n",
              "      <td>United-States</td>\n",
              "      <td>No</td>\n",
              "    </tr>\n",
              "    <tr>\n",
              "      <th>33872</th>\n",
              "      <td>44</td>\n",
              "      <td>Private</td>\n",
              "      <td>83891</td>\n",
              "      <td>Bachelors</td>\n",
              "      <td>13</td>\n",
              "      <td>Divorced</td>\n",
              "      <td>Adm-clerical</td>\n",
              "      <td>Own-child</td>\n",
              "      <td>Asian-Pac-Islander</td>\n",
              "      <td>Male</td>\n",
              "      <td>5455</td>\n",
              "      <td>0</td>\n",
              "      <td>40</td>\n",
              "      <td>United-States</td>\n",
              "      <td>No</td>\n",
              "    </tr>\n",
              "    <tr>\n",
              "      <th>33873</th>\n",
              "      <td>35</td>\n",
              "      <td>Self-emp-inc</td>\n",
              "      <td>182148</td>\n",
              "      <td>Bachelors</td>\n",
              "      <td>13</td>\n",
              "      <td>Married-civ-spouse</td>\n",
              "      <td>Exec-managerial</td>\n",
              "      <td>Husband</td>\n",
              "      <td>White</td>\n",
              "      <td>Male</td>\n",
              "      <td>0</td>\n",
              "      <td>0</td>\n",
              "      <td>60</td>\n",
              "      <td>United-States</td>\n",
              "      <td>Yes</td>\n",
              "    </tr>\n",
              "  </tbody>\n",
              "</table>\n",
              "<p>33874 rows × 15 columns</p>\n",
              "</div>"
            ],
            "text/plain": [
              "       age      workclass  weight   education  edu num       marital status  \\\n",
              "0       39      State-gov   77516   Bachelors       13        Never-married   \n",
              "1       37        Private  284582     Masters       14   Married-civ-spouse   \n",
              "2       42        Private  159449   Bachelors       13   Married-civ-spouse   \n",
              "3       30      State-gov  141297   Bachelors       13   Married-civ-spouse   \n",
              "4       40        Private  121772   Assoc-voc       11   Married-civ-spouse   \n",
              "...    ...            ...     ...         ...      ...                  ...   \n",
              "33869   33        Private  245211   Bachelors       13        Never-married   \n",
              "33870   64              ?  321403     HS-grad        9              Widowed   \n",
              "33871   38        Private  374983   Bachelors       13   Married-civ-spouse   \n",
              "33872   44        Private   83891   Bachelors       13             Divorced   \n",
              "33873   35   Self-emp-inc  182148   Bachelors       13   Married-civ-spouse   \n",
              "\n",
              "             occupation     relationship                 race      sex  \\\n",
              "0          Adm-clerical    Not-in-family                White     Male   \n",
              "1       Exec-managerial             Wife                White   Female   \n",
              "2       Exec-managerial          Husband                White     Male   \n",
              "3        Prof-specialty          Husband   Asian-Pac-Islander     Male   \n",
              "4          Craft-repair          Husband   Asian-Pac-Islander     Male   \n",
              "...                 ...              ...                  ...      ...   \n",
              "33869    Prof-specialty        Own-child                White     Male   \n",
              "33870                 ?   Other-relative                Black     Male   \n",
              "33871    Prof-specialty          Husband                White     Male   \n",
              "33872      Adm-clerical        Own-child   Asian-Pac-Islander     Male   \n",
              "33873   Exec-managerial          Husband                White     Male   \n",
              "\n",
              "       captial-gain  capital-loss  hours-per-week  native country label  \n",
              "0              2174             0              40   United-States    No  \n",
              "1                 0             0              40   United-States    No  \n",
              "2              5178             0              40   United-States   Yes  \n",
              "3                 0             0              40           India   Yes  \n",
              "4                 0             0              40               ?   Yes  \n",
              "...             ...           ...             ...             ...   ...  \n",
              "33869             0             0              40   United-States    No  \n",
              "33870             0             0              40   United-States    No  \n",
              "33871             0             0              50   United-States    No  \n",
              "33872          5455             0              40   United-States    No  \n",
              "33873             0             0              60   United-States   Yes  \n",
              "\n",
              "[33874 rows x 15 columns]"
            ]
          },
          "execution_count": 5,
          "metadata": {},
          "output_type": "execute_result"
        }
      ],
      "source": [
        "df"
      ]
    },
    {
      "cell_type": "code",
      "execution_count": 6,
      "metadata": {
        "colab": {
          "base_uri": "https://localhost:8080/"
        },
        "id": "5J-ovGLYSH2u",
        "outputId": "28e30c33-d845-4d3f-cfd6-168d32066816"
      },
      "outputs": [
        {
          "data": {
            "text/plain": [
              "Index(['age', 'workclass', 'weight', 'education', 'edu num', 'marital status',\n",
              "       'occupation', 'relationship', 'race', 'sex', 'captial-gain',\n",
              "       'capital-loss', 'hours-per-week', 'native country', 'label'],\n",
              "      dtype='object')"
            ]
          },
          "execution_count": 6,
          "metadata": {},
          "output_type": "execute_result"
        }
      ],
      "source": [
        "df.columns"
      ]
    },
    {
      "cell_type": "code",
      "execution_count": 7,
      "metadata": {
        "colab": {
          "base_uri": "https://localhost:8080/"
        },
        "id": "1wxZ3PPYSfPN",
        "outputId": "4dcbf4b9-86d0-45f3-ee6c-8a0f6355acc7"
      },
      "outputs": [
        {
          "data": {
            "text/plain": [
              "0         No\n",
              "1         No\n",
              "2        Yes\n",
              "3        Yes\n",
              "4        Yes\n",
              "        ... \n",
              "33869     No\n",
              "33870     No\n",
              "33871     No\n",
              "33872     No\n",
              "33873    Yes\n",
              "Name: label, Length: 33874, dtype: object"
            ]
          },
          "execution_count": 7,
          "metadata": {},
          "output_type": "execute_result"
        }
      ],
      "source": [
        "y=df['label']\n",
        "y"
      ]
    },
    {
      "cell_type": "code",
      "execution_count": 8,
      "metadata": {
        "colab": {
          "base_uri": "https://localhost:8080/",
          "height": 424
        },
        "id": "gOZ_xEH4TiCb",
        "outputId": "088959f7-2585-4227-f01c-22aeb4c6a47e"
      },
      "outputs": [
        {
          "data": {
            "text/html": [
              "<div>\n",
              "<style scoped>\n",
              "    .dataframe tbody tr th:only-of-type {\n",
              "        vertical-align: middle;\n",
              "    }\n",
              "\n",
              "    .dataframe tbody tr th {\n",
              "        vertical-align: top;\n",
              "    }\n",
              "\n",
              "    .dataframe thead th {\n",
              "        text-align: right;\n",
              "    }\n",
              "</style>\n",
              "<table border=\"1\" class=\"dataframe\">\n",
              "  <thead>\n",
              "    <tr style=\"text-align: right;\">\n",
              "      <th></th>\n",
              "      <th>age</th>\n",
              "      <th>edu num</th>\n",
              "      <th>captial-gain</th>\n",
              "      <th>capital-loss</th>\n",
              "      <th>hours-per-week</th>\n",
              "    </tr>\n",
              "  </thead>\n",
              "  <tbody>\n",
              "    <tr>\n",
              "      <th>0</th>\n",
              "      <td>39</td>\n",
              "      <td>13</td>\n",
              "      <td>2174</td>\n",
              "      <td>0</td>\n",
              "      <td>40</td>\n",
              "    </tr>\n",
              "    <tr>\n",
              "      <th>1</th>\n",
              "      <td>37</td>\n",
              "      <td>14</td>\n",
              "      <td>0</td>\n",
              "      <td>0</td>\n",
              "      <td>40</td>\n",
              "    </tr>\n",
              "    <tr>\n",
              "      <th>2</th>\n",
              "      <td>42</td>\n",
              "      <td>13</td>\n",
              "      <td>5178</td>\n",
              "      <td>0</td>\n",
              "      <td>40</td>\n",
              "    </tr>\n",
              "    <tr>\n",
              "      <th>3</th>\n",
              "      <td>30</td>\n",
              "      <td>13</td>\n",
              "      <td>0</td>\n",
              "      <td>0</td>\n",
              "      <td>40</td>\n",
              "    </tr>\n",
              "    <tr>\n",
              "      <th>4</th>\n",
              "      <td>40</td>\n",
              "      <td>11</td>\n",
              "      <td>0</td>\n",
              "      <td>0</td>\n",
              "      <td>40</td>\n",
              "    </tr>\n",
              "    <tr>\n",
              "      <th>...</th>\n",
              "      <td>...</td>\n",
              "      <td>...</td>\n",
              "      <td>...</td>\n",
              "      <td>...</td>\n",
              "      <td>...</td>\n",
              "    </tr>\n",
              "    <tr>\n",
              "      <th>33869</th>\n",
              "      <td>33</td>\n",
              "      <td>13</td>\n",
              "      <td>0</td>\n",
              "      <td>0</td>\n",
              "      <td>40</td>\n",
              "    </tr>\n",
              "    <tr>\n",
              "      <th>33870</th>\n",
              "      <td>64</td>\n",
              "      <td>9</td>\n",
              "      <td>0</td>\n",
              "      <td>0</td>\n",
              "      <td>40</td>\n",
              "    </tr>\n",
              "    <tr>\n",
              "      <th>33871</th>\n",
              "      <td>38</td>\n",
              "      <td>13</td>\n",
              "      <td>0</td>\n",
              "      <td>0</td>\n",
              "      <td>50</td>\n",
              "    </tr>\n",
              "    <tr>\n",
              "      <th>33872</th>\n",
              "      <td>44</td>\n",
              "      <td>13</td>\n",
              "      <td>5455</td>\n",
              "      <td>0</td>\n",
              "      <td>40</td>\n",
              "    </tr>\n",
              "    <tr>\n",
              "      <th>33873</th>\n",
              "      <td>35</td>\n",
              "      <td>13</td>\n",
              "      <td>0</td>\n",
              "      <td>0</td>\n",
              "      <td>60</td>\n",
              "    </tr>\n",
              "  </tbody>\n",
              "</table>\n",
              "<p>33874 rows × 5 columns</p>\n",
              "</div>"
            ],
            "text/plain": [
              "       age  edu num  captial-gain  capital-loss  hours-per-week\n",
              "0       39       13          2174             0              40\n",
              "1       37       14             0             0              40\n",
              "2       42       13          5178             0              40\n",
              "3       30       13             0             0              40\n",
              "4       40       11             0             0              40\n",
              "...    ...      ...           ...           ...             ...\n",
              "33869   33       13             0             0              40\n",
              "33870   64        9             0             0              40\n",
              "33871   38       13             0             0              50\n",
              "33872   44       13          5455             0              40\n",
              "33873   35       13             0             0              60\n",
              "\n",
              "[33874 rows x 5 columns]"
            ]
          },
          "execution_count": 8,
          "metadata": {},
          "output_type": "execute_result"
        }
      ],
      "source": [
        "X=df[['age','edu num','captial-gain','capital-loss','hours-per-week']]\n",
        "X"
      ]
    },
    {
      "cell_type": "markdown",
      "metadata": {
        "id": "ANB-dniSzRWK"
      },
      "source": [
        "# Knn model"
      ]
    },
    {
      "cell_type": "code",
      "execution_count": 9,
      "metadata": {
        "id": "bNXYI_FoUVVA"
      },
      "outputs": [],
      "source": [
        "from sklearn.neighbors import KNeighborsClassifier"
      ]
    },
    {
      "cell_type": "code",
      "execution_count": 10,
      "metadata": {
        "colab": {
          "base_uri": "https://localhost:8080/"
        },
        "id": "nHtN04EKtQPo",
        "outputId": "9e0fe3b1-96ae-4535-ce4c-e550f8c8393f"
      },
      "outputs": [
        {
          "data": {
            "text/plain": [
              "KNeighborsClassifier(n_neighbors=7)"
            ]
          },
          "execution_count": 10,
          "metadata": {},
          "output_type": "execute_result"
        }
      ],
      "source": [
        "knn=KNeighborsClassifier(n_neighbors=7)# สร้าง object\n",
        "knn.fit(X,y) #ให้เรียนรู้"
      ]
    },
    {
      "cell_type": "markdown",
      "metadata": {
        "id": "VnrEv2OPAC12"
      },
      "source": [
        "**predict โดยไม่สร้างตาราง**"
      ]
    },
    {
      "cell_type": "code",
      "execution_count": 11,
      "metadata": {
        "colab": {
          "base_uri": "https://localhost:8080/"
        },
        "id": "9nkM3lGauGVT",
        "outputId": "56f50f87-413b-4fa2-c2f2-70896cf06f32"
      },
      "outputs": [
        {
          "data": {
            "text/plain": [
              "array(['Yes', 'No'], dtype=object)"
            ]
          },
          "execution_count": 11,
          "metadata": {},
          "output_type": "execute_result"
        }
      ],
      "source": [
        "knn.predict([[45,16,0,0,60],\n",
        "             [24,16,0,0,40]])# ทำนาย 2 คน"
      ]
    },
    {
      "cell_type": "markdown",
      "metadata": {
        "id": "gF1Kwo1cAKsa"
      },
      "source": [
        "**predict โดยสร้างตาราง**"
      ]
    },
    {
      "cell_type": "code",
      "execution_count": 12,
      "metadata": {
        "colab": {
          "base_uri": "https://localhost:8080/",
          "height": 112
        },
        "id": "61vSIlmEwB4r",
        "outputId": "009ddfba-8730-411b-d17b-a565ceaa465b"
      },
      "outputs": [
        {
          "data": {
            "text/html": [
              "<div>\n",
              "<style scoped>\n",
              "    .dataframe tbody tr th:only-of-type {\n",
              "        vertical-align: middle;\n",
              "    }\n",
              "\n",
              "    .dataframe tbody tr th {\n",
              "        vertical-align: top;\n",
              "    }\n",
              "\n",
              "    .dataframe thead th {\n",
              "        text-align: right;\n",
              "    }\n",
              "</style>\n",
              "<table border=\"1\" class=\"dataframe\">\n",
              "  <thead>\n",
              "    <tr style=\"text-align: right;\">\n",
              "      <th></th>\n",
              "      <th>age</th>\n",
              "      <th>edu num</th>\n",
              "      <th>captial-gain</th>\n",
              "      <th>capital-loss</th>\n",
              "      <th>hours-per-week</th>\n",
              "    </tr>\n",
              "  </thead>\n",
              "  <tbody>\n",
              "    <tr>\n",
              "      <th>0</th>\n",
              "      <td>45</td>\n",
              "      <td>16</td>\n",
              "      <td>0</td>\n",
              "      <td>0</td>\n",
              "      <td>60</td>\n",
              "    </tr>\n",
              "    <tr>\n",
              "      <th>1</th>\n",
              "      <td>24</td>\n",
              "      <td>16</td>\n",
              "      <td>0</td>\n",
              "      <td>0</td>\n",
              "      <td>40</td>\n",
              "    </tr>\n",
              "  </tbody>\n",
              "</table>\n",
              "</div>"
            ],
            "text/plain": [
              "   age  edu num  captial-gain  capital-loss  hours-per-week\n",
              "0   45       16             0             0              60\n",
              "1   24       16             0             0              40"
            ]
          },
          "execution_count": 12,
          "metadata": {},
          "output_type": "execute_result"
        }
      ],
      "source": [
        "#แบบสร้างตาราง\n",
        "new_data=pd.DataFrame([[45,16,0,0,60],[24,16,0,0,40]],columns=X.columns)\n",
        "new_data"
      ]
    },
    {
      "cell_type": "code",
      "execution_count": 13,
      "metadata": {
        "colab": {
          "base_uri": "https://localhost:8080/"
        },
        "id": "WXgfwpJnwb9q",
        "outputId": "ccb9d78d-414e-4118-a3fa-977eb207a601"
      },
      "outputs": [
        {
          "data": {
            "text/plain": [
              "array(['Yes', 'No'], dtype=object)"
            ]
          },
          "execution_count": 13,
          "metadata": {},
          "output_type": "execute_result"
        }
      ],
      "source": [
        "knn.predict(new_data)"
      ]
    },
    {
      "cell_type": "code",
      "execution_count": 14,
      "metadata": {
        "colab": {
          "base_uri": "https://localhost:8080/"
        },
        "id": "_ThqQItwwXjf",
        "outputId": "cde24510-331c-4933-cd1c-c52532dc80e2"
      },
      "outputs": [
        {
          "data": {
            "text/plain": [
              "array(['No', 'No', 'Yes', ..., 'Yes', 'No', 'Yes'], dtype=object)"
            ]
          },
          "execution_count": 14,
          "metadata": {},
          "output_type": "execute_result"
        }
      ],
      "source": [
        "knn.predict(X) "
      ]
    },
    {
      "cell_type": "code",
      "execution_count": 15,
      "metadata": {
        "colab": {
          "base_uri": "https://localhost:8080/"
        },
        "id": "6_lrdTgbwv0b",
        "outputId": "3fcc3ffb-b371-42ea-ecc7-fdb04afc21d1"
      },
      "outputs": [
        {
          "data": {
            "text/plain": [
              "0         No\n",
              "1         No\n",
              "2        Yes\n",
              "3        Yes\n",
              "4        Yes\n",
              "        ... \n",
              "33869     No\n",
              "33870     No\n",
              "33871     No\n",
              "33872     No\n",
              "33873    Yes\n",
              "Name: label, Length: 33874, dtype: object"
            ]
          },
          "execution_count": 15,
          "metadata": {},
          "output_type": "execute_result"
        }
      ],
      "source": [
        "y"
      ]
    },
    {
      "cell_type": "markdown",
      "metadata": {
        "id": "zapcCLfz7KJ5"
      },
      "source": [
        "# score with train set"
      ]
    },
    {
      "cell_type": "code",
      "execution_count": 16,
      "metadata": {
        "colab": {
          "base_uri": "https://localhost:8080/"
        },
        "id": "gYxf9XUnw7Gf",
        "outputId": "bd5f6b48-f801-463b-b05d-c524961543bd"
      },
      "outputs": [
        {
          "data": {
            "text/plain": [
              "0.8510657141170219"
            ]
          },
          "execution_count": 16,
          "metadata": {},
          "output_type": "execute_result"
        }
      ],
      "source": [
        "knn.score(X,y) #คะแนนข้อมูลที่ train เอง"
      ]
    },
    {
      "cell_type": "markdown",
      "metadata": {
        "id": "hay9KS8Ty5Jj"
      },
      "source": [
        "#score with test set"
      ]
    },
    {
      "cell_type": "code",
      "execution_count": 18,
      "metadata": {
        "colab": {
          "base_uri": "https://localhost:8080/",
          "height": 800
        },
        "id": "yzseHoeDw9ym",
        "outputId": "aa10901b-1e3a-49be-be4c-6544ad327679"
      },
      "outputs": [
        {
          "data": {
            "text/html": [
              "<div>\n",
              "<style scoped>\n",
              "    .dataframe tbody tr th:only-of-type {\n",
              "        vertical-align: middle;\n",
              "    }\n",
              "\n",
              "    .dataframe tbody tr th {\n",
              "        vertical-align: top;\n",
              "    }\n",
              "\n",
              "    .dataframe thead th {\n",
              "        text-align: right;\n",
              "    }\n",
              "</style>\n",
              "<table border=\"1\" class=\"dataframe\">\n",
              "  <thead>\n",
              "    <tr style=\"text-align: right;\">\n",
              "      <th></th>\n",
              "      <th>age</th>\n",
              "      <th>workclass</th>\n",
              "      <th>weight</th>\n",
              "      <th>education</th>\n",
              "      <th>edu num</th>\n",
              "      <th>marital status</th>\n",
              "      <th>occupation</th>\n",
              "      <th>relationship</th>\n",
              "      <th>race</th>\n",
              "      <th>sex</th>\n",
              "      <th>captial-gain</th>\n",
              "      <th>capital-loss</th>\n",
              "      <th>hours-per-week</th>\n",
              "      <th>native country</th>\n",
              "      <th>label</th>\n",
              "    </tr>\n",
              "  </thead>\n",
              "  <tbody>\n",
              "    <tr>\n",
              "      <th>0</th>\n",
              "      <td>32</td>\n",
              "      <td>Private</td>\n",
              "      <td>241802</td>\n",
              "      <td>HS-grad</td>\n",
              "      <td>9</td>\n",
              "      <td>Married-civ-spouse</td>\n",
              "      <td>Other-service</td>\n",
              "      <td>Wife</td>\n",
              "      <td>Other</td>\n",
              "      <td>Female</td>\n",
              "      <td>0</td>\n",
              "      <td>0</td>\n",
              "      <td>40</td>\n",
              "      <td>United-States</td>\n",
              "      <td>No</td>\n",
              "    </tr>\n",
              "    <tr>\n",
              "      <th>1</th>\n",
              "      <td>81</td>\n",
              "      <td>Private</td>\n",
              "      <td>164416</td>\n",
              "      <td>Prof-school</td>\n",
              "      <td>15</td>\n",
              "      <td>Married-civ-spouse</td>\n",
              "      <td>Sales</td>\n",
              "      <td>Husband</td>\n",
              "      <td>White</td>\n",
              "      <td>Male</td>\n",
              "      <td>0</td>\n",
              "      <td>0</td>\n",
              "      <td>45</td>\n",
              "      <td>United-States</td>\n",
              "      <td>Yes</td>\n",
              "    </tr>\n",
              "    <tr>\n",
              "      <th>2</th>\n",
              "      <td>17</td>\n",
              "      <td>Self-emp-inc</td>\n",
              "      <td>181608</td>\n",
              "      <td>10th</td>\n",
              "      <td>6</td>\n",
              "      <td>Never-married</td>\n",
              "      <td>Sales</td>\n",
              "      <td>Own-child</td>\n",
              "      <td>White</td>\n",
              "      <td>Male</td>\n",
              "      <td>0</td>\n",
              "      <td>0</td>\n",
              "      <td>12</td>\n",
              "      <td>United-States</td>\n",
              "      <td>No</td>\n",
              "    </tr>\n",
              "    <tr>\n",
              "      <th>3</th>\n",
              "      <td>36</td>\n",
              "      <td>Private</td>\n",
              "      <td>289223</td>\n",
              "      <td>Some-college</td>\n",
              "      <td>10</td>\n",
              "      <td>Married-civ-spouse</td>\n",
              "      <td>Adm-clerical</td>\n",
              "      <td>Wife</td>\n",
              "      <td>White</td>\n",
              "      <td>Female</td>\n",
              "      <td>0</td>\n",
              "      <td>1848</td>\n",
              "      <td>40</td>\n",
              "      <td>United-States</td>\n",
              "      <td>Yes</td>\n",
              "    </tr>\n",
              "    <tr>\n",
              "      <th>4</th>\n",
              "      <td>54</td>\n",
              "      <td>Private</td>\n",
              "      <td>351760</td>\n",
              "      <td>Some-college</td>\n",
              "      <td>10</td>\n",
              "      <td>Divorced</td>\n",
              "      <td>Adm-clerical</td>\n",
              "      <td>Not-in-family</td>\n",
              "      <td>White</td>\n",
              "      <td>Female</td>\n",
              "      <td>0</td>\n",
              "      <td>0</td>\n",
              "      <td>35</td>\n",
              "      <td>United-States</td>\n",
              "      <td>No</td>\n",
              "    </tr>\n",
              "    <tr>\n",
              "      <th>...</th>\n",
              "      <td>...</td>\n",
              "      <td>...</td>\n",
              "      <td>...</td>\n",
              "      <td>...</td>\n",
              "      <td>...</td>\n",
              "      <td>...</td>\n",
              "      <td>...</td>\n",
              "      <td>...</td>\n",
              "      <td>...</td>\n",
              "      <td>...</td>\n",
              "      <td>...</td>\n",
              "      <td>...</td>\n",
              "      <td>...</td>\n",
              "      <td>...</td>\n",
              "      <td>...</td>\n",
              "    </tr>\n",
              "    <tr>\n",
              "      <th>9763</th>\n",
              "      <td>48</td>\n",
              "      <td>Local-gov</td>\n",
              "      <td>216689</td>\n",
              "      <td>HS-grad</td>\n",
              "      <td>9</td>\n",
              "      <td>Married-civ-spouse</td>\n",
              "      <td>Craft-repair</td>\n",
              "      <td>Husband</td>\n",
              "      <td>White</td>\n",
              "      <td>Male</td>\n",
              "      <td>0</td>\n",
              "      <td>0</td>\n",
              "      <td>40</td>\n",
              "      <td>United-States</td>\n",
              "      <td>No</td>\n",
              "    </tr>\n",
              "    <tr>\n",
              "      <th>9764</th>\n",
              "      <td>21</td>\n",
              "      <td>Private</td>\n",
              "      <td>345253</td>\n",
              "      <td>Some-college</td>\n",
              "      <td>10</td>\n",
              "      <td>Never-married</td>\n",
              "      <td>Adm-clerical</td>\n",
              "      <td>Not-in-family</td>\n",
              "      <td>Other</td>\n",
              "      <td>Male</td>\n",
              "      <td>2174</td>\n",
              "      <td>0</td>\n",
              "      <td>40</td>\n",
              "      <td>United-States</td>\n",
              "      <td>No</td>\n",
              "    </tr>\n",
              "    <tr>\n",
              "      <th>9765</th>\n",
              "      <td>57</td>\n",
              "      <td>Self-emp-inc</td>\n",
              "      <td>51016</td>\n",
              "      <td>HS-grad</td>\n",
              "      <td>9</td>\n",
              "      <td>Married-civ-spouse</td>\n",
              "      <td>Exec-managerial</td>\n",
              "      <td>Husband</td>\n",
              "      <td>White</td>\n",
              "      <td>Male</td>\n",
              "      <td>0</td>\n",
              "      <td>0</td>\n",
              "      <td>60</td>\n",
              "      <td>United-States</td>\n",
              "      <td>Yes</td>\n",
              "    </tr>\n",
              "    <tr>\n",
              "      <th>9766</th>\n",
              "      <td>52</td>\n",
              "      <td>Private</td>\n",
              "      <td>117295</td>\n",
              "      <td>1st-4th</td>\n",
              "      <td>2</td>\n",
              "      <td>Married-civ-spouse</td>\n",
              "      <td>Exec-managerial</td>\n",
              "      <td>Husband</td>\n",
              "      <td>White</td>\n",
              "      <td>Male</td>\n",
              "      <td>0</td>\n",
              "      <td>0</td>\n",
              "      <td>50</td>\n",
              "      <td>United-States</td>\n",
              "      <td>Yes</td>\n",
              "    </tr>\n",
              "    <tr>\n",
              "      <th>9767</th>\n",
              "      <td>40</td>\n",
              "      <td>Private</td>\n",
              "      <td>146659</td>\n",
              "      <td>Assoc-acdm</td>\n",
              "      <td>12</td>\n",
              "      <td>Never-married</td>\n",
              "      <td>Prof-specialty</td>\n",
              "      <td>Not-in-family</td>\n",
              "      <td>White</td>\n",
              "      <td>Male</td>\n",
              "      <td>0</td>\n",
              "      <td>0</td>\n",
              "      <td>40</td>\n",
              "      <td>United-States</td>\n",
              "      <td>No</td>\n",
              "    </tr>\n",
              "  </tbody>\n",
              "</table>\n",
              "<p>9768 rows × 15 columns</p>\n",
              "</div>"
            ],
            "text/plain": [
              "      age      workclass  weight      education  edu num       marital status  \\\n",
              "0      32        Private  241802        HS-grad        9   Married-civ-spouse   \n",
              "1      81        Private  164416    Prof-school       15   Married-civ-spouse   \n",
              "2      17   Self-emp-inc  181608           10th        6        Never-married   \n",
              "3      36        Private  289223   Some-college       10   Married-civ-spouse   \n",
              "4      54        Private  351760   Some-college       10             Divorced   \n",
              "...   ...            ...     ...            ...      ...                  ...   \n",
              "9763   48      Local-gov  216689        HS-grad        9   Married-civ-spouse   \n",
              "9764   21        Private  345253   Some-college       10        Never-married   \n",
              "9765   57   Self-emp-inc   51016        HS-grad        9   Married-civ-spouse   \n",
              "9766   52        Private  117295        1st-4th        2   Married-civ-spouse   \n",
              "9767   40        Private  146659     Assoc-acdm       12        Never-married   \n",
              "\n",
              "            occupation    relationship    race      sex  captial-gain  \\\n",
              "0        Other-service            Wife   Other   Female             0   \n",
              "1                Sales         Husband   White     Male             0   \n",
              "2                Sales       Own-child   White     Male             0   \n",
              "3         Adm-clerical            Wife   White   Female             0   \n",
              "4         Adm-clerical   Not-in-family   White   Female             0   \n",
              "...                ...             ...     ...      ...           ...   \n",
              "9763      Craft-repair         Husband   White     Male             0   \n",
              "9764      Adm-clerical   Not-in-family   Other     Male          2174   \n",
              "9765   Exec-managerial         Husband   White     Male             0   \n",
              "9766   Exec-managerial         Husband   White     Male             0   \n",
              "9767    Prof-specialty   Not-in-family   White     Male             0   \n",
              "\n",
              "      capital-loss  hours-per-week  native country label  \n",
              "0                0              40   United-States    No  \n",
              "1                0              45   United-States   Yes  \n",
              "2                0              12   United-States    No  \n",
              "3             1848              40   United-States   Yes  \n",
              "4                0              35   United-States    No  \n",
              "...            ...             ...             ...   ...  \n",
              "9763             0              40   United-States    No  \n",
              "9764             0              40   United-States    No  \n",
              "9765             0              60   United-States   Yes  \n",
              "9766             0              50   United-States   Yes  \n",
              "9767             0              40   United-States    No  \n",
              "\n",
              "[9768 rows x 15 columns]"
            ]
          },
          "execution_count": 18,
          "metadata": {},
          "output_type": "execute_result"
        }
      ],
      "source": [
        "# unseen เอาไว้ใช้ครั้งสุดท้ายครั้งเดียว\n",
        "df2=pd.read_csv('02-future-census.csv')\n",
        "df2"
      ]
    },
    {
      "cell_type": "code",
      "execution_count": 19,
      "metadata": {
        "colab": {
          "base_uri": "https://localhost:8080/",
          "height": 424
        },
        "id": "SWVKk35dxr5D",
        "outputId": "da0449a4-3af6-40ac-a99a-57353804623a"
      },
      "outputs": [
        {
          "data": {
            "text/html": [
              "<div>\n",
              "<style scoped>\n",
              "    .dataframe tbody tr th:only-of-type {\n",
              "        vertical-align: middle;\n",
              "    }\n",
              "\n",
              "    .dataframe tbody tr th {\n",
              "        vertical-align: top;\n",
              "    }\n",
              "\n",
              "    .dataframe thead th {\n",
              "        text-align: right;\n",
              "    }\n",
              "</style>\n",
              "<table border=\"1\" class=\"dataframe\">\n",
              "  <thead>\n",
              "    <tr style=\"text-align: right;\">\n",
              "      <th></th>\n",
              "      <th>age</th>\n",
              "      <th>edu num</th>\n",
              "      <th>captial-gain</th>\n",
              "      <th>capital-loss</th>\n",
              "      <th>hours-per-week</th>\n",
              "    </tr>\n",
              "  </thead>\n",
              "  <tbody>\n",
              "    <tr>\n",
              "      <th>0</th>\n",
              "      <td>32</td>\n",
              "      <td>9</td>\n",
              "      <td>0</td>\n",
              "      <td>0</td>\n",
              "      <td>40</td>\n",
              "    </tr>\n",
              "    <tr>\n",
              "      <th>1</th>\n",
              "      <td>81</td>\n",
              "      <td>15</td>\n",
              "      <td>0</td>\n",
              "      <td>0</td>\n",
              "      <td>45</td>\n",
              "    </tr>\n",
              "    <tr>\n",
              "      <th>2</th>\n",
              "      <td>17</td>\n",
              "      <td>6</td>\n",
              "      <td>0</td>\n",
              "      <td>0</td>\n",
              "      <td>12</td>\n",
              "    </tr>\n",
              "    <tr>\n",
              "      <th>3</th>\n",
              "      <td>36</td>\n",
              "      <td>10</td>\n",
              "      <td>0</td>\n",
              "      <td>1848</td>\n",
              "      <td>40</td>\n",
              "    </tr>\n",
              "    <tr>\n",
              "      <th>4</th>\n",
              "      <td>54</td>\n",
              "      <td>10</td>\n",
              "      <td>0</td>\n",
              "      <td>0</td>\n",
              "      <td>35</td>\n",
              "    </tr>\n",
              "    <tr>\n",
              "      <th>...</th>\n",
              "      <td>...</td>\n",
              "      <td>...</td>\n",
              "      <td>...</td>\n",
              "      <td>...</td>\n",
              "      <td>...</td>\n",
              "    </tr>\n",
              "    <tr>\n",
              "      <th>9763</th>\n",
              "      <td>48</td>\n",
              "      <td>9</td>\n",
              "      <td>0</td>\n",
              "      <td>0</td>\n",
              "      <td>40</td>\n",
              "    </tr>\n",
              "    <tr>\n",
              "      <th>9764</th>\n",
              "      <td>21</td>\n",
              "      <td>10</td>\n",
              "      <td>2174</td>\n",
              "      <td>0</td>\n",
              "      <td>40</td>\n",
              "    </tr>\n",
              "    <tr>\n",
              "      <th>9765</th>\n",
              "      <td>57</td>\n",
              "      <td>9</td>\n",
              "      <td>0</td>\n",
              "      <td>0</td>\n",
              "      <td>60</td>\n",
              "    </tr>\n",
              "    <tr>\n",
              "      <th>9766</th>\n",
              "      <td>52</td>\n",
              "      <td>2</td>\n",
              "      <td>0</td>\n",
              "      <td>0</td>\n",
              "      <td>50</td>\n",
              "    </tr>\n",
              "    <tr>\n",
              "      <th>9767</th>\n",
              "      <td>40</td>\n",
              "      <td>12</td>\n",
              "      <td>0</td>\n",
              "      <td>0</td>\n",
              "      <td>40</td>\n",
              "    </tr>\n",
              "  </tbody>\n",
              "</table>\n",
              "<p>9768 rows × 5 columns</p>\n",
              "</div>"
            ],
            "text/plain": [
              "      age  edu num  captial-gain  capital-loss  hours-per-week\n",
              "0      32        9             0             0              40\n",
              "1      81       15             0             0              45\n",
              "2      17        6             0             0              12\n",
              "3      36       10             0          1848              40\n",
              "4      54       10             0             0              35\n",
              "...   ...      ...           ...           ...             ...\n",
              "9763   48        9             0             0              40\n",
              "9764   21       10          2174             0              40\n",
              "9765   57        9             0             0              60\n",
              "9766   52        2             0             0              50\n",
              "9767   40       12             0             0              40\n",
              "\n",
              "[9768 rows x 5 columns]"
            ]
          },
          "execution_count": 19,
          "metadata": {},
          "output_type": "execute_result"
        }
      ],
      "source": [
        "unseen_X=df2[['age','edu num','captial-gain','capital-loss','hours-per-week']]\n",
        "unseen_X"
      ]
    },
    {
      "cell_type": "code",
      "execution_count": 20,
      "metadata": {
        "colab": {
          "base_uri": "https://localhost:8080/"
        },
        "id": "diLpuMw0yBAk",
        "outputId": "9106f463-c8d9-478d-d287-ebbbd8420d55"
      },
      "outputs": [
        {
          "data": {
            "text/plain": [
              "0        No\n",
              "1       Yes\n",
              "2        No\n",
              "3       Yes\n",
              "4        No\n",
              "       ... \n",
              "9763     No\n",
              "9764     No\n",
              "9765    Yes\n",
              "9766    Yes\n",
              "9767     No\n",
              "Name: label, Length: 9768, dtype: object"
            ]
          },
          "execution_count": 20,
          "metadata": {},
          "output_type": "execute_result"
        }
      ],
      "source": [
        "unseen_y=df2['label']\n",
        "unseen_y"
      ]
    },
    {
      "cell_type": "code",
      "execution_count": 21,
      "metadata": {
        "colab": {
          "base_uri": "https://localhost:8080/"
        },
        "id": "07VQKA1tyHjj",
        "outputId": "84eaf6b7-097e-4eaa-f870-07423b64b7b0"
      },
      "outputs": [
        {
          "data": {
            "text/plain": [
              "0.8279074529074529"
            ]
          },
          "execution_count": 21,
          "metadata": {},
          "output_type": "execute_result"
        }
      ],
      "source": [
        "knn.score(unseen_X,unseen_y)# test"
      ]
    },
    {
      "cell_type": "markdown",
      "metadata": {
        "id": "37BqfBfUzZOW"
      },
      "source": [
        "# train test split"
      ]
    },
    {
      "cell_type": "code",
      "execution_count": 22,
      "metadata": {
        "id": "6f47l80cyQFe"
      },
      "outputs": [],
      "source": [
        "from sklearn.model_selection import train_test_split"
      ]
    },
    {
      "cell_type": "code",
      "execution_count": 23,
      "metadata": {
        "id": "y7KXU6uszl7U"
      },
      "outputs": [],
      "source": [
        "X_train, X_test, y_train, y_test = train_test_split(X,y,test_size=0.2)"
      ]
    },
    {
      "cell_type": "code",
      "execution_count": 24,
      "metadata": {
        "id": "29dHBXik0bx5"
      },
      "outputs": [],
      "source": [
        "knn2=KNeighborsClassifier(n_neighbors=29)"
      ]
    },
    {
      "cell_type": "code",
      "execution_count": 25,
      "metadata": {
        "colab": {
          "base_uri": "https://localhost:8080/"
        },
        "id": "zyzYeXTf0mTT",
        "outputId": "9fae5abf-fefc-4ac1-d37a-63c99248265e"
      },
      "outputs": [
        {
          "data": {
            "text/plain": [
              "KNeighborsClassifier(n_neighbors=29)"
            ]
          },
          "execution_count": 25,
          "metadata": {},
          "output_type": "execute_result"
        }
      ],
      "source": [
        "knn2.fit(X_train, y_train)"
      ]
    },
    {
      "cell_type": "code",
      "execution_count": 26,
      "metadata": {
        "colab": {
          "base_uri": "https://localhost:8080/"
        },
        "id": "ktowUY3601Xt",
        "outputId": "9284e5cd-7b5b-45de-a6ff-7e92da601467"
      },
      "outputs": [
        {
          "data": {
            "text/plain": [
              "0.8452710432119266"
            ]
          },
          "execution_count": 26,
          "metadata": {},
          "output_type": "execute_result"
        }
      ],
      "source": [
        "knn2.score(X_train,y_train)"
      ]
    },
    {
      "cell_type": "code",
      "execution_count": 27,
      "metadata": {
        "colab": {
          "base_uri": "https://localhost:8080/"
        },
        "id": "0Ou1NNVi0sJA",
        "outputId": "f24681fc-2ba6-462b-aeae-8797ce9b5a6d"
      },
      "outputs": [
        {
          "data": {
            "text/plain": [
              "0.8395571955719557"
            ]
          },
          "execution_count": 27,
          "metadata": {},
          "output_type": "execute_result"
        }
      ],
      "source": [
        "knn2.score(X_test,y_test)#ปรับให้เปอร์เซ็นของชุด train test ใกล้เคียงกัน"
      ]
    },
    {
      "cell_type": "markdown",
      "metadata": {
        "id": "dg0__8_j1qsc"
      },
      "source": [
        "# retrain with all data"
      ]
    },
    {
      "cell_type": "code",
      "execution_count": 28,
      "metadata": {
        "colab": {
          "base_uri": "https://localhost:8080/"
        },
        "id": "YvVtRzKJ0x95",
        "outputId": "c42e8ac4-bc50-4063-86b9-b58c60a41c11"
      },
      "outputs": [
        {
          "data": {
            "text/plain": [
              "KNeighborsClassifier(n_neighbors=29)"
            ]
          },
          "execution_count": 28,
          "metadata": {},
          "output_type": "execute_result"
        }
      ],
      "source": [
        "knn2.fit(X,y)"
      ]
    },
    {
      "cell_type": "code",
      "execution_count": 29,
      "metadata": {
        "colab": {
          "base_uri": "https://localhost:8080/"
        },
        "id": "tVGrQvfI1x6S",
        "outputId": "9a669229-612c-47b2-e05e-874607234dfb"
      },
      "outputs": [
        {
          "data": {
            "text/plain": [
              "0.8467851449489284"
            ]
          },
          "execution_count": 29,
          "metadata": {},
          "output_type": "execute_result"
        }
      ],
      "source": [
        "knn2.score(X,y)"
      ]
    },
    {
      "cell_type": "code",
      "execution_count": 30,
      "metadata": {
        "colab": {
          "base_uri": "https://localhost:8080/"
        },
        "id": "45AjRPLQ11fk",
        "outputId": "30c836f0-05fb-4936-a607-981db2c11c68"
      },
      "outputs": [
        {
          "data": {
            "text/plain": [
              "0.835995085995086"
            ]
          },
          "execution_count": 30,
          "metadata": {},
          "output_type": "execute_result"
        }
      ],
      "source": [
        "knn2.score(unseen_X,unseen_y)"
      ]
    },
    {
      "cell_type": "markdown",
      "metadata": {
        "id": "gi4-BILg4lfy"
      },
      "source": [
        "# cross-validation"
      ]
    },
    {
      "cell_type": "code",
      "execution_count": 31,
      "metadata": {
        "colab": {
          "base_uri": "https://localhost:8080/"
        },
        "id": "gMvEc3L-18yl",
        "outputId": "b43dbc32-2807-40aa-e291-ff54a0082c4f"
      },
      "outputs": [
        {
          "data": {
            "text/plain": [
              "0.8461566847485147"
            ]
          },
          "execution_count": 31,
          "metadata": {},
          "output_type": "execute_result"
        }
      ],
      "source": [
        "#เพื่อสร้างโมเดลที่กำหนดค่า hyperparameter\n",
        "X_train, X_test, y_train, y_test = train_test_split(X,y,test_size=0.2)\n",
        "knn3=KNeighborsClassifier(n_neighbors=29)\n",
        "knn3.fit(X_train,y_train)\n",
        "knn3.score(X_train, y_train)"
      ]
    },
    {
      "cell_type": "code",
      "execution_count": 32,
      "metadata": {
        "colab": {
          "base_uri": "https://localhost:8080/"
        },
        "id": "vBk1tzIf5DPI",
        "outputId": "78eee12d-4f9b-4532-d115-22397ab485a5"
      },
      "outputs": [
        {
          "data": {
            "text/plain": [
              "0.8286346863468634"
            ]
          },
          "execution_count": 32,
          "metadata": {},
          "output_type": "execute_result"
        }
      ],
      "source": [
        "knn3.score(X_test,y_test)"
      ]
    },
    {
      "cell_type": "code",
      "execution_count": 33,
      "metadata": {
        "id": "xkG3R6ha5JlH"
      },
      "outputs": [],
      "source": [
        "from sklearn.model_selection import cross_val_score"
      ]
    },
    {
      "cell_type": "code",
      "execution_count": 34,
      "metadata": {
        "id": "dNCsH_Bg51gt"
      },
      "outputs": [],
      "source": [
        "knn_cv = KNeighborsClassifier(n_neighbors=29)"
      ]
    },
    {
      "cell_type": "code",
      "execution_count": 35,
      "metadata": {
        "id": "-nGtMXO86Kj-"
      },
      "outputs": [],
      "source": [
        "knn_29_cv_result=cross_val_score( knn_cv, X, y, cv=10)# ทำ 10 รอบ"
      ]
    },
    {
      "cell_type": "code",
      "execution_count": 36,
      "metadata": {
        "colab": {
          "base_uri": "https://localhost:8080/"
        },
        "id": "CZvgIWPQ6m98",
        "outputId": "f60aac4e-c2a7-4de1-e92d-8c55bbfe2490"
      },
      "outputs": [
        {
          "data": {
            "text/plain": [
              "array([0.83559622, 0.83087367, 0.84090909, 0.84149941, 0.829938  ,\n",
              "       0.84233835, 0.83731916, 0.84794804, 0.83200472, 0.83643342])"
            ]
          },
          "execution_count": 36,
          "metadata": {},
          "output_type": "execute_result"
        }
      ],
      "source": [
        "knn_29_cv_result"
      ]
    },
    {
      "cell_type": "code",
      "execution_count": 37,
      "metadata": {
        "colab": {
          "base_uri": "https://localhost:8080/"
        },
        "id": "NHf92DBc6235",
        "outputId": "7d643938-d722-4556-fa81-d7679e64ce1a"
      },
      "outputs": [
        {
          "data": {
            "text/plain": [
              "0.8374860089048027"
            ]
          },
          "execution_count": 37,
          "metadata": {},
          "output_type": "execute_result"
        }
      ],
      "source": [
        "knn_29_cv_result.mean()# หาค่าเฉลี่ย"
      ]
    },
    {
      "cell_type": "code",
      "execution_count": 38,
      "metadata": {
        "colab": {
          "base_uri": "https://localhost:8080/"
        },
        "id": "dxl8Yjrx6_X-",
        "outputId": "6d54ccf1-464c-4edb-c6e0-ef2ae89a249a"
      },
      "outputs": [
        {
          "data": {
            "text/plain": [
              "array([0.83618654, 0.8270366 , 0.83913813, 0.83943329, 0.82787127,\n",
              "       0.84233835, 0.83790965, 0.84735754, 0.83229997, 0.83141423])"
            ]
          },
          "execution_count": 38,
          "metadata": {},
          "output_type": "execute_result"
        }
      ],
      "source": [
        "knn_cv = KNeighborsClassifier(n_neighbors=35) # ทำเพื่อเช็ค\n",
        "knn_35_cv_result=cross_val_score( knn_cv, X, y, cv=10)\n",
        "knn_35_cv_result"
      ]
    },
    {
      "cell_type": "code",
      "execution_count": 39,
      "metadata": {
        "colab": {
          "base_uri": "https://localhost:8080/"
        },
        "id": "zxrVu94j7e1R",
        "outputId": "4fd6b194-98d1-448d-911d-6e5064c33fd3"
      },
      "outputs": [
        {
          "data": {
            "text/plain": [
              "0.8360985593572758"
            ]
          },
          "execution_count": 39,
          "metadata": {},
          "output_type": "execute_result"
        }
      ],
      "source": [
        "knn_35_cv_result.mean()"
      ]
    },
    {
      "cell_type": "markdown",
      "metadata": {
        "id": "8PYd8RLY86en"
      },
      "source": [
        "# GridSearchCV"
      ]
    },
    {
      "cell_type": "code",
      "execution_count": 40,
      "metadata": {
        "id": "JDw9Oc597n0P"
      },
      "outputs": [],
      "source": [
        "#ทำเพื่อไม่ต้องเปลี่ยนค่า k เอง\n",
        "from sklearn.model_selection import GridSearchCV"
      ]
    },
    {
      "cell_type": "code",
      "execution_count": 41,
      "metadata": {
        "id": "UtE2jgbK9k_-"
      },
      "outputs": [],
      "source": [
        "knn_grid_search = KNeighborsClassifier()"
      ]
    },
    {
      "cell_type": "code",
      "execution_count": 42,
      "metadata": {
        "id": "ylv-JPZa-ApI"
      },
      "outputs": [],
      "source": [
        "parameter_grid={'n_neighbors':[15,17,19,21,23,25,27,29,31,35]} #dic ที่เก็บค่าที่จะปรับเรื่อยๆ"
      ]
    },
    {
      "cell_type": "code",
      "execution_count": 43,
      "metadata": {
        "id": "uaTPOTed9tMj"
      },
      "outputs": [],
      "source": [
        "grid_search= GridSearchCV(knn_grid_search, parameter_grid,cv=10)"
      ]
    },
    {
      "cell_type": "code",
      "execution_count": 44,
      "metadata": {
        "colab": {
          "base_uri": "https://localhost:8080/"
        },
        "id": "PEZ30juO-0VM",
        "outputId": "6f1b3d5e-46af-45ea-c753-1b338475d047"
      },
      "outputs": [
        {
          "data": {
            "text/plain": [
              "GridSearchCV(cv=10, estimator=KNeighborsClassifier(),\n",
              "             param_grid={'n_neighbors': [15, 17, 19, 21, 23, 25, 27, 29, 31,\n",
              "                                         35]})"
            ]
          },
          "execution_count": 44,
          "metadata": {},
          "output_type": "execute_result"
        }
      ],
      "source": [
        "grid_search.fit(X,y)"
      ]
    },
    {
      "cell_type": "code",
      "execution_count": 45,
      "metadata": {
        "colab": {
          "base_uri": "https://localhost:8080/"
        },
        "id": "d4rRHBf9-9JN",
        "outputId": "6523d495-cf7b-41cf-c5a8-334bc082e7e3"
      },
      "outputs": [
        {
          "data": {
            "text/plain": [
              "{'n_neighbors': 29}"
            ]
          },
          "execution_count": 45,
          "metadata": {},
          "output_type": "execute_result"
        }
      ],
      "source": [
        "grid_search.best_params_ #parameter ที่ได้คะแนนดีสุด"
      ]
    },
    {
      "cell_type": "code",
      "execution_count": 46,
      "metadata": {
        "colab": {
          "base_uri": "https://localhost:8080/"
        },
        "id": "tRlBI5gz_UNL",
        "outputId": "fe6dfa5d-4584-48c6-d37b-0681b3f55cb0"
      },
      "outputs": [
        {
          "data": {
            "text/plain": [
              "0.8374860089048027"
            ]
          },
          "execution_count": 46,
          "metadata": {},
          "output_type": "execute_result"
        }
      ],
      "source": [
        "grid_search.best_score_ #คะแนนดีสุด"
      ]
    },
    {
      "cell_type": "code",
      "execution_count": 47,
      "metadata": {
        "colab": {
          "base_uri": "https://localhost:8080/"
        },
        "id": "enkOemd7_Zxt",
        "outputId": "76b90929-c1ba-4e2f-907a-c4dd8745623e"
      },
      "outputs": [
        {
          "data": {
            "text/plain": [
              "{'mean_fit_time': array([0.4908814 , 0.495134  , 0.51219809, 0.52999284, 0.52740262,\n",
              "        0.51190207, 0.52941711, 0.53312764, 0.51886361, 0.50609534]),\n",
              " 'std_fit_time': array([0.00386479, 0.0108319 , 0.01069545, 0.02110576, 0.02691523,\n",
              "        0.00855671, 0.02187101, 0.01261003, 0.00801047, 0.00370889]),\n",
              " 'mean_score_time': array([0.18934419, 0.18857512, 0.20113192, 0.20339229, 0.20171247,\n",
              "        0.20645847, 0.20817862, 0.20829203, 0.2115128 , 0.21086814]),\n",
              " 'std_score_time': array([0.0094576 , 0.00348986, 0.01107296, 0.00744225, 0.00516725,\n",
              "        0.00860778, 0.00353063, 0.00481515, 0.00788128, 0.00329117]),\n",
              " 'param_n_neighbors': masked_array(data=[15, 17, 19, 21, 23, 25, 27, 29, 31, 35],\n",
              "              mask=[False, False, False, False, False, False, False, False,\n",
              "                    False, False],\n",
              "        fill_value='?',\n",
              "             dtype=object),\n",
              " 'params': [{'n_neighbors': 15},\n",
              "  {'n_neighbors': 17},\n",
              "  {'n_neighbors': 19},\n",
              "  {'n_neighbors': 21},\n",
              "  {'n_neighbors': 23},\n",
              "  {'n_neighbors': 25},\n",
              "  {'n_neighbors': 27},\n",
              "  {'n_neighbors': 29},\n",
              "  {'n_neighbors': 31},\n",
              "  {'n_neighbors': 35}],\n",
              " 'split0_test_score': array([0.83884298, 0.8350059 , 0.8379575 , 0.83618654, 0.83707202,\n",
              "        0.83441558, 0.83736718, 0.83559622, 0.83825266, 0.83618654]),\n",
              " 'split1_test_score': array([0.83028335, 0.82969303, 0.82969303, 0.83530106, 0.83028335,\n",
              "        0.83116883, 0.83234947, 0.83087367, 0.82910272, 0.8270366 ]),\n",
              " 'split2_test_score': array([0.83943329, 0.83825266, 0.84061393, 0.83766234, 0.84238489,\n",
              "        0.83884298, 0.84149941, 0.84090909, 0.84356553, 0.83913813]),\n",
              " 'split3_test_score': array([0.84090909, 0.84149941, 0.84149941, 0.84031877, 0.84031877,\n",
              "        0.83884298, 0.84002361, 0.84149941, 0.83943329, 0.83943329]),\n",
              " 'split4_test_score': array([0.82816652, 0.83023324, 0.829938  , 0.82964275, 0.82905226,\n",
              "        0.82964275, 0.83023324, 0.829938  , 0.83082374, 0.82787127]),\n",
              " 'split5_test_score': array([0.83790965, 0.83909064, 0.84145261, 0.83968113, 0.84292885,\n",
              "        0.84351934, 0.84381459, 0.84233835, 0.84145261, 0.84233835]),\n",
              " 'split6_test_score': array([0.829938  , 0.83466194, 0.83407145, 0.83259522, 0.83200472,\n",
              "        0.8343667 , 0.83554768, 0.83731916, 0.83643342, 0.83790965]),\n",
              " 'split7_test_score': array([0.84351934, 0.8426336 , 0.84558606, 0.84676705, 0.84617656,\n",
              "        0.84499557, 0.84558606, 0.84794804, 0.84883378, 0.84735754]),\n",
              " 'split8_test_score': array([0.83141423, 0.8337762 , 0.83229997, 0.83554768, 0.83200472,\n",
              "        0.83348096, 0.83141423, 0.83200472, 0.83111898, 0.83229997]),\n",
              " 'split9_test_score': array([0.829938  , 0.82905226, 0.82728078, 0.83289046, 0.83466194,\n",
              "        0.8337762 , 0.83525244, 0.83643342, 0.83259522, 0.83141423]),\n",
              " 'mean_test_score': array([0.83503545, 0.83538989, 0.83603927, 0.8366593 , 0.83668881,\n",
              "        0.83630519, 0.83730879, 0.83748601, 0.83716119, 0.83609856]),\n",
              " 'std_test_score': array([0.00532373, 0.00462797, 0.00589009, 0.00457114, 0.00567504,\n",
              "        0.00482616, 0.00502501, 0.00544308, 0.00604171, 0.00612802]),\n",
              " 'rank_test_score': array([10,  9,  8,  5,  4,  6,  2,  1,  3,  7])}"
            ]
          },
          "execution_count": 47,
          "metadata": {},
          "output_type": "execute_result"
        }
      ],
      "source": [
        "grid_search.cv_results_"
      ]
    },
    {
      "cell_type": "code",
      "execution_count": 48,
      "metadata": {
        "colab": {
          "base_uri": "https://localhost:8080/"
        },
        "id": "3HohiBBI_kmq",
        "outputId": "017bd567-51d1-4c70-d021-ef4ae66b0767"
      },
      "outputs": [
        {
          "data": {
            "text/plain": [
              "array(['No', 'Yes', 'Yes', ..., 'Yes', 'No', 'Yes'], dtype=object)"
            ]
          },
          "execution_count": 48,
          "metadata": {},
          "output_type": "execute_result"
        }
      ],
      "source": [
        "grid_search.predict(X)"
      ]
    },
    {
      "cell_type": "code",
      "execution_count": 49,
      "metadata": {
        "colab": {
          "base_uri": "https://localhost:8080/"
        },
        "id": "m_HfyXk4AWFU",
        "outputId": "497b42db-d394-4b61-f417-f7ad924cd7c6"
      },
      "outputs": [
        {
          "data": {
            "text/plain": [
              "0.8467851449489284"
            ]
          },
          "execution_count": 49,
          "metadata": {},
          "output_type": "execute_result"
        }
      ],
      "source": [
        "grid_search.score(X,y)"
      ]
    },
    {
      "cell_type": "code",
      "execution_count": 50,
      "metadata": {
        "colab": {
          "base_uri": "https://localhost:8080/"
        },
        "id": "ATln7fHQAaCq",
        "outputId": "948b2f7e-6244-417d-d284-82d5c63db7ed"
      },
      "outputs": [
        {
          "data": {
            "text/plain": [
              "0.835995085995086"
            ]
          },
          "execution_count": 50,
          "metadata": {},
          "output_type": "execute_result"
        }
      ],
      "source": [
        "grid_search.score(unseen_X,unseen_y)"
      ]
    },
    {
      "cell_type": "code",
      "execution_count": null,
      "metadata": {
        "id": "3-YPozP9Ajl0"
      },
      "outputs": [],
      "source": []
    }
  ],
  "metadata": {
    "colab": {
      "collapsed_sections": [],
      "name": "01-census-income.ipynb",
      "provenance": []
    },
    "interpreter": {
      "hash": "4f7cf8a7d42fb54cf0c1bd71cf615db380e085e5bb100c7662268a5e829bce26"
    },
    "kernelspec": {
      "display_name": "Python 3.8.5 ('base')",
      "language": "python",
      "name": "python3"
    },
    "language_info": {
      "codemirror_mode": {
        "name": "ipython",
        "version": 3
      },
      "file_extension": ".py",
      "mimetype": "text/x-python",
      "name": "python",
      "nbconvert_exporter": "python",
      "pygments_lexer": "ipython3",
      "version": "3.8.5"
    }
  },
  "nbformat": 4,
  "nbformat_minor": 0
}

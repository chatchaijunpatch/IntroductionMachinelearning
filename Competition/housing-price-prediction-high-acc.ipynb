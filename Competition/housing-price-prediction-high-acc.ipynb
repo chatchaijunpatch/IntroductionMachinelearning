{
 "cells": [
  {
   "cell_type": "code",
   "execution_count": 1,
   "id": "850280d5",
   "metadata": {
    "execution": {
     "iopub.execute_input": "2022-02-07T19:02:15.548883Z",
     "iopub.status.busy": "2022-02-07T19:02:15.547793Z",
     "iopub.status.idle": "2022-02-07T19:02:16.857881Z",
     "shell.execute_reply": "2022-02-07T19:02:16.858394Z",
     "shell.execute_reply.started": "2022-02-07T18:57:20.328621Z"
    },
    "papermill": {
     "duration": 1.335004,
     "end_time": "2022-02-07T19:02:16.858660",
     "exception": false,
     "start_time": "2022-02-07T19:02:15.523656",
     "status": "completed"
    },
    "tags": []
   },
   "outputs": [
    {
     "name": "stdout",
     "output_type": "stream",
     "text": [
      "/kaggle/input/sample_submission.csv\n",
      "/kaggle/input/sample_submission.csv.gz\n",
      "/kaggle/input/train.csv.gz\n",
      "/kaggle/input/data_description.txt\n",
      "/kaggle/input/test.csv.gz\n",
      "/kaggle/input/train.csv\n",
      "/kaggle/input/test.csv\n"
     ]
    }
   ],
   "source": [
    "# This Python 3 environment comes with many helpful analytics libraries installed\n",
    "# It is defined by the kaggle/python Docker image: https://github.com/kaggle/docker-python\n",
    "# For example, here's several helpful packages to load\n",
    "\n",
    "import numpy as np # linear algebra\n",
    "import matplotlib.pyplot as plt \n",
    "from sklearn.impute import SimpleImputer\n",
    "\n",
    "\n",
    "import seaborn as sns\n",
    "import pandas as pd # data processing, CSV file I/O (e.g. pd.read_csv)\n",
    "\n",
    "# Input data files are available in the read-only \"../input/\" directory\n",
    "# For example, running this (by clicking run or pressing Shift+Enter) will list all files under the input directory\n",
    "\n",
    "import os\n",
    "for dirname, _, filenames in os.walk('/kaggle/input'):\n",
    "    for filename in filenames:\n",
    "        print(os.path.join(dirname, filename))\n",
    "\n",
    "# You can write up to 20GB to the current directory (/kaggle/working/) that gets preserved as output when you create a version using \"Save & Run All\" \n",
    "# You can also write temporary files to /kaggle/temp/, but they won't be saved outside of the current session"
   ]
  },
  {
   "cell_type": "code",
   "execution_count": 2,
   "id": "b1688680",
   "metadata": {
    "execution": {
     "iopub.execute_input": "2022-02-07T19:02:16.906491Z",
     "iopub.status.busy": "2022-02-07T19:02:16.905745Z",
     "iopub.status.idle": "2022-02-07T19:02:16.987203Z",
     "shell.execute_reply": "2022-02-07T19:02:16.987752Z",
     "shell.execute_reply.started": "2022-02-07T18:57:20.345084Z"
    },
    "papermill": {
     "duration": 0.108117,
     "end_time": "2022-02-07T19:02:16.987937",
     "exception": false,
     "start_time": "2022-02-07T19:02:16.879820",
     "status": "completed"
    },
    "tags": []
   },
   "outputs": [],
   "source": [
    "train_df = pd.read_csv('/kaggle/input/train.csv')\n",
    "test_y_df = pd.read_csv('/kaggle/input/sample_submission.csv')\n",
    "test_df = pd.read_csv('/kaggle/input/test.csv')"
   ]
  },
  {
   "cell_type": "code",
   "execution_count": 3,
   "id": "229b345e",
   "metadata": {
    "execution": {
     "iopub.execute_input": "2022-02-07T19:02:17.032197Z",
     "iopub.status.busy": "2022-02-07T19:02:17.031604Z",
     "iopub.status.idle": "2022-02-07T19:02:17.036547Z",
     "shell.execute_reply": "2022-02-07T19:02:17.037126Z",
     "shell.execute_reply.started": "2022-02-07T18:57:20.410408Z"
    },
    "papermill": {
     "duration": 0.028826,
     "end_time": "2022-02-07T19:02:17.037283",
     "exception": false,
     "start_time": "2022-02-07T19:02:17.008457",
     "status": "completed"
    },
    "tags": []
   },
   "outputs": [],
   "source": [
    "def PrintMissingforEachColumns(data):\n",
    "    total = data.isnull().sum().sort_values(ascending = False)\n",
    "    percent_1 = data.isnull().sum()/data.isnull().count()*100\n",
    "    missing_data = pd.concat([total,percent_1],axis=1,keys=['Total','%'])\n",
    "    print(missing_data.head())"
   ]
  },
  {
   "cell_type": "markdown",
   "id": "bc19559f",
   "metadata": {
    "papermill": {
     "duration": 0.019906,
     "end_time": "2022-02-07T19:02:17.077290",
     "exception": false,
     "start_time": "2022-02-07T19:02:17.057384",
     "status": "completed"
    },
    "tags": []
   },
   "source": [
    "# Find missing columns"
   ]
  },
  {
   "cell_type": "code",
   "execution_count": 4,
   "id": "8542511d",
   "metadata": {
    "execution": {
     "iopub.execute_input": "2022-02-07T19:02:17.120370Z",
     "iopub.status.busy": "2022-02-07T19:02:17.119794Z",
     "iopub.status.idle": "2022-02-07T19:02:17.160556Z",
     "shell.execute_reply": "2022-02-07T19:02:17.161008Z",
     "shell.execute_reply.started": "2022-02-07T18:57:20.419630Z"
    },
    "papermill": {
     "duration": 0.063904,
     "end_time": "2022-02-07T19:02:17.161177",
     "exception": false,
     "start_time": "2022-02-07T19:02:17.097273",
     "status": "completed"
    },
    "tags": []
   },
   "outputs": [
    {
     "name": "stdout",
     "output_type": "stream",
     "text": [
      "             Total          %\n",
      "PoolQC        1453  99.520548\n",
      "MiscFeature   1406  96.301370\n",
      "Alley         1369  93.767123\n",
      "Fence         1179  80.753425\n",
      "FireplaceQu    690  47.260274\n"
     ]
    }
   ],
   "source": [
    "PrintMissingforEachColumns(train_df)"
   ]
  },
  {
   "cell_type": "code",
   "execution_count": 5,
   "id": "9b2997b0",
   "metadata": {
    "execution": {
     "iopub.execute_input": "2022-02-07T19:02:17.210024Z",
     "iopub.status.busy": "2022-02-07T19:02:17.209401Z",
     "iopub.status.idle": "2022-02-07T19:02:17.241464Z",
     "shell.execute_reply": "2022-02-07T19:02:17.240929Z",
     "shell.execute_reply.started": "2022-02-07T18:57:20.466979Z"
    },
    "papermill": {
     "duration": 0.056316,
     "end_time": "2022-02-07T19:02:17.241617",
     "exception": false,
     "start_time": "2022-02-07T19:02:17.185301",
     "status": "completed"
    },
    "tags": []
   },
   "outputs": [
    {
     "name": "stdout",
     "output_type": "stream",
     "text": [
      "<class 'pandas.core.frame.DataFrame'>\n",
      "RangeIndex: 1460 entries, 0 to 1459\n",
      "Data columns (total 81 columns):\n",
      " #   Column         Non-Null Count  Dtype  \n",
      "---  ------         --------------  -----  \n",
      " 0   Id             1460 non-null   int64  \n",
      " 1   MSSubClass     1460 non-null   int64  \n",
      " 2   MSZoning       1460 non-null   object \n",
      " 3   LotFrontage    1201 non-null   float64\n",
      " 4   LotArea        1460 non-null   int64  \n",
      " 5   Street         1460 non-null   object \n",
      " 6   Alley          91 non-null     object \n",
      " 7   LotShape       1460 non-null   object \n",
      " 8   LandContour    1460 non-null   object \n",
      " 9   Utilities      1460 non-null   object \n",
      " 10  LotConfig      1460 non-null   object \n",
      " 11  LandSlope      1460 non-null   object \n",
      " 12  Neighborhood   1460 non-null   object \n",
      " 13  Condition1     1460 non-null   object \n",
      " 14  Condition2     1460 non-null   object \n",
      " 15  BldgType       1460 non-null   object \n",
      " 16  HouseStyle     1460 non-null   object \n",
      " 17  OverallQual    1460 non-null   int64  \n",
      " 18  OverallCond    1460 non-null   int64  \n",
      " 19  YearBuilt      1460 non-null   int64  \n",
      " 20  YearRemodAdd   1460 non-null   int64  \n",
      " 21  RoofStyle      1460 non-null   object \n",
      " 22  RoofMatl       1460 non-null   object \n",
      " 23  Exterior1st    1460 non-null   object \n",
      " 24  Exterior2nd    1460 non-null   object \n",
      " 25  MasVnrType     1452 non-null   object \n",
      " 26  MasVnrArea     1452 non-null   float64\n",
      " 27  ExterQual      1460 non-null   object \n",
      " 28  ExterCond      1460 non-null   object \n",
      " 29  Foundation     1460 non-null   object \n",
      " 30  BsmtQual       1423 non-null   object \n",
      " 31  BsmtCond       1423 non-null   object \n",
      " 32  BsmtExposure   1422 non-null   object \n",
      " 33  BsmtFinType1   1423 non-null   object \n",
      " 34  BsmtFinSF1     1460 non-null   int64  \n",
      " 35  BsmtFinType2   1422 non-null   object \n",
      " 36  BsmtFinSF2     1460 non-null   int64  \n",
      " 37  BsmtUnfSF      1460 non-null   int64  \n",
      " 38  TotalBsmtSF    1460 non-null   int64  \n",
      " 39  Heating        1460 non-null   object \n",
      " 40  HeatingQC      1460 non-null   object \n",
      " 41  CentralAir     1460 non-null   object \n",
      " 42  Electrical     1459 non-null   object \n",
      " 43  1stFlrSF       1460 non-null   int64  \n",
      " 44  2ndFlrSF       1460 non-null   int64  \n",
      " 45  LowQualFinSF   1460 non-null   int64  \n",
      " 46  GrLivArea      1460 non-null   int64  \n",
      " 47  BsmtFullBath   1460 non-null   int64  \n",
      " 48  BsmtHalfBath   1460 non-null   int64  \n",
      " 49  FullBath       1460 non-null   int64  \n",
      " 50  HalfBath       1460 non-null   int64  \n",
      " 51  BedroomAbvGr   1460 non-null   int64  \n",
      " 52  KitchenAbvGr   1460 non-null   int64  \n",
      " 53  KitchenQual    1460 non-null   object \n",
      " 54  TotRmsAbvGrd   1460 non-null   int64  \n",
      " 55  Functional     1460 non-null   object \n",
      " 56  Fireplaces     1460 non-null   int64  \n",
      " 57  FireplaceQu    770 non-null    object \n",
      " 58  GarageType     1379 non-null   object \n",
      " 59  GarageYrBlt    1379 non-null   float64\n",
      " 60  GarageFinish   1379 non-null   object \n",
      " 61  GarageCars     1460 non-null   int64  \n",
      " 62  GarageArea     1460 non-null   int64  \n",
      " 63  GarageQual     1379 non-null   object \n",
      " 64  GarageCond     1379 non-null   object \n",
      " 65  PavedDrive     1460 non-null   object \n",
      " 66  WoodDeckSF     1460 non-null   int64  \n",
      " 67  OpenPorchSF    1460 non-null   int64  \n",
      " 68  EnclosedPorch  1460 non-null   int64  \n",
      " 69  3SsnPorch      1460 non-null   int64  \n",
      " 70  ScreenPorch    1460 non-null   int64  \n",
      " 71  PoolArea       1460 non-null   int64  \n",
      " 72  PoolQC         7 non-null      object \n",
      " 73  Fence          281 non-null    object \n",
      " 74  MiscFeature    54 non-null     object \n",
      " 75  MiscVal        1460 non-null   int64  \n",
      " 76  MoSold         1460 non-null   int64  \n",
      " 77  YrSold         1460 non-null   int64  \n",
      " 78  SaleType       1460 non-null   object \n",
      " 79  SaleCondition  1460 non-null   object \n",
      " 80  SalePrice      1460 non-null   int64  \n",
      "dtypes: float64(3), int64(35), object(43)\n",
      "memory usage: 924.0+ KB\n"
     ]
    }
   ],
   "source": [
    "train_df.info()"
   ]
  },
  {
   "cell_type": "markdown",
   "id": "f66f97d4",
   "metadata": {
    "papermill": {
     "duration": 0.021138,
     "end_time": "2022-02-07T19:02:17.283874",
     "exception": false,
     "start_time": "2022-02-07T19:02:17.262736",
     "status": "completed"
    },
    "tags": []
   },
   "source": [
    "# Columns"
   ]
  },
  {
   "cell_type": "markdown",
   "id": "d747bbc0",
   "metadata": {
    "papermill": {
     "duration": 0.020566,
     "end_time": "2022-02-07T19:02:17.325555",
     "exception": false,
     "start_time": "2022-02-07T19:02:17.304989",
     "status": "completed"
    },
    "tags": []
   },
   "source": [
    "### Columns that No value in train"
   ]
  },
  {
   "cell_type": "code",
   "execution_count": 6,
   "id": "586a03de",
   "metadata": {
    "execution": {
     "iopub.execute_input": "2022-02-07T19:02:17.374174Z",
     "iopub.status.busy": "2022-02-07T19:02:17.370051Z",
     "iopub.status.idle": "2022-02-07T19:02:17.385255Z",
     "shell.execute_reply": "2022-02-07T19:02:17.385886Z",
     "shell.execute_reply.started": "2022-02-07T18:57:20.495686Z"
    },
    "papermill": {
     "duration": 0.039568,
     "end_time": "2022-02-07T19:02:17.386048",
     "exception": false,
     "start_time": "2022-02-07T19:02:17.346480",
     "status": "completed"
    },
    "tags": []
   },
   "outputs": [],
   "source": [
    "train_df = train_df.drop(train_df[(train_df['OverallQual']>9) & (train_df['SalePrice']<220000)].index)\n",
    "train_df = train_df.drop(train_df[(train_df['GrLivArea']>4000) & (train_df['SalePrice']<300000)].index)\n",
    "Y_train = train_df.SalePrice\n",
    "train_df = train_df.drop([\"SalePrice\",\"Id\"],axis=1)\n",
    "test_df = test_df.drop(\"Id\",axis=1)\n"
   ]
  },
  {
   "cell_type": "markdown",
   "id": "311baab3",
   "metadata": {
    "papermill": {
     "duration": 0.020338,
     "end_time": "2022-02-07T19:02:17.426677",
     "exception": false,
     "start_time": "2022-02-07T19:02:17.406339",
     "status": "completed"
    },
    "tags": []
   },
   "source": [
    "## Sep low and High Cardinality columns"
   ]
  },
  {
   "cell_type": "code",
   "execution_count": 7,
   "id": "a1b63b4d",
   "metadata": {
    "execution": {
     "iopub.execute_input": "2022-02-07T19:02:17.475343Z",
     "iopub.status.busy": "2022-02-07T19:02:17.474386Z",
     "iopub.status.idle": "2022-02-07T19:02:17.476863Z",
     "shell.execute_reply": "2022-02-07T19:02:17.477351Z",
     "shell.execute_reply.started": "2022-02-07T18:57:20.514308Z"
    },
    "papermill": {
     "duration": 0.029581,
     "end_time": "2022-02-07T19:02:17.477503",
     "exception": false,
     "start_time": "2022-02-07T19:02:17.447922",
     "status": "completed"
    },
    "tags": []
   },
   "outputs": [],
   "source": [
    "def LowcardiCol(Train,object_cols):\n",
    "    Train = Train.copy()\n",
    "    low_cardinality_cols = [col for col in object_cols if Train[col].nunique() < 10]\n",
    "    high_cardinality_cols = list(set(object_cols)-set(low_cardinality_cols))\n",
    "    return low_cardinality_cols,high_cardinality_cols"
   ]
  },
  {
   "cell_type": "code",
   "execution_count": 8,
   "id": "fca20aaa",
   "metadata": {
    "execution": {
     "iopub.execute_input": "2022-02-07T19:02:17.525951Z",
     "iopub.status.busy": "2022-02-07T19:02:17.524997Z",
     "iopub.status.idle": "2022-02-07T19:02:17.527907Z",
     "shell.execute_reply": "2022-02-07T19:02:17.527312Z",
     "shell.execute_reply.started": "2022-02-07T18:57:20.521555Z"
    },
    "papermill": {
     "duration": 0.02937,
     "end_time": "2022-02-07T19:02:17.528036",
     "exception": false,
     "start_time": "2022-02-07T19:02:17.498666",
     "status": "completed"
    },
    "tags": []
   },
   "outputs": [],
   "source": [
    "n = (train_df.dtypes != 'object')\n",
    "num_cols = list(n[n].index)"
   ]
  },
  {
   "cell_type": "code",
   "execution_count": 9,
   "id": "5ab8401e",
   "metadata": {
    "execution": {
     "iopub.execute_input": "2022-02-07T19:02:17.574742Z",
     "iopub.status.busy": "2022-02-07T19:02:17.574091Z",
     "iopub.status.idle": "2022-02-07T19:02:17.604235Z",
     "shell.execute_reply": "2022-02-07T19:02:17.603375Z",
     "shell.execute_reply.started": "2022-02-07T18:57:20.536359Z"
    },
    "papermill": {
     "duration": 0.054695,
     "end_time": "2022-02-07T19:02:17.604401",
     "exception": false,
     "start_time": "2022-02-07T19:02:17.549706",
     "status": "completed"
    },
    "tags": []
   },
   "outputs": [
    {
     "name": "stdout",
     "output_type": "stream",
     "text": [
      "Categorical columns that will be ordinal encoded: ['Street', 'Alley', 'LotShape', 'LandContour', 'LotConfig', 'LandSlope', 'Neighborhood', 'Condition1', 'Condition2', 'BldgType', 'HouseStyle', 'RoofStyle', 'RoofMatl', 'MasVnrType', 'ExterQual', 'ExterCond', 'Foundation', 'BsmtQual', 'BsmtCond', 'BsmtExposure', 'BsmtFinType1', 'BsmtFinType2', 'Heating', 'HeatingQC', 'CentralAir', 'Electrical', 'FireplaceQu', 'GarageType', 'GarageFinish', 'GarageQual', 'GarageCond', 'PavedDrive', 'PoolQC', 'Fence', 'MiscFeature', 'SaleCondition']\n",
      "\n",
      "Categorical columns that will be dropped from the dataset: ['Functional', 'Exterior2nd', 'Utilities', 'SaleType', 'Exterior1st', 'KitchenQual', 'MSZoning']\n"
     ]
    }
   ],
   "source": [
    "# Categorical columns in the training data\n",
    "object_cols = [col for col in train_df.columns if train_df[col].dtype == \"object\"]\n",
    "\n",
    "# Columns that can be safely ordinal encoded\n",
    "good_label_cols = [col for col in object_cols if \n",
    "                   set(test_df[col]).issubset(set(train_df[col]))]\n",
    "        \n",
    "# Problematic columns that will be dropped from the dataset\n",
    "bad_label_cols = list(set(object_cols)-set(good_label_cols))\n",
    "        \n",
    "print('Categorical columns that will be ordinal encoded:', good_label_cols)\n",
    "print('\\nCategorical columns that will be dropped from the dataset:', bad_label_cols)"
   ]
  },
  {
   "cell_type": "markdown",
   "id": "bbef3174",
   "metadata": {
    "papermill": {
     "duration": 0.021832,
     "end_time": "2022-02-07T19:02:17.650873",
     "exception": false,
     "start_time": "2022-02-07T19:02:17.629041",
     "status": "completed"
    },
    "tags": []
   },
   "source": [
    "### bad_label_cols mean we have some feature values that is not in Train dataset (Same Feature)"
   ]
  },
  {
   "cell_type": "code",
   "execution_count": 10,
   "id": "c828ce84",
   "metadata": {
    "execution": {
     "iopub.execute_input": "2022-02-07T19:02:17.698336Z",
     "iopub.status.busy": "2022-02-07T19:02:17.697717Z",
     "iopub.status.idle": "2022-02-07T19:02:17.704741Z",
     "shell.execute_reply": "2022-02-07T19:02:17.705216Z",
     "shell.execute_reply.started": "2022-02-07T18:57:20.574618Z"
    },
    "papermill": {
     "duration": 0.031974,
     "end_time": "2022-02-07T19:02:17.705397",
     "exception": false,
     "start_time": "2022-02-07T19:02:17.673423",
     "status": "completed"
    },
    "tags": []
   },
   "outputs": [],
   "source": [
    "train_df = train_df.drop(bad_label_cols,axis=1)\n",
    "test_df = test_df.drop(bad_label_cols,axis=1)\n",
    "object_cols = good_label_cols"
   ]
  },
  {
   "cell_type": "code",
   "execution_count": 11,
   "id": "1912eddd",
   "metadata": {
    "execution": {
     "iopub.execute_input": "2022-02-07T19:02:17.753712Z",
     "iopub.status.busy": "2022-02-07T19:02:17.753039Z",
     "iopub.status.idle": "2022-02-07T19:02:17.767766Z",
     "shell.execute_reply": "2022-02-07T19:02:17.768317Z",
     "shell.execute_reply.started": "2022-02-07T18:57:20.585899Z"
    },
    "papermill": {
     "duration": 0.04079,
     "end_time": "2022-02-07T19:02:17.768516",
     "exception": false,
     "start_time": "2022-02-07T19:02:17.727726",
     "status": "completed"
    },
    "tags": []
   },
   "outputs": [
    {
     "name": "stdout",
     "output_type": "stream",
     "text": [
      "['Street', 'Alley', 'LotShape', 'LandContour', 'LotConfig', 'LandSlope', 'Condition1', 'Condition2', 'BldgType', 'HouseStyle', 'RoofStyle', 'RoofMatl', 'MasVnrType', 'ExterQual', 'ExterCond', 'Foundation', 'BsmtQual', 'BsmtCond', 'BsmtExposure', 'BsmtFinType1', 'BsmtFinType2', 'Heating', 'HeatingQC', 'CentralAir', 'Electrical', 'FireplaceQu', 'GarageType', 'GarageFinish', 'GarageQual', 'GarageCond', 'PavedDrive', 'PoolQC', 'Fence', 'MiscFeature', 'SaleCondition']\n",
      "['Neighborhood']\n"
     ]
    }
   ],
   "source": [
    "low_cardinality_cols,high_cardinality_cols = LowcardiCol(train_df,object_cols)\n",
    "print(low_cardinality_cols)\n",
    "print(high_cardinality_cols)"
   ]
  },
  {
   "cell_type": "markdown",
   "id": "1835cb96",
   "metadata": {
    "papermill": {
     "duration": 0.02307,
     "end_time": "2022-02-07T19:02:17.814531",
     "exception": false,
     "start_time": "2022-02-07T19:02:17.791461",
     "status": "completed"
    },
    "tags": []
   },
   "source": [
    "# Train Test split"
   ]
  },
  {
   "cell_type": "code",
   "execution_count": 12,
   "id": "d174650f",
   "metadata": {
    "execution": {
     "iopub.execute_input": "2022-02-07T19:02:17.864519Z",
     "iopub.status.busy": "2022-02-07T19:02:17.863823Z",
     "iopub.status.idle": "2022-02-07T19:02:17.868026Z",
     "shell.execute_reply": "2022-02-07T19:02:17.868506Z",
     "shell.execute_reply.started": "2022-02-07T18:57:20.609316Z"
    },
    "papermill": {
     "duration": 0.032272,
     "end_time": "2022-02-07T19:02:17.868657",
     "exception": false,
     "start_time": "2022-02-07T19:02:17.836385",
     "status": "completed"
    },
    "tags": []
   },
   "outputs": [],
   "source": [
    "from sklearn.model_selection import train_test_split\n",
    "train_X, val_X, train_y, val_y = train_test_split(train_df, Y_train, random_state=1)"
   ]
  },
  {
   "cell_type": "markdown",
   "id": "7a980d4f",
   "metadata": {
    "papermill": {
     "duration": 0.021777,
     "end_time": "2022-02-07T19:02:17.912028",
     "exception": false,
     "start_time": "2022-02-07T19:02:17.890251",
     "status": "completed"
    },
    "tags": []
   },
   "source": [
    "# preprocessing"
   ]
  },
  {
   "cell_type": "code",
   "execution_count": 13,
   "id": "5270fe8a",
   "metadata": {
    "execution": {
     "iopub.execute_input": "2022-02-07T19:02:17.967955Z",
     "iopub.status.busy": "2022-02-07T19:02:17.967263Z",
     "iopub.status.idle": "2022-02-07T19:02:17.977365Z",
     "shell.execute_reply": "2022-02-07T19:02:17.977905Z",
     "shell.execute_reply.started": "2022-02-07T18:57:20.619967Z"
    },
    "papermill": {
     "duration": 0.043437,
     "end_time": "2022-02-07T19:02:17.978068",
     "exception": false,
     "start_time": "2022-02-07T19:02:17.934631",
     "status": "completed"
    },
    "tags": []
   },
   "outputs": [],
   "source": [
    "from sklearn.impute import SimpleImputer\n",
    "from sklearn.preprocessing import OneHotEncoder\n",
    "from sklearn.compose import ColumnTransformer\n",
    "from sklearn import preprocessing\n",
    "from sklearn.pipeline import Pipeline\n",
    "from sklearn.preprocessing import OrdinalEncoder\n",
    "def preprocess(low_cardinality_cols,num_cols,high_cardinality_cols):\n",
    "    numerical_transformer = SimpleImputer(strategy='mean')\n",
    "    categorical_transformer = Pipeline(steps=[\n",
    "    ('imputer', SimpleImputer(strategy='most_frequent')),\n",
    "    ('onehot', OneHotEncoder(handle_unknown='ignore'))])\n",
    "    categorical_High_transformer = Pipeline(steps=[\n",
    "    ('imputer', SimpleImputer(strategy='most_frequent')),\n",
    "    ('ordinal', OrdinalEncoder(categories=\"auto\"))])\n",
    "    \n",
    "    preprocessor = ColumnTransformer( transformers=[\n",
    "        ('num', numerical_transformer, num_cols),\n",
    "        ('cat', categorical_transformer, low_cardinality_cols),\n",
    "    ('ord',categorical_High_transformer,high_cardinality_cols)])\n",
    "    return preprocessor\n",
    "def Pipe(preprocessor,model):\n",
    "    my_pipeline = Pipeline(steps=[('preprocessor', preprocessor),('scaler_2', preprocessing.MaxAbsScaler()),\n",
    "                              ('model', model)])\n",
    "    return my_pipeline"
   ]
  },
  {
   "cell_type": "code",
   "execution_count": 14,
   "id": "1a7ee2d3",
   "metadata": {
    "execution": {
     "iopub.execute_input": "2022-02-07T19:02:18.024580Z",
     "iopub.status.busy": "2022-02-07T19:02:18.023912Z",
     "iopub.status.idle": "2022-02-07T19:02:18.027889Z",
     "shell.execute_reply": "2022-02-07T19:02:18.028355Z",
     "shell.execute_reply.started": "2022-02-07T18:57:20.633967Z"
    },
    "papermill": {
     "duration": 0.028786,
     "end_time": "2022-02-07T19:02:18.028504",
     "exception": false,
     "start_time": "2022-02-07T19:02:17.999718",
     "status": "completed"
    },
    "tags": []
   },
   "outputs": [],
   "source": [
    "preprocessor = preprocess(low_cardinality_cols,num_cols,high_cardinality_cols)"
   ]
  },
  {
   "cell_type": "markdown",
   "id": "b718d5c7",
   "metadata": {
    "papermill": {
     "duration": 0.021919,
     "end_time": "2022-02-07T19:02:18.072675",
     "exception": false,
     "start_time": "2022-02-07T19:02:18.050756",
     "status": "completed"
    },
    "tags": []
   },
   "source": [
    "# Test"
   ]
  },
  {
   "cell_type": "code",
   "execution_count": 15,
   "id": "a338c96c",
   "metadata": {
    "execution": {
     "iopub.execute_input": "2022-02-07T19:02:18.119464Z",
     "iopub.status.busy": "2022-02-07T19:02:18.118876Z",
     "iopub.status.idle": "2022-02-07T19:02:20.452021Z",
     "shell.execute_reply": "2022-02-07T19:02:20.452528Z",
     "shell.execute_reply.started": "2022-02-07T18:57:20.643335Z"
    },
    "papermill": {
     "duration": 2.358204,
     "end_time": "2022-02-07T19:02:20.452691",
     "exception": false,
     "start_time": "2022-02-07T19:02:18.094487",
     "status": "completed"
    },
    "tags": []
   },
   "outputs": [
    {
     "name": "stdout",
     "output_type": "stream",
     "text": [
      "Validation MAE for Random Forest Model: 16,548\n"
     ]
    }
   ],
   "source": [
    "from sklearn.ensemble import RandomForestRegressor\n",
    "from sklearn.metrics import mean_absolute_error\n",
    "rf_model = RandomForestRegressor(random_state=1)\n",
    "pipe = Pipe(preprocessor,rf_model)\n",
    "pipe.fit(train_X, train_y)\n",
    "rf_val_predictions = pipe.predict(val_X)\n",
    "rf_val_mae = mean_absolute_error(rf_val_predictions, val_y)\n",
    "\n",
    "print(\"Validation MAE for Random Forest Model: {:,.0f}\".format(rf_val_mae))"
   ]
  },
  {
   "cell_type": "markdown",
   "id": "b8d6c74c",
   "metadata": {
    "papermill": {
     "duration": 0.021225,
     "end_time": "2022-02-07T19:02:20.495511",
     "exception": false,
     "start_time": "2022-02-07T19:02:20.474286",
     "status": "completed"
    },
    "tags": []
   },
   "source": [
    "## Random Forest"
   ]
  },
  {
   "cell_type": "code",
   "execution_count": 16,
   "id": "7a328d81",
   "metadata": {
    "execution": {
     "iopub.execute_input": "2022-02-07T19:02:20.541408Z",
     "iopub.status.busy": "2022-02-07T19:02:20.540477Z",
     "iopub.status.idle": "2022-02-07T19:02:23.613766Z",
     "shell.execute_reply": "2022-02-07T19:02:23.613250Z",
     "shell.execute_reply.started": "2022-02-07T18:57:23.033551Z"
    },
    "papermill": {
     "duration": 3.097303,
     "end_time": "2022-02-07T19:02:23.613996",
     "exception": false,
     "start_time": "2022-02-07T19:02:20.516693",
     "status": "completed"
    },
    "tags": []
   },
   "outputs": [
    {
     "name": "stdout",
     "output_type": "stream",
     "text": [
      "Validation MAE for Random Forest Model: 54,156\n"
     ]
    }
   ],
   "source": [
    "# Define a random forest model\n",
    "rf_model = RandomForestRegressor(random_state=1)\n",
    "pipe = Pipe(preprocessor,rf_model)\n",
    "pipe.fit(train_df, Y_train)\n",
    "rf_val_predictions = pipe.predict(test_df)\n",
    "rf_val_mae = mean_absolute_error(rf_val_predictions, test_y_df.SalePrice)\n",
    "\n",
    "print(\"Validation MAE for Random Forest Model: {:,.0f}\".format(rf_val_mae))"
   ]
  },
  {
   "cell_type": "markdown",
   "id": "ee4ddf9c",
   "metadata": {
    "papermill": {
     "duration": 0.021644,
     "end_time": "2022-02-07T19:02:23.659112",
     "exception": false,
     "start_time": "2022-02-07T19:02:23.637468",
     "status": "completed"
    },
    "tags": []
   },
   "source": [
    "## XGB"
   ]
  },
  {
   "cell_type": "code",
   "execution_count": 17,
   "id": "b16e898f",
   "metadata": {
    "execution": {
     "iopub.execute_input": "2022-02-07T19:02:23.706086Z",
     "iopub.status.busy": "2022-02-07T19:02:23.705479Z",
     "iopub.status.idle": "2022-02-07T19:02:34.303773Z",
     "shell.execute_reply": "2022-02-07T19:02:34.304661Z",
     "shell.execute_reply.started": "2022-02-07T18:57:26.294378Z"
    },
    "papermill": {
     "duration": 10.623276,
     "end_time": "2022-02-07T19:02:34.304883",
     "exception": false,
     "start_time": "2022-02-07T19:02:23.681607",
     "status": "completed"
    },
    "tags": []
   },
   "outputs": [
    {
     "name": "stdout",
     "output_type": "stream",
     "text": [
      "Validation MAE for Random Forest Model: 55,077\n"
     ]
    }
   ],
   "source": [
    "from xgboost import XGBRegressor\n",
    "model = XGBRegressor(n_estimators=1000, learning_rate=0.05, n_jobs=4, random_state=42)\n",
    "pipe = Pipe(preprocessor,model)\n",
    "pipe.fit(train_df, Y_train)\n",
    "XG_val_predictions = pipe.predict(test_df)\n",
    "XG_val_mae = mean_absolute_error(XG_val_predictions, test_y_df.SalePrice)\n",
    "\n",
    "print(\"Validation MAE for Random Forest Model: {:,.0f}\".format(XG_val_mae))"
   ]
  },
  {
   "cell_type": "markdown",
   "id": "3e05890f",
   "metadata": {
    "papermill": {
     "duration": 0.023116,
     "end_time": "2022-02-07T19:02:34.352204",
     "exception": false,
     "start_time": "2022-02-07T19:02:34.329088",
     "status": "completed"
    },
    "tags": []
   },
   "source": [
    "# Generate a submission\n",
    "\n",
    "Run the code cell below to generate a CSV file with your predictions that you can use to submit to the competition."
   ]
  },
  {
   "cell_type": "code",
   "execution_count": 18,
   "id": "9c124740",
   "metadata": {
    "execution": {
     "iopub.execute_input": "2022-02-07T19:02:34.402588Z",
     "iopub.status.busy": "2022-02-07T19:02:34.401883Z",
     "iopub.status.idle": "2022-02-07T19:02:34.416495Z",
     "shell.execute_reply": "2022-02-07T19:02:34.417353Z",
     "shell.execute_reply.started": "2022-02-07T18:57:37.158002Z"
    },
    "papermill": {
     "duration": 0.043085,
     "end_time": "2022-02-07T19:02:34.417580",
     "exception": false,
     "start_time": "2022-02-07T19:02:34.374495",
     "status": "completed"
    },
    "tags": []
   },
   "outputs": [
    {
     "name": "stdout",
     "output_type": "stream",
     "text": [
      "        Id      SalePrice\n",
      "0     1461  132300.296875\n",
      "1     1462  155203.625000\n",
      "2     1463  184575.218750\n",
      "3     1464  187259.984375\n",
      "4     1465  196484.625000\n",
      "...    ...            ...\n",
      "1454  2915   82267.523438\n",
      "1455  2916   78725.773438\n",
      "1456  2917  168850.703125\n",
      "1457  2918  116010.953125\n",
      "1458  2919  214290.062500\n",
      "\n",
      "[1459 rows x 2 columns]\n"
     ]
    }
   ],
   "source": [
    "# Run the code to save predictions in the format used for competition scoring\n",
    "\n",
    "output = pd.DataFrame({'Id': test_y_df.Id,\n",
    "                       'SalePrice': XG_val_predictions})\n",
    "output.to_csv('submission.csv', index=False)\n",
    "print(output)"
   ]
  }
 ],
 "metadata": {
  "kernelspec": {
   "display_name": "Python 3",
   "language": "python",
   "name": "python3"
  },
  "language_info": {
   "codemirror_mode": {
    "name": "ipython",
    "version": 3
   },
   "file_extension": ".py",
   "mimetype": "text/x-python",
   "name": "python",
   "nbconvert_exporter": "python",
   "pygments_lexer": "ipython3",
   "version": "3.7.12"
  },
  "papermill": {
   "default_parameters": {},
   "duration": 28.570666,
   "end_time": "2022-02-07T19:02:35.049866",
   "environment_variables": {},
   "exception": null,
   "input_path": "__notebook__.ipynb",
   "output_path": "__notebook__.ipynb",
   "parameters": {},
   "start_time": "2022-02-07T19:02:06.479200",
   "version": "2.3.3"
  }
 },
 "nbformat": 4,
 "nbformat_minor": 5
}

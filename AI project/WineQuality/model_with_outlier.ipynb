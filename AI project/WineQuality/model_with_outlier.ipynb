{
 "cells": [
  {
   "cell_type": "code",
   "execution_count": 1,
   "metadata": {},
   "outputs": [],
   "source": [
    "import pandas as pd\n",
    "import numpy as np\n",
    "import seaborn as sns\n",
    "import copy\n",
    "import matplotlib.pyplot as plt"
   ]
  },
  {
   "cell_type": "code",
   "execution_count": 2,
   "metadata": {},
   "outputs": [],
   "source": [
    "df = pd.read_csv(\"winequalityN.csv\")\n",
    "df.quality = df.quality.astype(\"category\")\n",
    "df.drop_duplicates(inplace=True)"
   ]
  },
  {
   "cell_type": "code",
   "execution_count": 3,
   "metadata": {},
   "outputs": [],
   "source": [
    "from sklearn.model_selection import train_test_split\n",
    "from sklearn.ensemble import RandomForestClassifier\n",
    "from sklearn.neighbors import KNeighborsClassifier\n",
    "from sklearn import preprocessing\n",
    "from sklearn.tree import DecisionTreeClassifier\n",
    "from sklearn.model_selection import RandomizedSearchCV\n",
    "from sklearn.metrics import accuracy_score, classification_report, confusion_matrix\n",
    "from sklearn.pipeline import make_pipeline"
   ]
  },
  {
   "cell_type": "code",
   "execution_count": 4,
   "metadata": {},
   "outputs": [],
   "source": [
    "def modelfit(models,X_train,Y_train):\n",
    "    models = models.copy()\n",
    "    modellocal = []\n",
    "    for name, model in models:\n",
    "        clf = model.fit(X_train,Y_train)\n",
    "        modellocal.append((name,clf))\n",
    "    return modellocal"
   ]
  },
  {
   "cell_type": "code",
   "execution_count": 5,
   "metadata": {},
   "outputs": [],
   "source": [
    "def TrainModelCV(modelcv,cv,n_jobs,X_train,Y_train):\n",
    "    modellocal = []\n",
    "    # modelcv = modelcv.copy()\n",
    "    for name,param, model in modelcv:\n",
    "        gsv = RandomizedSearchCV(\n",
    "        model,\n",
    "        param,\n",
    "        verbose = 1,\n",
    "        cv=cv,\n",
    "        n_jobs=n_jobs\n",
    "        )\n",
    "        # print(gsv.get_params().keys())\n",
    "        gsv.fit(X_train,Y_train)\n",
    "        modellocal.append((name,gsv))\n",
    "    return modellocal\n"
   ]
  },
  {
   "cell_type": "code",
   "execution_count": 6,
   "metadata": {},
   "outputs": [],
   "source": [
    "def Report(models,X_train,Y_train,X_test,Y_test):\n",
    "    models = models.copy()\n",
    "    for name, model in models:\n",
    "        print(name)\n",
    "        print(\"!!!!Train!!!!\")\n",
    "        print(classification_report(model.predict(X_train),Y_train))\n",
    "        print(\"!!!!Test!!!!\")\n",
    "        print(classification_report(model.predict(X_test),Y_test))"
   ]
  },
  {
   "cell_type": "code",
   "execution_count": 7,
   "metadata": {},
   "outputs": [],
   "source": [
    "# Number of trees in random forest\n",
    "n_estimators = [int(x) for x in np.linspace(start = 200, stop = 2000, num = 10)]\n",
    "# Number of features to consider at every split\n",
    "max_features = ['auto','sqrt','log']\n",
    "criterion = ['gini','entropy']\n",
    "# Maximum number of levels in tree\n",
    "max_depth = [int(x) for x in np.linspace(10, 110, num = 11)]\n",
    "max_depth.append(None)\n",
    "# Minimum number of samples required to split a node\n",
    "min_samples_split = [2, 5, 10]\n",
    "# Minimum number of samples required at each leaf node\n",
    "min_samples_leaf = [1, 2, 4]\n",
    "# Method of selecting samples for training each tree\n",
    "bootstrap = [True, False]"
   ]
  },
  {
   "cell_type": "code",
   "execution_count": 8,
   "metadata": {},
   "outputs": [],
   "source": [
    "leaf_size = list(range(1,50))\n",
    "n_neighbors = list(range(1,30))\n",
    "p=[1,2]\n",
    "weights = ['uniform','distance']\n",
    "algorithm = ['auto','ball_tree','kd_tree','brute']"
   ]
  },
  {
   "cell_type": "code",
   "execution_count": 9,
   "metadata": {},
   "outputs": [],
   "source": [
    "random_grid = {'n_estimators': n_estimators,\n",
    "               'max_features': max_features,\n",
    "               'max_depth': max_depth,\n",
    "               'min_samples_split': min_samples_split,\n",
    "               'min_samples_leaf': min_samples_leaf,\n",
    "               'bootstrap': bootstrap,\n",
    "               'criterion' : criterion}\n",
    "param_grid = {'leaf_size': leaf_size,\n",
    "              'n_neighbors': n_neighbors,\n",
    "              'p': p,\n",
    "              'weights':weights,\n",
    "              'algorithm':algorithm,\n",
    "              }\n",
    "random_DC = { 'max_features': max_features,\n",
    "               'max_depth': max_depth,\n",
    "               'min_samples_split': min_samples_split,\n",
    "               'min_samples_leaf': min_samples_leaf,\n",
    "               'criterion' : criterion\n",
    "               }"
   ]
  },
  {
   "cell_type": "markdown",
   "metadata": {},
   "source": [
    "## Train Test split  "
   ]
  },
  {
   "cell_type": "code",
   "execution_count": 10,
   "metadata": {},
   "outputs": [],
   "source": [
    "from sklearn.impute import SimpleImputer\n",
    "from sklearn.preprocessing import OrdinalEncoder"
   ]
  },
  {
   "cell_type": "code",
   "execution_count": 11,
   "metadata": {},
   "outputs": [],
   "source": [
    "X = df.drop([\"quality\"],axis=1)\n",
    "Y = df.quality"
   ]
  },
  {
   "cell_type": "code",
   "execution_count": 12,
   "metadata": {},
   "outputs": [],
   "source": [
    "X_train,X_test,Y_train,Y_test = train_test_split(X,Y, test_size=0.2, random_state=42)"
   ]
  },
  {
   "cell_type": "markdown",
   "metadata": {},
   "source": [
    "## Imputation"
   ]
  },
  {
   "cell_type": "code",
   "execution_count": 13,
   "metadata": {},
   "outputs": [],
   "source": [
    "my_imputer = SimpleImputer(missing_values=np.nan, strategy='most_frequent')\n",
    "X_train = my_imputer.fit_transform(X_train)\n",
    "X_test = my_imputer.transform(X_test)"
   ]
  },
  {
   "cell_type": "code",
   "execution_count": 14,
   "metadata": {},
   "outputs": [],
   "source": [
    "X_train = pd.DataFrame(X_train,columns=df.columns.drop('quality'))\n",
    "X_test = pd.DataFrame(X_test,columns=df.columns.drop('quality'))"
   ]
  },
  {
   "cell_type": "code",
   "execution_count": 15,
   "metadata": {},
   "outputs": [
    {
     "data": {
      "text/html": [
       "<div>\n",
       "<style scoped>\n",
       "    .dataframe tbody tr th:only-of-type {\n",
       "        vertical-align: middle;\n",
       "    }\n",
       "\n",
       "    .dataframe tbody tr th {\n",
       "        vertical-align: top;\n",
       "    }\n",
       "\n",
       "    .dataframe thead th {\n",
       "        text-align: right;\n",
       "    }\n",
       "</style>\n",
       "<table border=\"1\" class=\"dataframe\">\n",
       "  <thead>\n",
       "    <tr style=\"text-align: right;\">\n",
       "      <th></th>\n",
       "      <th>type</th>\n",
       "      <th>fixed acidity</th>\n",
       "      <th>volatile acidity</th>\n",
       "      <th>citric acid</th>\n",
       "      <th>residual sugar</th>\n",
       "      <th>chlorides</th>\n",
       "      <th>free sulfur dioxide</th>\n",
       "      <th>total sulfur dioxide</th>\n",
       "      <th>density</th>\n",
       "      <th>pH</th>\n",
       "      <th>sulphates</th>\n",
       "      <th>alcohol</th>\n",
       "    </tr>\n",
       "  </thead>\n",
       "  <tbody>\n",
       "    <tr>\n",
       "      <th>0</th>\n",
       "      <td>white</td>\n",
       "      <td>6.0</td>\n",
       "      <td>0.16</td>\n",
       "      <td>0.22</td>\n",
       "      <td>1.6</td>\n",
       "      <td>0.042</td>\n",
       "      <td>36.0</td>\n",
       "      <td>106.0</td>\n",
       "      <td>0.9905</td>\n",
       "      <td>3.24</td>\n",
       "      <td>0.32</td>\n",
       "      <td>11.4</td>\n",
       "    </tr>\n",
       "    <tr>\n",
       "      <th>1</th>\n",
       "      <td>red</td>\n",
       "      <td>6.1</td>\n",
       "      <td>0.59</td>\n",
       "      <td>0.01</td>\n",
       "      <td>2.1</td>\n",
       "      <td>0.056</td>\n",
       "      <td>5.0</td>\n",
       "      <td>13.0</td>\n",
       "      <td>0.99472</td>\n",
       "      <td>3.52</td>\n",
       "      <td>0.56</td>\n",
       "      <td>11.4</td>\n",
       "    </tr>\n",
       "    <tr>\n",
       "      <th>2</th>\n",
       "      <td>red</td>\n",
       "      <td>7.9</td>\n",
       "      <td>0.4</td>\n",
       "      <td>0.3</td>\n",
       "      <td>1.8</td>\n",
       "      <td>0.157</td>\n",
       "      <td>2.0</td>\n",
       "      <td>45.0</td>\n",
       "      <td>0.99727</td>\n",
       "      <td>3.31</td>\n",
       "      <td>0.91</td>\n",
       "      <td>9.5</td>\n",
       "    </tr>\n",
       "    <tr>\n",
       "      <th>3</th>\n",
       "      <td>white</td>\n",
       "      <td>8.4</td>\n",
       "      <td>0.22</td>\n",
       "      <td>0.3</td>\n",
       "      <td>8.9</td>\n",
       "      <td>0.024</td>\n",
       "      <td>17.0</td>\n",
       "      <td>118.0</td>\n",
       "      <td>0.99456</td>\n",
       "      <td>3.16</td>\n",
       "      <td>0.5</td>\n",
       "      <td>9.5</td>\n",
       "    </tr>\n",
       "    <tr>\n",
       "      <th>4</th>\n",
       "      <td>red</td>\n",
       "      <td>6.9</td>\n",
       "      <td>0.67</td>\n",
       "      <td>0.06</td>\n",
       "      <td>2.1</td>\n",
       "      <td>0.08</td>\n",
       "      <td>8.0</td>\n",
       "      <td>33.0</td>\n",
       "      <td>0.99845</td>\n",
       "      <td>3.68</td>\n",
       "      <td>0.71</td>\n",
       "      <td>9.6</td>\n",
       "    </tr>\n",
       "    <tr>\n",
       "      <th>...</th>\n",
       "      <td>...</td>\n",
       "      <td>...</td>\n",
       "      <td>...</td>\n",
       "      <td>...</td>\n",
       "      <td>...</td>\n",
       "      <td>...</td>\n",
       "      <td>...</td>\n",
       "      <td>...</td>\n",
       "      <td>...</td>\n",
       "      <td>...</td>\n",
       "      <td>...</td>\n",
       "      <td>...</td>\n",
       "    </tr>\n",
       "    <tr>\n",
       "      <th>4381</th>\n",
       "      <td>white</td>\n",
       "      <td>6.1</td>\n",
       "      <td>0.28</td>\n",
       "      <td>0.23</td>\n",
       "      <td>4.2</td>\n",
       "      <td>0.038</td>\n",
       "      <td>13.0</td>\n",
       "      <td>95.0</td>\n",
       "      <td>0.98898</td>\n",
       "      <td>2.97</td>\n",
       "      <td>0.7</td>\n",
       "      <td>13.1</td>\n",
       "    </tr>\n",
       "    <tr>\n",
       "      <th>4382</th>\n",
       "      <td>red</td>\n",
       "      <td>7.9</td>\n",
       "      <td>0.66</td>\n",
       "      <td>0.0</td>\n",
       "      <td>1.4</td>\n",
       "      <td>0.096</td>\n",
       "      <td>6.0</td>\n",
       "      <td>13.0</td>\n",
       "      <td>0.99569</td>\n",
       "      <td>3.43</td>\n",
       "      <td>0.58</td>\n",
       "      <td>9.5</td>\n",
       "    </tr>\n",
       "    <tr>\n",
       "      <th>4383</th>\n",
       "      <td>red</td>\n",
       "      <td>7.5</td>\n",
       "      <td>0.755</td>\n",
       "      <td>0.0</td>\n",
       "      <td>1.9</td>\n",
       "      <td>0.084</td>\n",
       "      <td>6.0</td>\n",
       "      <td>12.0</td>\n",
       "      <td>0.99672</td>\n",
       "      <td>3.34</td>\n",
       "      <td>0.49</td>\n",
       "      <td>9.7</td>\n",
       "    </tr>\n",
       "    <tr>\n",
       "      <th>4384</th>\n",
       "      <td>red</td>\n",
       "      <td>7.7</td>\n",
       "      <td>0.54</td>\n",
       "      <td>0.26</td>\n",
       "      <td>1.9</td>\n",
       "      <td>0.089</td>\n",
       "      <td>23.0</td>\n",
       "      <td>147.0</td>\n",
       "      <td>0.99636</td>\n",
       "      <td>3.26</td>\n",
       "      <td>0.59</td>\n",
       "      <td>9.7</td>\n",
       "    </tr>\n",
       "    <tr>\n",
       "      <th>4385</th>\n",
       "      <td>white</td>\n",
       "      <td>8.5</td>\n",
       "      <td>0.16</td>\n",
       "      <td>0.35</td>\n",
       "      <td>1.6</td>\n",
       "      <td>0.039</td>\n",
       "      <td>24.0</td>\n",
       "      <td>147.0</td>\n",
       "      <td>0.9935</td>\n",
       "      <td>2.96</td>\n",
       "      <td>0.36</td>\n",
       "      <td>10.0</td>\n",
       "    </tr>\n",
       "  </tbody>\n",
       "</table>\n",
       "<p>4386 rows × 12 columns</p>\n",
       "</div>"
      ],
      "text/plain": [
       "       type fixed acidity volatile acidity citric acid residual sugar  \\\n",
       "0     white           6.0             0.16        0.22            1.6   \n",
       "1       red           6.1             0.59        0.01            2.1   \n",
       "2       red           7.9              0.4         0.3            1.8   \n",
       "3     white           8.4             0.22         0.3            8.9   \n",
       "4       red           6.9             0.67        0.06            2.1   \n",
       "...     ...           ...              ...         ...            ...   \n",
       "4381  white           6.1             0.28        0.23            4.2   \n",
       "4382    red           7.9             0.66         0.0            1.4   \n",
       "4383    red           7.5            0.755         0.0            1.9   \n",
       "4384    red           7.7             0.54        0.26            1.9   \n",
       "4385  white           8.5             0.16        0.35            1.6   \n",
       "\n",
       "     chlorides free sulfur dioxide total sulfur dioxide  density    pH  \\\n",
       "0        0.042                36.0                106.0   0.9905  3.24   \n",
       "1        0.056                 5.0                 13.0  0.99472  3.52   \n",
       "2        0.157                 2.0                 45.0  0.99727  3.31   \n",
       "3        0.024                17.0                118.0  0.99456  3.16   \n",
       "4         0.08                 8.0                 33.0  0.99845  3.68   \n",
       "...        ...                 ...                  ...      ...   ...   \n",
       "4381     0.038                13.0                 95.0  0.98898  2.97   \n",
       "4382     0.096                 6.0                 13.0  0.99569  3.43   \n",
       "4383     0.084                 6.0                 12.0  0.99672  3.34   \n",
       "4384     0.089                23.0                147.0  0.99636  3.26   \n",
       "4385     0.039                24.0                147.0   0.9935  2.96   \n",
       "\n",
       "     sulphates alcohol  \n",
       "0         0.32    11.4  \n",
       "1         0.56    11.4  \n",
       "2         0.91     9.5  \n",
       "3          0.5     9.5  \n",
       "4         0.71     9.6  \n",
       "...        ...     ...  \n",
       "4381       0.7    13.1  \n",
       "4382      0.58     9.5  \n",
       "4383      0.49     9.7  \n",
       "4384      0.59     9.7  \n",
       "4385      0.36    10.0  \n",
       "\n",
       "[4386 rows x 12 columns]"
      ]
     },
     "execution_count": 15,
     "metadata": {},
     "output_type": "execute_result"
    }
   ],
   "source": [
    "X_train"
   ]
  },
  {
   "cell_type": "markdown",
   "metadata": {},
   "source": [
    "## Ordinal"
   ]
  },
  {
   "cell_type": "code",
   "execution_count": 16,
   "metadata": {},
   "outputs": [],
   "source": [
    "ordinal_encoder = OrdinalEncoder()\n",
    "label_X_train = X_train.copy()\n",
    "label_X_test = X_test.copy()\n",
    "label_X_train[\"type\"] = ordinal_encoder.fit_transform(X_train[\"type\"].values.reshape(-1,1))\n",
    "label_X_test[\"type\"] = ordinal_encoder.transform(X_test[\"type\"].values.reshape(-1,1))"
   ]
  },
  {
   "cell_type": "markdown",
   "metadata": {},
   "source": [
    "## Model"
   ]
  },
  {
   "cell_type": "code",
   "execution_count": 17,
   "metadata": {},
   "outputs": [],
   "source": [
    "models = []\n",
    "models.append(('RandomForest',random_grid, RandomForestClassifier()))"
   ]
  },
  {
   "cell_type": "code",
   "execution_count": 18,
   "metadata": {},
   "outputs": [
    {
     "name": "stdout",
     "output_type": "stream",
     "text": [
      "Fitting 5 folds for each of 10 candidates, totalling 50 fits\n"
     ]
    },
    {
     "name": "stderr",
     "output_type": "stream",
     "text": [
      "C:\\Users\\EMMIE\\anaconda3\\lib\\site-packages\\sklearn\\model_selection\\_split.py:666: UserWarning: The least populated class in y has only 4 members, which is less than n_splits=5.\n",
      "  warnings.warn((\"The least populated class in y has only %d\"\n",
      "C:\\Users\\EMMIE\\anaconda3\\lib\\site-packages\\sklearn\\model_selection\\_search.py:922: UserWarning: One or more of the test scores are non-finite: [       nan        nan 0.56019226 0.56612026        nan 0.55950967\n",
      " 0.56087667 0.55586294 0.55768449 0.56338496]\n",
      "  warnings.warn(\n"
     ]
    }
   ],
   "source": [
    "model_cv =TrainModelCV(models,cv=5,n_jobs=-1,X_train=label_X_train,Y_train=Y_train)"
   ]
  },
  {
   "cell_type": "code",
   "execution_count": 19,
   "metadata": {},
   "outputs": [
    {
     "name": "stdout",
     "output_type": "stream",
     "text": [
      "RandomForest\n",
      "!!!!Train!!!!\n",
      "              precision    recall  f1-score   support\n",
      "\n",
      "           3       0.69      1.00      0.82        18\n",
      "           4       0.85      1.00      0.92       144\n",
      "           5       1.00      0.98      0.99      1458\n",
      "           6       1.00      0.98      0.99      1947\n",
      "           7       0.98      0.99      0.99       703\n",
      "           8       0.89      1.00      0.94       113\n",
      "           9       0.75      1.00      0.86         3\n",
      "\n",
      "    accuracy                           0.98      4386\n",
      "   macro avg       0.88      0.99      0.93      4386\n",
      "weighted avg       0.99      0.98      0.99      4386\n",
      "\n",
      "!!!!Test!!!!\n",
      "              precision    recall  f1-score   support\n",
      "\n",
      "           3       0.00      0.00      0.00         0\n",
      "           4       0.00      0.00      0.00         0\n",
      "           5       0.63      0.65      0.64       356\n",
      "           6       0.76      0.56      0.65       656\n",
      "           7       0.30      0.63      0.40        82\n",
      "           8       0.07      0.67      0.12         3\n",
      "           9       0.00      0.00      0.00         0\n",
      "\n",
      "    accuracy                           0.60      1097\n",
      "   macro avg       0.25      0.36      0.26      1097\n",
      "weighted avg       0.68      0.60      0.63      1097\n",
      "\n"
     ]
    },
    {
     "name": "stderr",
     "output_type": "stream",
     "text": [
      "C:\\Users\\EMMIE\\anaconda3\\lib\\site-packages\\sklearn\\metrics\\_classification.py:1248: UndefinedMetricWarning: Recall and F-score are ill-defined and being set to 0.0 in labels with no true samples. Use `zero_division` parameter to control this behavior.\n",
      "  _warn_prf(average, modifier, msg_start, len(result))\n",
      "C:\\Users\\EMMIE\\anaconda3\\lib\\site-packages\\sklearn\\metrics\\_classification.py:1248: UndefinedMetricWarning: Recall and F-score are ill-defined and being set to 0.0 in labels with no true samples. Use `zero_division` parameter to control this behavior.\n",
      "  _warn_prf(average, modifier, msg_start, len(result))\n",
      "C:\\Users\\EMMIE\\anaconda3\\lib\\site-packages\\sklearn\\metrics\\_classification.py:1248: UndefinedMetricWarning: Recall and F-score are ill-defined and being set to 0.0 in labels with no true samples. Use `zero_division` parameter to control this behavior.\n",
      "  _warn_prf(average, modifier, msg_start, len(result))\n"
     ]
    }
   ],
   "source": [
    "Report(model_cv,X_train=label_X_train,Y_train=Y_train,X_test=label_X_test,Y_test=Y_test)"
   ]
  },
  {
   "cell_type": "code",
   "execution_count": null,
   "metadata": {},
   "outputs": [],
   "source": []
  }
 ],
 "metadata": {
  "interpreter": {
   "hash": "7dc9b60826d74eb5607c37aaee63a43972728f09b483ccd1914805061130993f"
  },
  "kernelspec": {
   "display_name": "Python 3.8.5 ('base')",
   "language": "python",
   "name": "python3"
  },
  "language_info": {
   "codemirror_mode": {
    "name": "ipython",
    "version": 3
   },
   "file_extension": ".py",
   "mimetype": "text/x-python",
   "name": "python",
   "nbconvert_exporter": "python",
   "pygments_lexer": "ipython3",
   "version": "3.8.5"
  },
  "orig_nbformat": 4
 },
 "nbformat": 4,
 "nbformat_minor": 2
}

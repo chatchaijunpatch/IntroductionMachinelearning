{
 "cells": [
  {
   "cell_type": "code",
   "execution_count": 78,
   "metadata": {},
   "outputs": [],
   "source": [
    "import numpy as np\n",
    "import pandas as pd\n",
    "#from sklearn import neighbors\n",
    "#from sklearn.model_selection import train_test_split"
   ]
  },
  {
   "cell_type": "code",
   "execution_count": 79,
   "metadata": {},
   "outputs": [],
   "source": [
    "def train_test_split(x,y,test_size):\n",
    "    test_size = 1 - test_size\n",
    "    test_size = 100 *test_size\n",
    "    arr_rand = np.random.rand(x.shape[0])\n",
    "    split = arr_rand < np.percentile(arr_rand, test_size)\n",
    "    x_train = x[split]\n",
    "    y_train = y[split]\n",
    "    x_test =  x[~split]\n",
    "    y_test = y[~split]\n",
    "\n",
    "#     print(len(x_train), len(y_train), len(x_test), len(y_test))\n",
    "    return x_train, x_test, y_train, y_test\n",
    "        "
   ]
  },
  {
   "cell_type": "code",
   "execution_count": 80,
   "metadata": {},
   "outputs": [],
   "source": [
    "#  def distance(x_train,x_test,p):\n",
    "#         lst = []\n",
    "#         for x in x_test: # เข้าไปใน ค่า x_test\n",
    "#             for i in range(len(x_train)): \n",
    "#                 distance = 0 # คำนวณdistance แต่ละตำแหน่ง\n",
    "#                 for j in range(len(x_train[i][0])): #เอาค่าเฉพาะ ([1,....,n]) มาเพื่อคำนวณ\n",
    "#                     distance += abs(int(x_train[i][0][j]) - int(x[j])) ** p #เอาเฉพาะค่าในส่วนของ 1,....,n จาก [1,...n] มาคำนวณกับ test ตามสูตรของ ma อะไรสักอย่าง\n",
    "#                 lst.append([distance**(1/p),x_train[i][1]])#ใส่ค่า distance พร้อมกับ ค่า y \n",
    "#             lst = sorted(lst,key=lambda l:l[0]) #sortด้วยเพื่อเรียกเอาค่าใกล้\n",
    "#         return lst\n",
    "#     #Note : ใน x_train ที่ใช้มีการ zip อยู่แล้วซึ่งถ้าเป็น x_train[i] = ([1,...., n], m)\n",
    "    \n"
   ]
  },
  {
   "cell_type": "code",
   "execution_count": 81,
   "metadata": {},
   "outputs": [],
   "source": [
    " def distance(x_train,x_test,p):\n",
    "        lst = []\n",
    "        for i in range(len(x_train)): \n",
    "            dis = np.power(np.power(np.subtract(x_train[i][0],np.array(x_test)),p).sum(),1/p) #คำนวนตามสูตร ของ ma...\n",
    "            lst.append([dis,x_train[i][1]])\n",
    "        lst = sorted(lst,key=lambda l:l[0]) #sortด้วยเพื่อเรียกเอาค่าใกล้\n",
    "        return lst\n",
    "    #Note : ใน x_train ที่ใช้มีการ zip อยู่แล้วซึ่งถ้าเป็น x_train[i] = ([1,...., n], m)\n",
    "    \n"
   ]
  },
  {
   "cell_type": "code",
   "execution_count": 82,
   "metadata": {},
   "outputs": [],
   "source": [
    "def get_neighbors(x_train,x_test,n_neighbors,p):\n",
    "    distances = distance(x_train, x_test,p)\n",
    "    return distances[:n_neighbors] # เอาเพื่อนบ้านที่ใกล้ที่สุด n ตัวแรกออกมา\n",
    "        "
   ]
  },
  {
   "cell_type": "code",
   "execution_count": 83,
   "metadata": {},
   "outputs": [],
   "source": [
    "class neigbors:\n",
    "    def __init__(self, n_neighbors, p):\n",
    "        self.n_neighbors = n_neighbors\n",
    "        self.p = p\n",
    "        \n",
    "    def KNeighborClassifier(n_neighbors=7, p=2):\n",
    "        return neigbors(n_neighbors=7, p=2)\n",
    "    def fit(self,x_train, y_train): #keeptraing data\n",
    "        self.x_train = x_train\n",
    "        self.y_train = y_train\n",
    "    def predict(self,x_test):\n",
    "        train = list(zip(self.x_train.astype(np.int).tolist(),y_train))\n",
    "        neigbor = get_neighbors(train,x_test,self.n_neighbors,self.p)\n",
    "        listy = []\n",
    "        for i in range(len(neigbor)):\n",
    "            listy.append(neigbor[i][1]) #เอาค่า y ใน neigbor ออกมา\n",
    "        predict = max(set(listy), key=listy.count) \n",
    "        return predict\n",
    "    \n",
    "    \n",
    "    def score(self,x_test,y_test):\n",
    "        count = 0\n",
    "        x_prediction = []\n",
    "        x_test = x_test.astype(np.int)\n",
    "        for i in range(0,len(x_test)-1):\n",
    "            x_prediction.append(self.predict(x_test[i].reshape(1, -1)))\n",
    "        for i in range(0,len(x_prediction)-1):\n",
    "            if x_prediction[i] == y_test[i]:\n",
    "                count +=1\n",
    "        return count/len(y_test)\n",
    "\n",
    "    \n",
    "\n",
    "        "
   ]
  },
  {
   "cell_type": "code",
   "execution_count": 84,
   "metadata": {},
   "outputs": [],
   "source": [
    "# For your assignment, you have implement function \"train_test_split\" and\n",
    "# module \"neighbors\" on your own. This means you will have to make the code working\n",
    "# without any modification in cells 2-6\n",
    "\n",
    "df = pd.read_csv('breast-cancer-wisconsin.csv')\n",
    "df.replace('?', -99999, inplace=True)\n",
    "df.drop(['id'], 1, inplace=True)\n",
    "\n",
    "x = np.array(df.drop(['class'], 1))\n",
    "y = np.array(df['class'])"
   ]
  },
  {
   "cell_type": "code",
   "execution_count": 85,
   "metadata": {},
   "outputs": [],
   "source": [
    "x_train, x_test, y_train, y_test = train_test_split(x, y, test_size=0.2)"
   ]
  },
  {
   "cell_type": "code",
   "execution_count": 86,
   "metadata": {},
   "outputs": [],
   "source": [
    "h = neigbors.KNeighborClassifier(n_neighbors=7, p=2)\n",
    "h.fit(x_train,y_train)"
   ]
  },
  {
   "cell_type": "code",
   "execution_count": 87,
   "metadata": {
    "scrolled": true
   },
   "outputs": [
    {
     "name": "stdout",
     "output_type": "stream",
     "text": [
      "4\n"
     ]
    }
   ],
   "source": [
    "new_x = np.array([4,6,5,6,7,8,4,9,1])\n",
    "result = h.predict(new_x.reshape(1, -1))\n",
    "print(result)"
   ]
  },
  {
   "cell_type": "code",
   "execution_count": 88,
   "metadata": {
    "scrolled": true
   },
   "outputs": [
    {
     "name": "stdout",
     "output_type": "stream",
     "text": [
      "0.9714285714285714\n"
     ]
    }
   ],
   "source": [
    "print(h.score(x_test, y_test)) "
   ]
  }
 ],
 "metadata": {
  "kernelspec": {
   "display_name": "Python 3",
   "language": "python",
   "name": "python3"
  },
  "language_info": {
   "codemirror_mode": {
    "name": "ipython",
    "version": 3
   },
   "file_extension": ".py",
   "mimetype": "text/x-python",
   "name": "python",
   "nbconvert_exporter": "python",
   "pygments_lexer": "ipython3",
   "version": "3.8.5"
  }
 },
 "nbformat": 4,
 "nbformat_minor": 4
}

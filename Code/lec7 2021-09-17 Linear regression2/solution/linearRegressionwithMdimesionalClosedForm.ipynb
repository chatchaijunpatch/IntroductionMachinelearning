{
 "cells": [
  {
   "cell_type": "code",
   "execution_count": 446,
   "source": [
    "from sklearn.datasets import load_boston\r\n",
    "import numpy as np\r\n",
    "import pandas as pd\r\n",
    "import math\r\n",
    "import matplotlib.pyplot as plt"
   ],
   "outputs": [],
   "metadata": {}
  },
  {
   "cell_type": "code",
   "execution_count": 447,
   "source": [
    "print(load_boston()['DESCR'])"
   ],
   "outputs": [
    {
     "output_type": "stream",
     "name": "stdout",
     "text": [
      ".. _boston_dataset:\n",
      "\n",
      "Boston house prices dataset\n",
      "---------------------------\n",
      "\n",
      "**Data Set Characteristics:**  \n",
      "\n",
      "    :Number of Instances: 506 \n",
      "\n",
      "    :Number of Attributes: 13 numeric/categorical predictive. Median Value (attribute 14) is usually the target.\n",
      "\n",
      "    :Attribute Information (in order):\n",
      "        - CRIM     per capita crime rate by town\n",
      "        - ZN       proportion of residential land zoned for lots over 25,000 sq.ft.\n",
      "        - INDUS    proportion of non-retail business acres per town\n",
      "        - CHAS     Charles River dummy variable (= 1 if tract bounds river; 0 otherwise)\n",
      "        - NOX      nitric oxides concentration (parts per 10 million)\n",
      "        - RM       average number of rooms per dwelling\n",
      "        - AGE      proportion of owner-occupied units built prior to 1940\n",
      "        - DIS      weighted distances to five Boston employment centres\n",
      "        - RAD      index of accessibility to radial highways\n",
      "        - TAX      full-value property-tax rate per $10,000\n",
      "        - PTRATIO  pupil-teacher ratio by town\n",
      "        - B        1000(Bk - 0.63)^2 where Bk is the proportion of black people by town\n",
      "        - LSTAT    % lower status of the population\n",
      "        - MEDV     Median value of owner-occupied homes in $1000's\n",
      "\n",
      "    :Missing Attribute Values: None\n",
      "\n",
      "    :Creator: Harrison, D. and Rubinfeld, D.L.\n",
      "\n",
      "This is a copy of UCI ML housing dataset.\n",
      "https://archive.ics.uci.edu/ml/machine-learning-databases/housing/\n",
      "\n",
      "\n",
      "This dataset was taken from the StatLib library which is maintained at Carnegie Mellon University.\n",
      "\n",
      "The Boston house-price data of Harrison, D. and Rubinfeld, D.L. 'Hedonic\n",
      "prices and the demand for clean air', J. Environ. Economics & Management,\n",
      "vol.5, 81-102, 1978.   Used in Belsley, Kuh & Welsch, 'Regression diagnostics\n",
      "...', Wiley, 1980.   N.B. Various transformations are used in the table on\n",
      "pages 244-261 of the latter.\n",
      "\n",
      "The Boston house-price data has been used in many machine learning papers that address regression\n",
      "problems.   \n",
      "     \n",
      ".. topic:: References\n",
      "\n",
      "   - Belsley, Kuh & Welsch, 'Regression diagnostics: Identifying Influential Data and Sources of Collinearity', Wiley, 1980. 244-261.\n",
      "   - Quinlan,R. (1993). Combining Instance-Based and Model-Based Learning. In Proceedings on the Tenth International Conference of Machine Learning, 236-243, University of Massachusetts, Amherst. Morgan Kaufmann.\n",
      "\n"
     ]
    }
   ],
   "metadata": {}
  },
  {
   "cell_type": "code",
   "execution_count": 448,
   "source": [
    "class linear_regression:\r\n",
    "    def __init__(self):\r\n",
    "        self.w = np.zeros(2)\r\n",
    "    def fit(self,x,y):\r\n",
    "        # self.x = np.append(x.transpose(), np.ones((x.shape[1], 1)), axis=1)\r\n",
    "        self.x = x\r\n",
    "        self.y = y.reshape(-1,1)\r\n",
    "    def getThetaClosedForm(self):\r\n",
    "        Y = np.mat(self.y)\r\n",
    "        firstPart = np.dot(self.x.T,self.x)\r\n",
    "        secondPart = np.dot(self.x.T,Y)\r\n",
    "        self.thetha = np.linalg.pinv(firstPart)*secondPart\r\n",
    "        return self.thetha\r\n",
    "    def predict(self):\r\n",
    "        return np.dot(self.x,self.thetha)\r\n",
    "    \r\n",
    "        "
   ],
   "outputs": [],
   "metadata": {}
  },
  {
   "cell_type": "markdown",
   "source": [
    "## Set DATA"
   ],
   "metadata": {}
  },
  {
   "cell_type": "code",
   "execution_count": 449,
   "source": [
    "boston = load_boston()\r\n",
    "x= boston.data\r\n",
    "y = boston.target"
   ],
   "outputs": [],
   "metadata": {}
  },
  {
   "cell_type": "code",
   "execution_count": 457,
   "source": [
    "data = load_boston()['data']\r\n",
    "x_input = x"
   ],
   "outputs": [],
   "metadata": {}
  },
  {
   "cell_type": "markdown",
   "source": [
    "### DEAL WITH ALL DATA EXCEPT TARGET"
   ],
   "metadata": {}
  },
  {
   "cell_type": "code",
   "execution_count": 456,
   "source": [
    "x_in = np.concatenate([x_input, np.ones([np.shape(x_input)[0], 1])], axis=1)\r\n",
    "x_in"
   ],
   "outputs": [
    {
     "output_type": "execute_result",
     "data": {
      "text/plain": [
       "array([[ 2.31 ,  6.575,  1.   ],\n",
       "       [ 7.07 ,  6.421,  1.   ],\n",
       "       [ 7.07 ,  7.185,  1.   ],\n",
       "       ...,\n",
       "       [11.93 ,  6.976,  1.   ],\n",
       "       [11.93 ,  6.794,  1.   ],\n",
       "       [11.93 ,  6.03 ,  1.   ]])"
      ]
     },
     "metadata": {},
     "execution_count": 456
    }
   ],
   "metadata": {}
  },
  {
   "cell_type": "markdown",
   "source": [
    "# USING LINEAR REGRESSION (ClOSED FORM)"
   ],
   "metadata": {}
  },
  {
   "cell_type": "code",
   "execution_count": 452,
   "source": [
    "closed = linear_regression()\r\n",
    "closed.fit(x_in,y)\r\n",
    "closed.getThetaClosedForm()"
   ],
   "outputs": [
    {
     "output_type": "execute_result",
     "data": {
      "text/plain": [
       "matrix([[-1.08011358e-01],\n",
       "        [ 4.64204584e-02],\n",
       "        [ 2.05586264e-02],\n",
       "        [ 2.68673382e+00],\n",
       "        [-1.77666112e+01],\n",
       "        [ 3.80986521e+00],\n",
       "        [ 6.92224640e-04],\n",
       "        [-1.47556685e+00],\n",
       "        [ 3.06049479e-01],\n",
       "        [-1.23345939e-02],\n",
       "        [-9.52747232e-01],\n",
       "        [ 9.31168327e-03],\n",
       "        [-5.24758378e-01],\n",
       "        [ 3.64594884e+01]])"
      ]
     },
     "metadata": {},
     "execution_count": 452
    }
   ],
   "metadata": {}
  },
  {
   "cell_type": "code",
   "execution_count": 458,
   "source": [
    "np.linalg.lstsq(x_in, y)"
   ],
   "outputs": [
    {
     "output_type": "stream",
     "name": "stderr",
     "text": [
      "C:\\Users\\EMMIE\\AppData\\Local\\Temp/ipykernel_12128/4132012522.py:1: FutureWarning: `rcond` parameter will change to the default of machine precision times ``max(M, N)`` where M and N are the input matrix dimensions.\n",
      "To use the future default and silence this warning we advise to pass `rcond=None`, to keep using the old, explicitly pass `rcond=-1`.\n",
      "  np.linalg.lstsq(x_in, y)\n"
     ]
    },
    {
     "output_type": "execute_result",
     "data": {
      "text/plain": [
       "(array([ -0.33471389,   7.82205511, -22.89831573]),\n",
       " array([19807.614505]),\n",
       " 3,\n",
       " array([318.75354429,  75.21961717,   2.10127199]))"
      ]
     },
     "metadata": {},
     "execution_count": 458
    }
   ],
   "metadata": {}
  },
  {
   "cell_type": "markdown",
   "source": [
    "## DEAL with two of the features: INDUS and RM"
   ],
   "metadata": {}
  },
  {
   "cell_type": "code",
   "execution_count": 454,
   "source": [
    "test = x_input = data[:,[2,5]]\r\n",
    "closed.fit(test,y)\r\n",
    "closed.getThetaClosedForm()"
   ],
   "outputs": [
    {
     "output_type": "execute_result",
     "data": {
      "text/plain": [
       "matrix([[-0.5151038 ],\n",
       "        [ 4.53063061]])"
      ]
     },
     "metadata": {},
     "execution_count": 454
    }
   ],
   "metadata": {}
  },
  {
   "cell_type": "code",
   "execution_count": 455,
   "source": [
    "np.linalg.lstsq(test, y)"
   ],
   "outputs": [
    {
     "output_type": "stream",
     "name": "stderr",
     "text": [
      "C:\\Users\\EMMIE\\AppData\\Local\\Temp/ipykernel_12128/4163066632.py:1: FutureWarning: `rcond` parameter will change to the default of machine precision times ``max(M, N)`` where M and N are the input matrix dimensions.\n",
      "To use the future default and silence this warning we advise to pass `rcond=None`, to keep using the old, explicitly pass `rcond=-1`.\n",
      "  np.linalg.lstsq(test, y)\n"
     ]
    },
    {
     "output_type": "execute_result",
     "data": {
      "text/plain": [
       "(array([-0.5151038 ,  4.53063061]),\n",
       " array([22170.73271967]),\n",
       " 2,\n",
       " array([318.11126552,  74.6019497 ]))"
      ]
     },
     "metadata": {},
     "execution_count": 455
    }
   ],
   "metadata": {}
  }
 ],
 "metadata": {
  "orig_nbformat": 4,
  "language_info": {
   "name": "python",
   "version": "3.9.5",
   "mimetype": "text/x-python",
   "codemirror_mode": {
    "name": "ipython",
    "version": 3
   },
   "pygments_lexer": "ipython3",
   "nbconvert_exporter": "python",
   "file_extension": ".py"
  },
  "kernelspec": {
   "name": "python3",
   "display_name": "Python 3.9.5 64-bit (system)"
  },
  "interpreter": {
   "hash": "fd9cb809a6c456b01dba94a292adf5f9c68f46e50036c3b34b15532cd008ad91"
  }
 },
 "nbformat": 4,
 "nbformat_minor": 2
}
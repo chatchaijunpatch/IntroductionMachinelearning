{
 "cells": [
  {
   "cell_type": "code",
   "execution_count": 3233,
   "metadata": {},
   "outputs": [],
   "source": [
    "import numpy as np\n",
    "import pandas as pd\n",
    "from operator import itemgetter\n",
    "import random\n",
    "from collections import Counter\n",
    "import math\n",
    "#from sklearn import neighbors\n",
    "#from sklearn.model_selection import train_test_split"
   ]
  },
  {
   "cell_type": "code",
   "execution_count": 3234,
   "metadata": {},
   "outputs": [],
   "source": [
    "def train_test_split(x,y,test_size):\n",
    "    test_size = 1 - test_size\n",
    "    test_size = 100 *test_size\n",
    "    arr_rand = np.random.rand(x.shape[0])\n",
    "    split = arr_rand < np.percentile(arr_rand, test_size)\n",
    "    x_train = x[split]\n",
    "    y_train = y[split]\n",
    "    x_test =  x[~split]\n",
    "    y_test = y[~split]\n",
    "\n",
    "#     print(len(x_train), len(y_train), len(x_test), len(y_test))\n",
    "    return x_train, x_test, y_train, y_test\n",
    "        "
   ]
  },
  {
   "cell_type": "code",
   "execution_count": 3235,
   "metadata": {},
   "outputs": [],
   "source": [
    " def distance(x_train,x_test,p):\n",
    "        points = zip(x_train, x_test)\n",
    "        diffs_squared_distance = [pow(a - b, p) for (a, b) in points]\n",
    "        return np.power(sum(diffs_squared_distance),1/p).tolist()"
   ]
  },
  {
   "cell_type": "code",
   "execution_count": 3236,
   "metadata": {},
   "outputs": [],
   "source": [
    "def _get_tuple_distance(training_instance,x_test,p):\n",
    "    return (training_instance, distance(x_test, training_instance[0],p))"
   ]
  },
  {
   "cell_type": "code",
   "execution_count": 3237,
   "metadata": {},
   "outputs": [],
   "source": [
    "def get_neighbors(train,x_test,n_neighbors,p):\n",
    "    distances = [_get_tuple_distance(training_instance, x_test,p) for training_instance in train]\n",
    "    sorted_distances = sorted(distances, key=itemgetter(1))\n",
    "    sorted_training_instances = [tuple[0] for tuple in sorted_distances ]\n",
    "    return sorted_training_instances[:n_neighbors]\n",
    "\n",
    "        "
   ]
  },
  {
   "cell_type": "code",
   "execution_count": 3238,
   "metadata": {},
   "outputs": [],
   "source": [
    "class neigbors:\n",
    "    def __init__(self, n_neighbors, p):\n",
    "        self.n_neighbors = n_neighbors\n",
    "        self.p = p\n",
    "        \n",
    "    def KNeighborClassifier(n_neighbors=7, p=2):\n",
    "        return neigbors(n_neighbors=7, p=2)\n",
    "    def fit(self,x_train, y_train): #keeptraing data\n",
    "        self.x_train = x_train\n",
    "        self.y_train = y_train\n",
    "    def predict(self,x_test):\n",
    "        # query to find s_x (set of k-nn of x_test) หาตรงๆจาก x_train\n",
    "        #determine the prediction of x_test from the majority of s_x\n",
    "        self.x_train = self.x_train.astype(np.int)\n",
    "        train = zip(self.x_train.tolist(),self.y_train)\n",
    "        neighbors = get_neighbors(train,x_test,self.n_neighbors,self.p)\n",
    "        output_values = [row[1] for row in neighbors]\n",
    "#         print(output_values)\n",
    "        prediction = Counter(output_values)\n",
    "        prediction = max(output_values)\n",
    "        return prediction\n",
    "         \n",
    "    def score(self,x_test,y_test):\n",
    "        count = 0\n",
    "        x_prediction=[]\n",
    "        x_test =x_test.astype(np.int)\n",
    "        for i in range(0,len(x_test)-1):\n",
    "            x_prediction.append(self.predict(x_test[i].reshape(1, -1)))\n",
    "#         return x_prediction\n",
    "#         x_prediction = self.predict(x_test) #h(x)\n",
    "        for i in range(0,len(x_prediction)-1):\n",
    "            if x_prediction[i] == y_test[i]:\n",
    "                count +=1\n",
    "        return count/len(x_prediction)\n",
    "    \n",
    "\n",
    "        "
   ]
  },
  {
   "cell_type": "code",
   "execution_count": 3239,
   "metadata": {},
   "outputs": [],
   "source": [
    "# For your assignment, you have implement function \"train_test_split\" and\n",
    "# module \"neighbors\" on your own. This means you will have to make the code working\n",
    "# without any modification in cells 2-6\n",
    "\n",
    "df = pd.read_csv('breast-cancer-wisconsin.csv')\n",
    "df.replace('?', -99999, inplace=True)\n",
    "df.drop(['id'], 1, inplace=True)\n",
    "\n",
    "x = np.array(df.drop(['class'], 1))\n",
    "y = np.array(df['class'])"
   ]
  },
  {
   "cell_type": "code",
   "execution_count": 3240,
   "metadata": {},
   "outputs": [],
   "source": [
    "x_train, x_test, y_train, y_test = train_test_split(x, y, test_size=0.2)"
   ]
  },
  {
   "cell_type": "code",
   "execution_count": 3241,
   "metadata": {},
   "outputs": [],
   "source": [
    "h = neigbors.KNeighborClassifier(n_neighbors=7, p=2)\n",
    "h.fit(x_train,y_train)"
   ]
  },
  {
   "cell_type": "code",
   "execution_count": 3242,
   "metadata": {
    "scrolled": false
   },
   "outputs": [],
   "source": [
    "# h.get_neighbors(np.array([4,6,5,6,7,8,4,9,1]).reshape(1,-1))"
   ]
  },
  {
   "cell_type": "code",
   "execution_count": 3243,
   "metadata": {
    "scrolled": true
   },
   "outputs": [
    {
     "name": "stdout",
     "output_type": "stream",
     "text": [
      "2\n"
     ]
    }
   ],
   "source": [
    "new_x = np.array([4,6,5,6,7,8,4,9,1])\n",
    "result = h.predict(new_x.reshape(1, -1))\n",
    "print(result)"
   ]
  },
  {
   "cell_type": "code",
   "execution_count": 3244,
   "metadata": {
    "scrolled": true
   },
   "outputs": [
    {
     "name": "stdout",
     "output_type": "stream",
     "text": [
      "0.7122302158273381\n"
     ]
    }
   ],
   "source": [
    "print(h.score(x_test, y_test)) "
   ]
  },
  {
   "cell_type": "code",
   "execution_count": null,
   "metadata": {},
   "outputs": [],
   "source": []
  }
 ],
 "metadata": {
  "kernelspec": {
   "display_name": "Python 3",
   "language": "python",
   "name": "python3"
  },
  "language_info": {
   "codemirror_mode": {
    "name": "ipython",
    "version": 3
   },
   "file_extension": ".py",
   "mimetype": "text/x-python",
   "name": "python",
   "nbconvert_exporter": "python",
   "pygments_lexer": "ipython3",
   "version": "3.8.5"
  }
 },
 "nbformat": 4,
 "nbformat_minor": 4
}
